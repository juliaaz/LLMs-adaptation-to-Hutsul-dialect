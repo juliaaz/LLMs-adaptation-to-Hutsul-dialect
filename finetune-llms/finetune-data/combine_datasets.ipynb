{
 "cells": [
  {
   "cell_type": "code",
   "execution_count": 1,
   "id": "78e906c8-08c3-455c-93fb-430c162a239a",
   "metadata": {},
   "outputs": [],
   "source": [
    "import pandas as pd"
   ]
  },
  {
   "cell_type": "code",
   "execution_count": 2,
   "id": "d38e2eaf-8834-46c5-8a8c-8516d9eef65c",
   "metadata": {},
   "outputs": [],
   "source": [
    "df_s = pd.read_csv('ukrainian-hutsul-synthetic.csv')"
   ]
  },
  {
   "cell_type": "code",
   "execution_count": 11,
   "id": "8f55811d-a805-4fcd-9044-d3a864ab3674",
   "metadata": {},
   "outputs": [
    {
     "data": {
      "text/plain": [
       "Index(['ukrainian', 'hutsul'], dtype='object')"
      ]
     },
     "execution_count": 11,
     "metadata": {},
     "output_type": "execute_result"
    }
   ],
   "source": [
    "df_s.columns"
   ]
  },
  {
   "cell_type": "code",
   "execution_count": 10,
   "id": "8b203bd2-7754-4523-9537-68642d3a1d94",
   "metadata": {},
   "outputs": [],
   "source": [
    "df_s.rename(columns={'Ukrainian': 'ukrainian', 'Hutsul': 'hutsul'}, inplace=True)"
   ]
  },
  {
   "cell_type": "code",
   "execution_count": 12,
   "id": "b86244b8-e9b6-4ae1-a6a7-21d71c3bd754",
   "metadata": {},
   "outputs": [],
   "source": [
    "from sklearn.model_selection import train_test_split\n",
    "df_80, df_20 = train_test_split(df_s, test_size=0.2, random_state=42)"
   ]
  },
  {
   "cell_type": "code",
   "execution_count": 7,
   "id": "b4e41066-0033-401d-afdc-8bab39e5449f",
   "metadata": {},
   "outputs": [],
   "source": [
    "df_di_train = pd.read_json('train_ivanchyk.json')"
   ]
  },
  {
   "cell_type": "code",
   "execution_count": 8,
   "id": "492e29aa-43eb-4670-b3ec-c371803299cd",
   "metadata": {},
   "outputs": [
    {
     "data": {
      "text/plain": [
       "Index(['hutsul', 'ukrainian'], dtype='object')"
      ]
     },
     "execution_count": 8,
     "metadata": {},
     "output_type": "execute_result"
    }
   ],
   "source": [
    "df_di_train.columns"
   ]
  },
  {
   "cell_type": "code",
   "execution_count": 13,
   "id": "7b22b51a-2366-41d0-b110-1bf14a0d4f32",
   "metadata": {},
   "outputs": [],
   "source": [
    "df_di_test = pd.read_json('test_ivanchyk.json')"
   ]
  },
  {
   "cell_type": "code",
   "execution_count": 25,
   "id": "f74f48ee-4472-485d-b263-243f8ace2f86",
   "metadata": {},
   "outputs": [
    {
     "data": {
      "text/plain": [
       "3942"
      ]
     },
     "execution_count": 25,
     "metadata": {},
     "output_type": "execute_result"
    }
   ],
   "source": [
    "df_di_test.size"
   ]
  },
  {
   "cell_type": "code",
   "execution_count": 14,
   "id": "941f1fa6-c411-4c0a-b152-658e9b21cb13",
   "metadata": {},
   "outputs": [],
   "source": [
    "result_df_train = pd.concat([df_di_train, df_80], ignore_index=True)"
   ]
  },
  {
   "cell_type": "code",
   "execution_count": 16,
   "id": "076fb285-6eb0-4992-82f4-e80258eca04d",
   "metadata": {},
   "outputs": [
    {
     "data": {
      "text/plain": [
       "26146"
      ]
     },
     "execution_count": 16,
     "metadata": {},
     "output_type": "execute_result"
    }
   ],
   "source": [
    "result_df_train.size"
   ]
  },
  {
   "cell_type": "code",
   "execution_count": 17,
   "id": "ae34ffda-1f9a-4a35-bc47-bd02f0a405fe",
   "metadata": {},
   "outputs": [],
   "source": [
    "result_df_test = pd.concat([df_di_test, df_20], ignore_index=True)"
   ]
  },
  {
   "cell_type": "code",
   "execution_count": 18,
   "id": "90ed41d8-89cd-41a9-8981-d24eada2b557",
   "metadata": {},
   "outputs": [
    {
     "data": {
      "text/plain": [
       "6538"
      ]
     },
     "execution_count": 18,
     "metadata": {},
     "output_type": "execute_result"
    }
   ],
   "source": [
    "result_df_test.size"
   ]
  },
  {
   "cell_type": "code",
   "execution_count": 26,
   "id": "bed76b11-3b67-4127-acef-d17c791cb187",
   "metadata": {},
   "outputs": [],
   "source": [
    "result_df_train.to_json('combined_train.json', orient='records', lines=False)"
   ]
  },
  {
   "cell_type": "code",
   "execution_count": 24,
   "id": "6f1d83b7-8926-4cbd-b0f3-c7f7f5681c12",
   "metadata": {},
   "outputs": [],
   "source": [
    "result_df_test.to_json('combined_test.json', orient='records', lines=False)"
   ]
  }
 ],
 "metadata": {
  "kernelspec": {
   "display_name": "cuda_env",
   "language": "python",
   "name": "myenv"
  },
  "language_info": {
   "codemirror_mode": {
    "name": "ipython",
    "version": 3
   },
   "file_extension": ".py",
   "mimetype": "text/x-python",
   "name": "python",
   "nbconvert_exporter": "python",
   "pygments_lexer": "ipython3",
   "version": "3.11.5"
  }
 },
 "nbformat": 4,
 "nbformat_minor": 5
}
