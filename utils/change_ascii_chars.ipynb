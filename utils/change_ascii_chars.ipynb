{
 "cells": [
  {
   "cell_type": "code",
   "execution_count": 1,
   "metadata": {},
   "outputs": [
    {
     "name": "stdout",
     "output_type": "stream",
     "text": [
      "Text cleaned and saved to 'cleaned_tlumachnyi.txt'\n"
     ]
    }
   ],
   "source": [
    "# Read the text from the file\n",
    "with open('tlumachnyi.txt', 'r', encoding='utf-8') as file:\n",
    "    text = file.read()\n",
    "\n",
    "# Remove the character with ASCII code 769\n",
    "cleaned_text = text.replace(chr(769), '')\n",
    "\n",
    "# Save the modified text to a new file\n",
    "with open('cleaned_tlumachnyi.txt', 'w', encoding='utf-8') as file:\n",
    "    file.write(cleaned_text)\n",
    "\n",
    "print(\"Text cleaned and saved to 'cleaned_tlumachnyi.txt'\")"
   ]
  }
 ],
 "metadata": {
  "kernelspec": {
   "display_name": "Python 3",
   "language": "python",
   "name": "python3"
  },
  "language_info": {
   "codemirror_mode": {
    "name": "ipython",
    "version": 3
   },
   "file_extension": ".py",
   "mimetype": "text/x-python",
   "name": "python",
   "nbconvert_exporter": "python",
   "pygments_lexer": "ipython3",
   "version": "3.9.6"
  }
 },
 "nbformat": 4,
 "nbformat_minor": 2
}
