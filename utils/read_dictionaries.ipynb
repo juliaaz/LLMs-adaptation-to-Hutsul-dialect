{
 "cells": [
  {
   "cell_type": "code",
   "execution_count": null,
   "metadata": {},
   "outputs": [],
   "source": [
    "import pandas as pd\n",
    "\n",
    "filename = 'slovnyk.txt' \n",
    "df = pd.read_csv(filename, sep='\\t', header=None, index_col=False)\n",
    "print(df.columns)\n",
    "\n",
    "#print(df)\n",
    "a = df[0]\n",
    "print(a)\n",
    "b = df[1]\n",
    "print(b)"
   ]
  },
  {
   "cell_type": "code",
   "execution_count": null,
   "metadata": {},
   "outputs": [],
   "source": [
    "def read_dictionary(filename):\n",
    "    dictionary = {}\n",
    "    with open(filename, 'r', encoding='utf-8') as file:\n",
    "        lines = file.readlines()\n",
    "\n",
    "    current_key = None\n",
    "    current_value = None\n",
    "\n",
    "    for line in lines:\n",
    "        print(line)\n",
    "        # Strip leading and trailing whitespace\n",
    "        line = line.strip()\n",
    "        \n",
    "        # Skip empty lines and lines containing only dashes\n",
    "        if not line or line.startswith('-'):\n",
    "            continue\n",
    "        \n",
    "        # Check if the line contains a hyphen\n",
    "        if '-' in line:\n",
    "            # Split the line into parts separated by hyphen\n",
    "            parts = line.split('-')\n",
    "            # If there are more than one part\n",
    "            if len(parts) > 1:\n",
    "                # Concatenate parts and strip whitespace\n",
    "                line = ' '.join(parts).strip()\n",
    "\n",
    "        # Check if the line starts with whitespace, indicating it's a continuation of the previous definition\n",
    "        if line.startswith(' ') and current_key:\n",
    "            # Append to the current value\n",
    "            current_value += '\\n' + line.strip()\n",
    "        else:\n",
    "            # Split the line into key and value based on the first occurrence of whitespace\n",
    "            key, value = line.split(maxsplit=1)\n",
    "            # Remove any leading or trailing punctuation marks from the key\n",
    "            key = key.strip('.').strip(',')\n",
    "            # Update current_key and current_value\n",
    "            current_key = key\n",
    "            current_value = value\n",
    "        \n",
    "        # Add the key-value pair to the dictionary\n",
    "        if current_key and current_value:\n",
    "            dictionary[current_key] = current_value\n",
    "    \n",
    "    return dictionary\n",
    "\n",
    "# Example usage:\n",
    "dictionary = read_dictionary('slovnyk.txt')\n",
    "for key, value in dictionary.items():\n",
    "    print(f'{key}: {value}')"
   ]
  }
 ],
 "metadata": {
  "kernelspec": {
   "display_name": "Python 3",
   "language": "python",
   "name": "python3"
  },
  "language_info": {
   "codemirror_mode": {
    "name": "ipython",
    "version": 3
   },
   "file_extension": ".py",
   "mimetype": "text/x-python",
   "name": "python",
   "nbconvert_exporter": "python",
   "pygments_lexer": "ipython3",
   "version": "3.9.6"
  }
 },
 "nbformat": 4,
 "nbformat_minor": 2
}
