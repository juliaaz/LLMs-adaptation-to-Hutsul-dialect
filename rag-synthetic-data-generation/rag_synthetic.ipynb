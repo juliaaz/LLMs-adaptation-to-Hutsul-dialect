{
  "cells": [
    {
      "cell_type": "code",
      "execution_count": 1,
      "metadata": {
        "colab": {
          "base_uri": "https://localhost:8080/"
        },
        "id": "avrgc0yQkyMh",
        "outputId": "e4eaa56d-a5f4-4179-ff80-1759d8cc7c2f"
      },
      "outputs": [
        {
          "name": "stdout",
          "output_type": "stream",
          "text": [
            "Defaulting to user installation because normal site-packages is not writeable\n",
            "Collecting langchain\n",
            "  Downloading langchain-0.1.16-py3-none-any.whl.metadata (13 kB)\n",
            "Collecting langchain_community\n",
            "  Downloading langchain_community-0.0.33-py3-none-any.whl.metadata (8.5 kB)\n",
            "Requirement already satisfied: openai in /Users/yuliiamaksymyuk/Library/Python/3.9/lib/python/site-packages (1.18.0)\n",
            "Collecting sentence_transformers\n",
            "  Downloading sentence_transformers-2.7.0-py3-none-any.whl.metadata (11 kB)\n",
            "Collecting faiss-cpu\n",
            "  Downloading faiss_cpu-1.8.0-cp39-cp39-macosx_11_0_arm64.whl.metadata (3.6 kB)\n",
            "Collecting langchain_openai\n",
            "  Downloading langchain_openai-0.1.3-py3-none-any.whl.metadata (2.5 kB)\n",
            "Requirement already satisfied: PyYAML>=5.3 in /Users/yuliiamaksymyuk/Library/Python/3.9/lib/python/site-packages (from langchain) (6.0.1)\n",
            "Collecting SQLAlchemy<3,>=1.4 (from langchain)\n",
            "  Downloading SQLAlchemy-2.0.29-cp39-cp39-macosx_11_0_arm64.whl.metadata (9.6 kB)\n",
            "Collecting aiohttp<4.0.0,>=3.8.3 (from langchain)\n",
            "  Downloading aiohttp-3.9.5-cp39-cp39-macosx_11_0_arm64.whl.metadata (7.5 kB)\n",
            "Collecting async-timeout<5.0.0,>=4.0.0 (from langchain)\n",
            "  Downloading async_timeout-4.0.3-py3-none-any.whl.metadata (4.2 kB)\n",
            "Collecting dataclasses-json<0.7,>=0.5.7 (from langchain)\n",
            "  Downloading dataclasses_json-0.6.4-py3-none-any.whl.metadata (25 kB)\n",
            "Requirement already satisfied: jsonpatch<2.0,>=1.33 in /Users/yuliiamaksymyuk/Library/Python/3.9/lib/python/site-packages (from langchain) (1.33)\n",
            "Requirement already satisfied: langchain-core<0.2.0,>=0.1.42 in /Users/yuliiamaksymyuk/Library/Python/3.9/lib/python/site-packages (from langchain) (0.1.42)\n",
            "Collecting langchain-text-splitters<0.1,>=0.0.1 (from langchain)\n",
            "  Downloading langchain_text_splitters-0.0.1-py3-none-any.whl.metadata (2.0 kB)\n",
            "Requirement already satisfied: langsmith<0.2.0,>=0.1.17 in /Users/yuliiamaksymyuk/Library/Python/3.9/lib/python/site-packages (from langchain) (0.1.47)\n",
            "Requirement already satisfied: numpy<2,>=1 in /Users/yuliiamaksymyuk/Library/Python/3.9/lib/python/site-packages (from langchain) (1.26.2)\n",
            "Requirement already satisfied: pydantic<3,>=1 in /Users/yuliiamaksymyuk/Library/Python/3.9/lib/python/site-packages (from langchain) (2.7.0)\n",
            "Requirement already satisfied: requests<3,>=2 in /Users/yuliiamaksymyuk/Library/Python/3.9/lib/python/site-packages (from langchain) (2.31.0)\n",
            "Requirement already satisfied: tenacity<9.0.0,>=8.1.0 in /Users/yuliiamaksymyuk/Library/Python/3.9/lib/python/site-packages (from langchain) (8.2.3)\n",
            "Collecting langchain-core<0.2.0,>=0.1.42 (from langchain)\n",
            "  Downloading langchain_core-0.1.44-py3-none-any.whl.metadata (5.9 kB)\n",
            "Requirement already satisfied: anyio<5,>=3.5.0 in /Users/yuliiamaksymyuk/Library/Python/3.9/lib/python/site-packages (from openai) (4.3.0)\n",
            "Requirement already satisfied: distro<2,>=1.7.0 in /Users/yuliiamaksymyuk/Library/Python/3.9/lib/python/site-packages (from openai) (1.9.0)\n",
            "Requirement already satisfied: httpx<1,>=0.23.0 in /Users/yuliiamaksymyuk/Library/Python/3.9/lib/python/site-packages (from openai) (0.27.0)\n",
            "Requirement already satisfied: sniffio in /Users/yuliiamaksymyuk/Library/Python/3.9/lib/python/site-packages (from openai) (1.3.1)\n",
            "Requirement already satisfied: tqdm>4 in /Users/yuliiamaksymyuk/Library/Python/3.9/lib/python/site-packages (from openai) (4.66.2)\n",
            "Requirement already satisfied: typing-extensions<5,>=4.7 in /Users/yuliiamaksymyuk/Library/Python/3.9/lib/python/site-packages (from openai) (4.9.0)\n",
            "Collecting transformers<5.0.0,>=4.34.0 (from sentence_transformers)\n",
            "  Downloading transformers-4.39.3-py3-none-any.whl.metadata (134 kB)\n",
            "\u001b[2K     \u001b[90m━━━━━━━━━━━━━━━━━━━━━━━━━━━━━━━━━━━━━━━\u001b[0m \u001b[32m134.8/134.8 kB\u001b[0m \u001b[31m2.8 MB/s\u001b[0m eta \u001b[36m0:00:00\u001b[0ma \u001b[36m0:00:01\u001b[0m\n",
            "\u001b[?25hCollecting torch>=1.11.0 (from sentence_transformers)\n",
            "  Downloading torch-2.2.2-cp39-none-macosx_11_0_arm64.whl.metadata (25 kB)\n",
            "Requirement already satisfied: scikit-learn in /Users/yuliiamaksymyuk/Library/Python/3.9/lib/python/site-packages (from sentence_transformers) (1.4.1.post1)\n",
            "Requirement already satisfied: scipy in /Users/yuliiamaksymyuk/Library/Python/3.9/lib/python/site-packages (from sentence_transformers) (1.13.0)\n",
            "Requirement already satisfied: huggingface-hub>=0.15.1 in /Users/yuliiamaksymyuk/Library/Python/3.9/lib/python/site-packages (from sentence_transformers) (0.22.2)\n",
            "Requirement already satisfied: Pillow in /Users/yuliiamaksymyuk/Library/Python/3.9/lib/python/site-packages (from sentence_transformers) (10.1.0)\n",
            "Collecting tiktoken<1,>=0.5.2 (from langchain_openai)\n",
            "  Downloading tiktoken-0.6.0-cp39-cp39-macosx_11_0_arm64.whl.metadata (6.6 kB)\n",
            "Collecting aiosignal>=1.1.2 (from aiohttp<4.0.0,>=3.8.3->langchain)\n",
            "  Downloading aiosignal-1.3.1-py3-none-any.whl.metadata (4.0 kB)\n",
            "Collecting attrs>=17.3.0 (from aiohttp<4.0.0,>=3.8.3->langchain)\n",
            "  Downloading attrs-23.2.0-py3-none-any.whl.metadata (9.5 kB)\n",
            "Collecting frozenlist>=1.1.1 (from aiohttp<4.0.0,>=3.8.3->langchain)\n",
            "  Downloading frozenlist-1.4.1-cp39-cp39-macosx_11_0_arm64.whl.metadata (12 kB)\n",
            "Collecting multidict<7.0,>=4.5 (from aiohttp<4.0.0,>=3.8.3->langchain)\n",
            "  Downloading multidict-6.0.5-cp39-cp39-macosx_11_0_arm64.whl.metadata (4.2 kB)\n",
            "Collecting yarl<2.0,>=1.0 (from aiohttp<4.0.0,>=3.8.3->langchain)\n",
            "  Downloading yarl-1.9.4-cp39-cp39-macosx_11_0_arm64.whl.metadata (31 kB)\n",
            "Requirement already satisfied: idna>=2.8 in /Users/yuliiamaksymyuk/Library/Python/3.9/lib/python/site-packages (from anyio<5,>=3.5.0->openai) (3.7)\n",
            "Requirement already satisfied: exceptiongroup>=1.0.2 in /Users/yuliiamaksymyuk/Library/Python/3.9/lib/python/site-packages (from anyio<5,>=3.5.0->openai) (1.2.0)\n",
            "Collecting marshmallow<4.0.0,>=3.18.0 (from dataclasses-json<0.7,>=0.5.7->langchain)\n",
            "  Downloading marshmallow-3.21.1-py3-none-any.whl.metadata (7.2 kB)\n",
            "Collecting typing-inspect<1,>=0.4.0 (from dataclasses-json<0.7,>=0.5.7->langchain)\n",
            "  Downloading typing_inspect-0.9.0-py3-none-any.whl.metadata (1.5 kB)\n",
            "Requirement already satisfied: certifi in /Users/yuliiamaksymyuk/Library/Python/3.9/lib/python/site-packages (from httpx<1,>=0.23.0->openai) (2024.2.2)\n",
            "Requirement already satisfied: httpcore==1.* in /Users/yuliiamaksymyuk/Library/Python/3.9/lib/python/site-packages (from httpx<1,>=0.23.0->openai) (1.0.5)\n",
            "Requirement already satisfied: h11<0.15,>=0.13 in /Users/yuliiamaksymyuk/Library/Python/3.9/lib/python/site-packages (from httpcore==1.*->httpx<1,>=0.23.0->openai) (0.14.0)\n",
            "Requirement already satisfied: filelock in /Users/yuliiamaksymyuk/Library/Python/3.9/lib/python/site-packages (from huggingface-hub>=0.15.1->sentence_transformers) (3.13.4)\n",
            "Requirement already satisfied: fsspec>=2023.5.0 in /Users/yuliiamaksymyuk/Library/Python/3.9/lib/python/site-packages (from huggingface-hub>=0.15.1->sentence_transformers) (2024.3.1)\n",
            "Requirement already satisfied: packaging>=20.9 in /Users/yuliiamaksymyuk/Library/Python/3.9/lib/python/site-packages (from huggingface-hub>=0.15.1->sentence_transformers) (23.2)\n",
            "Requirement already satisfied: jsonpointer>=1.9 in /Users/yuliiamaksymyuk/Library/Python/3.9/lib/python/site-packages (from jsonpatch<2.0,>=1.33->langchain) (2.4)\n",
            "Requirement already satisfied: orjson<4.0.0,>=3.9.14 in /Users/yuliiamaksymyuk/Library/Python/3.9/lib/python/site-packages (from langsmith<0.2.0,>=0.1.17->langchain) (3.10.0)\n",
            "Requirement already satisfied: annotated-types>=0.4.0 in /Users/yuliiamaksymyuk/Library/Python/3.9/lib/python/site-packages (from pydantic<3,>=1->langchain) (0.6.0)\n",
            "Requirement already satisfied: pydantic-core==2.18.1 in /Users/yuliiamaksymyuk/Library/Python/3.9/lib/python/site-packages (from pydantic<3,>=1->langchain) (2.18.1)\n",
            "Requirement already satisfied: charset-normalizer<4,>=2 in /Users/yuliiamaksymyuk/Library/Python/3.9/lib/python/site-packages (from requests<3,>=2->langchain) (3.3.2)\n",
            "Requirement already satisfied: urllib3<3,>=1.21.1 in /Users/yuliiamaksymyuk/Library/Python/3.9/lib/python/site-packages (from requests<3,>=2->langchain) (2.2.1)\n",
            "Collecting regex>=2022.1.18 (from tiktoken<1,>=0.5.2->langchain_openai)\n",
            "  Downloading regex-2024.4.16-cp39-cp39-macosx_11_0_arm64.whl.metadata (40 kB)\n",
            "\u001b[2K     \u001b[90m━━━━━━━━━━━━━━━━━━━━━━━━━━━━━━━━━━━━━━━\u001b[0m \u001b[32m40.9/40.9 kB\u001b[0m \u001b[31m695.5 kB/s\u001b[0m eta \u001b[36m0:00:00\u001b[0ma \u001b[36m0:00:01\u001b[0m\n",
            "\u001b[?25hRequirement already satisfied: sympy in /Users/yuliiamaksymyuk/Library/Python/3.9/lib/python/site-packages (from torch>=1.11.0->sentence_transformers) (1.12)\n",
            "Requirement already satisfied: networkx in /Users/yuliiamaksymyuk/Library/Python/3.9/lib/python/site-packages (from torch>=1.11.0->sentence_transformers) (3.2.1)\n",
            "Collecting jinja2 (from torch>=1.11.0->sentence_transformers)\n",
            "  Downloading Jinja2-3.1.3-py3-none-any.whl.metadata (3.3 kB)\n",
            "Requirement already satisfied: tokenizers<0.19,>=0.14 in /Users/yuliiamaksymyuk/Library/Python/3.9/lib/python/site-packages (from transformers<5.0.0,>=4.34.0->sentence_transformers) (0.15.2)\n",
            "Collecting safetensors>=0.4.1 (from transformers<5.0.0,>=4.34.0->sentence_transformers)\n",
            "  Downloading safetensors-0.4.3-cp39-cp39-macosx_11_0_arm64.whl.metadata (3.8 kB)\n",
            "Requirement already satisfied: joblib>=1.2.0 in /Users/yuliiamaksymyuk/Library/Python/3.9/lib/python/site-packages (from scikit-learn->sentence_transformers) (1.3.2)\n",
            "Requirement already satisfied: threadpoolctl>=2.0.0 in /Users/yuliiamaksymyuk/Library/Python/3.9/lib/python/site-packages (from scikit-learn->sentence_transformers) (3.4.0)\n",
            "Collecting mypy-extensions>=0.3.0 (from typing-inspect<1,>=0.4.0->dataclasses-json<0.7,>=0.5.7->langchain)\n",
            "  Downloading mypy_extensions-1.0.0-py3-none-any.whl.metadata (1.1 kB)\n",
            "Collecting MarkupSafe>=2.0 (from jinja2->torch>=1.11.0->sentence_transformers)\n",
            "  Downloading MarkupSafe-2.1.5-cp39-cp39-macosx_10_9_universal2.whl.metadata (3.0 kB)\n",
            "Requirement already satisfied: mpmath>=0.19 in /Users/yuliiamaksymyuk/Library/Python/3.9/lib/python/site-packages (from sympy->torch>=1.11.0->sentence_transformers) (1.3.0)\n",
            "Downloading langchain-0.1.16-py3-none-any.whl (817 kB)\n",
            "\u001b[2K   \u001b[90m━━━━━━━━━━━━━━━━━━━━━━━━━━━━━━━━━━━━━━━━\u001b[0m \u001b[32m817.7/817.7 kB\u001b[0m \u001b[31m4.6 MB/s\u001b[0m eta \u001b[36m0:00:00\u001b[0ma \u001b[36m0:00:01\u001b[0m\n",
            "\u001b[?25hDownloading langchain_community-0.0.33-py3-none-any.whl (1.9 MB)\n",
            "\u001b[2K   \u001b[90m━━━━━━━━━━━━━━━━━━━━━━━━━━━━━━━━━━━━━━━━\u001b[0m \u001b[32m1.9/1.9 MB\u001b[0m \u001b[31m19.6 MB/s\u001b[0m eta \u001b[36m0:00:00\u001b[0ma \u001b[36m0:00:01\u001b[0m\n",
            "\u001b[?25hDownloading sentence_transformers-2.7.0-py3-none-any.whl (171 kB)\n",
            "\u001b[2K   \u001b[90m━━━━━━━━━━━━━━━━━━━━━━━━━━━━━━━━━━━━━━━━\u001b[0m \u001b[32m171.5/171.5 kB\u001b[0m \u001b[31m12.4 MB/s\u001b[0m eta \u001b[36m0:00:00\u001b[0m\n",
            "\u001b[?25hDownloading faiss_cpu-1.8.0-cp39-cp39-macosx_11_0_arm64.whl (3.1 MB)\n",
            "\u001b[2K   \u001b[90m━━━━━━━━━━━━━━━━━━━━━━━━━━━━━━━━━━━━━━━━\u001b[0m \u001b[32m3.1/3.1 MB\u001b[0m \u001b[31m28.0 MB/s\u001b[0m eta \u001b[36m0:00:00\u001b[0m00:01\u001b[0m00:01\u001b[0m\n",
            "\u001b[?25hDownloading langchain_openai-0.1.3-py3-none-any.whl (33 kB)\n",
            "Downloading aiohttp-3.9.5-cp39-cp39-macosx_11_0_arm64.whl (390 kB)\n",
            "\u001b[2K   \u001b[90m━━━━━━━━━━━━━━━━━━━━━━━━━━━━━━━━━━━━━━━━\u001b[0m \u001b[32m390.7/390.7 kB\u001b[0m \u001b[31m13.3 MB/s\u001b[0m eta \u001b[36m0:00:00\u001b[0m\n",
            "\u001b[?25hDownloading async_timeout-4.0.3-py3-none-any.whl (5.7 kB)\n",
            "Downloading dataclasses_json-0.6.4-py3-none-any.whl (28 kB)\n",
            "Downloading langchain_core-0.1.44-py3-none-any.whl (290 kB)\n",
            "\u001b[2K   \u001b[90m━━━━━━━━━━━━━━━━━━━━━━━━━━━━━━━━━━━━━━━━\u001b[0m \u001b[32m290.2/290.2 kB\u001b[0m \u001b[31m10.8 MB/s\u001b[0m eta \u001b[36m0:00:00\u001b[0m\n",
            "\u001b[?25hDownloading langchain_text_splitters-0.0.1-py3-none-any.whl (21 kB)\n",
            "Downloading SQLAlchemy-2.0.29-cp39-cp39-macosx_11_0_arm64.whl (2.1 MB)\n",
            "\u001b[2K   \u001b[90m━━━━━━━━━━━━━━━━━━━━━━━━━━━━━━━━━━━━━━━━\u001b[0m \u001b[32m2.1/2.1 MB\u001b[0m \u001b[31m28.5 MB/s\u001b[0m eta \u001b[36m0:00:00\u001b[0ma \u001b[36m0:00:01\u001b[0m\n",
            "\u001b[?25hDownloading tiktoken-0.6.0-cp39-cp39-macosx_11_0_arm64.whl (923 kB)\n",
            "\u001b[2K   \u001b[90m━━━━━━━━━━━━━━━━━━━━━━━━━━━━━━━━━━━━━━━━\u001b[0m \u001b[32m923.4/923.4 kB\u001b[0m \u001b[31m17.9 MB/s\u001b[0m eta \u001b[36m0:00:00\u001b[0ma \u001b[36m0:00:01\u001b[0m\n",
            "\u001b[?25hDownloading torch-2.2.2-cp39-none-macosx_11_0_arm64.whl (59.7 MB)\n",
            "\u001b[2K   \u001b[90m━━━━━━━━━━━━━━━━━━━━━━━━━━━━━━━━━━━━━━━━\u001b[0m \u001b[32m59.7/59.7 MB\u001b[0m \u001b[31m28.5 MB/s\u001b[0m eta \u001b[36m0:00:00\u001b[0m00:01\u001b[0m00:01\u001b[0m\n",
            "\u001b[?25hDownloading transformers-4.39.3-py3-none-any.whl (8.8 MB)\n",
            "\u001b[2K   \u001b[90m━━━━━━━━━━━━━━━━━━━━━━━━━━━━━━━━━━━━━━━━\u001b[0m \u001b[32m8.8/8.8 MB\u001b[0m \u001b[31m26.1 MB/s\u001b[0m eta \u001b[36m0:00:00\u001b[0ma \u001b[36m0:00:01\u001b[0m\n",
            "\u001b[?25hDownloading aiosignal-1.3.1-py3-none-any.whl (7.6 kB)\n",
            "Downloading attrs-23.2.0-py3-none-any.whl (60 kB)\n",
            "\u001b[2K   \u001b[90m━━━━━━━━━━━━━━━━━━━━━━━━━━━━━━━━━━━━━━━━\u001b[0m \u001b[32m60.8/60.8 kB\u001b[0m \u001b[31m5.4 MB/s\u001b[0m eta \u001b[36m0:00:00\u001b[0m\n",
            "\u001b[?25hDownloading frozenlist-1.4.1-cp39-cp39-macosx_11_0_arm64.whl (53 kB)\n",
            "\u001b[2K   \u001b[90m━━━━━━━━━━━━━━━━━━━━━━━━━━━━━━━━━━━━━━━━\u001b[0m \u001b[32m53.7/53.7 kB\u001b[0m \u001b[31m5.4 MB/s\u001b[0m eta \u001b[36m0:00:00\u001b[0m\n",
            "\u001b[?25hDownloading marshmallow-3.21.1-py3-none-any.whl (49 kB)\n",
            "\u001b[2K   \u001b[90m━━━━━━━━━━━━━━━━━━━━━━━━━━━━━━━━━━━━━━━━\u001b[0m \u001b[32m49.4/49.4 kB\u001b[0m \u001b[31m5.2 MB/s\u001b[0m eta \u001b[36m0:00:00\u001b[0m\n",
            "\u001b[?25hDownloading multidict-6.0.5-cp39-cp39-macosx_11_0_arm64.whl (30 kB)\n",
            "Downloading regex-2024.4.16-cp39-cp39-macosx_11_0_arm64.whl (291 kB)\n",
            "\u001b[2K   \u001b[90m━━━━━━━━━━━━━━━━━━━━━━━━━━━━━━━━━━━━━━━━\u001b[0m \u001b[32m291.3/291.3 kB\u001b[0m \u001b[31m13.1 MB/s\u001b[0m eta \u001b[36m0:00:00\u001b[0m\n",
            "\u001b[?25hDownloading safetensors-0.4.3-cp39-cp39-macosx_11_0_arm64.whl (411 kB)\n",
            "\u001b[2K   \u001b[90m━━━━━━━━━━━━━━━━━━━━━━━━━━━━━━━━━━━━━━━━\u001b[0m \u001b[32m411.3/411.3 kB\u001b[0m \u001b[31m12.8 MB/s\u001b[0m eta \u001b[36m0:00:00\u001b[0m\n",
            "\u001b[?25hDownloading typing_inspect-0.9.0-py3-none-any.whl (8.8 kB)\n",
            "Downloading yarl-1.9.4-cp39-cp39-macosx_11_0_arm64.whl (81 kB)\n",
            "\u001b[2K   \u001b[90m━━━━━━━━━━━━━━━━━━━━━━━━━━━━━━━━━━━━━━━━\u001b[0m \u001b[32m81.8/81.8 kB\u001b[0m \u001b[31m6.6 MB/s\u001b[0m eta \u001b[36m0:00:00\u001b[0m\n",
            "\u001b[?25hDownloading Jinja2-3.1.3-py3-none-any.whl (133 kB)\n",
            "\u001b[2K   \u001b[90m━━━━━━━━━━━━━━━━━━━━━━━━━━━━━━━━━━━━━━━━\u001b[0m \u001b[32m133.2/133.2 kB\u001b[0m \u001b[31m7.3 MB/s\u001b[0m eta \u001b[36m0:00:00\u001b[0m\n",
            "\u001b[?25hDownloading MarkupSafe-2.1.5-cp39-cp39-macosx_10_9_universal2.whl (18 kB)\n",
            "Downloading mypy_extensions-1.0.0-py3-none-any.whl (4.7 kB)\n",
            "Installing collected packages: SQLAlchemy, safetensors, regex, mypy-extensions, multidict, marshmallow, MarkupSafe, frozenlist, faiss-cpu, attrs, async-timeout, yarl, typing-inspect, tiktoken, jinja2, aiosignal, torch, dataclasses-json, aiohttp, transformers, langchain-core, sentence_transformers, langchain-text-splitters, langchain_openai, langchain_community, langchain\n",
            "  Attempting uninstall: langchain-core\n",
            "    Found existing installation: langchain-core 0.1.42\n",
            "    Uninstalling langchain-core-0.1.42:\n",
            "      Successfully uninstalled langchain-core-0.1.42\n",
            "Successfully installed MarkupSafe-2.1.5 SQLAlchemy-2.0.29 aiohttp-3.9.5 aiosignal-1.3.1 async-timeout-4.0.3 attrs-23.2.0 dataclasses-json-0.6.4 faiss-cpu-1.8.0 frozenlist-1.4.1 jinja2-3.1.3 langchain-0.1.16 langchain-core-0.1.44 langchain-text-splitters-0.0.1 langchain_community-0.0.33 langchain_openai-0.1.3 marshmallow-3.21.1 multidict-6.0.5 mypy-extensions-1.0.0 regex-2024.4.16 safetensors-0.4.3 sentence_transformers-2.7.0 tiktoken-0.6.0 torch-2.2.2 transformers-4.39.3 typing-inspect-0.9.0 yarl-1.9.4\n"
          ]
        }
      ],
      "source": [
        "!pip install langchain langchain_community openai sentence_transformers faiss-cpu langchain_openai"
      ]
    },
    {
      "cell_type": "code",
      "execution_count": 2,
      "metadata": {
        "id": "raP-Eivkk_HN"
      },
      "outputs": [
        {
          "name": "stderr",
          "output_type": "stream",
          "text": [
            "/Users/yuliiamaksymyuk/Library/Python/3.9/lib/python/site-packages/urllib3/__init__.py:35: NotOpenSSLWarning: urllib3 v2 only supports OpenSSL 1.1.1+, currently the 'ssl' module is compiled with 'LibreSSL 2.8.3'. See: https://github.com/urllib3/urllib3/issues/3020\n",
            "  warnings.warn(\n"
          ]
        }
      ],
      "source": [
        "# import\n",
        "from langchain_community.vectorstores import FAISS\n",
        "from langchain_community.document_loaders.csv_loader import CSVLoader\n",
        "from langchain_community.embeddings.sentence_transformer import (\n",
        "    SentenceTransformerEmbeddings,\n",
        ")\n",
        "from langchain_openai import OpenAIEmbeddings\n",
        "import openai\n",
        "import pandas as pd\n",
        "import csv\n",
        "import re\n",
        "import faiss\n",
        "import numpy as np"
      ]
    },
    {
      "cell_type": "code",
      "execution_count": 3,
      "metadata": {
        "id": "XxzFNhwt-gj9"
      },
      "outputs": [],
      "source": [
        "loader = CSVLoader(file_path=\"./rag-data/hutsul-base.csv\", source_column=\"hutsul_sentence\")\n",
        "\n",
        "data = loader.load()"
      ]
    },
    {
      "cell_type": "code",
      "execution_count": 4,
      "metadata": {
        "colab": {
          "base_uri": "https://localhost:8080/"
        },
        "id": "SIQlXrtS-qFK",
        "outputId": "7ad953ef-73ba-42f6-f692-61c44442957a"
      },
      "outputs": [
        {
          "data": {
            "text/plain": [
              "[Document(page_content='hutsul_sentence: У дєді з рєду дітий я двайціть и чєтвертий.', metadata={'source': 'У дєді з рєду дітий я двайціть и чєтвертий.', 'row': 0}),\n",
              " Document(page_content='hutsul_sentence: А мижи живими дітми одинайцітий и найменчий, але ни випорток, бо післідь мене було ишє шестеро діточьок, лиш уни маленькими вивмерали.', metadata={'source': 'А мижи живими дітми одинайцітий и найменчий, але ни випорток, бо післідь мене було ишє шестеро діточьок, лиш уни маленькими вивмерали.', 'row': 1}),\n",
              " Document(page_content='hutsul_sentence: Ріс я пестуном у хаті, прото найменчя дитина у старині.', metadata={'source': 'Ріс я пестуном у хаті, прото найменчя дитина у старині.', 'row': 2}),\n",
              " Document(page_content='hutsul_sentence: Розвезений, шо най Бог боронит.', metadata={'source': 'Розвезений, шо най Бог боронит.', 'row': 3}),\n",
              " Document(page_content='hutsul_sentence: Вара було шо ми ирчі.', metadata={'source': 'Вара було шо ми ирчі.', 'row': 4}),\n",
              " Document(page_content='hutsul_sentence: Бувало, скоро на мнє лиш шош трошки посиров’єт, то ого — я з хати порс тай просто до діда, маминого дєді.', metadata={'source': 'Бувало, скоро на мнє лиш шош трошки посиров’єт, то ого — я з хати порс тай просто до діда, маминого дєді.', 'row': 5}),\n",
              " Document(page_content='hutsul_sentence: Добре, шо дорогу знав до діда, то ж страху ми ни було.', metadata={'source': 'Добре, шо дорогу знав до діда, то ж страху ми ни було.', 'row': 6}),\n",
              " Document(page_content='hutsul_sentence: Нираз малим хлопцем тікав до діда й без портєниц, скоро лиш ми та бига прийдет.', metadata={'source': 'Нираз малим хлопцем тікав до діда й без портєниц, скоро лиш ми та бига прийдет.', 'row': 7}),\n",
              " Document(page_content='hutsul_sentence: Ніхто би був мнє ни спер.', metadata={'source': 'Ніхто би був мнє ни спер.', 'row': 8}),\n",
              " Document(page_content='hutsul_sentence: Дєдикові хати, статочьні збудованя, були побудовані у занодзі мижи ґрунями й лісами над бистро шумнючьов річьков.', metadata={'source': 'Дєдикові хати, статочьні збудованя, були побудовані у занодзі мижи ґрунями й лісами над бистро шумнючьов річьков.', 'row': 9})]"
            ]
          },
          "execution_count": 4,
          "metadata": {},
          "output_type": "execute_result"
        }
      ],
      "source": [
        "data[:10]"
      ]
    },
    {
      "cell_type": "code",
      "execution_count": 5,
      "metadata": {
        "colab": {
          "base_uri": "https://localhost:8080/"
        },
        "id": "K-YPknxW-jjV",
        "outputId": "f76b7324-a781-42c7-d0b9-b6b4ddd11a19"
      },
      "outputs": [
        {
          "data": {
            "text/plain": [
              "['У дєді з рєду дітий я двайціть и чєтвертий.',\n",
              " 'А мижи живими дітми одинайцітий и найменчий, але ни випорток, бо післідь мене було ишє шестеро діточьок, лиш уни маленькими вивмерали.',\n",
              " 'Ріс я пестуном у хаті, прото найменчя дитина у старині.',\n",
              " 'Розвезений, шо най Бог боронит.',\n",
              " 'Вара було шо ми ирчі.',\n",
              " 'Бувало, скоро на мнє лиш шош трошки посиров’єт, то ого — я з хати порс тай просто до діда, маминого дєді.',\n",
              " 'Добре, шо дорогу знав до діда, то ж страху ми ни було.',\n",
              " 'Нираз малим хлопцем тікав до діда й без портєниц, скоро лиш ми та бига прийдет.',\n",
              " 'Ніхто би був мнє ни спер.',\n",
              " 'Дєдикові хати, статочьні збудованя, були побудовані у занодзі мижи ґрунями й лісами над бистро шумнючьов річьков.',\n",
              " 'За річьков, наопередь самих викон, пид лісом тетеріла стримка, стряпава скала.',\n",
              " 'Вид тої скали, поплямленої сивавими лішірями та порослої паршивими краками, покритої місцями зеленковатим мохом, було мині вічьно лєчьно.',\n",
              " 'Найгірше було мині лєчьно вид печіри у тій скалі, бо та печіра хоть нивеличька, то була пудна.',\n",
              " 'Дєдик приказував, шо у тій печірі сидит Дониково сукровишє на заклєтих скарбах, бо колис він продав за ні чьортови свою жінку, а тепер за покуту мусит їх там сокотити до суду віка.',\n",
              " 'Бувало, нираз, єк звівалиси буйні вітри й смутно співали тужним шумом у лісі верх скали, то мині си причювало, шо у тій печері «він», изчєз би, пигичіт у скрипку до співанок галасливим вітрам.',\n",
              " 'Иноді навіть здавалоси мині, шо у тот раз, єк из ліса верх скали дражнилоси зо мнов первовічьне смеречє, намахуючі на мене, єк медвідь лабами, хєхлатими пластами фої, Дониково сукровишє висувало свою тонку, єк павутина, руку криз листє на корчіку опередь печіри й, потєвуючі палцем, гулило мене д’собі у печіру.',\n",
              " 'Вид того лєковишя мині пуду давало.',\n",
              " 'Я викручювавси й, ґвавтуючі на всий рот, втікав у хату без потємку.',\n",
              " 'Вид дєдикових хатий було видко лиш на тоту скалу тай на ліс верх неї.',\n",
              " 'У тій зашепетині виглєдало так, єк у полібичьку, шо з него нікуда инде ни видко, лиш у небо, тимунь коло дєдикових хатий було мині скучьно.']"
            ]
          },
          "execution_count": 5,
          "metadata": {},
          "output_type": "execute_result"
        }
      ],
      "source": [
        "data_list = []\n",
        "for i in range (len(data)):\n",
        "    data_list.append(data[i].page_content.replace('hutsul_sentence: ', ''))\n",
        "data_list[:20]"
      ]
    },
    {
      "cell_type": "code",
      "execution_count": 6,
      "metadata": {
        "id": "ZDEjfrrynK_e"
      },
      "outputs": [],
      "source": [
        "from openai import OpenAI\n",
        "\n",
        "client = OpenAI(\n",
        "    api_key=\"your_key\"\n",
        ")"
      ]
    },
    {
      "cell_type": "code",
      "execution_count": 7,
      "metadata": {
        "id": "zE04N-ZAnkkD"
      },
      "outputs": [],
      "source": [
        "import os\n",
        "os.environ[\"OPENAI_API_KEY\"] = \"your_key\""
      ]
    },
    {
      "cell_type": "code",
      "execution_count": 8,
      "metadata": {
        "id": "LCSTZCkrnDVj"
      },
      "outputs": [],
      "source": [
        "embeddings = OpenAIEmbeddings(model=\"text-embedding-3-small\")"
      ]
    },
    {
      "cell_type": "markdown",
      "metadata": {},
      "source": [
        "Comment cell below if you do not need to perform embedding"
      ]
    },
    {
      "cell_type": "code",
      "execution_count": null,
      "metadata": {
        "id": "N4Fuop3ho8RM"
      },
      "outputs": [],
      "source": [
        "embedded_data = [embeddings.embed_query(text) for text in data_list]"
      ]
    },
    {
      "cell_type": "code",
      "execution_count": null,
      "metadata": {
        "colab": {
          "base_uri": "https://localhost:8080/"
        },
        "id": "qUXFzwXpihpv",
        "outputId": "8fef052b-8e96-418f-bbfe-e13184a89ded"
      },
      "outputs": [
        {
          "data": {
            "text/plain": [
              "1536"
            ]
          },
          "execution_count": 105,
          "metadata": {},
          "output_type": "execute_result"
        }
      ],
      "source": [
        "len(embedded_data[0])"
      ]
    },
    {
      "cell_type": "markdown",
      "metadata": {},
      "source": [
        "Save created embeddings (comment if not needed)"
      ]
    },
    {
      "cell_type": "code",
      "execution_count": null,
      "metadata": {
        "id": "3Pe7F5riiM3y"
      },
      "outputs": [],
      "source": [
        "embedded_numpy = np.array(embedded_data)\n",
        "np.save('./embeddings/embeddings_openai.npy', embedded_numpy)"
      ]
    },
    {
      "cell_type": "code",
      "execution_count": 9,
      "metadata": {
        "id": "sZaTHQlYi8CM"
      },
      "outputs": [
        {
          "data": {
            "text/plain": [
              "array([[ 0.03971342,  0.03673318, -0.02885518, ..., -0.03104993,\n",
              "         0.00650917, -0.00817833],\n",
              "       [ 0.01915574,  0.01543101, -0.07549359, ...,  0.00508213,\n",
              "         0.02215289,  0.00896975],\n",
              "       [ 0.02821364,  0.01712233, -0.02930831, ..., -0.01984869,\n",
              "         0.02707766, -0.00199958],\n",
              "       ...,\n",
              "       [ 0.02536042,  0.07436955,  0.0213514 , ...,  0.00421172,\n",
              "         0.02197077, -0.00674551],\n",
              "       [ 0.03490249,  0.03160903, -0.00533376, ..., -0.00773137,\n",
              "        -0.00647301, -0.01607379],\n",
              "       [ 0.00596981,  0.02272311, -0.06663483, ..., -0.01765718,\n",
              "         0.01030528, -0.00517366]])"
            ]
          },
          "execution_count": 9,
          "metadata": {},
          "output_type": "execute_result"
        }
      ],
      "source": [
        "embedded_numpy = np.load('./embeddings/embeddings_openai.npy')\n",
        "embedded_numpy"
      ]
    },
    {
      "cell_type": "code",
      "execution_count": 10,
      "metadata": {},
      "outputs": [
        {
          "data": {
            "text/plain": [
              "1536"
            ]
          },
          "execution_count": 10,
          "metadata": {},
          "output_type": "execute_result"
        }
      ],
      "source": [
        "len(embedded_numpy[0])"
      ]
    },
    {
      "cell_type": "code",
      "execution_count": 11,
      "metadata": {
        "id": "aPoBVbXzprLW"
      },
      "outputs": [],
      "source": [
        "# load it into FAISS\n",
        "db_embeddings = embedded_numpy.copy().astype(np.float32)\n",
        "faiss_index = faiss.IndexIDMap(faiss.IndexFlatIP(len(embedded_numpy[0])))\n",
        "faiss.normalize_L2(db_embeddings)\n",
        "faiss_index.add_with_ids(db_embeddings, np.arange(len(data_list)))"
      ]
    },
    {
      "cell_type": "code",
      "execution_count": 12,
      "metadata": {
        "colab": {
          "base_uri": "https://localhost:8080/"
        },
        "id": "Wf3npLraAyQV",
        "outputId": "7d098449-0c3f-4e96-bd05-c4130b2052a7"
      },
      "outputs": [
        {
          "data": {
            "text/plain": [
              "numpy.ndarray"
            ]
          },
          "execution_count": 12,
          "metadata": {},
          "output_type": "execute_result"
        }
      ],
      "source": [
        "type(db_embeddings)"
      ]
    },
    {
      "cell_type": "code",
      "execution_count": 13,
      "metadata": {
        "colab": {
          "base_uri": "https://localhost:8080/"
        },
        "id": "9L0AjMFk8F8f",
        "outputId": "b3c8d278-832b-4544-8aa7-8e6352cd283c"
      },
      "outputs": [
        {
          "data": {
            "text/plain": [
              "1536"
            ]
          },
          "execution_count": 13,
          "metadata": {},
          "output_type": "execute_result"
        }
      ],
      "source": [
        "len(db_embeddings[0])"
      ]
    },
    {
      "cell_type": "code",
      "execution_count": 199,
      "metadata": {
        "id": "hXgRZdIkPW0S"
      },
      "outputs": [],
      "source": [
        "def index_search(query, k=4, threshold=0.45):\n",
        "    query_vector = [query]\n",
        "    search_query = np.array(query_vector).copy().astype(np.float32)\n",
        "    faiss.normalize_L2(search_query)\n",
        "    top_k = faiss_index.search(search_query, k)\n",
        "\n",
        "    # Filter out sentences with similarity score lower than threshold\n",
        "    filtered_results = [\n",
        "        (sim_score, data_list[_id]) for sim_score, _id in zip(top_k[0][0], top_k[1][0]) if sim_score >= threshold\n",
        "    ]\n",
        "\n",
        "    # Reconstruct top_k with filtered results\n",
        "    filtered_scores = [score for score, _ in filtered_results]\n",
        "    filtered_sentences = [sentence for _, sentence in filtered_results]\n",
        "\n",
        "    return (np.array([filtered_scores]), filtered_sentences[:min(len(filtered_sentences), k)])"
      ]
    },
    {
      "cell_type": "code",
      "execution_count": 15,
      "metadata": {
        "colab": {
          "base_uri": "https://localhost:8080/"
        },
        "id": "EOWKRndyIrvd",
        "outputId": "bc6af5de-55e4-4409-86c2-c7a13bef1c0b"
      },
      "outputs": [
        {
          "name": "stdout",
          "output_type": "stream",
          "text": [
            "11365\n"
          ]
        }
      ],
      "source": [
        "print(faiss_index.index.ntotal)"
      ]
    },
    {
      "cell_type": "code",
      "execution_count": 16,
      "metadata": {
        "colab": {
          "base_uri": "https://localhost:8080/"
        },
        "id": "1m-q-xfUADC7",
        "outputId": "4f48e858-95b8-4e76-dc70-c60ddd1c7f12"
      },
      "outputs": [
        {
          "data": {
            "text/plain": [
              "<faiss.swigfaiss.IndexIDMap; proxy of <Swig Object of type 'faiss::IndexIDMapTemplate< faiss::Index > *' at 0x137278f90> >"
            ]
          },
          "execution_count": 16,
          "metadata": {},
          "output_type": "execute_result"
        }
      ],
      "source": [
        "faiss_index"
      ]
    },
    {
      "cell_type": "code",
      "execution_count": 17,
      "metadata": {
        "id": "LSdE7OZtNnpY"
      },
      "outputs": [],
      "source": [
        "def csv_to_dictionary(csv_file):\n",
        "    ukrainian_to_hutsul = {}\n",
        "    with open(csv_file, 'r', encoding='utf-8') as file:\n",
        "        reader = csv.reader(file)\n",
        "        next(reader)  # Skip header\n",
        "        for row in reader:\n",
        "            ukrainian = row[1].strip()\n",
        "            hutsul = row[0].strip()\n",
        "            ukrainian_to_hutsul[ukrainian] = hutsul\n",
        "    return ukrainian_to_hutsul"
      ]
    },
    {
      "cell_type": "code",
      "execution_count": 18,
      "metadata": {
        "colab": {
          "base_uri": "https://localhost:8080/"
        },
        "id": "A9Px6EF1NuCO",
        "outputId": "eddf3e06-de11-433d-9da7-0b4ba6ad7bef"
      },
      "outputs": [
        {
          "name": "stdout",
          "output_type": "stream",
          "text": [
            "{'Овва!': 'Ийга', 'Маланки': 'Їроди', 'Отвір': 'Кагла', 'Проповідь': 'Казання', 'Череватий': 'Калюхатий', 'Бутерброд': 'Канапка', 'Вид Зачіски': 'Канатка', 'Вуздечка Для Коня': 'Канейстра', 'Гармата': 'Канона', 'Кут Стола': 'Кант', 'Грязнуля': 'Капарник', 'Пластмаса': 'Карук', 'Скринька': 'Касетка', 'Метавка': 'Катапулька', 'Смертне Ложе': 'Катафейка', 'Чверть Літра': 'Кватирка', 'Мізки': 'Кебета', 'Гуцульський Одяг': 'Китиця', 'Гори': 'Кичери', 'Трогати': 'Ківати', 'Крокви': 'Кізли', 'Стегна': 'Клуби', 'Кусок Дерева': 'Кльоц', 'Клуб': 'Клюб', 'Ручка Дверей': 'Клямка', 'Клас': 'Кляса', 'Кнедлики': 'Книглі', 'Коли Б, Якщо Б': 'Кобих', 'Порожнина': 'Коварня', 'Залізничний': 'Колєйовий', 'Коляда': 'Коліда', 'Пастуша Колиба': 'Комарник', 'Поминки': 'Комашня', 'Димар': 'Комин', 'Католицька Церква': 'Костьол', 'Щиколотки': 'Котики', 'Вовняна Ковдра': 'Коц', 'Укривало': 'Коц', 'Колесо': 'Кочело', 'Кут Біля Печі': 'Кочерги', 'Качан': 'Кочєн', 'Пологи В Овець І Кіз': 'Кочіння', 'Загорожа Для Відпочинку Овець': 'Кошара', 'Кошик З Лози': 'Кошіль', 'Гілка': 'Крак', 'Схованка': 'Криївка', 'Трішки': 'Крішка', 'Небагато': 'Нибогато', 'Вир': 'Крутіж', 'Обрядова Булочка': 'Кукуц', 'Кільце': 'Кулко', 'Порання': 'Кутання', 'Висока Бараняча Шапка': 'Кучма', 'Куштувати Їжу': 'Кушіти', 'Листопад': 'Падолист', 'Великий Ящик': 'Пака', 'Згар': 'Паленєк', 'Пампух': 'Пампушок', 'Флейта': 'Пана', 'Цигарки': 'Папіроси', 'Невелика Ділянка Землі': 'Парцеля', 'Личить': 'Пасує', 'Прут': 'Патик', 'Шматок Дерева': 'Патик', 'Переляканий': 'Перепуджений', 'Сперечатись': 'Перечитися', 'Піч': \"П'єц\", 'Маршрутне Таксі': 'Пижик', 'Старообрядець': 'Пилипован', 'Потворна Людина': 'Пирга', 'Таблетка': 'Пігулка', 'Готувати Їжу': 'Підбивати', 'Опеньки': 'Підпеньки', \"Злопам'ятний\": 'Пімзливий', 'Пішак У Шахматах': 'Пйоник', 'Хустинка': 'Платинка', 'Сильний Дощ, Злива': 'Плова', 'Бульвар': 'Плянти', 'Ділянка': 'Пляц', 'Земельний Наділ': 'Пляц', 'Майдан': 'Пляц', 'Місце': 'Пляц', 'Обійстя': 'Пляц', 'Площа': 'Пляц', 'Понад': 'Поверх', 'Роздільно': 'Поєдинче', 'Окремо': 'Поєдинче', 'Кімната': 'Покій', 'Попробувати Їжу': 'Покушіти', 'Полудний': 'Поливаний', 'Полудований': 'Поливаний', 'Скошена Трава': 'Поліг', 'Полоскати': 'Полокати', 'Полокати Білизну': 'Полокати', 'Велика Бочка': 'Полубічок', 'Потрісканий': 'Полупаний', 'Апельсин': 'Помаранча', 'Велика Смертність': 'Помір', 'Пошесть': 'Помір', 'Мор': 'Помір', 'Підлога': 'Поміст', 'Червона Смородина': 'Порічки', 'Осісти': 'Потахнути', 'Зуміти': 'Потрафити', 'Збирати': 'Прєтати', 'Лиха Погода': 'Принежда', 'Підготувати': 'Приріхтувати', 'Земельна Присадибна Ділянка': 'Присадиба', 'Набір Дрібних Деталей': 'Причандалля', 'Шов': 'Пруг', 'Слива-Венгерка': 'Пруня', 'Веретено З Напрядженими Нитками': 'Пряшник', 'Форель': 'Пструг', 'Коробочка': 'Пуделко', 'Тріснути': 'Пукнути', 'Лопнути': 'Пукнути', 'Полувеєр': 'Пульверок', 'Задавака': 'Пурець', 'Пенал': \"П'юрник\", 'Стежка, Витоптана Вівцями': 'Раташ', 'Частини': 'Рати', 'Будинок Міської Управи': 'Ратуша', 'Полонинське Причандалля': 'Рахвочка', 'Сувенірний Виріб З Дерева': 'Рахівка', 'Ряса': 'Реверенда', 'Штани Галіфе': 'Рейтки', 'Ресторан': 'Рестарація', 'Рис': 'Риж', 'Низька Каструля': 'Ринка', 'Піскуватий Берег Річки': 'Рінь', 'Картопля.': 'Ріпа', 'Сушник': 'Ріщє', 'Рогач': 'Роглик', 'Розколина': 'Рожен', 'Розпрощатись': 'Розвитатися', 'Роздягнутися': 'Розгорнутися', 'Наказ, Команда': 'Розказ', 'Косоокий': 'Розноокий', 'Розляпати': 'Розфляцкати', 'Розхляпати': 'Розфляцкати', 'Розламати': 'Розчіхнути', 'Розщепити': 'Розчіхнути', 'Розщеплений': 'Розшіньканий', \"Мати Любовний Зв'язок\": 'Романсувати', \"Шматина-Пов'язка\": 'Ромоток', 'Жаба-Ропуха': 'Ропавка', 'Троянди': 'Ружі', 'Наплічник': 'Рубцак', 'Труба': 'Рура', 'Російський': 'Руский', 'Зельц': 'Сальцисон', 'Послід Свині': 'Свиняк', 'Светр': 'Свитер', 'Цьогорічний': 'Сегорішний', 'Здоров! Вітаю!': 'Сервус!', 'Смушковий': 'Сибірковий', 'Рясний': 'Сивний', 'Помпа': 'Сикавка', 'Насос': 'Сикавка', 'Страхування Майна': 'Сикірація', 'Доносчик': 'Сикса', 'Заробітна Плата': 'Симбриля', 'Мала Тріска': 'Скіпка', 'Спрямувати': 'Скірувати', 'Хворий': 'Слабий', 'Алкогольний Напій': \"Слив'янка\", 'Скляна Банка': 'Слоїк', 'Сльота': 'Слота', 'Стовп': 'Слуп', 'Ялинник.': 'Смеречина', 'Нікчемний': 'Сміттяний', 'Вчора Ввечері': 'Сночі', 'Шануватися': 'Сокотитися', 'Свіже Молоко': 'Солодке Молоко', 'Сало': 'Солонина', 'Багнувате Місце': 'Солотвина', 'Багновище': 'Солотвина', 'Мочарі': 'Солотвина', 'Боронити': 'Спирати', 'Заборонювати': 'Спирати', 'Зупиняти': 'Спирати', 'Брюки': 'Сподні', 'Пил': 'Спуза', 'Батьки': 'Стариня', \"Швидко З'їсти\": 'Стевхати', 'Спеціальна Дошка Для Розтачування Тіста': 'Стілниці', 'Весільна Сорочка Молодої': 'Стовп', 'У Вертикальному Положенні': 'Сторцом', 'Змарнувати Час': 'Стратити', 'Плетений Калач': 'Струнець', 'Холодний': 'Студений', 'Замерзлий': 'Студений', 'Холод': 'Студінь', 'Мороз': 'Студінь', \"Дерев'яний Посуд\": 'Судник', 'Житель Гір': 'Сус', 'Кочерга': 'Сусіха', 'Смітник': 'Сутич', 'Сміттєзвалище': 'Сутич', 'Вузька Дорога, Загороджена По Обидва Боки': 'Сутки', 'Ніжка': 'Лабка', 'Бадилля': 'Лабуз', 'Ланцюг': 'Ланц', 'Зграя': 'Лая', 'Жінка Легкої Поведінки': 'Лєрва', 'Ковзани': 'Лижби', 'Кажан': 'Лилик', 'Торгівець': 'Лихвар', 'Віжки': 'Ліци', 'Велика Гілка Дерева': 'Ломага', 'Кора': 'Луб', 'Лоза': 'Луговиння', 'Негарний Головний Убір': 'Лупка', 'Морозиво': 'Льода', 'Дзеркальце': 'Люстро', 'Повстяна Шапка': 'Магерка', 'Опій': 'Мадригал', 'Костюм': 'Мазепинка', 'Зубило': 'Майзель', 'Гуцульська Річ': 'Манти', 'Белодонна': 'Мантриган', 'Чаклунка': 'Мара', 'Жирне': 'Масне', 'Дьоготь': 'Мась', 'Медогонка': 'Медарка', 'Туфлі': 'Мешти', 'Мокра Місцина': 'Млака', 'Жіноча Зачіска': 'Могуля', 'Затяжний Дощ': 'Моква', 'Мокрий Грунт': 'Моклак', 'Шовковиця': 'Морва', 'Зелена Травичка': 'Моріжок', 'Багата': 'Моц', 'Велике Панське Володіння': 'Мушія', 'Любити': 'Навидіти', 'Їсти З Апетитом': 'Наминати', 'Хресна Мати': 'Нанашка', 'Народ': 'Нарід', 'Скаржитись': 'Нарікати', 'Лижі': 'Нарти', 'Дибки': 'Насторц', 'Миттю': 'Начес', 'Немає': 'Не Суть', 'Неприємний': 'Нехарний', 'Анічогісінько': 'Ніц А Ніц', 'Мода': 'Ноші', 'Гірський Схил': 'Обіч', 'Оглядини': 'Обзорини', 'Ікона': 'Образ', 'Привести До Ладу': 'Обхаяти', 'Закаблук': 'Обцас', 'Обдряпати': 'Обшкалювати', 'Жолудь': 'Ожулюд', 'Олівець': 'Олуфко', 'Недавно': 'Оногди', 'Наступ': 'Офензива', 'Військова Вправа': 'Абрихтунок', 'Самоук': 'Автодидакт', 'Дивіться!': 'Адіт', 'Особисте Звертання': 'Апострофа', 'Упорядник': 'Аранжер', 'Взяти До Війська': 'Асентерувати', 'Звернути Увагу': 'Багати', 'Мати На Думці': 'Багати', 'Скошене На Болоті': 'Багна', 'Багні': 'Багна', 'Вартовий': 'Багнетник', 'Старий Мужик': 'Бадьо', 'Короткий Сіряк': 'Байбарак', 'Нарікання': 'Бана', 'Жалувати': 'Банувати', 'Тужити': 'Банувати', 'Хрещений Батько': 'Батько', \"В'язи\": 'Бачки', 'Верткий': 'Бгачкий', 'Обіцяти': 'Безпечити', 'Голосно Плакати': 'Бексати', 'Діжечка': 'Бербеничка', 'Барило': 'Берівка', 'Барилка': 'Берівка', 'Підпомагати': 'Бечувати', 'Хитрун': 'Бештифрант', 'Майстер': 'Бештифрант', 'Стрічка': 'Бинда', 'Напевне': 'Бізівно', 'Бриніти': 'Біньити', 'Байдикувати': 'Блавучити', 'Пастух Рогатої Худоби': 'Бовгар', 'Китиці': 'Бовтиці', 'Хмільний Квас': 'Брага', 'Бритва': 'Брич', 'Парчевий': 'Брокатовий', 'Чернетка': 'Бруліон', 'Часть У Більшій Мірі': 'Буката', 'Частина': 'Буката', 'Глибоке Місце В Річці': 'Бульбона', 'Кожух': 'Бунда', 'Землянка': 'Бурдей', 'Вируб Лісу': 'Бутин', 'Бундючність': 'Бута', 'Сперечатися Про Щось': 'Вадитися', 'Насмілюватися': 'Вакатися', 'Відважитись': 'Вакатися', 'Не Наважуйся': 'Не Вакайси', 'Непевний': 'Варівкий', 'Розлютитися': 'Вбезсебитиси', 'Взлоститися': 'Вбезсебитиси', 'Розсердитися': 'Вбезсебитиси', 'Працьовитий': 'Вгідний', 'Шановний': 'Вгідний', 'Одноліток': 'Верствак', 'Використаний': 'Виглоданий', 'Видурити': 'Вигулити', 'Зійти': 'Вирокувати', \"Виб'ю До Ноги\": 'Вистріляю Що До Лаби', 'Вибагливий У Стравах': 'Вистравний', 'Звалитися': 'Витити', 'Отримати З Державної Каси Чи Складу': 'Вифасувати', 'Вибритись': 'Вицофатися', 'Вистрибнути': 'Виштрикнути', 'Дати Придане': 'Відвіновувати', 'Виголосити': 'Відгалакати', 'Відтарабанити': 'Відгалакати', 'Відпрошуватися': 'Відмолюватися', 'Водохреща': 'Відорщі', 'Відгодовуватися': 'Відтановлєтеси', 'Товстіти': 'Відтановлєтеси', 'Спадщина По Вмерлому': 'Відумерщина', 'Поздоровляти': 'Віншувати', 'Теслярський Інструмент': 'Вісний Ніж', 'Струг': 'Вісний Ніж', 'Війт': 'Віт', 'Закосичувати': 'Вкосичувати', 'Прибирати Квітами': 'Вкосичувати', 'Товстий Мотуз': 'Воловід', 'Мотузка Від Постолів': 'Волока', 'Огорожа З Довгих Жердин': 'Вориння', 'Вкрутитися': 'Впелескатися', 'Вберегти': 'Всокотити', 'Дати Потиличника': 'Втерти Чемері', 'Потягнути За Вухо': 'Втерти Чемері', 'Навантажений': 'Втерханий', \"Опам'ятатися\": 'Втємити', 'Заспокоїтись': 'Втємити', 'Скоки Хвиль': 'Габа', 'Грива Хвилі': 'Габа', 'Дірка': 'Гавра', 'Тиск': 'Гальман', 'Стій': 'Гальт', 'Нема Зупину': 'Нема Гальту', 'Ром': 'Гарак', 'Міцно Кинути': 'Гевкнути', 'Ями': 'Гели', 'Видолинки': 'Гели', 'Вибоїни': 'Гели', 'Прикраса: Мереживо З Бісеру': 'Гердан', 'Горлянка': 'Герланка', 'Гов': 'Гив', 'Раїти': 'Гилити', 'Радити': 'Гилити', 'Такий Самий': 'Гирішний', 'Дратуватися': 'Гиршкатиси', 'Чубата Голова': 'Гиря', 'Чупер': 'Гичка', 'Гоже': 'Гія', 'Не Слід': 'Не Гія', 'Не Гоже': 'Не Гія', 'Також Кіл У Плоті': 'Глиця', 'Терня': 'Гліт', 'Ряд': 'Глід', 'Стрій': 'Глід', 'Тісно': 'Глітно', 'Лісові Ягоди': 'Гогози', 'Коліна': 'Гоголі', 'Горою': 'Горі', 'Комин': 'Горн', 'Громадянський': 'Горожанський', 'Шлях': 'Гостинець', 'Тетерев': 'Готур', 'Залізні Вила': 'Гралі', 'Гранична Сторожа': 'Граничар', 'Жар': 'Грань', 'Копати Могилу': 'Гребти Глину', 'Скелі': 'Грегіт', 'Скелясті Верхівки': 'Грегітні Шпиці', 'Кремінний': 'Грегітний', 'Турбота': 'Грижа', 'Мати Клопіт': 'Грижіти', 'Клопотатися': 'Грижіти', 'Гризтися Чимось': 'Грижіти', 'Грона': 'Грозна', 'Гущавінь': 'Грузь', 'Також Засохле Болоте': 'Грузь', 'Гірський Шпиль': 'Грунь', 'Жердка Для Одягу': 'Грядка', 'Плащ Накидка': 'Гугля', 'Дурити': 'Гулити', 'Лайка': 'Гунцвот', 'Собачий Син': 'Гунцвот', 'Грядка Солі': 'Гуска Солі', 'Пучка Солі': 'Гуска Солі', 'Гуцульський Танок': 'Гуцулка', 'Сплав': 'Дараба', 'Ледве': 'Дебя', 'Схованки': 'Декунки', 'Траншеї': 'Декунки', 'Мала Сопівка З Денцем': 'Денцівка', 'Держак': 'Держєк', 'Тату': \"Дє'\", 'Брязнути': 'Дзоркнути', 'Стукнути': 'Дзоркнути', 'Вовняна Торбинка': 'Дзьобня', 'Прибуток': 'Дижма', 'Розміщувати': 'Диспонувати', 'Розподіляти': 'Диспонувати', 'Розпоряжатись': 'Диспонувати', 'Достоту': 'Дознаки', 'Переконувати': 'Допевнювати', 'Здоровий': 'Драганистий', 'Сорочка': 'Дранка', 'Птиця': 'Дріб', 'Розбишака': 'Друк', 'Двоствольна Рушниця': 'Дубельтівка', 'Назва Старої Дрібної Монети': 'Дудочка', 'Гордий': 'Думний', 'Думати': 'Дуфати', 'Діра': 'Дучка', 'Нора': 'Дучка', 'Барліг': 'Дучка', 'Вислів': 'Ексцерпт', 'Цитата': 'Ексцерпт', 'Хрестити': 'Ерстити', 'Заходився': 'Єв', 'Ягнята': 'Єрчєта', 'Жахливий': 'Жасний', 'Полохливий': 'Жасний', 'Боязкий': 'Жасний', 'Вибухнути': 'Жбухнути', 'Сироватка': 'Жентиця', 'Страсний Четвер': 'Живний Четвер', 'Розпечене Залізо': 'Жигало', 'Наказати': 'Забефельовати', 'Зайда': 'Зайдей', 'Заборонити': 'Заказати', 'Закислі': 'Закаправілі', 'Вдоволити': 'Законтентувати', 'Умовити': 'Законтентувати', 'Заклад': 'Заліжка', 'Заквітчати': 'Замаїти', 'Заявити': 'Замельдувати', 'Засвистати': 'Запівкати', 'Заверещати': 'Запіворити', 'Щоби Бог Умершим Простив Гріхи': 'За Простибі', 'Взяти До Військових Потреб': 'Зареквірувати', 'Заревіти': 'Зарути', 'Стратити': 'Заситити', 'Знищити': 'Заситити', 'Зась': 'Засій', 'Ущелина': 'Засколобина', 'Поплентатися': 'Затерлигати', 'Запілля': 'Затилля', 'Також Передмістя': 'Затилля', 'Окраса На Голові': 'Затичка', 'Взяти За Борги': 'Зафантувати', 'Накорінок': 'Зафеленок', 'Поріддя': 'Зафеленок', 'Зачерпати': 'Зачєрати', 'Набрати': 'Зачєрати', \"Зав'язка До Сорочки\": 'Зашінка', 'Ускочити': 'Заштрикнути', 'Сполошитися': 'Збицкатиси', 'Розсудливість': 'Звага', 'Покритка': 'Зведениця', 'Намисто З Срібних Або Мідних Монет': 'Згарди', 'Екзекутор': 'Здикутор', 'Сторож Граничний': 'Зеленюк', 'Хата На Полонинах Або Сіножатях': 'Зимарка', 'Муштрувати': 'Зицирувати', 'Здезертирувати': 'Злезентирувати', 'Дружина Лісничого': 'Злісна', 'Здужати': 'Змагати', 'Вибачливий': 'Зобашний', 'Виварити В Золі': 'Золити', 'Недуга': 'Золотник', 'Спрацьований': 'Зроблений', 'Дивуватися': 'Зуміватися', 'Зненавидіти': 'Зуритити', 'Розлюбити': 'Зуритити', 'Стати Осоружним': 'Зурититись', 'Крутитися': 'Йти Переверці', 'Перевертатися': 'Йти Переверці', 'Мундир': 'Кабат', 'Юніформа': 'Кабат', 'Вигнута З Лози Петля': 'Каблук', 'Галка': 'Кавка', 'Крук': 'Кавка', 'Кровопролиття': 'Каліцтво', 'Цісарський Ліс': 'Камар', 'Цісарське Майно': 'Камара', 'Товариш': 'Камрат', 'Побратим': 'Камрат', 'Збірник Церковних Пісень': 'Кантичка', 'Тяжко Бідувати': 'Капарити', 'Помітки': 'Карби', 'Зарубини': 'Карби', 'Розділ Псалтиря': 'Кафтизма', 'Добірний': 'Кашерний', 'Солдати В Кашкетах': 'Кашкетники', 'Кишки': 'Келюхи', 'Займати': 'Кивати', 'Скупитися': 'Киндіти', 'Зачепити': 'Кинути', 'Грудка Землі': 'Кицка', 'Дернина': 'Кицка', 'Гостра Гора': 'Кичера', 'Міркувати': 'Кібзувати', 'Знати': 'Кібзувати', 'Мотика': 'Кіяня', 'Довбня': 'Кіяня', 'Зубатий': 'Кланцатий', 'Дзьобатий': 'Кланцатий', 'Сварливий': 'Кланцатий', 'Низький На Зріст': 'Клевцун', 'Присадкуватий': 'Клевцун', 'Малий Клин': 'Клинок', 'Курява': 'Ковпіт', 'Порох': 'Ковпіт', 'Приклад Гвинтівки': 'Кольба', 'Рушниці': 'Кольба', 'Шкільний Підручник': 'Коменіуш', 'Військовий': 'Комісний', 'Адміністративна Одиниця Угорщини': 'Комітат', 'Задоволений': 'Контентний', 'Продовжувати': 'Континувати', 'Помічник': 'Конципієнт', 'Брати На Плечі': 'На Коркоші', 'Повертатися': 'Корнєтися', 'Будитися Зі Сну': 'Корнєтися', 'Порушувати': 'Корняти', 'Згинути': 'Крепнути', 'Полотно До Хресту Дитини': 'Крижма', 'Подарунок Кумів На Хрестини': 'Крижма', 'Розпинати На Хресті': 'Крижувати', 'Хутро Кримської Вівці': 'Кримка', 'Хутряна Шапка': 'Кримка', 'Мамалига': 'Кулеша', 'Хижа': 'Кудуманка', 'Воловід': 'Курмей', 'Мотуз': 'Курмей', 'Доглядачка': 'Кутаниця', 'Піклувати': 'Кутати', 'Папаха': 'Кучма', 'Носатий': 'Кушкатий', 'Нога': 'Лаба', 'Заспокоювати': 'Лагоїти', 'Лука': 'Лаз', 'Сіножать': 'Лаз', 'Тічня': 'Лая', 'Вітер': 'Легіт', 'Плата': 'Леник', 'Відсоток': 'Лифа', 'Процент': 'Лифа', 'Тин': 'Ліса', 'Дика Яблуня Або Груша': 'Лісничка', 'Тепла Вода': 'Літепло', 'Продаж За Борги': 'Ліцитація', 'Груба Тертиця': 'Лодва', 'Сухостій': 'Ломаджє', 'Пропустити Через Лотоки': 'Лоточити', 'Тогорічна Бринза Чи Солонина': 'Лунчина', 'Любов': 'Люба', 'Кохання': 'Люба', 'Любощі': 'Люба', 'Булькотіти': 'Лютруватися', 'Кіннотники': 'Ляндштурмаки', 'Безпритульний': 'Льонт', 'Кукурудзяний Хліб': 'Малай', 'Глумитися': 'Мальтретувати', 'Обдурювач': 'Мантар', 'Військовий Плащ': 'Мантля', 'Сумний': 'Маркотний', 'Незадоволений': 'Маркотний', 'Товар': 'Марфа', 'Крам': 'Марфа', 'Атестат Зрілості': 'Матура', 'Медяний': 'Медіний', 'Потерта Солома': 'Мерва', 'Стерво': 'Мершня', 'Купа': 'Митла', 'Мирно': 'Миром', 'Мляво': 'Млаво', 'Багниста Сіножать': 'Млака', 'Трясовина': 'Млака', 'Болотиста Низина': 'Млаковинка', 'Саморобний Прилад Для Вибуху': 'Моздір', 'Лагодити': 'Моцювати', 'Скручувати': 'Моцювати', 'Ставок Для Мочення Конопель': 'Мочуло', 'Баба': 'Мошя', 'Замулювати': 'Мулити', 'Мухомор': 'Мухариця', 'Приговорювати': 'Набилювати', 'Намовляти': 'Набилювати', 'Нагодитися': 'Навадитись', 'Найти': 'Нагабити', 'Напасти': 'Нагабити', 'Надіслати': 'Нагилити', 'Принада': 'Нада', 'Підірватися': 'Надсадитися', 'Вийти Заміж': 'Накрити Голову', 'Над Потребу': 'Наломом', 'Через Верх': 'Наломом', 'Зухвало': 'Напрасно', 'Манжети': 'Нараквиці', 'Приступом': 'Наторопом', 'Близька Смерть': 'Недалекі Гони', 'Недомовлені': 'Недоповіджені', 'Непослідовність': 'Неконсекветність', 'Випадково': 'Непричком', 'Лісова Русалка': 'Нявка', 'Бублик': 'Обарінок', 'Пестити': 'Обедувати', 'Любувати': 'Обедувати', 'Загнузданий': 'Обзубеланий', 'Рухливий Дашок Над Стіжком Сіна': 'Оборіг', 'Обчистити': 'Обхаїти', 'Нижня Частина': 'Огузок', 'Інколи Тягар': 'Огузок', 'Стіжок': 'Оденок', 'Сердито Відповісти': 'Одерзнутися', 'Згідно': 'Одлук', 'Згідно Закону': 'Одлук Права', 'Бінокль': 'Окян', 'Сумніватись': 'Омпити', 'Гидота': 'Омраза', 'Гидкий': 'Омразний', 'Залишити': 'Оскочити', 'Сказитися': 'Остікситиси', 'Як-От': 'Отік', 'Неначе': 'Отік', 'Гей Би': 'Отік', 'Пожертвування': 'Офірівщина', 'Припадає': 'Падеси', 'Належиться': 'Падеси', 'Пенсіонер': 'Патентар', 'Бійка': 'Паторочь', 'Пережити': 'Пацити', 'Перетерпіти Щось': 'Пацити', 'Вибачливі': 'Перебашні', 'Засік': 'Перебійці', 'Котитися Перевертом': 'Переверци', 'Перестудитись': 'Передрєгнути', 'Перемерзнути': 'Передрєгнути', 'Пронести Контрабандою': 'Перепачкувати', \"Перев'язати Хустку На Шиї\": 'Перешінкати', 'Суконна Верхня Одіж': 'Петик', 'Свистки': 'Півкавки', 'Верещати': 'Піворити', 'Помагати Тягнути': 'Підбечовувати', 'Улесливий': 'Підхлібний', 'Підскочити': 'Підштрикнути', 'Гнів': 'Пізьма', 'Відраза': 'Пізьма', 'Бліднути': 'Пісніти', 'Товкти': 'Піхати', 'Стріляти З Кріса': 'Плюнути В Цівок', 'Наклеп': 'Плявза', 'Запевнити': 'Побезпечити', 'Дах': 'Побій', 'Авторитет': 'Повага', 'Заливати': 'Повенити', 'Нахилитись Падаючи': 'Повилитись', 'Підождати': 'Погодіти', 'Поза Вуха': 'Позавуш', 'Наскільки': 'Позяєк', 'Постукувати': 'Поковтувати', 'Ляпас': 'Поличман', 'Шуліка': 'Половик', 'Гірський Випас': 'Полонина', 'Виношена Сорочка': 'Полотнянка', 'Руб': 'Полотнянка', 'Нивка': 'Помірок', 'Попід Пахи': 'Попід Сили', 'Збліднути': 'Попісніти', 'Посумніти': 'Попісніти', 'Нагородити': 'Поповнити', 'Заплатити': 'Поповнити', 'Ребра': \"Поріб'я\", 'Порозскакуватись': 'Порозштрикатися', 'Зрушити': 'Порунтати', 'Чарка Горілки': 'Порція', 'Сороміцькі Слова': 'Посороми', 'Свічничок': 'Поставничок', 'Поліційна Управа': 'Постерунок', 'Завмирати': 'Постивати', 'Холонути': 'Постивати', 'Постіл': 'Постів', 'Потопати': 'Потавати', 'Потрутити Вдолину': 'Потановити', 'Втихомиритися': 'Потановити', 'Спинити': 'Потановити', 'Потрясти': 'Потермусити', 'Дрижати Зі Страху': 'Потерпати', 'Сторч Головою': 'Потич', 'Більш Тугим Учинити': 'Потужити', 'Зміцнити': 'Потужити', 'Пощастити': 'Пофосолитси', 'Суд': 'Право', 'Смажити': 'Пражити', 'Припікати': 'Пражити', 'Направду': 'Прем', 'Передплатник': 'Пренумератор', 'Пола Жіночої Сорочки': 'Приділок', 'Присилування': 'Принука', 'Програмний': 'Приписовий', 'Припізнитися': 'Приповздитиси', 'Признаватися': 'Приповідатиси', 'Прилагоджувати': 'Приподрювати', \"Прив'язати\": 'Присилити', 'Лиха Пригода': 'Причка', 'Парох': 'Пробощ', 'Проклятий': 'Проклєтюк', 'Розпусний': 'Прокуратний', 'Проводжання': 'Прольонгата', 'Погибель': 'Пропадьоска', 'Вибухати': 'Пропускатися', 'Дерево': 'Протіс', 'Розрізане На Дві Половини': 'Протіс', 'Професорка': 'Профецирка', 'Вишивка На Сорочці': 'Прошивка', 'Багна': 'Псєнка', 'Зібране На Багні': 'Псєнка', 'Поговір': 'Публіка', 'Також Горілчаний Хміль': 'Публіка', 'Соромити': 'Публічити', 'Лихий': 'Пустий', 'Чистити': 'Пуцувати', 'Стрілець': 'Пушкар', 'Пучки': 'Пушки', 'Пальці': 'Пушки', 'Апеляція': 'Рекурс', 'Дійсний': 'Ретельний', 'Совісний': 'Ретельний', 'Певно': 'Ретенно', 'Суворий': 'Ригорозальний', 'Карний': 'Ригорозальний', 'Жоліб До Спускання Дерева З Гори': 'Ризи', 'Грифель': 'Рисак', 'Почувати Себе Вільно': 'Розбезпечуватися', 'Показати': 'Роздиїти', 'Відкрити': 'Роздиїти', 'Розгнуздати': 'Роззубелити', 'Роздавити': 'Розмняцкати', 'Роздушити': 'Розмняцкати', 'Тріскатися': 'Розпукатися', 'Розірвати': 'Розшєбнути', 'Латка На Латці': 'Руб На Рубі', 'Рушати': 'Рунтати', 'Залп': 'Сальва', 'Пошана': 'Сама', 'В Пошані': 'Мати В Самі', 'Подобати': 'Саманати', 'Скидатися': 'Саманати', 'Син': 'Саняка', 'Синку': 'Саняку', 'Бідний': 'Сарака', 'Гуцульський Верхній Одяг': 'Сардак', 'Відаю': 'Свідім', 'Не Відаю': 'Не Свідім', 'Спілка': 'Сервус', 'Тримати Спілку': 'Тримати Собі Сервус', 'Святенький': 'Сітенький', 'Згорблений': 'Скавулений', 'Похилений': 'Скавулений', 'Дрібні Шматки Чогось Розтрощеного': 'Скамузь', 'Збудитися': 'Скорнєтиси', 'Піднятися': 'Скорнєтиси', 'Повернутися': 'Скорнєтиси', 'Писання': 'Скриптури', 'Сплетення Хусток': 'Скруцак', 'Скрутінь': 'Скруцак', 'Слава Iсусу Христу': 'Славайсу', 'Чортячий': 'Смучий', 'Анафемський': 'Смучий', 'Учора Звечора': 'Сночі', 'Душу Виженуть': 'Содухи Віженут', 'Рябий': 'Сорокатий', 'Монети': 'Сороківці', 'Жартувати': 'Спасувати', 'Стрепенутися': 'Сперхнути', 'Швидко Повернутися': 'Сперхнути', 'Стримувати': 'Спирати', 'Зчистити': 'Сполокати', 'Все Забрати': 'Сполокати', 'Пограбувати': 'Сполокати', 'Чималий': 'Спорий', 'Спряточний': 'Спритішний', 'Хата На Полонині': 'Стая', 'Розвідка': 'Стежа', \"Роз'їзд\": 'Стежа', 'Згодитися': 'Стокмити', 'Домовитися Про Плату': 'Стокмити', 'Згоріти': 'Стопитися', 'Боягуз': 'Страшків Син', 'Батьків Брат': 'Стрик', 'Постріл': 'Стріл', 'Крутий': 'Стромий', 'Збіднілий': 'Строшений', 'Ніжний': 'Субтельний', 'Урядова Особа': 'Таксакатор', 'Італієць': 'Таліян', 'Спихати': 'Тановити', 'Каркатий': 'Таркатий', 'Калитка': 'Ташка', 'Втрачати': 'Терєти', 'Тріски': 'Термінє', 'Заповіт': 'Тестамент', 'Коні': 'Тєгло', 'Щезнути': 'Тєкнути', 'Сопілка З Вербової Кори': 'Тилинка', 'Цісар': 'Тісар', 'Кіска': 'Тіска', 'Коса': 'Тіска', 'Угода': 'Токма', 'Вириватися': 'Торгатися', 'Бажати Чогось': 'Трабувати', 'Тартак': 'Трачка', 'Лісопильний Завод': 'Трачка', 'Осика': 'Трепета', 'Осиковий': 'Трепетовий', 'Марнотравити': 'Трошьити', 'Витрачати': 'Трошьити', 'Очерет': 'Троща', 'Ціпко': 'Туго', 'Міцно': 'Туго', 'Раз Коло Разу': 'Туго', 'Безладна Купа Ковбків': 'Турлаш', \"Зів'яти\": \"Ув'єти\", 'Ослабнути': \"Ув'єти\", 'Заспокоїти': 'Углагоїти', 'Досвідчений': 'Укий', 'Прискорювати': 'Ургувати', 'Прапор': 'Фана', 'Отримувати': 'Фасувати', 'Одержувати': 'Фасувати', 'Фельдфебель': 'Фебр', 'Командир': 'Фебр', 'Перерва У Навчанні': 'Ферії', 'Парубоцтво': 'Флетівня', 'Довга Сопілка Без Денця': 'Флеєра', 'Клейтух': 'Фльонт', 'Пиж': 'Фльонт', 'Щаститися': 'Фолоситися', 'Повинність': 'Форшпан', 'Відроблювана Підводами Й Кіньми': 'Форшпан', 'Глиця': 'Фоя', 'Заносити Снігом': 'Фуджелити', 'Раз У Раз': 'Фурт', 'Метелиця': 'Фуфела', 'Книш': 'Хавтур', 'Їсти': 'Харчувати', 'Частування': 'Харчунок', 'Бракувати': 'Хибити', 'Готар': 'Хітар', 'Сіни': 'Хороми', 'Сінні': 'Хорімні', 'Молоде Листя Капусти': 'Храбуст', 'Мужик': 'Христінин', 'Обора': 'Цара', 'Березова Вужевка': 'Цвайка', 'Митний': 'Цловий', 'Важка Робота Кайлом': 'Цурканка', 'Капати': 'Цяпати', 'Військовий Головний Убір': 'Чако', 'Застібка': 'Чапрага', 'Скрині': 'Чертоги', 'Кістки На Руках': 'Чиколонки', 'Гризти Пальці': 'Чиколонки Їсти', 'Удавати': 'Чинитиси', 'Дуже Низький Смушок': 'Чирчик', 'Дівочі Прикраси': 'Чільце', 'Стати Неповорушно': 'Чіпіти', 'Малий Потік З Дощу': 'Чоргало', 'Веселий Дух': 'Чугайстир', 'Дзюрчати': 'Чюріти', 'Бойова Лінія': 'Шварма', 'Скіць': 'Шворк', 'Стриб': 'Шворк', 'Трісочки': 'Шкамутки', 'Шматочки': 'Шкамутки', 'Шукати': 'Шниріти', 'Бігцем Слідити': 'Шниріти', 'Спотикатися': 'Шпотатиси', 'Місцевий Уряд': 'Штайранти', 'Скочити': 'Штрикати', 'Штраф': 'Штроф', 'Дрібні Монети': 'Шустки', 'Стос': 'Шух', 'Йтися': 'Ятися', 'Личити': 'Ятися', 'Належати': 'Ятися', 'Гарний, Як Квітка': 'Чічєний', 'Половина': 'Чвертка', 'Старий Ніж': 'Чепіль', 'Поливана Банка': 'Читура', 'Відбірне Жито': 'Чільце', 'Оборудки': 'Шахер-Махер', 'Оцінювати': 'Шацувати', 'Німці.': 'Шваби', 'Сучок': 'Шиблик', 'Дикі Танці': 'Шиги-Ригі-Дана', 'Проїзний Квиток На Корабель': 'Шифкарта', 'Вивіска': 'Шільд', \"Зав'язка На Сорочці\": 'Шінка', 'Клапті': 'Шкамутки', 'Мазут': 'Шмір', 'Економити': 'Шпарувати', 'Прізвисько': 'Шпіцнамсько', 'Спотикатись': 'Шпортатися', 'Спиця В Колесі': 'Шприха', 'Котушка': 'Шпулька', 'Шмат': 'Шрам', 'Дріб': 'Шрот', 'Шуруп': 'Шруба', 'Лещата': 'Шрубстак', 'Галопом': 'Штаєра', 'Кидатися': 'Штрикати', 'Порохнявий Стовбур': 'Штуб', 'Тумак': 'Штус', 'Стусан': 'Штус', 'Саморобний Пістолет': 'Штуц', 'Заслінка В Димоході': 'Шубер', 'Кукурудзяний Качан': 'Шульок', 'Кінський Щавель': 'Щіва', 'Прижмурюватися': 'Щкуритисі', 'Підбурювати До Незгоди І Розбрату': 'Юдити', 'Саламандра': 'Юник', 'Тормоз': 'Юз', 'Безплідна Вівця': 'Яловеча', 'Подушечка': 'Ясик', 'Ясно': 'Ага', 'Тримати Піст': 'Божкувати', 'Сир': 'Вурда', 'Повторіть Ще Раз!': 'Га', 'Ковбаса З Рисом': 'Гурка', 'Ґудзик': 'Ґомба', 'Туалет': 'Ґейзлик', 'Гуцульська Хата': 'Ґражда', 'Резинові Чоботи': 'Ґумаки', 'Надокучати Пискливим Голосом': 'Джвиндіти', 'Дочекатися': 'Діждати', 'До Того Часу': 'Дотив', 'Рваний': 'Дрантивий', 'Захотіти': 'Забагати', 'Зелені Недоспілі Плоди': 'Зелепуги', 'Взятися, Схопитися За Щось': 'Имитиси', 'Хрещення Дитини': 'Ірщінє', 'Охкати': 'Йойкати', 'Стогнати': 'Йойкати', 'Бiдон': 'Кантлик', 'Шкарпетка': 'Капчур', 'Торкатися': 'Кивати', 'Будити': 'Корнєти', 'Лапа': 'Лаба', 'Варення': 'Леквар', 'Посудина': 'Ливор', 'Мяч': 'Лопта', 'Трохи': 'Маленько', 'Залізна Тарілка': 'Миска', 'Друже (Звертання)': 'Ниборе', 'Той, Хто Все Встигає': 'Огідний', 'Кімнатне Взуття': 'Папучі', 'Пелюшка': 'Пеленка', 'Вареники': 'Пироги', 'Плутатися': 'Плентатиси', 'Стакан': 'Погар', 'Ковдра': 'Поплан', 'Мити': 'Пуцувати', 'Розкидати': 'Розмітувати', 'Сірники': 'Сіркачі', 'Їсти Рідку Страву': 'Сербати', 'Качалка': 'Тачілка', 'Пиріг': 'Тісто', 'Умовляти': 'Токмити', 'Черевики': 'Топанки', 'Тачка': 'Торбонца', 'Потрапити': 'Трафити', 'Вкритися': 'Укутатиси', 'Упорядковувати Справи': 'Урудувати', 'Врізати': 'Утєти', 'Кружка': 'Фінджє', 'Платок': 'Фустка', 'Справка, Записка': 'Цидулка', 'Чесний': 'Чічиний', 'Нічого, Не Біда': 'Чейко', 'Ожина': 'Чорницє', 'Окурок': 'Штіфлик', 'Залiзниця': 'Штрика', 'Носки': 'Штрімфлі', 'Збирати Траву': 'Щубирати', 'Негайно': 'Алярмово', 'Терміново': 'Алярмово', 'Вафлі': 'Андрути', 'Звичайно': 'Ашош', 'Гора': 'Баба', 'Височина': 'Баба', 'Великодня Паска': 'Баба', 'Волога Місцевість': 'Багна', 'Смерекова Смола': 'Багрівка', 'Сухі Стебла Рослин': 'Бадилля', 'Банкет': 'Бай', 'Короткий Кожушок': 'Байбарак', 'Розтрата': 'Байфус', 'Сумно': 'Банно', 'Велика Сокира': 'Баняса', 'Вишитий Чоловічий Фетровий Капелюх': 'Баршівка', 'Хуліган': 'Батяр', 'Дворовий Хлопець': 'Батяр', 'Авантюрист': 'Батяр', 'Бочечка': 'Берівка', 'Плоти Для Сплаву Лісу': 'Бокори', 'Браслет': 'Бранзолєт', 'Упасти': 'Брикнути', 'Голений': 'Бричений', 'Шкіряна Сумочка': 'Бріхташка', 'Невелика Рана У Дитини': 'Бубка', 'Головка Овечого Сиру': 'Будз', 'Буковий Ліс': 'Буковець', 'Буряк': 'Бурак', 'Лісоруб': 'Бутинар', 'Велика Скляна Банка З Вузьким Горлом': 'Бутля', 'Мешканець Гори': 'Верховинець', 'Фотографія Великого Гурту Людей': 'Вінєтка', 'Вишивка На Рукавах Жіночої Сорочки': 'Вуставка', 'Туфля': 'Галпшуга', 'Торгувати': 'Гемблювати', 'Пити': 'Глигати', 'Ковтати': 'Глигати', 'Затяжні Дощі': 'Година', 'Пояс Для Спідниці': 'Горбатка', 'Капюшон': 'Гуголник', 'Добра Господиня': 'Ґаздиня', 'Довго Та Важко Працювати': 'Ґарувати', 'Накидка': 'Дека', 'Копати Картоплю': 'Дерти Барабулі', 'Ліжник': 'Джирга', 'Щоденно': 'Днински', 'Миритися': 'Добритиси', 'Світанок': 'Досвіток', 'Груба Нитка': 'Дратва', \"Як Здоров'я?\": 'Єк Дужі?', 'Яєшня': 'Єшниця', 'Електрична Лампочка': 'Жарівка', 'Зсув Грунту': 'Зарва', \"Вузьке Міжгір'я\": 'Звор', 'Побачення': 'Здибанка', 'Суп': 'Зупа', 'Грип': 'Інфлюенца', 'Уривок': 'Кавалок', 'Горілка На Калгані': 'Калганівка', 'Офіціант': 'Кельнер', 'Чоловічий Літній Фетровий Капелюх З Прикрасами': 'Крисаня', 'Дати Хабара': 'Куку В Руку', 'Бездомна Людина': 'Лайдак', 'Вовняна Ковдра Або Килим З Геометрічними Візерунками': 'Ліжник', 'Мокрий': 'Льопа', 'Жіночі Труси': 'Майтки', 'Чаклун': 'Мальфей', 'Мармелад': 'Мармуляда', 'Повідомляти': 'Мендувати', \"Виривати Бур'ян\": 'Микати', \"Джерело, Що Б'є З-Під Землі\": 'Нора', 'Ліс На Крутій Горі': 'Осік', 'Дощова Пора': 'Плюта', 'Майдан, Ділянка': 'Пляц', 'Яйця': 'Покладки', 'Будувати': 'Правити', 'Чистильник Взуття Або Одягу': 'Пуцар', 'Одна З Гуцульських Назв Картоплі': 'Ріпа', 'Притока, Відгалуження Від Руслу Ріки': 'Ростока', 'Помпа, Насос': 'Сикавка', 'Зарплата': 'Симбриля', 'Крамниця, Лавка': 'Склеп', 'Стеля': 'Софіт', 'Штани, Брюки': 'Сподні', 'Пил, Попіл': 'Спуза', 'Вертикально': 'Сторцом', 'Дешево': 'Тано', 'Обличчя': 'Тварь', 'Довго Говорити': 'Теленити', 'Тепле Джерело': 'Тепличка', 'Строкатий, Рябий': 'Теркатий', 'Гуртова Робота': 'Толока', 'Сліди Лиж': 'Тори', 'Тополя': 'Трепета', 'Криза': 'Тугота', 'Смуток': 'Туск', 'Лікувальний Компрес': 'Умшляк', 'Люлька': 'Файка', 'Добрий': 'Файний', 'Чудово': 'Файно', 'Родина': 'Фамілія', 'Свистати': 'Фівкати', 'Посвистувати': 'Фівкати', 'Маєток Із Господарчими Будівлями': 'Фільварок', 'Чванлива Дівчина': 'Фіфа', 'Кокетка': 'Фіфа', 'Несерйозна Людина': 'Фіфак', 'Вітряк': 'Фуркало', 'Паперова Іграшка': 'Фуркало', 'Негарно': 'Харапутно', 'Непривабливо': 'Харапутно', 'Саморобне Взуття': 'Ходаки', 'Дюйм': 'Цаль', 'Лимон': 'Цитрина', 'Взуття З Твердої Гуми': 'Чуні', 'Брухт': 'Шмильц', 'Відгороджена Частина Кімнати': 'Янькирь', 'Піднос': 'Таця', 'Пояснювати': 'Тлумачити', 'Слід Лиж': 'Тори', 'Грішний': 'Трафний', 'Літнє Взуття': 'Трєпці', 'Босоніжки': 'Трєпці', 'Головний Убір': 'Тюрбан', 'Упадати На Силах': \"Ув'ядати\", 'Піджаки': 'Уйоші', 'Спаплюжити': 'Умразити', 'Вміщати': 'Уталювати', 'Прекрасно': 'Файно', 'Здорово': 'Файно', 'Застава': 'Фант', 'Рибальська Сіть': 'Фатка', 'Драна Свитина': 'Фелега', 'Похресник Чи Похресниця': 'Філина', 'Кокетливий': 'Фіцігорний', 'Басова Сопілка': 'Флояра', 'Опалі Голки Хвойних Дерев': 'Фол', 'Головний': 'Форин', 'Зачіска': 'Фризура', 'Закуток': 'Фундоя', 'Глушина': 'Фундоя', 'Осад': 'Фус', 'Косинка': 'Фустка', 'Курінь': 'Халаш', 'Бувалий': 'Хожений', 'Сінешний': 'Хорімний', 'Осот': 'Храбуст', 'Цвях З Широкою Головкою': 'Цвик', \"Дерев'яна Діжечка\": 'Цебрик', 'Кімната Сторожа': 'Цимбра', 'Цитрусові': 'Цитрина', 'Стрілка Годинника': 'Ціньгер', 'Тесаний': 'Цісаний', 'Дрібниця': 'Цота', 'Темний Льох': 'Цюпа', 'Каземат': 'Цюпа', 'Тюремна Камера': 'Цюпа', 'Крапинка': 'Цятка', 'Крапка': 'Цятка', 'Плямка': 'Цятка', 'Плямочка': 'Цятка', 'Вештатися': 'Валантатися', 'Губа': 'Варга', 'Кватирка': 'Васіздас', 'Працьовитий І Добрий': 'Вгідний', 'Рядно': 'Верітка', 'Верхній': 'Вижній', 'Звивина Річки': 'Вилюля', 'Повалене Дерево': 'Віверниця', 'Вичистити': 'Вікіцкати', 'Вілла': 'Вілія', 'Панський Будинок': 'Вілія', 'Панська Садиба': 'Вілія', \"Вим'яти\": 'Вімніцкати', 'Брати Шлюб У Церкві': 'Вінчатися', 'Витріщитися': 'Віпулитися', 'Переховатися': 'Вітриматиси', 'Ходити Без Діла Туди-Сюди': 'Воськанитись', 'Отелитися': 'Вположитися', 'Розлючене': 'Встекле', 'Скажене': 'Встекле', 'Влаштуватись': 'Встроїтись', 'Зіштовхнути': 'Втрутити', 'Стрельнути': 'Вшмалити', 'Крикун': 'Галайдак', 'Півлітровий Кухоль': 'Гальба', 'Заколки Для Волосся': 'Гарнаглі', 'Он Де,Там, Ось Там': 'Генде', 'Пропадати': 'Гибіти', 'Глек': 'Гладун', 'Кущі Глоду': 'Гліжє', 'Шипшина': 'Гложжя', 'Сечужий Фермент': 'Гляч', 'Коктейль': 'Гогель-Могель', 'Сироїжка': 'Голубінка', 'Духота': 'Горєц', 'Спека': 'Горєц', 'Горнятко': 'Горшя', 'Підкидати Вгору': 'Гоцкати', 'Скибка Хліба': 'Грінка', 'Грязь': 'Грузь', 'Гризня': 'Гумбарас', 'Баталія': 'Гумбарас', 'Збиточник': 'Гунцвот', 'Шкіра Молодого Теляти': 'Ґабелок', 'Зроблений З Телячої Шкіри': 'Ґабельковий', 'Добра Господарка': 'Ґаздиня', 'Чорна Гадюка': 'Ґалиця', 'Строката Стрічка': 'Ґалунок', 'Галера': 'Ґалєра', 'Бруква': 'Ґалярепи', 'Важко І Довго Працювати': 'Ґарувати', 'Здоровило': 'Ґевал', 'Бити Байдики': 'Ґейджі-Вейджі', 'Карниз': 'Ґзимс', 'Висівки': 'Ґрис', 'Трясе': 'Ґудзкає', 'Винокурня': 'Ґуральня', 'Смак': 'Ґуст', 'Апетит': 'Ґуст', 'Вигук Обурення Або Здивування': 'Агій', 'Аґрус': 'Аґрест', 'Рахіт': 'Англійська Хвороба', 'Бойовий Танець Опришків': 'Аркан', 'Гірська Рослина, Цілюща Квітка': 'Арніка', 'Узвишшя, Гора.': 'Баба', 'Набекрень': 'Бакір', 'Великий Таз': 'Балія', 'Завиванці З Тіста': 'Баники', 'Сумувати': 'Банувати', 'Чугун': 'Баняк', 'Котел': 'Баняк', 'Надовго Затриматися': 'Баритися', 'Шкіряні Шнури': 'Баюри', 'Потроха': 'Бебехи', 'Безвладдя': 'Безуладі', 'Бурмотати': 'Белькотіти', 'Обзивати': 'Бештати', 'Стебло': 'Било', 'Овечий Послід': 'Бирічка', 'Брикати': 'Бицкатися', 'Марна Трата Часу': 'Блавучити', 'Плентати': 'Блендати', 'Блуза': 'Блюзка', 'Кофточка': 'Блюзка', 'Кипіти': 'Боїти', 'Заболочений Ліс': 'Болотняк', 'Скорше': 'Борше', 'Шафран': 'Бриндуші', 'Слоїк': 'Бринзиник', 'Бритий': 'Бричений', 'Кругла Вершина': 'Бубен', 'Невеличка Рана На Тілі У Дитини': 'Бубка', \"Копчене М'ясо Свинини\": 'Буженина', 'Будити, Коптити': 'Бужєти', 'Ремінь Для Гоління': 'Букурія', 'Шкіряна Торба': 'Бурдюг', 'Напіврозвалена Халупа': 'Бухня', 'Головка Сиру': 'Буц', 'Паличка': 'Бучок', 'Зубний Лікар': 'Дантист', 'Поденні Роботи': 'Деньки', 'Слабкий': 'Дехірний', 'Делікатний': 'Дехірний', 'Подвійна Сопілка': 'Джоломіга', 'Цигарка': 'Дзигар', 'Клюв': 'Дзьоб', 'Розвиднюється': 'Дніє', 'Бандюга': 'Драбуга', 'Обдертий': 'Дрантивий', 'Подертий': 'Дрантивий', 'Дірявий': 'Дрантивий', 'Вівці': 'Дрібля', 'Кози': 'Дрібля', 'Дрюк': 'Друк', 'Дрючок': 'Друк', 'Майже': 'Єкмай', 'Яловий': 'Єловий', 'Гриб': 'Єшник', 'Жаліти': 'Жєлувати', 'Беручкий': 'Жєпавий', 'Міцний': 'Жєпавий', 'Живу': 'Жию', 'Жадібний': 'Жідний', 'Страхітливий': 'Жісний', 'Жувати': 'Жнікати', 'Пізно Вночі': 'Завлєги', 'Забавляти': 'Загутати', 'Забаритися': 'Загутатися', 'Поки': 'Заків', 'Причастя': 'Закін', 'Даром': 'За Простибі', 'Один За Одним': 'Зарідом', 'Завагітніти': 'Затяготіти', 'Зашити Локально': 'Зацирувати', 'Укол': 'Защик', 'Зіпсований': 'Збавлений', 'Дзбан': 'Збанок', 'Зустрілися': 'Здибалися', 'Підняти': 'Здоймити', 'Зметикувати': 'Змикитити', 'Домоткане Полотно': 'Зрібне Полотно', 'Зремонтувати': 'Зріхтувати', 'Схуднути': 'Зчеркнути', 'Втратити Вагу': 'Зчеркнути', 'Дземброня': 'Берестечко', 'Бистрець': 'Бистрец', 'Білоберізка': 'Білоберезка', 'Буковець': 'Буковец', 'Голошино': 'Голошина', 'Красник': 'Красний Луг', 'Рівня': 'Ривня', 'Черемошна': 'Ферескуля', 'Хороцево': 'Хороцова', 'Явірник': 'Шибене', 'Битків': 'Битков', 'Банилів': 'Банилив', 'Гвізд': 'Гвозд', 'Лісна Тарновиця': 'Гринів', 'Делятин': 'Дилєтин', 'Коритне': 'Велавче', 'Назавизів': 'Назавісов', 'Пнів': 'Пневе', 'Вашківці': 'Вишківці', 'Татарів': 'Таборів', 'Замостя': 'Замістя', 'Фітьків': 'Фітков', 'Нижні Луківці; Верхні Луківці': 'Лукавці', 'Мигове': 'Мігове', 'Залуччя': 'Залужжя', 'Кропивище': 'Кропивишє', 'Молодятин': \"Дем'янівка\", 'Слобода': 'Золотий Потік', 'Дихтинець': 'Діхтєниц', 'Акрешори': 'Бабинопілля', 'Підзахаричі': 'Захаріч', 'Конятин': 'Конєтин', 'Космач': 'Космачь', 'Мариничі': 'Маріничі', 'Пістинь': 'Пистинь', 'Селятин': 'Селєтин', 'Рибне': 'Рибно', 'Малий Рожин': 'Малий Рожень', 'Трач': 'Трачь', 'Уторопи': 'Вуторопи', 'Снідавка': 'Шнідавка', 'Цуцулин': 'Ганнівка', 'Середа': 'Середа', 'Субота': 'Субота', 'Кваси': 'Тісоборкут', 'Костилівка': 'Берлибаш', 'Луг': 'Лонка', 'Середнє Водяне': 'Середня Апша', 'Верхнє Водяне': 'Вишня Апша', 'Січень': 'Січєнь', 'Квітень': 'Цвітень', 'Серпень': 'Копень', 'Жовтень': 'Жоўтень', 'Грудень': 'Грудень', 'Перша': 'Першя', 'Друга': 'Друга', 'Третя': 'Трета', 'Четверта': 'Чітверта', \"П'ята\": \"П'єта\", 'Шоста': 'Шеста', 'Сьома': 'Сема', \"Дев'ята\": \"Див'єта\", 'Десята': 'Дисєта', 'Кирило': 'Кирило', 'Порфирій': 'Порфій', 'Власій': 'Уласій', 'Міліметр': 'Мілімитер', 'Сантиметр': 'Центимитир', '10 См': 'Децимитр', '100 См': 'Митер', '10 М': 'Декамитер', '100 М': 'Гектомитер', '10000 М': 'Міріамитер', '55-60 См': 'Крок', '70 См': 'Лікоть', '80 См': 'Міра', '20 См': \"П'єда\", '1,89 М': 'Сажень', '2,54 См': 'Цал', '10Х10 М': 'Сотик', '100 М2': 'Сотик', '100 Сотиків': 'Гектарь', '144 М2': 'Жердь', '0,56 Га': 'Морґ', '0,25 Га': 'Чвертка Ґрунту', '114 А': 'Фольча', '25-30 Кг': 'Бербениця', '25 Кг': 'Ґілетка', '10 Г': 'Дека', \"П'ятнадцять\": \"П'єтнаціть\", 'Сто': 'Сотка', 'Абетка': 'Абецадло', 'Алфавіт': 'Абецадло', 'Жити Будь-Де': 'Абиде', 'Аби Збутися': 'Абиєк', 'Як Небудь': 'Абиєк', 'Аби Був Час': 'Абиколи', 'Щоб Не Забути': 'Абих', 'Мати На Гадці': 'Абих', 'Будь-Де': 'Абоде', 'Відгомін Грому В Горах При Раптівці «Плові»': 'Абомовня', 'Випускник Навчального Закладу': 'Абсольвент', 'Проходити Навчання': 'Абсольвувати', 'Довідка Про Звільнення Від Служби': 'Абшит', 'Попередження': 'Авіза', 'Кінець Чомусь': 'Авс', 'Посвідчення Особи': 'Авсвайс', 'Австрійське': 'Австрийске', 'Водій': 'Автарь', 'Шофер': 'Автарь', 'Автолюбитель': 'Автарь', 'Автомобіль': 'Авто', 'Відразу Ж': 'Агзом', 'Маклюра': 'Адамове Єблуко', 'Адвентист': 'Адентист', 'Бач': \"Ади' Ди\", 'Дивись-Но': \"Ади' Ди\", 'Ну Й Маєш': \"Ади' Ди\", 'Бо Зна Чому': \"Ади' Ди\", 'Адміністративний': 'Адміністрацийний', 'Адреса': 'Адрис', 'О': 'Адьи', 'Он': 'Адьи', 'Підтвердження': 'Аєкже', 'Підсилення Думки': 'Аєкже', 'Але': 'Айбо', 'Егеж': 'Айно', 'Так, Так': 'Айно', 'Акароз': 'Акарапідоз', 'Акафіст': 'Акафист', 'Клин': 'Алтиця', 'Албанський': 'Альбанський', 'Главберова Сіль': 'Альбанцка', 'Саме': 'Акурат', 'Або': 'Альбо', 'Ґвалт': 'Алярм', 'Паніка': 'Алярм', 'Відкрите Взуття': 'Ляски', 'Сандалі': 'Ляски', 'Оман Високий': 'Аман', 'Мить': 'Амент', 'Покарання Підвішуванням': 'Анбінда', 'Ангел': 'Ангіль', 'Інженери-Землеміри': 'Анджіміри', 'Андріївський Вечір': 'Андріївскєй', 'Дружина Андрія': 'Андріїха', 'Вафля': 'Андрут', 'Клин Рукава Сорочки': 'Антиці', 'Чорнило': 'Антрамент', 'Ого': 'Антьиресно', 'Безбожник': 'Анцихрист', 'Чоловічий Костюм': 'Анцуґ', \"Об'яви\": 'Анцуґ', 'Апендицит': 'Апиндиціт', 'Непослушна Дитина': 'Апруд', 'Аптека': 'Аптика', 'Аптечні': 'Аптичьні', 'Арифметика': 'Арихметика', 'Пожива І Прибори': 'Арнарія', 'Артилерист': 'Артілєрист', 'Працівник Архіву': 'Архивист', 'Архівар': 'Архивист', 'Архітектор': 'Архитект', 'Природна Мінеральна Вода': 'Аршиця', 'Узяти На Службу До Війська': 'Асентерувати', 'Призваний До Війська': 'Асентерований', 'Призов До Війська': 'Асентерунок', 'Здається, Що': \"Ась'ик\", 'Перепустка': 'Аусвайс', 'Австрійський': 'Аўстріяцкий', 'Акт': 'Ахт', 'А Може': 'Ачей', 'Аж': 'Аш', 'Стара Жінка': 'Баба', 'Знахарка': 'Баба', 'Бабник': \"Баб'ак\", 'Бабяр': \"Баб'ак\", 'Чоловік Легкої Поведінки': \"Баб'ак\", 'Бабський': 'Бабинцкий', 'Подорожник Великий': 'Бабка', 'Вид Кольорових Бавовняних Ниток Для Вишивання': 'Бавена', 'Нитки Для Вишивання': 'Бавинка', 'Десь Довго Затримуватися': 'Бавитисі', 'Забаганка': 'Бага', 'Дяк Співає В Церкві': 'Багакає', 'Погано Співати': \"Баг'акати\", 'Болотисте Місце': 'Багна', 'Колій': 'Багнет', 'Багно Болотяне': 'Багнєнка', 'Бажаю': 'Багну', 'Прагну': 'Багну', 'Хочу': 'Багну', 'Дуже Чогось Хотіти': 'Багнути', 'Віл Сірої Масті': 'Багрій', 'Частина Колеса Фіри': 'Багро', 'Багаж': 'Баґажя', 'Медичний Огляд': 'Бадати', 'Старий Чоловік': 'Бадьо', 'Мета': 'Бажанє', 'Висловлювання': 'Бай', 'Бал': 'Бай', 'Вечірка': 'Бай', 'Бенкет': 'Бай', 'Лікувати Немедичними Засобами': 'Байбірничити', 'Байдуже': 'Байдужно', 'Апатно': 'Байдужно', 'Казка': 'Байка', 'Небилиця': 'Байка', 'Небеличка': 'Байочка', 'Оповідка': 'Байочка', 'Позашлюбний Син': 'Байстир', 'Нагуляна Дитина': 'Байстрє', 'Байстрючка': 'Байстриця', 'Нешлюбна Дочка': 'Байстриця', 'Випасати Овець': 'Байтарити', 'Вівчарити': 'Байтарити', 'Розтринькування': 'Байфус', 'Келех': 'Бакал', 'Випуклий': 'Бакалистий', 'Опуклий': 'Бакалистий', 'Черевики З Грубої Шкіри': 'Баканчі', 'Азартна Гра В Карти': 'Бакара', 'Картярі': 'Бакарі', 'Любителі Азартної Гри В Карти': 'Бакарі', 'Верхній Одяг З Домотканого Сукна': 'Бакаш', 'Задуми': 'Бакє', 'Перстач Прямостоячий': 'Балабан', 'Великосортна Квасоля': 'Балабані', 'Хліб Середнього Розміру': 'Балабух', 'Спілкується': 'Балакаї', 'Балакання': 'Балаканка', 'Приглушений Звук': 'Баламбати', 'Балачка': 'Балачька', 'Важка Сокира': 'Балта', 'Тупа Сокира': 'Балта', 'Балкон': 'Балькон', \"Гумовий Або Шкіряний М'яч\": 'Бальон', 'Бенкетувати': 'Балювати', 'Віршований Твір': 'Баляда', 'Ліжко-Диван': 'Бамбетиль', 'Малий Тапчан': 'Бамбетлик', 'Чародій': 'Бамбірь', 'Група Озброєних Злочинців': 'Банда', 'Бригада Музикантів': 'Банда', 'Гурт Музикантів': 'Банда', \"Бинтова Пов'язка\": 'Бандаж', \"Робити Пов'язку На Рану\": 'Бандажувати', \"Накладати Пов'язку На Рану\": 'Бандажувати', 'Дурниці': 'Бандиґі', 'Нісенітниці': 'Бандиґі', 'Панський Охоронець': 'Бандур', 'Залізний Казан': 'Банєк', 'Каструля Для Приготування Їжі': 'Банєк', 'Важка Широка Сокира': 'Банєнка', 'Шкода За Кимось': 'Банно', 'Тужно Від Банувати': 'Банно', 'Сумувати За Кимось': \"Банув'ати\", 'Банош': 'Банужец', 'Каструля': 'Баньик', 'Зайшлий Чужий Чоловік': 'Бараба', 'Гульвіса': 'Бараба', 'Пустий Чоловік': 'Бараба', 'Безробітний': 'Бараба Фірасовий', 'Картопляне Пюре': 'Барабуля-Колочєнка', 'Гарнір З Картоплі': 'Барабуля-Колочєнка', 'Гичка Картоплі': 'Барабулєнка', 'Картоплиння': 'Барабулєнка', 'Дерун': 'Барабуліник', 'Картопляник': 'Барабуліник', 'Печений Картопляний Корж': 'Барабуліник', 'Картопелька': 'Барабулька', 'Баран': 'Баран', 'Пастух Баранів': 'Баранарь', 'Баранячий': 'Баранєчій', 'Нові Та Вживані Речі': 'Барахло', 'Грубіян': 'Барило', 'Баритися': 'Баритися', 'Затримуватися': 'Баритися', 'Спізнюватися': 'Баритися', 'Віддяка': 'Баришівне', 'Посередник': 'Баришівник', 'Баришник': 'Баришівник', 'Брати За Груди': 'Барки', 'Хапати За Груди': 'Барки', 'Батарейка': 'Батерія', 'Батарея': 'Батерія', 'Ліхтарик На Батарейках': 'Батерлямпа', 'Сміливий Хлопець': 'Батєр', 'Волоцюга': 'Батір', 'Цикорій Дикий': 'Батоги Петрові', 'Жителька Низини': 'Батьчінка', 'Бешкетник': 'Бахур', 'Простий Хлопчина': 'Бахурє', 'Підростки': 'Бахурня', 'Дитина': 'Бахурчік', 'Хлопець-Бешкетник': 'Бахурчік', 'Збитошник': 'Бахурчік', 'Пустотливий': 'Бахурчік', 'Син Матері-Одиначки': 'Бахурь', 'Шия': 'Бачки', 'Висока Стара Смерека': 'Башта', 'Старий Смерековий Ліс': 'Баштанник', 'Заокруглений': 'Бганий', 'Зігнутий': 'Бганий', 'Гнути': \"Бг'ати\", 'Згинати': \"Бг'ати\", 'Складати': \"Бг'ати\", 'Згинатися': 'Бгатиси', 'Корчитися': 'Бгатиси', 'Великий Живіт': 'Бебех', 'Внутрішні Органи': 'Бебехи', 'Мекати': 'Бегече', 'Кляття': 'Бегме', 'Бездітна': 'Безґітна', 'Безпліддя': 'Безґітність', 'Безплідна': 'Бездітниці', 'Дотримувати Слова': 'Безпечити', 'Запевнити В Чомусь': 'Безпечіти', 'Розумово Відстала Людина': 'Бейла', 'Ревіти': 'Бексати', 'Ревти': 'Бексати', 'Базікати': 'Белендіти', 'Говорити Нісенітниці': 'Белендіти', 'Бурмотіти': 'Белькотіти', 'Вершина Чорногори': 'Бербенескул', 'Купа Колод': 'Бервення', 'Барвінкове Листя': 'Берви', 'Барвінок Малий': 'Бервінок', 'Пропасть': \"Б'ердо\", 'Стрімкий Схил Гори': \"Б'ердо\", 'Урвище': \"Б'ердо\", 'Березівський': 'Березівський', 'Туберкульоз Легенів': 'Беркульоз Легків', 'Берліг': 'Берліх', 'Без': 'Бес', 'Мовлення': 'Бесідуванє', 'Вистрелив': 'Бехнув', 'Сильно Вдарив': 'Бехнув', 'Упав, Вдарившись': 'Бехнувси', 'Побити': 'Бехів Дати', 'Буксирувати': 'Бечувати', 'Сприяти': 'Бечувати Си', 'Бешиха': 'Бешиґа', 'Крутій': 'Бештифрант', 'Нещаслива Людина': 'Бешьесна', 'Скривджена Людина': 'Бешьесна', 'Падає Град': \"Б'є Град\", 'Градобій': \"Б'є Град\", 'Біб': 'Биб', 'Жили Бика': 'Биківці', 'Бичачі Жили': 'Биківці', \"Дерев'яна Дощечка\": 'Било', 'Кольорова Стрічка': 'Бинда', 'Кольорова Стрічечка': 'Биндочка', 'Грубий Ковбан': 'Бирня', 'Більш': 'Бирше', 'Непокоїтися': 'Бицкатиси', 'Різьблена Паличка-Бичик': 'Бичик', 'Лаврові Листки': 'Бібки', 'Ларові Листки': 'Бібкове Листі', 'Лавровий': 'Бібковий', 'Бібліотека': 'Бібльотика', 'Книгозбірня': 'Бібльотика', 'Бог': 'Біг', 'Парувалася': 'Бігаласи', 'Бог Святий': 'Біг Сітенький', 'Відгониста, Неприваблива Людина': 'Біданка', 'Бідак': 'Бідар', 'Не Везуча': 'Бідашина', 'Не Щаслива': 'Бідашина', 'Бідняга': 'Бідка', 'Бідолашний': 'Бідка', 'Бідність': 'Бідовані', 'Скрута': 'Бідовані', 'Впевнено': 'Бізивно', 'Надійно': 'Бізивно', 'Здатний': 'Бізівний', 'Можливо': 'Бізівно', 'Побілка': 'Білені', 'Білява': 'Білєва', 'Квиток': 'Білєт', 'Білки': 'Білиці', 'Біла Корова': \"Білов'ана\", 'Білорус': 'Білорусин', 'Більшає': 'Більшіє', 'Збільшується': 'Більшіє', 'Продовжується': 'Більшіє', 'Могутній': 'Біровитий', 'Більшості': 'Біршості', 'Велика': 'Бірьшя', 'Дурнуватий': 'Благуватий', 'Недоумкуватий': 'Благуватий', 'Теревенити': 'Бластамутити', 'Висипка На Тілі': \"Бл'енда\", 'Бляха': 'Блєха', 'Листове Залізо': 'Блєха', 'Металеві': 'Блєхові', 'Наблизити': 'Ближити', 'Приблизити': 'Ближити', 'Близиться': 'Ближитци', 'Наближається': 'Ближитци', 'Двійнята': 'Близнєта', 'Сестри-Близнята': 'Близниці', 'Близнята': 'Близньита', 'Поблизу': 'Блиско', 'Блоха': 'Блиха', 'Ближче': 'Блишше', 'Недалеко': 'Блишше', 'Блистить': 'Блищітси', 'Блискучий': 'Блищьичій', 'Бляшаний': 'Бліховий', 'Пломба': 'Бломба', 'Блукання': 'Блуд', 'Манило': 'Блуд', 'Бюлетень': 'Бльотчик', 'Піджак': 'Блюза', 'Кофта': 'Блюзка', 'Блузка': 'Блюзка', 'Верх Стола, Зробленого В Домашніх Умовах': 'Блят', 'Буда Купецка': 'Бовта', 'Ополонка': 'Бовч', 'Багатство': 'Богацтво', 'Багачі': 'Богачьи', 'Багатії': 'Богачьи', 'Боже Благословення': 'Боже Благословеніє', 'Пестливе Називання Божки': 'Бозя', 'Боїться': 'Боїтси', 'Лякається': 'Боїтси', 'Боїшся': 'Боїчисі', 'Боюся': 'Боїчисі', 'Боки': 'Бокє', 'Слабість': 'Бола', 'Вуж': 'Болож', 'Болотяний': 'Болотіний', 'Хворіють': 'Больи', 'Більшовик': 'Большевик', 'Ворожити': 'Бомборосити', 'Боротьба': 'Борба', 'Борня': 'Борба', 'Бій': 'Борба', 'Скоріше': 'Борше', 'Насилювати': \"Борс'ати\", 'Порохнявий': \"Борт'авий\", 'Непідкований Кінь': 'Босак', 'Велика Кількість Тварин': 'Бота', 'Стадо Овець': 'Ботей', 'Бочка': 'Бочівка', 'Пісний День': 'Бошка', 'Сортувати': \"Браков'ати\", 'Мобілізація': 'Бранка', 'Дочка Брата': 'Братанка', 'Племінниця': 'Братанка', 'Братство': 'Брацтво', 'Намоклий': \"Бр'есклий\", 'Промоклий': \"Бр'есклий\", 'Сирий': \"Бр'есклий\", 'Перестояний': \"Бр'инявий\", 'Бризкати': 'Бицкати', 'Бритва Для Гоління': 'Брич', 'Великий Ніж': 'Брич', 'Бриття': 'Бричінє', 'Гоління': 'Бричінє', 'Портмане': 'Бріфташка', 'Бруси': 'Брусє', 'Забобони': 'Бубони', 'Круглолиций': 'Бубуцатий', 'Повновидий': 'Бубуцатий', 'Будапешт': 'Будапест', 'Буде Чи Ні?': 'Буде Ци Ні?', 'Бюджет': 'Буджет', \"В'ялити\": 'Будити', 'Коптити': 'Будити', 'Невеличка Хатинка': 'Будівця', 'Завтрашнє': 'Будуччіна', 'Стара Хата': \"Буждиґ'арня\", 'Буженина': 'Бужениця', 'Бухарест': 'Букарешт', 'Звій Тканини': 'Буката', 'Буковинська Сторона': 'Буковинцка', 'Буковинський': 'Буковинцкий', 'Гуля': 'Бульфа', 'Пухир На Тілі Людини': 'Бульфа', 'Говорити З Собою': 'Бумборосити', 'Бункір': 'Бункер', 'Бідна Хата': \"Бурд'ей\", 'Бордель': 'Бурдей', 'Змагатися': 'Бурикатиси', 'Сильно Плакати': 'Бутіти', 'Бутель': 'Бутля', 'Довга Колода': 'Бутук', 'Існувати': 'Бутьи', 'Бухгалтер': 'Бухгальтер', \"Б'ються\": 'Буцкаютси', 'Є': 'Буют', 'Бувають': 'Буют', 'Гостюють': 'Буют', 'Наідуються': 'Буют', \"Б'ють\": \"Б'ют\", 'Ваґатися': 'Вагувати Си', 'Тягарець': 'Важка', 'Вазелін': 'Вазелінка', 'Ой, Ой Біда': \"Вайль'о\", 'Вапно': 'Вакно', 'Евакуйована': 'Вакована', 'Виведена': 'Вакована', 'Дармувати Час': 'Валансатиси', 'Валяється': 'Валєєтси', 'Лежить Розкидано': 'Валєєтси', 'Забруднюватися': 'Валєтиси', 'Вируб': 'Валка', 'Жолоб': \"В'алуб\", 'Чистити Коня': \"Валь'ити\", 'Мандри': 'Вандри', 'Туристичні Походи': 'Вандри', 'Узвар': 'Вар', 'Слабий': 'Варивкий', 'Хворобливий': 'Варивкий', 'Ополоник': 'Варишка', 'Черпак Для Набирання Страв': 'Варишка', 'Пудний': \"Варівн'ий\", 'Лячний': \"Варівн'ий\", 'Слабовитий': 'Варкий', 'Небезпечно': 'Варко', 'Вартівник': 'Варташ', 'Сперечатися': 'Варуватися', 'Страви': 'Варя', 'Норовистий Кінь': 'Варят', 'Сильний Кінь': 'Варят', 'Одвірок': \"Варц'аби\", 'Підвіконня': \"Варц'аби\", 'Рівень': 'Васервага', 'Дружина Василя': 'Василиха', 'Багаття': 'Ватра', 'Однорічна Коза': \"Ват'уйка\", 'Віяло': 'Вахляр', 'Обертати': 'Вбиртати', 'Перевертати': 'Вбиртати', 'Взуття': 'Вбова', 'Вид Давнього Взуття': 'Вбованки', 'Обох': 'Вбоє', 'Обоє': 'Вбоє', 'Одіти': 'Вбрати', 'Одягти': 'Вбрати', 'В Очах': 'Ввічю', 'Перед Очима': 'Ввічю', 'Встигнути': 'Вглюзати', 'Сподобавси': 'Вдавси', 'Схожий Вродою': 'Вдався', 'Не Такий': 'Вдався', 'Не Вдався': 'Вдався', 'Сподобається': 'Вдасци', 'Удовець': 'Вдовец', 'Хвалити': 'Вельбити', 'Метнувся': 'Верг', 'Не Знати': 'Вере', 'Чи Так Таки': 'Вере', 'Гарна Погода': 'Веремнє', 'Вергти': \"Вер'ечи\", 'Кине': 'Верже', 'Домотканий Хідник': 'Верітка', 'Стара Доріжка': 'Верітка', 'Вернеться': 'Вернетси', 'Повернеться': 'Вернетси', 'Вернуся': 'Вернуси', 'Прийду': 'Вернуси', 'Повернуся': 'Вернуси', 'Однокласники': 'Верства', 'Ровесники': 'Верства', 'Ровесниця': 'Верствачька', 'Вертоліт': 'Вертольот', 'Вірш': 'Вершик', 'Віршик': 'Вершик', 'Верх': 'Верьх', 'Верх Чогось': 'Верьх', 'Верховинський Край': 'Верьховина', 'Веселка': 'Веселиці', 'Весільні Гості': 'Весівні', 'Висип На Обличчі': 'Веснівки', 'Вечеряти': 'Вечеріти', 'Вечорниці': 'Вечірниці', 'Вечірнє Богослужіння': 'Вечірня', 'Вечірні Забави': 'Вечорниці', 'Звиває': \"В'є\", 'Випросити Або Дістати Щось': 'Вжебрати', 'Вкрасти': 'Вжулити', 'Вжати': 'Вжьити', 'Зір': 'Взір', 'Збір Нектару Бджолами': 'Взяток', 'Виховати': 'Вибавити', 'Викотитися': 'Вивалитиси', 'Розлягтися': 'Вивалитиси', 'Гарно Вдягнутися': 'Вивбиратиси', 'Повалене Вітром Дерево': 'Виверниця', 'Уникати': 'Вивилєтиси', 'Уникнути': 'Вивилєтиси', 'Ухилятися': 'Вивилєтиси', 'Обряд Виводу Поліжниці': 'Вивид', 'Обдаровані': 'Вивінувані', 'Вимирає': 'Вигибає', 'Вигинути': 'Вигибати', 'Вимерти': 'Вигибати', 'Виглядає': 'Виглєдати', 'Випросити': 'Вигулити', 'Вициганити': 'Вигулити', 'Від': 'Вид', 'Відбигати': 'Видберати', 'Відбирати': 'Видбирати', \"Зм'якшити\": 'Видволодити', 'Відволожити': 'Видволодити', 'Освіжити Вологою': 'Видволодити', 'Виделка': 'Видельці', 'Винен': 'Виден', 'Бачать': 'Видє', 'Спротивилися': 'Видкинулиси', 'Стали Не До Вподоби': 'Видкинулиси', 'Мабуть Так': 'Видко', 'Видовище': 'Видовишшє', 'Провідати': 'Видознати', 'Відіграти': 'Видойграти', 'Хрещення Ісуса Христа': 'Видорші', 'Відразу': 'Видразу', 'З Першого Разу': 'Видразу', 'Відро': 'Видро', 'З Того Кутка': 'Видтив', 'Видужати': 'Видужєти', 'Набратися Сил': 'Видужєти', 'Одужати': 'Видужєти', 'Дуріти': 'Видурюватися', 'Настає Погода': 'Виєснилоси', 'Вияснити': 'Виєснити', 'Випрати': 'Вижмакати', 'Попрати Білизну': 'Вижмакати', 'Визбирати': 'Визберати', 'Позичити': 'Визичювати', 'Взяти Позику': 'Визичювати', 'Стало Світло': 'Виїснилоси', 'Розпусниця': 'Вийгра', 'Дуже Подібний': 'Викапаний', 'Витягнути': 'Викєгнути', 'Вічко': 'Виконце', 'Вікно': 'Викно', 'Щелепа': 'Вилица', 'Видаток': \"В'иліг\", 'Вилазить': 'Вилізає', 'Привід': 'Вимівка', 'Він': 'Вин', 'Солодкокислий': 'Винний', 'Виноград': 'Вино', 'Прочуханка': 'Випанаха', 'Аґрис': 'Виприни', 'Витріщатися': 'Випулєтиси', 'Порадитися': 'Вирадитиси', 'Звільнити Від Школи': 'Вирікєлємувати', 'Вирівнювати': 'Вирівнаїтци', 'Вирівняти': 'Вирівнаїтци', 'Зрівняти': 'Вирівнаїтци', 'Виряджають': 'Виріжєют', 'Відпраляють': 'Виріжєют', 'Вироблялися': 'Вироблєлисе', 'Постоли': \"Виробяк'и\", 'Вилітати Роєм': 'Вироювати Си', 'Випробувати': 'Висамувати', 'Виливати': 'Висипати', 'Висиплятися': \"Висип'єти Си\", 'Вишморгати': 'Висікати Си', 'Шморгати': 'Висікати Си', 'Осел': 'Вислюк', 'Віслюк': 'Вислюк', 'Ішак': 'Вислюк', 'Ослюк': 'Вислюк', 'Вистигнути': 'Вистивати', 'Проїсне': 'Вистравне', 'Вітаємо': 'Витаємо', 'Вітаю': 'Витати', 'Здоровлю': 'Витати', 'Поздоровляю': 'Витати', 'Відсьогодні': 'Виттепер', 'Віднині': 'Виттепер', 'Нужник': 'Виходок', 'Потребник': 'Виходок', 'Вихоплюється': \"Вихоп'єєтси\", 'З Цього Місця': 'Вици', 'Завернути Назад': 'Вицофати', 'Вибратися': 'Вицофатися', 'Вечірнє Молоко': 'Вичирішни', 'Вечірнє Сонце': 'Вичирішни', 'Чудеса': 'Вичуди', 'Вишкіритися': 'Вишкіритиси', 'Вишнева Наливка': 'Вишнєк', 'Вишняк': 'Вишнєк', 'Рівно Обтесаний': 'Вишпарований', 'Вищипати': 'Вищіпати', 'Розхитати': 'Виюрґати', 'Розтелепати': 'Виюрґати', 'Ставити Високі Вимоги': 'Вібагати', 'Вибачай': 'Вібачєй', 'Пробач': 'Вібачєй', 'Вибіг': 'Вібіг', 'Зігнуте Смерекове Гілля': 'Віблі', 'Кругло Обтесаний Пень': \"Вібль'ик\", 'Вибір': 'Вібор', 'Поважно': \"В'івагом\", 'Віл': 'Вів', 'Евакуювати': 'Віваковувати', 'Евакуюватися': 'Віваковуватисі', 'Не Приховувати Статеві Органи': 'Вівалити', 'Виведу': 'Вівиду', 'Вивів': 'Вівів', 'Вівсянка': 'Вівсєнка', 'Посіви Вівса': 'Вівсєнка', 'Вівсяна Крупа': 'Вівсєнка', 'Вівсяна Каша': 'Вівсьинка', 'Вівчарі': 'Вівчірьи', 'Пастухи Овець': 'Вівчірьи', 'Вигадати': 'Вігадати', 'Виганяти': 'Віганьити', 'Вигідне': 'Вігідне', 'Вигнати': 'Вігнати', 'Відпостити': 'Віговіти', 'Дотриматися Посту': 'Віговіти', 'Виговорюватися': 'Віговорюватисі', 'Сприятливі Умови': 'Вігода', 'Вигодувати': 'Вігодувати', 'Вигравати': 'Вігравати', 'Скоро Вирости': 'Вігудіти', 'Новина': 'Віда', 'Вийшла Заміж': 'Віддаласі', 'Заміжжя': 'Відданнячко', 'Шлюб': 'Відданнячко', 'Вийти Заміш': 'Віддатисі', 'Відпові\\xadДальний': 'Відвічальний', 'Відповідальність': 'Відвічальність', 'Воднистий Сніг': 'Відволодь', 'Виголошувати': 'Відгалакувати', 'Відспівати': 'Відгалакувати', 'Відганяти': 'Відганьити', 'Відгонити': 'Відганьити', 'Тяжко Відпрацювати': 'Відгарувати', 'Виконувати Важкі Роботи': 'Відгарувати', 'Віддячити': 'Віддєчітиси', 'Віддякувати': 'Віддєчітиси', \"Від'їжджати\": \"Від'їжджьити\", 'Вибувати': \"Від'їжджьити\", 'Відмовитися': 'Відказатисі', 'Відбуксирувати': 'Відкигнути', 'Звідкіля': 'Відків', 'Звідки Небуть': 'Відків Годь', 'Відколядувати': 'Відколідувати', 'Закінчити Колядувати': 'Відколідувати', 'Відлежати': 'Відлежіти', 'Відлежатися': 'Відлежітисі', 'Від\\xadЛомити': \"Відлом'ювати\", 'Відлупцювати': 'Відлупити', 'Сильно Побити': 'Відлупити', 'Відлюдник': 'Відлюдіник', 'Випрошуватися': 'Відмолюватисі', 'Відморожен\\xadНя': 'Відмороженє', 'Відшукали': 'Віднайти', 'Зна\\xadЙшли': 'Віднайти', 'Спеціально Викладене Місце Під Складання Сіна Або Снопів': 'Віднище', 'Подині': 'Віднище', \"Відіб'ється\": \"Відоб'єси\", 'Негативно Позначитися': \"Відоб'єси\", 'Відкликати Документи': 'Відозвати', 'До\\xadВідатись': 'Відознати', 'Поливаю\\xadЧи Холодною Водою, Привести До Тями Людину, Яка Впала В Обмарок': 'Відолльити', 'Хрещення Ісу\\xadСа Христа': 'Відорші', 'Освітлений Сонцем Схил Гори': 'Відосовня', 'Проспати': 'Відоспати', 'Добре Виспатися': 'Відоспатисі', 'Відссати': 'Відосцати', 'Відмов\\xadЛятися': 'Відператисі', 'Оплакати': 'Відплакати', 'Відповідає': 'Відповідаї', 'Від\\xadПроважати': 'Відпроважьити', 'Провести': 'Відпроважьити', 'Прощення Гріхів': 'Відпушінє', 'З Самого Ранку': 'Відраня', 'Відрек\\xadТися': 'Відрікатиси', 'Відмовлятися': 'Відрікатиси', 'Від\\xadГодуватися': 'Відтановитиси', 'Відпочити Після Перевтомлення': 'Відтановитиси', 'Відтоді': 'Відтогди', 'З Тих Пір': 'Відтогди', 'З Того Часу': 'Відтогди', 'Залишений В Спадок': 'Відумерлий', 'Успадкований': 'Відумерлий', 'Залишити В Спадок': 'Відумерти', 'Відхлебту\\xadВати': 'Відхлипнути', 'Дуже Довго Прагнути Чогось': 'Віжідатисі', 'Передбачати': 'Віжлувати', 'Прогнозувати': 'Віжлувати', 'Випрати Білизну': 'Віжмакати', 'Пожмакати': 'Віжмакати', 'Попрати': 'Віжмакати', 'Краватка': 'Візерований Фостик', 'Взнати': 'Візнати', 'Будз': 'Вікад', 'Вигово\\xadРити': 'Віказати', 'Виговорю': 'Вікажу', 'Викажу': 'Вікажу', 'Скажу': 'Вікажу', 'Сухий Сир': \"Вік'ар\", 'Кришка Труни': 'Віко', 'Викоренити': 'Вікоренити', 'Висмикати': 'Вікоренити', 'Викорінювати': 'Вікорінювати', 'До\\xadГлянути': 'Вікохати', 'Вилетів': 'Вілетів', 'Виліз': 'Віліз', 'Вилітали': 'Вілітали', 'Вилікування': 'Вілічінє', 'Виздо\\xadРовлення': 'Вілічінє', 'Вилікувати': 'Вілічіти', 'Вилікува\\xadТися': 'Вілічітиси', 'Величезна Хата': 'Вілія', 'Осо\\xadБняк': 'Вілія', 'Багатська Будова': 'Вілія', 'Молодий Віль\\xadХовий Ліс': 'Вільшинє', 'Виривати': 'Вімикати', 'Вимітати': 'Вімітати', 'Заміта\\xadТи': 'Вімітати', 'Підмітати': 'Вімітати', 'Ліфт': 'Вінда', 'Придане': 'Віно', 'Вінчатися': 'Вінчєтиси', 'Одружуватися': 'Вінчєтиси', 'Віншувати': 'Вінчувати', 'Взяти В Оренду': 'Віорендувати', 'Орендувати': 'Віорендувати', 'Випадає': 'Віпадайи', 'Не Виходить': 'Віпадайи', 'Нема Можливості': 'Віпадайи', 'Не Складається': 'Віпадайи', 'Випасати': 'Віпасати', 'Запитувати': 'Віпитувати', 'Здійснилося': \"Віп'овчовало Си\", 'Збулося': \"Віп'овчовало Си\", 'Ввести В Практику': 'Віпрехтикувати', 'Спрактикувати': 'Віпрехтикувати', 'Випустити': 'Віпустити', 'Упустити Щось З Рук': 'Віпустити', 'Кінь Нечище\\xadНий': 'Вір', 'Виро\\xadБляти': 'Вірабльити', 'Виготовляти': 'Вірабльити', 'Вирвати': 'Вірвати', 'Відремонту\\xadВати': 'Віріхтувати', 'Добудувати': 'Віріхтувати', 'Виготовляли': 'Віробєли', 'Випускали': 'Віробєли', 'Виробляли': 'Віробєли', 'Висадити': 'Вісадити', 'Ви\\xadНосити': 'Вісипувати', 'Висипати': 'Вісипувати', 'Виссати': 'Віссати', 'Вісті': 'Вісти', 'Новини': 'Вісти', 'Повідо\\xadМлення': 'Вісти', 'Висе\\xadЛити З Помешкання': 'Вісукати', 'Виступ': 'Віступ', 'Гірша': 'Вітліша', 'Квола': 'Вітліша', 'Провітрювання': 'Вітренє', 'Осві\\xadЖення': 'Вітренє', 'Витручува\\xadТи': 'Вітручювати', 'Виштовхувати': 'Вітручювати', 'Тручєти': 'Вітручювати', 'Висохнути': 'Вітрьихнути', 'Підсохнути': 'Вітрьихнути', 'Підсушитися': 'Вітрьихнути', 'Батьківщина': 'Вітчєна', 'Вітчизна': 'Вітчєна', 'Вітчим': 'Вітчьим', 'Нерідний Батько': 'Вітчьим', 'Вчити': 'Віучювати', 'Вивчитися': \"Віучитис'е\", 'Здобути Освіту': \"Віучитис'е\", 'Вихвалити': 'Віфалити', 'Вихваляти': 'Віфалити', 'Вифлеєм': 'Віфлеєм', 'Виловити': 'Віхапати', 'Розлити': 'Віхльопати', 'Виховання': 'Віхованє', 'Виходять': 'Віходют', 'Харчувати': 'Віхтувати', 'Вичитати': 'Вічєтати', 'Вічне': 'Вічьне', 'Вишивання': 'Вішивані', 'Вишиванка': 'Вішиванка', 'Вишитий': 'Вішитий', 'Вигадувати': 'Відштудеровувати', 'Видумувати': 'Відштудеровувати', 'Пропонувати Винаходи': 'Відштудеровувати', 'Шліфувати Свою Майстерність': 'Відштудеровувати', 'Віщун': 'Вішшюн', 'Провидець': 'Вішшюн', 'Ясновидець': 'Вішшюн', 'Передбачливий': 'Віщий', 'Зурочення': \"В'їд\", 'Наврочити': \"В'їд\", 'Набридло': 'Вкимилосі', 'Надоїло': 'Вкимилосі', 'Надокучило': 'Вкимилосі', 'Димарь': 'Вкурач', 'Обкурювач': 'Вкурач', 'Вміщається': 'Влазєєси', 'Заходить': 'Влазєєси', 'Проїзджає': 'Влазєєси', 'Влежатися': 'Влежітисі', 'Сплюснутися': 'Влежітисі', 'Ущільнитися': 'Влежітисі', 'Вліті': 'Влікі', 'Уліті': 'Влікі', 'Кукуци': 'Вогники', 'Водичка': 'Водица', 'Водяний': 'Водіний', 'Судовий Виконавець': 'Возний', 'Армія': 'Войсько', 'Вощина': 'Вокшіна', 'Дрож': 'Володи', 'Шнурки В Постолах': 'Волокі', 'Волосся': 'Волоссє', 'Смердить': 'Вонит', 'Довго Щось Робити': 'Вонити', 'Брудна Людина': 'Вонючка', 'Нечистоплотна Людина': 'Вонючка', 'Горобчик': 'Воробчьик', 'Завзятий Ворог': 'Ворог-Пізмашь', 'Літак': 'Вороплян', 'Брама': 'Воротє', 'Ворота': 'Воротє', 'Міра Дров': 'Ворох', 'Військо': 'Восько', 'Вологий': 'Вохкий', 'Вологість': 'Вохкість', 'В Основному': 'Впереваж', 'Здебільшого': 'Впереваж', 'Переважно': 'Впереваж', 'Вперед': 'Вперід', 'Уперед': 'Вперід', 'Розказувати': 'Вповідати', 'В Обідню Пору': 'Вполудне', 'Опівдні': 'Вполудне', 'Враження': 'Вражіння', 'Почуття': 'Вражіння', 'Лихий Погляд': 'Вроки', 'Всяке': 'Всєке', 'Усяке': 'Всєке', 'Різне': 'Всєке', 'Всю': 'Всу', 'Усю': 'Всу', 'Рушник': 'Втераник', 'Залишки Ватри': 'Вуглі', 'Розпочати Будівництво Хати': \"В'їзати\", 'Уректи': \"В'їсти\", 'Знервувати Когось': \"В'їстиси\", 'Старший Чоловік': 'Вуйко', 'Вулиця': 'Вулица', 'Дорога': 'Вулица', 'Вошка': 'Вуша', 'Воша': 'Вушя', 'Усміхатися': 'Вцірєтиси', 'Вчаться': 'Вчєси', 'Навчаються': 'Вчєси', 'Учителька': 'Вчєтилька', 'Освітянка': 'Вчєтилька', 'Почують': 'Вчюют', 'Застебнутися': 'Вшінькатися', 'Закінчено Шиття': 'Вшито', 'Пошито': 'Вшито', 'Вщент': 'Вшкремітки', 'Дощенту': 'Вшкремітки', 'Вшахрувати': 'Вшукати', 'Обдурити': 'Вшукати', 'Обрахувати': 'Вшукати', 'Пінисті Хвилі На Річці': 'Габа', 'Хвиля На Воді': \"Габ'а\", 'Жди': 'Габов', 'Чекай': 'Габов', 'Зупинка Спуску Дерева По Ризах': 'Габувати', 'Нівечить': 'Габучьит', 'Підважує': 'Габучьит', 'Велика Яма': 'Гавора', 'Вирва': 'Гавора', 'Був Упевнений': 'Гадав Сми', 'Думав': 'Гадав Сми', 'Надіявся': 'Гадав Сми', 'Гадюки': 'Гадє', 'Молода Смерека': \"Гадж'уґа\", 'Молода Ялиця': 'Гаджючка', 'Гадаю': 'Гадкую', 'Думаю': 'Гадкую', 'Міркую': 'Гадкую', 'Розмірковую': 'Гадкую', 'Лісовий Сторож': 'Гаєвий', 'Побережник': 'Гаєвий', 'Господарка': 'Газдіўство', 'Гайдамака': 'Гайда', 'Палка Для Побиття За Провину': 'Гайдарага', 'Слуга В Пана': 'Гайдук', 'Лігво': 'Гайно', 'Лігвище': 'Гайно', 'Леговище Ведмедя': 'Гайно', 'Без Перерви': \"Гайт'аж\", 'Безупину': \"Гайт'аж\", 'Полювання': \"Гайт'ови\", 'Полювати': \"Гайтов'ати\", 'Довго Трудитися': 'Гайтувати', 'Собачий Нашийник': 'Гайштук', 'Троси З Дроту': 'Гакарі', 'Сковувати': 'Гакувати', 'Гребля': 'Гакь', 'Загата': 'Гакь', 'Клявза': 'Гакь', 'Бити Бомки': 'Галабурдити', 'Бродяга': 'Галайда', 'Бездомний': 'Галайда', 'Галакати': 'Галайкати', 'Голосно Розмовляти': 'Галайкати', 'Стовпище': 'Галайстра', 'Дармоїд': 'Галапас', 'Нахлібник': 'Галапас', 'Дармоїдство': 'Галапасництво', 'Ворона': 'Галиця', 'Майка': 'Галька', 'Тиснява': 'Гальман', 'Продаж': 'Гандель', 'Торг': 'Гандель', 'Достатки': 'Гаразди', 'Отаман': 'Гатаман', 'Висока Смерека': 'Гачуга', 'Шо? Що?': 'Ге', 'Ебенове Дерево': 'Гебан', 'Мов': 'Гейби', 'Продавати': 'Гемблювати', 'Ось Де': 'Генде', 'Той, Що Має Торгову Точку': 'Генделик', 'Заклад, Де Торгують Пивом': 'Генделик', 'Забійник': 'Гентиш', 'Масар': 'Гентиш', 'Різник Худоби': 'Гентиш', 'Сволок': 'Геренда', 'Мандатор': 'Герлічка', 'Повитуха': 'Гибабка', 'Втрачати Силу': 'Гибіти', 'Дуже Прагнути': 'Гибнути', 'Дуже Хотіти': 'Гибнути', 'Втрутити': 'Гившнути', 'Гидувати': 'Гидитисі', 'Мати Відразу': 'Гидитисі', 'Рекомендувати': 'Гилити', 'Гімн': 'Гимн', 'Горяни': 'Гирєни', 'Аналогічний': 'Гирішний', 'Гірська': 'Гирска', 'Буйна, Пишна Чуприна': 'Гиря', 'Образл': 'Гиря', 'Стара Дівка': 'Гиря', 'Китиця': 'Гитиця', 'Гудзик': 'Гитиця', 'Прикраса Кептаря': 'Гитиця', 'Деревостружка': 'Гіблівки', 'Дівчинонька': 'Гіўчьинонька', 'Гідності': 'Гідности', 'Бештати': 'Гікати', 'Ганити': 'Гікати', 'Пакалити': 'Гікати', 'Горянка': \"Гір'єнка\", 'Гірський': 'Гірский', 'Жмінька': 'Гірсточька', 'Пушечька': 'Гірсточька', 'Гість': 'Гісь', 'Гірчавіти': 'Гірчєвіти', 'Псуватися': 'Гірчєвіти', 'Тоже': 'Гія', 'Будяк': 'Гліх', 'Створювати Натовп': 'Глотитисі', 'Тіснитися': 'Глотитисі', 'Юрбитися': 'Глотитисі', 'Людина З Вадами Слуху': 'Глухман', 'Неможливо': 'Гляба', 'Паразит': 'Гнида', 'Гній': 'Гний', 'Прогнилі': 'Гнильик', 'Гноївка': 'Гноїўка', 'Місце Для Гною': 'Гноїўка', 'Йього': 'Го', 'Говерла': 'Говирля', 'Жінки, Шо Говіют': 'Говільниці', 'Балакати': 'Говіркувати', 'Постити': 'Говіти', 'Постять': 'Говіют', 'Бесідувані': 'Говоренє', 'Говорять': 'Говорєт', 'Спілкуватися': 'Говоритьи', 'Здатен': 'Годен', 'Затяжна Негода': 'Година', 'Вихованець': 'Годованец', 'Прийомна Дитина': 'Годованец', 'Утриманець': 'Годованец', 'Утриманка': 'Годованка', 'Вихованці': 'Годованці', 'Утриманці': 'Годованці', 'Гоїться': 'Гоїтси', 'Заживає': 'Гоїтси', 'Зарубцьовується': 'Гоїтси', 'Гойдалка': 'Гойданка', 'Заколисувати': 'Гойдати', 'Хітати': 'Гойдати', 'Гойдатися': 'Гойдатиси', 'Джерельна Вода': 'Головиця', 'Вбивство': 'Головництво', 'Убивство': 'Головництво', 'Голодна': 'Голодова', 'Галасливий': 'Голомшивий', 'Голосистий': 'Голомшивий', 'Голубці': 'Голопці', 'Рана': 'Гольфа', 'Гомілка': 'Гомівка', 'Угорський Солдат': 'Гонвед', 'Верховинці': 'Горєни', 'Жителі Регіону Гуцульщини': 'Горєни', 'Великі Земельні Ділянки': 'Гони', 'Гідність': 'Гонир', 'Порядність': 'Гонир', 'Чесність': 'Гонир', 'Займатися Сексом': 'Гонитиси', 'Бігти За Кимось': 'Гонитисі', 'Гордість': 'Гонір', 'Самоповага': 'Гонір', 'Честь': 'Гонір', 'Гончар': 'Гончєр', 'Виробник Глиняного Посуду': 'Гончєр', 'Горбатий Чоловік': 'Горбун', 'Гаряче': 'Горєче', 'Тепле': 'Горєче', 'Напід\\xad Питку': 'Горівчєний', \"Верхів'я\": 'Горішє', 'Верхня': 'Горішна', 'Комінок': 'Горн', 'Горобці': 'Горобцьи', 'Городина': 'Городовина', 'Кордон': 'Готар', 'Гробар': 'Грабар', 'Гробокопач': 'Грабар', 'Грабіжник': 'Грабивник', 'Грабляр': 'Граблєр', 'Граблище': 'Граблинє', 'Жаринки': 'Грань', 'Розжарені Вуглинки': 'Грань', 'Граблі': 'Греблі', 'Греція': 'Греция', 'Грядка': 'Грєдка', 'Грибник': 'Грибар', 'Грибар': 'Грибарь', 'Проблеми': 'Гриза', 'Турботи': 'Гриза', 'Смітити': 'Гринзити', 'Дружина Григорія': 'Грициха', 'Грядочка Біля Хати': 'Грідочник', 'Нагрудна Частина Кептаря': 'Грідушки', 'Чіп': 'Грізд', 'Відрізана Скибка Хліба': 'Грінка', 'Невеликий Шматок Хліба': 'Грінка', 'Китиця Винограду': 'Грозно', 'Кирстка': 'Грозно', 'Вагітна Жінка': 'Груба', 'Гриби': 'Губи', 'Робити Зауваження': 'Гудити', 'Давати Їсти': 'Гудувати', 'Кормити': 'Гудувати', 'Згр': 'Гукля', 'Надурювати': 'Гулити', 'Обманювати': 'Гулити', 'Його Вживають Для Кликання Голубів': 'Гулі-Гулі-Гулі', 'Вдарився': 'Гупнувси', 'Вдаритися': 'Гупнутиси', 'Скупчення Людей': 'Гурма', 'Бервено': 'Гуц', 'Гуцулята': 'Гуцулєта', 'Гуцулів': 'Гуцулив', 'Гуцули': 'Гуцуликі', 'Гуцульське': 'Гуцулскє', 'Гуцульський Кінь': 'Гуцулский Кінь', 'Простуда': 'Гущір', 'Смерічка': 'Ґаджуґа', 'Великий Пес': 'Ґайда', 'Брикетик Цукру': 'Ґалка', 'Стара Вівця Або Корова': 'Ґамба', 'Стрий Кінь Або Кобила': 'Ґандура', 'Гудити': 'Ґанити', 'Докоряти': 'Ґанити', 'Тяжко Працювати': 'Ґарувати', 'Породиста': 'Ґатункова', 'Біль Душі': 'Ґвавт', \"Б'ємо На Сполох! Рятуйте!\": 'Ґвавту!', 'Що?': 'Ґе Шо?', 'Гармошка': 'Ґеліґонка', 'Сільськогосподарське Знаряддя': 'Ґельґови', 'Низинки': 'Ґерданики', 'Силянки Вітань': 'Ґерданики', 'Льоха': 'Ґирла', 'Свиноматка': 'Ґирла', 'Дівувала': 'Ґівочьила', 'Дід': 'Ґідо', 'Гелета': 'Ґілетчина', 'Нечисте Діло': 'Ґіло', 'Гріх': 'Ґіло', 'Ліска': 'Ґільниця', 'Нащадки': 'Ґіти', 'Крем Для Взуття': 'Ґльобин', 'Сільська Управа': 'Ґміна', 'Фурункул': 'Ґодза', 'Черяк': 'Ґодза', 'Дошечний Покрівельний Матеріал': 'Ґонта', 'Жоржини': 'Ґорґілі', 'Плечі Людини': 'Ґорґоші', 'Ввічлива': 'Ґречна', 'Галантна': 'Ґречна', 'Чемна': 'Ґречна', 'Маленькі Санки': 'Ґринджоли', 'Санчата': 'Ґринджоли', 'Верх Гори': 'Ґрунь', 'Данці': 'Ґулінє', 'Гульки': 'Ґулінє', 'Стирачка': 'Ґумка', 'Бажання Чогось': 'Ґуст', 'Дорога З Рейковою Колією': 'Ґута', 'Гуцуліє': 'Ґуцулійо', 'Раптово Вмерти': 'Ґьиґнути', 'Жоржина': 'Ґьорґіна', 'Різкий Сморід': 'Ґюґ', 'Сварлива': 'Ґямбата', 'Язиката': 'Ґямбата', 'Сьогодні Зранку': 'Даві', 'Зраня': 'Даві', 'Давні': 'Даўні', 'Старожили': 'Даўні', 'Предки': 'Даўні', 'Давно': 'Давнійше', 'Раніше': 'Давнійше', 'Досить Давно': 'Давнічко', 'Дуже Давно': 'Давнічко', 'Дальший': 'Далший', 'Танцювальник': 'Данцівник', 'Сторопіти': 'Дарабанити', 'Кутаси На Сардаці': 'Дармовиси', 'Подарок': 'Дарунок', 'Збори': 'Дачка', 'Дверцята': 'Дверцєта', 'Двійний': 'Двійчистий', 'Двоподібний': 'Двійчистий', 'Двояка': 'Двоєка', 'Двоякий': 'Двоєкий', 'Деяких': 'Дейких', 'Декотрих': 'Дейких', 'Декларація': 'Деклярація', 'Далечінь': 'Делінь', 'Незабаром': 'Делінь', 'Далеченько': 'Делічко', 'Чесати Волокно': 'Дергати', \"Дерев'яна\": \"Дерев'єна\", \"Дерев'яна Миска\": \"Дерев'єнка\", 'Дрижати': 'Деревіти', 'Трястися Від Холоду': 'Деревіти', 'Ціпеніти': 'Деревіти', 'Дереворізьблення': 'Дереворізбленє', 'Ватаг': 'Дерехтор', 'Начальник': 'Дерехтор', 'Підтримують': 'Держє', 'Тримають': 'Держє', 'Тримач': 'Держєк', 'Підтримувати': 'Держєти', 'Тримати': 'Держєти', 'Триматися': 'Держєтиси', 'Міцно Стояти': 'Держєтиси', 'Відступ': 'Дефензива', 'Захист': 'Дефензива', 'Оборона': 'Дефензива', 'Оборонний': 'Дефензивний', 'Рідний Батько': 'Дєдя', 'Дзбанок': 'Джбан', 'Домоткана Ковдра З Вовни': 'Джерга', 'Старий Ліжник': 'Джерга', 'Чагарники': 'Джємори', 'Залізний Гак': 'Джіґа', 'Корова': 'Джомба', 'Гомілка З Тушки Яловичини На Холодець': 'Джуміґа', 'Картопляна Юшка': 'Джур', 'Чепурний': 'Джюгний', 'Чепуритися': 'Джюпинитиси', 'Сварка': 'Джюрджя', 'Дзвонить': 'Дзвенєт', 'Дзвінниця': 'Дзвілниці', 'До Землі': \"Д'земни\", 'На Землю': \"Д'земни\", 'Зерно': 'Дзерно', 'Будзик': 'Дзиґарок', 'Дзвінок': 'Дзілінькало', 'Пуща': 'Дзімброні', 'Скеля': 'Дзімброні', 'Вершечок Смерічки': 'Дзьобок', 'Дзьоб': 'Дзюбок', 'Дивися': 'Дивикоси', 'Гляди': 'Дивикоси', 'Поглянь': 'Дивикоси', 'Дивлюся': \"Див'юси\", 'Розглядаю': \"Див'юси\", 'Споглядаю': \"Див'юси\", 'Спостерігаю': \"Див'юси\", 'Дивляться': \"Див'ютси\", 'Дохід': 'Дижма', 'Папиндека': 'Дикта', 'Рови': 'Дикунки', 'Шанці': 'Дикунки', 'Сечовий Міхур': 'Димало', 'Розпоряджатись': 'Диспонувати', 'Хворий На Астму': 'Дихавишний', 'Жива Природа': 'Диханія', 'Дишель': 'Дишлі', 'Говірка': 'Діалект', 'Чоловіків Брат': 'Дівер', 'Дівчинка': 'Дівчінєші', 'Родинна Спадщина': 'Дідизнина', \"Подвір'я Біля Плебанії\": 'Дідинец', 'Доглянути За Кимось': 'Дізріти', 'Дійки': 'Дійкі', 'Діамант': 'Діямант', 'Діаспора': 'Діяспора', 'До Мене': \"Д'мині\", 'Днина': 'Днєна', 'День У День': 'Днински', 'Цілоденно': 'Днинцке', 'Доголити': 'Добритити', 'Назва Танцю Гуцулка На Путильщині': 'Довбанка', 'Дєтіль': 'Довбач', 'Дятел Поковтач': 'Довбач', 'Додайте': 'Довержте', 'Докиньте': 'Довержте', \"Довір'я\": 'Довірє', 'Борг': 'Довг', 'Боржник': 'Довжник', 'Доупаду': 'Довлєгу', 'Слугувати': 'Догаджєти', 'Дошкулювати': 'Догобувати', 'В Міру': 'Дознаку', 'Доторкнутися': 'Докінутисі', 'Викінчити': 'Докінчьити', 'До Одного': 'До Лаби', 'Аби Не Було Жядного': 'До Лаби', 'Униз За Течією': 'Долів', 'Низинне Село': 'Долішнє', 'Низинна Місцевість': 'Долішшя', 'Вид Скрипки': 'Долобанка', 'Скрипка, Видовбана З Суцільної Дошки': 'Долобанка', 'Долучити': 'Долучєти', 'Добавити': 'Долучєти', 'Додати': 'Долучєти', 'Приєднати': 'Долучєти', 'Донька': 'Донтя', 'Дочка': 'Донтя', 'Дорозказувати': 'Доповістувати', 'Запевнювати': 'Допевнювати', 'Паска': 'Дора', 'Пробойник': 'Дорник', 'Керн': 'Дорник', 'До Цього Дня': 'Досегодне', 'Досвятковувати': \"Дос'єткувати\", 'Вистояти В Черзі': 'Достойатисі', 'Дочікуватися': 'Достойатисі', 'Дощечка': 'Дошечькє', 'Дощі': 'Дощьи', 'Драбини': 'Драбинє', 'Дранка': 'Драниці', 'Пірваний': 'Дрантивий', 'Здирство З Селян': 'Драча', 'Щипковий Музичний Інструмент': 'Дримба', 'Грудка': 'Дріб', 'Дрібні Тварини': 'Дріб', 'Дрібненький': 'Дрібонький', 'Дрібненько': 'Дрібонько', 'Дріт': 'Дрікь', 'Суканий': 'Друґаний', 'Свердлити': 'Друлювати', 'Дружка': 'Друшка', 'Зношена Мітла': 'Дряпачька', 'Стара Мітла': 'Дряпачька', 'Подвійні': 'Дубелтові', 'Бігати': 'Дуґоніти', 'Гримати': 'Дуґоніти', 'Тупотіти': 'Дуґоніти', 'Ходити Важкою Ходою': 'Дуґоніти', 'Шумлять': 'Дуґонют', 'Боротись': 'Дужітиси', 'Змагатись': 'Дужітиси', 'Гнівається': 'Дуїси', 'Сердиться': 'Дуїси', 'Овеча Хвороба': 'Дурленина', 'Легка Нажива': 'Дурнєчка', 'Покладайся': 'Дуфай', 'Корпати': 'Дуфати', 'Накорпати': 'Дуфати', 'Задихатися Від Спеки': 'Душкувати', 'Здоровіший': 'Душший', 'Міцніший': 'Душший', 'Сильніший': 'Душший', 'Татусь': 'Дьидик', 'Діковать': 'Дьикую', 'Директор': 'Дьирехторька', 'Облік': 'Евіденція', 'Екзамен': 'Еґзамент', 'Іспит': 'Еґзамент', 'Рай': 'Едем', 'Уживають Аби Привернути Увагу': 'Ей', 'Як Невдоволення': 'Ей-Га', 'Та Ні': 'Ей-Де', 'Покарання': 'Екзекуція', 'Експлуатація': 'Експлйоатація', 'Мед, Відкладений Бджолами В Соти З Цукрового Сиропу': 'Експресний Мід', 'Міні Гідроелектростанція': 'Електровня', 'Елегантний': 'Еліґанский', 'Будьмо!': 'Ельєн', 'Слава': 'Ельєн', 'Хай Живе!': 'Ельєн', 'Службовець Кдб': 'Енкавеесівец', 'Тримати До Хресту': 'Ерстити', 'Яблуневий': 'Єблінковий', 'Яблучка': 'Єблучька', 'Яблучко': 'Єблучько', \"З'явитися\": 'Євлєтиси', \"З'являться\": 'Євлєтси', 'Наявна': 'Євна', 'Явна': 'Євна', 'Єгиптяни': 'Єгипетники', 'Ягоди': 'Єгоди', 'Приємний': 'Єдерний', 'Одне': 'Єдно', 'Єдності': 'Єдности', 'Язик': 'Єзик', 'Язичок': 'Єзичьок', 'Як Дасть Бог, То Так І Буде': 'Єк Даст Бог', 'Яким': 'Єким', 'Котрим': 'Єким', 'Як Так': 'Єкшо', 'Телиця': 'Єліўка', 'Ялова Корова': 'Єліўка', 'Ялова': 'Єлова', 'Ялинова': 'Єлова', 'Відповідно': 'Єлоси', 'Пасує': 'Єлоси', 'Початок Підготовки': 'Єлоси', 'Приступити': 'Єлоси', 'Розпочати': 'Єлоси', 'Вибій': 'Єма', 'Западина': 'Єма', 'Євангелія': 'Єнгелія', 'Інших': 'Єнших', 'Базарювати': 'Єрмаркувати', 'Базар': 'Єрмарок', 'Ярмарок': 'Єрмарок', 'Печера': 'Єскьинє', 'Ясне': 'Єснеє', 'Світле': 'Єснеє', 'Світло': 'Єсніскь', 'Яскравість': 'Єсніскь', 'Зоря': 'Єсніскь', 'Розізлити Когось': 'Єтрити', 'Жодні': 'Жадні', 'Ні За Яку Ціну': 'Жадні', 'Електролампочка': 'Жарівка', 'Зірватися': 'Жбухнути', 'Сильно Вдарити': 'Жбухнути', 'Чекання': 'Жданка', 'Зимовий Сорт Яблук': 'Желізняк', 'Джерела': 'Жерела', 'Жили': 'Жерела', 'Нори': 'Жерела', 'Яловець Звичайний': 'Жереп', 'Женєпин': 'Жереп', 'Жартівлива': 'Жертівлива', 'Гуморист': 'Жертун', 'Жабуриння': 'Жєберина', 'Жабка': 'Жєбка', 'Жадний': 'Жєдний', 'Ненаситний': 'Жєдний', 'Вижаданий': 'Жєдний', 'Жодної': 'Жєдної', 'Ні Одної': 'Жєдної', 'Жадоба': 'Жєдоба', 'Варикозне Розширення Вен': 'Жєлавки', 'Жалібні': 'Жєлибні', 'Сумні': 'Жєлибні', 'Траурні': 'Жєлибні', 'Жалісно': 'Жєлібно', 'Тужливо': 'Жєлібно', 'Жалісливий': 'Жєлісливий', 'Натруджений': 'Жєлісливий', 'Сум': 'Жєлоба', 'Траур': 'Жєлоба', 'Жало Бджоли': 'Жєло', 'Жало': 'Жєло', 'Банувати': 'Жєлувати', 'Жалкувати': 'Жєлувати', 'Шкодувати': 'Жєлувати', 'Втрата': 'Жєль', 'Переляк': 'Жєх', 'Жваво': 'Живенько', 'Вогонь У Стаї На Полонині': 'Живий Вогонь', 'Великий Четвер': 'Живний Чітверь', 'Розпечено Залізо': 'Жигало', 'Єврейська Дитина': 'Жиденє', 'Єврейське': 'Жидівське', 'Євреї': 'Жидюки', 'Живе': 'Жиєт', 'Підземне Джерело': 'Жила', 'Вірна Супутниця Життя': 'Жинка', 'Дружина': 'Жинка', 'Жито': 'Житечко', 'Червона Вовняна Нитка': 'Жичка', 'Мешкають': 'Жиют', 'Проживають': 'Жиют', 'Пране': 'Жмакане', 'Прання Білизни': 'Жмаканє', 'Прати Білизну': 'Жмачєти', 'Жнець': 'Жнец', 'Чямкати': 'Жнікати', 'Жовтуха': 'Жовтінниця', 'Жовтяниця': 'Жовтінниця', 'Рівець': 'Жолобец', 'Стічна Канава': 'Жолобец', 'Залицяльник': 'Жонатей', 'Претендент У Любаси': 'Жонатей', 'Одружений Чоловік': 'Жоначь', 'Гра Біля Небіжчика': 'Жужукало', 'Копальня Солі': 'Жупа', 'Важкі Почуття': 'Жура', 'Сильні Переживання': 'Жура', \"Жаб'євські\": \"Жьиб'ївські\", 'Аналогічно': 'Жьихло', 'Досконало, Так Само': 'Жьихло', 'Жодна': 'Жядна', 'Ні Одна': 'Жядна', 'Всякий': 'Жядний', 'Жоден': 'Жядний', 'Кожен': 'Жядний', 'Цікава': 'Забавна', 'Копітко': 'Забавно', 'Забагнути': 'Забагти', 'Набурмосений': 'Забамбурений', 'Надутий': 'Забамбурений', 'Задуманий': 'Забамбурений', 'Приморочений': 'Забамбурений', 'Забинтувати': 'Забандажувати', \"Зробити Перев'язку\": 'Забандажувати', 'Зацікавити': 'Забашити', 'Розвеселити': 'Забашити', 'Забезпечення': 'Забеспечінє', 'Утримання': 'Забеспечінє', 'Більше Від Потреби': 'Забогато', 'Набагато Більше': 'Забогато', 'Забудова': 'Забудованє', 'Господарські Споруди': 'Забудованє', 'Забуяла': 'Забурикаласи', 'Зашпортуватися': 'Забутати', 'Спіткнутися': 'Забутати', 'Заридати': 'Забутіти', 'Забуття': 'Забутьи', 'Заважає': 'Заважєє', 'Заважати': 'Заважєти', 'Перешкоджати': 'Заважєти', 'Організатор': 'Заведія', 'Привідець': 'Заведія', 'Передчасно': 'Завгоді', \"Зав'язала\": \"Зав'єзала\", 'Скавулити': 'Завити', \"Зробити Пов'язку\": 'Завити', 'Глота': 'Завіз', 'Ведуть': 'Заводєт', 'Заводять': 'Заводєт', 'Спричиняють': 'Заводєт', 'Засмерділа': 'Завонила', 'Зачулася': 'Завонила', 'Головокружіння': 'Завороть', 'Запаморочення': 'Завороть', 'Морочити Голову': 'Заворочьити', 'Набридати': 'Заворочьити', 'Завсіди': 'Завсігди', 'Завтре': 'Завтри-Ка', 'Перетворитися На Сир': 'Завурдитиси', 'Запалення Вимені Корови Або Вівці': 'Загар', 'Заправити Високу Ціну': 'Загилити', 'Ставити Надто Високі Вимоги': 'Загилити', 'Заворушитися': 'Загимзіти', 'Замучити': 'Загнуздачіти', 'Пригнобити': 'Загнуздачіти', 'Закликати': 'Загойкати', 'Запросити': 'Загойкати', 'Покликати': 'Загойкати', 'Створити Голод': 'Заголодити', 'Позбавити Продовольства': 'Заголодити', 'Довести До Штучного Голоду': 'Заголодити', 'Заголосить': 'Заголоси', 'Заплаче': 'Заголоси', 'Заридає': 'Заголоси', 'Заскиглить': 'Заголоси', 'Пустить Сльозу': 'Заголоси', 'Чад': 'Загорениця', 'Чадний Газ': 'Загорениця', 'Загостювати': 'Загостітиси', 'Пригоститися': 'Загостітиси', 'Забувся': 'Загутавси', 'Втихомирити': 'Загутати', 'Зберегли': 'Задержали', 'Заціпеніти': 'Задеревіти', 'Зупинити Кров': 'Задержєти', 'Сильно Змерзнути': 'Задзьибнути', \"Закрити, Заткнути Бербеницю Дерев'яним Кругом\": 'Заднити', 'Задоволені': 'Задоволнені', 'Задовольняти': 'Задоволнити', 'Без Оплати': 'Задурно', 'Задарма': 'Задурно', 'Запалюють': 'Зажегают', 'Засвічені': 'Зажжені', 'Запалені': 'Зажжені', 'Кинути За Драбину': 'Зажжити', 'Щось Перекусити': 'Зажжити', 'Замітити': 'Заздріти', 'Зазеленіє': 'Зазилинії', 'Проросте Трава': 'Зазилинії', 'Заглядати': 'Зазирати', 'Зазирнув': 'Зазівнув', 'Глянув': 'Зазівнув', 'Підглянув': 'Зазівнув', 'Сфотографувати': 'Зазнимкувати', 'Заграли': 'Заіграли', 'Піднялися': 'Заіграли', 'Заєць': 'Заїц', 'Заграти': 'Зайграти', 'Чужий Чоловік': 'Зайдей', 'Пришелець': \"Зайд'ей\", 'Сторонній Чоловік': \"Зайд'ей\", 'Усе, Що Не Місцеве': 'Зайдейське', 'Чуже': 'Зайдейське', 'Пізьмувати': 'Зайти В Загер', 'Завагітніла': 'Зайшла', 'Залетіла': 'Зайшла', 'Заволока': 'Зайшлий', 'Закарпаття': 'Закарпатє', 'Ночували В Хаті Господаря': 'Заквартирували', 'Поки Ти': 'Закис', 'Затятися': 'Закитиси', 'Святе Таїнство': 'Закін', 'Заплести Волосся У Косичку': 'Закіскати', 'Поробити': 'Закіскати', 'Прикрашена Китицями': 'Закітична', 'Закляс- Ти': 'Закльисти', 'Проклинути': 'Закльисти', 'Загнута': 'Заклябучіна', 'Заокруглена': 'Заклябучіна', 'Підремонтувати Якусь Річ': 'Заковтати', 'Встигає': 'Закольохандрюєтси', 'Не Втомлюється': 'Закольохандрюєтси', 'Покупець': 'Закупень', 'Парі': 'Заліжка', 'Спір': 'Заліжка', 'Завбачливий': 'Залямистий', 'Запобігливий': 'Залямистий', 'Замалий': 'Замізерний', 'Менший': 'Замізерний', 'Надто Малий': 'Замізерний', 'Забруднювати Навколишнє Середовище': 'Заничішшювати', 'Упертий': 'Занорий', 'Без Настрою': 'Занюрений', 'Похнюплений': 'Занюрений', 'Оголосити': 'Заоглашкувати', 'Афішувати': 'Заоглашкувати', 'Заохочуюють': 'Заохочюют', 'Зацікавлюють': 'Заохочюют', 'Запалення Горла': 'Запалінє Горла', 'Болить Горло': 'Запалінє Горла', 'Гуші': 'Запалінє Горла', 'Завали': 'Запалінє Горла', 'Залози': 'Запалінє Горла', 'Мігдали': 'Запалінє Горла', 'Запалення Нирок': 'Запалінє Нирок', \"Запам'ятає\": 'Запамнітаї', \"Закарбує У Пам'яті\": 'Запамнітаї', \"Запам'яталося\": 'Запамніталосі', 'Замерзання У Кисті Рук': 'Запарі', 'Зашпори': 'Запарі', 'За Кордоном': '«За Парканом»', 'Жіночий Одяг': 'Запаскє', 'Закурити Цигарку': 'Запахторити', 'Запалити Люльку': 'Запахторити', \"Зап'ятки\": \"Зап'єткє\", 'Запіяли': 'Запієли', 'Заворогувати': 'Запізмувати', 'Нагніватиси': 'Запізмувати', 'Сердитиси': 'Запізмувати', 'Запливе': 'Заплиє', 'Запліднення': 'Заплидненє', 'Запливти': 'Заплити', 'Запобігти': 'Запобігчи', 'Попередити': 'Запобігчи', 'Незгода': 'Запоперечіти', 'Призупинити Дію': 'Запоперечіти', 'Доспівають': 'Запрєли', 'Дозрівають': 'Запрєли', 'Запрягти Коней': 'Запрєсти', 'Заховався': 'Запрєтавси', 'Запрошення': 'Запросини', 'Запрошувати': 'Запрошєти', 'Перепона': 'Запута', 'Рано-Вранці': 'Зарана', 'Берег Ріки': 'Зарінок', 'Заробити': 'Заробйити', 'Засягнути': 'Засєгнути', 'Звинуватити': 'Заскаржити', 'Малосилий': 'Заслабий', 'Ослаблений': 'Заслабий', 'Закрити': 'Заслонити', 'Заперти': 'Заслонити', 'Зашторити': 'Заслонити', 'Заспівайте': 'Заспивайтьи', 'Виконати Пісню': 'Заспивати', 'Заспівати': 'Заспивати', 'Вимагати': 'Заставєти', 'Змушувати': 'Заставєти', 'Примушувати': 'Заставєти', 'Приказувати': 'Заставйити', 'Призупинити': 'Застановити', 'Зосередитися': 'Застановити', 'Латки На Постолах': 'Застоли', 'Низької Температури': 'Застудена', 'Сходи': 'Заступці', 'Запірка': 'Засув', 'Засов': 'Засув', 'Засувка': 'Засув', 'Забруднити Чимось': 'Заталапати', 'Запор': 'Затверджіні', 'Малозабезпечені': 'Затєкничьні', 'Не Спроможні': 'Затєкничьні', 'Вийшла З Ладу': 'Затєласі', 'Зупинилася': 'Затєласі', \"Закарбувати В Пам'яті\": 'Затємувати', \"Запам'ятають\": 'Затємют', 'Прикраса До Волосся': 'Затичка', 'Затінок': 'Затінь', 'Отравлює': 'Затроюєт', 'Труїть': 'Затроюєт', 'Умертвлює': 'Затроюєт', 'Закинутий': 'Зафарасений', 'Занедбаний': 'Зафарасений', 'Взяла': 'Зафатила', 'Захопила': 'Зафатила', 'Прихопила': 'Зафатила', 'Захляпатиси': 'Зафляцкатиси', 'Чимось Обхлюпатися': 'Зафляцкатиси', 'Заведеться': 'Зафуркотить', 'Запрацює': 'Зафуркотить', 'Видурити Щось': 'Захаламандрити', 'Вижебрати': 'Захаламандрити', 'Входини В Нове Помешкання': 'Заходини', 'Заселення': 'Заходини', 'Захворіти': 'Захорувати', 'Слабувати': 'Захорувати', 'Захотів': 'Захтів', 'Зацвіла': 'Зацвила', 'Розцвіла': 'Зацвила', 'Замерзнути': 'Зацеконіти', 'Зашити': 'Зацерувати', 'Заштопорити Так, Аби Не Було Замітно': 'Зацерувати', 'Забиті': 'Зацофані', 'Затуркані': 'Зацофані', 'Черпати': 'Зачерати', 'Отравлення Чадним Газом': 'Зачєженє', 'Почало': 'Зачєло', 'Відректися Від Поганих Звичок': 'Зачєтатиси', 'Починається': 'Зачінаї', 'Почне': 'Зачьнет', 'Розпочне': 'Зачьнет', 'Що Присягли': 'Зачьитані', 'Засмерділася': 'Зачютиласи', 'Затишина': 'Зашепетина', 'Щілинка': 'Зашипетинка', \"Зав'язати Зашинки\": 'Зашінкатиси', 'Приберегти': 'Зашшібати', 'Вийти З Рівноваги': 'Збезсебитиси', 'Розгніватися': 'Збезсебитиси', 'Збирається': 'Збираїсі', 'Збір': 'Збиранє', 'Підготовка До Чогось': 'Збиранє', 'Одягатися': 'Збиратиси', 'Готуватися': 'Збиратисі', 'Готуються До Чогось': 'Збираютсі', 'Пустощі': 'Збитки', 'Сполошилася': 'Збицкаласи', 'Вередує': 'Збицкаласи', 'Виснажена': 'Збідована', 'Згорьована': 'Збідована', 'Осилити Щось': 'Збізуватиси', 'Покладатися': 'Збізуватиси', 'Збирач': 'Збірачь', 'Даром Потратити Час': 'Зблавучіти Чєс', 'Зернові Колоскові Культури': 'Збож', 'Поголити': 'Збритити', 'Вправні І Здорові': 'Збрійні', 'Наполегливо': 'Збушно', 'Здоровий Глузд': 'Звага', 'Обдуманість': 'Звага', 'Пантрувати': 'Зважєти', 'Звалища': 'Звалишшя', 'Стала Покриткою': 'Звеласи', 'Звертається': 'Звертаєси', 'Зверху': 'Зверьхи', \"Зв'язати\": \"Зв'єзати\", \"Зав'язати\": \"Зв'єзати\", 'Співпраця': 'Звьєзок', 'Деформована': 'Звинкльована', 'Усталені Способи': 'Звичєї', 'Звичаї': 'Звичєї', 'Поцікавитися': 'Звідати', 'Зіронька': 'Звіздочька', 'Небесна Зірка': 'Звіздочька', 'Визволення': 'Звільненє', 'Звільнення': 'Звільненє', 'Гвоздика': 'Звоздичька', 'Добро На Щось': 'Зволенє', 'Погодження': 'Зволенє', \"Кур'єрка\": \"Зв'язкова\", 'Жити В Злагоді': 'Згажьитисі', 'Жити Мирно': 'Згажьитисі', 'Згоджуватися З Чимось': 'Згажьитисі', 'Сказати': 'Зговорити', 'Дати Згоду': 'Згодитисі', 'Погодитися': 'Згодитисі', 'Або Не Бути Згідним': 'Згодитисі', 'Голодний': 'Зголожений', 'Такий, Що Виголодався': 'Зголожений', 'Зійти З Розуму': 'Згулавіти', 'Нагримати': 'Згулюкати', 'Накричати': 'Згулюкати', 'Часто': 'Згуста', 'Періодично': 'Згуста', 'Нерідко': 'Згуста', 'Маржина': 'Зґамина', 'Худобина': 'Зґамина', 'Зганьбити': 'Зґанити', 'Розкритикувати': 'Зґанити', 'Заквасити': 'Зґлєджіти', 'Попіл У Люльці': 'Зґура', 'Покладатися На Когось': 'Здаватися', 'Зустрінемося': 'Здибаймосі', 'Зустрічаймося': 'Здибаймосі', 'Зустріньмося': 'Здибаймосі', 'Здивування': 'Здивованє', 'Зачарування': 'Здивованє', 'Екзикутор': 'Здикутор', 'Гинути': 'Здихати', 'Дохнути': 'Здихати', 'Позбутися Когось': 'Здихати Си', 'Позбутися Чогось': 'Здихати Си', 'Наздогнати': 'Здогонити', 'Настигати Що-Небудь': 'Здогонити', 'Дігнати': 'Здогонити', 'Подогонити': 'Здогонити', 'Піднімає': 'Здоймає', 'З Нижньої Частини': 'Здолини', 'Видих І Вдих': 'Здохи', 'Думки': 'Здохи', 'Затупотіти': 'Здубоніти', 'Гоноровий': 'Здуфалий', 'Залізо': 'Зелізо', 'Метал': 'Зелізо', 'Земля': 'Земня', \"З'являтися\": \"З'євитси\", 'Прийти': \"З'євитси\", 'Ставати Наявним': \"З'євитси\", 'Зібралася': 'Зибраласи', 'Оділася': 'Зибраласи', 'Пульс Людини': 'Зиўчік', 'Серцебиття': 'Зиўчік', 'Дозвонитися': 'Зизвонитиси', 'Зелені Свята': 'Зилені', 'Зелені Ягоди': 'Зилені', 'Недоспілі Ягоди': 'Зилені', 'Зелений': 'Зиленкуватий', 'Недоспілий': 'Зиленкуватий', 'Зелена': 'Зилиненька', 'Зелененька': 'Зилиненька', 'Тимчасова Споруда': 'Зимовик', 'Зісподу': 'Зисподу', 'Глянути': 'Зиркнути', 'Подивитися': 'Зиркнути', 'Тренування': 'Зицирка', 'Дозволити': 'Зізволити', \"Аби З'їв\": 'Ззіж', \"З'їси\": 'Ззіж', 'Спожий': 'Ззіж', 'Зливати': 'Зілльити', 'Злити': 'Зілльити', 'Пильно': 'Зірко', 'Залишитися': 'Зістати', 'Протилежний': 'Зістріть', 'Назустріч Чому-Небудь': 'Зістріть', 'Сидіння На Велосипеді': 'Зіц', 'Хвилюватися': \"З'їдатися\", 'Наврочення': \"З'їдениця\", 'Приріст': \"З'їдениця\", 'Лагідні': 'Злагідні', 'Ласкаві': 'Злагідні', 'Доброзичливі': 'Злагідні', 'Впала З Печі': 'Злєгти', 'Злодії': 'Злоґійня', 'Крадії': 'Злоґійня', 'Уламок Скелі': 'Злом', 'Спарувати': 'Злучити', 'Людина, Яка Часто Й Швидко Змерзає': 'Змерзлєк', \"Зм'якнуть\": 'Змєкнут', \"Пом'якшають\": 'Змєкнут', \"Стануть М'якими\": 'Змєкнут', 'Знає': 'Знаї', 'Знання': 'Знакє', 'Набутий Досвід': 'Знакє', 'Знайомство': 'Знакомство', 'Знайома': 'Знакомиця', 'Знахар': 'Знахор', 'Знівечиться': 'Знівечєтси', 'Зникне': 'Знівечєтси', 'Пропаде': 'Знівечєтси', 'Зникає': 'Зньикає', 'Пропадає': 'Зньикає', 'Не Замітити': 'Зовидіти', 'Не Побачити': 'Зовидіти', 'Повз': 'Зовидіти', 'Зозуля': 'Зозулиця', 'Зозулечка': 'Зозулочка', 'Зозулька': 'Зозулочка', 'Зоріє': 'Зорєє', 'Світає': 'Зоріє', 'Живці': 'Зрази', 'Зрана': 'Зраня', 'Зроблять': \"Зроб'єт\", 'Надсилає': 'Зсилає', 'Посилає': 'Зсилає', 'Музики': 'Зузи', 'Звідусіль': 'Зусібіч', 'З Усіх Сторін': 'Зусібіч', 'Дослідити': 'Зучити', 'Почалася': 'Зчєласи', 'Стікав': 'Зчурав', 'Заметушитися': 'Зшилофоститиси', 'Неспокійно Поводитися': 'Зшилофоститиси', 'Проявляти Підозру': 'Зшилофоститиси', 'Зятьок': 'Зьитьок', \"Зв'язкова\": \"З'язкова\", 'Грає': 'Играє', 'Грала': 'Играла', 'Йди': 'Иди', 'Ідуть': 'Идут', 'Йдуть': 'Идут', 'Готуватися До Чогось': 'Избератиси', 'Розбудила': 'Избужєла', 'Ззаду': 'Иззаду', 'Іззаду': 'Иззаду', 'Із Зворотного Боку': 'Иззаду', 'Всюди': 'Изкрізь', 'Повсюди': 'Изкрізь', 'Скрізь': 'Изкрізь', 'Усюди': 'Изкрізь', 'Розписати': 'Изписати', 'Злякався': 'Изжьих Сі', 'Налякався': 'Изжьих Сі', 'Перелякався': 'Изжьих Сі', 'Уживається У Значенні Заперечення Або Підтвердження Чогось': 'Ийде', 'Ойкнути': 'Ийкнути', 'Йой': 'Ийой', 'Яких': 'Иких', 'Якої': 'Икої', 'Котрої': 'Икої', 'Називати': 'Именувати', 'Мох': 'Имшедь', 'В Іншому Разі': 'Инак', 'Інак': 'Инак', 'Інтерес': 'Интерес', 'Зацікавленість': 'Интерес', 'Інтереси': 'Интереси', 'Іржавіє': 'Иржєвіє', 'Ржавіє': 'Иржєвіє', 'Хрестиянин': 'Ирстєнин', 'Хреститися': 'Ирститиси', 'Склали': 'Искладали', 'Складали': 'Искладали', 'Іскра': 'Искра', 'Іти': 'Ити', 'Бавитися': 'Ігратиси', 'Гуляти': 'Ігратиси', 'Розважатися': 'Ігратиси', 'До Неї': \"Ід'ні\", 'До Своєї Родини': \"Ід'хаті\", 'В Рідні Краї': \"Ід'хаті\", 'На Батьківщину': \"Ід'хаті\", 'Мати Викидиш': 'Ізгнати', 'Перервати Вагітність': 'Ізгнати', 'Нагнати': 'Ізгонити', 'Прогнати Когось': 'Ізгонити', 'Зжився': 'Ізживси', 'Примирився': 'Ізживси', 'Піти В Рукопашну': 'Ізмотати', 'Наступного Тижня': 'Із Неділі', 'Зазнати Душевної Муки': 'Ізнидіти', 'Змарніти': 'Ізнидіти', 'Заховатися': 'Ізнирнути', 'Посварити': 'Ізсварити', \"М'який Камінь\": 'Ілувата Опока', 'Імперіалізм': 'Імперіялізм', 'Інженерний': 'Інжінєрский', 'Натхненник': 'Інспіратор', 'Підбурювач': 'Інспіратор', 'Намова': 'Інспірація', 'Підбурювання': 'Інспірація', 'Заохочений': 'Інспірований', 'Намовлений': 'Інспірований', 'Підбурений': 'Інспірований', 'Заохочувати': 'Інспірувати', 'Надихати': 'Інспірувати', 'Підбурювати': 'Інспірувати', 'Підмовляти': 'Інспірувати', 'Стимулювати': 'Інспірувати', 'Задум': 'Інтенція', 'Намір': 'Інтенція', 'Прагнення': 'Інтенція', 'Ціль': 'Інтенція', 'Справа': 'Інтерес', 'Ірландія': 'Ірлянда', 'Хрещені': 'Ірщєні', 'Викосити': 'Іскосити', 'Скосити': 'Іскосити', 'Італійці': 'Італіяни', 'Явір': 'Їверниці', 'Яворина': 'Їверниці', 'Ягничєрь': 'Їгнітарь', 'Їдять': 'Їдєт', 'Наминають': 'Їдєт', 'Споживають': 'Їдєт', 'Їда': 'Їдица', 'Харчунок': 'Їдица', 'Могорич': 'Їднанка', 'Хабар': 'Їднанка', 'Зведення': 'Їднанка', 'Зміїна Отрута': 'Їдь', 'Яд': 'Їдь', 'Ядучість': 'Їдь', 'Їжак Звичайний': 'Їжєк', 'Саме Тоді': 'Їкраз', 'В Той Момент': 'Їкраз', 'Яловега': 'Їловеґа', 'Ямкувати': 'Їмкувати', 'Той Там': 'Їнчий', 'Їдуть': 'Їхают', 'Я': 'Йа', 'Ягода': 'Йагідка', 'У Той Час': 'Йакраз', 'Іване!': \"Йва'!\", 'Іван Хреститель': 'Йван Хреститель', 'Грати': 'Йграти', 'Ведеться Мова': 'Йдеси', 'Іти Дорогою': 'Йдеси', 'Іди Но': 'Йдико', 'Іди, Будь Ласка': 'Йдико', 'Іде': 'Йдет', 'Ведеться Розмова': 'Йдет', 'Яблуньки': \"Йеблінк'і\", 'Якась': 'Йкас', 'Якесь': 'Йкес', 'Йминьи': 'Ймено', 'Повторювати Йо-Йо': 'Йокати', 'Йолоп': 'Йолуп', 'Вода, Освячена 19 Січня': 'Йорданиця', 'Вода Йорданська': 'Йорданцка', 'Уживається При Нещасних Випадках, Нестерпному Болю, Приємній Несподіванці': 'Йуй-Йуй-Йуй', 'Кавалер': 'Кавалєр', 'Шматки': 'Кавалкє', 'Частина Чогось': 'Кавалкє', 'Ківш': 'Кавуш', 'Черпак': 'Кавуш', 'Полонник': 'Кавуш', 'Велика Колода': 'Кайлак', 'Стоять Тумани': 'Калєчєют Мрєчі', 'Дуже Захмарилося': 'Калєчєют Мрєчі', 'Негура': 'Калєчєют Мрєчі', 'Мрака': 'Калєчєют Мрєчі', 'Душогуб': 'Кальвін', 'Жорстока Людина': 'Кальвін', 'З Великим Животом': 'Калюхата', 'Животата': 'Калюхата', 'Черевань': 'Калюхачь', 'Призиванка Тюдівчанам': 'Калюшники', \"Кам'яний\": 'Камніний', 'Канарка': 'Канариця', 'Канарейка': 'Канариця', 'Повідки': 'Кантар', 'Ліци': 'Кантар', 'Мисливська Собака': 'Капів', 'Малий Водоспад': 'Капливец', 'Овеча Воша': 'Капуша', 'Капці': 'Капчори', 'Теплі Вовняні Шкарпетки': 'Капчюри', 'Тарган': 'Карган', 'Сорт Груш': 'Карлові', 'Курник': 'Карник', 'Карпатські': 'Карпатцкі', 'Карпатський': 'Карпацкий', 'Касир…': 'Касиєр', 'Гиндра': 'Катран', \"Ганчір'я\": 'Катранє', 'Катуша': 'Катушя', 'Говорю': 'Кау', 'Мовлю': 'Кау', 'Старесенька Жінка': 'Кацюба', 'Качур': 'Качєр', 'Борзенько': 'Квапом', 'Поспіхом': 'Квапом', 'Дуже Спішу': \"Квап'юси\", 'Обмаль Часу На Виконання Чогось': \"Квап'юси\", 'Винаймати Житло': 'Квартирювати', 'Кислий': 'Кваснєк', 'Квасний': 'Кваснєк', 'Зімнути': 'Квацувати', \"М'яти\": 'Квацувати', 'Гамір': 'Керегвит', 'Криничка': 'Керничка', 'Кріт Європейський': 'Кертина', 'Шкірне Захворювання': 'Кертина', 'Напрямок': 'Керунок', 'Добре Справується': 'Кєгне', 'Тягне': 'Кєгне', 'Один Центнер': 'Кєла', 'Кертина': 'Кєртиця', 'Керує': 'Керуєт', 'Командує': 'Керуєт', 'Дерн': 'Кєцка', 'Кишка': 'Кєшка', 'Голова Кота': 'Кибавка', 'Шия Кота': 'Кибавка', 'Надсилу': 'Киженько', 'Напружено': 'Киженько', 'Грижа': 'Кили', 'Чоботи Із Замінника Шкіри': 'Кирзаки', 'Капарний': 'Киринний', 'Капарник': 'Киринник', 'Безлад': 'Кириня', 'Гроно': 'Кирстка', 'Нівечити': 'Кібзувати', 'Колик': 'Ків', 'Кедрове Дерево': 'Кідрині', 'Важка': 'Кіжка', 'Непостильна': 'Кіжка', 'Ковила': 'Кійло', 'Кілько': 'Кіко', 'Стільки': 'Кілко', 'Стільки-То': 'Кілко', 'Тіло': 'Кіло', 'Людський Організм': 'Кіло', 'Кілограм': 'Кільо', 'Приміщення Для Коней': 'Кіннок', 'Стаднарка': 'Кіннок', 'Кептар': 'Кінтарь', 'Ворохнутися': 'Кінутиси', 'Робити Щось Скоріше': 'Кінутиси', 'Закінчується': 'Кінчєєтси', 'Завершилася': 'Кінчіласи', 'Закінчилася': 'Кінчіласи', 'Закінчую': 'Кінчьию', 'Кровава': 'Кірвава', 'Кирзаки': 'Кірзаки', 'Криниченька': 'Кірничєнька', 'Чорний Дрізд Або Шпак': 'Кіс', 'Загусле Кисле Молоко': 'Кісльик', 'Кисляк': 'Кісльик', 'Віконна Замазка': 'Кіт', 'Рахівниця': \"Кітайский Комп'ютер\", 'Банєк': 'Кітлик', 'Казанок': 'Кітлик', 'Ласиця': 'Кіточка', 'Заклинання': 'Клєдьба', 'Проклін': 'Клєдьба', 'Підсніжник Білосніжний': 'Кликоцей', 'Наручник': 'Климак', 'Пучок': 'Климак', 'Клясти': 'Клісти', 'Квочка': 'Клічка', 'Морока': 'Клопоція', 'Ковбки': 'Кльоци', 'Колоди В Талбі': 'Кльоци', 'Зачіпка': 'Ключка', 'Початок Сварки': 'Ключка', 'Збірник Води': 'Клявза', 'Зуби': 'Клянці', 'Ікла': 'Клянці', 'Клей': 'Клястер', 'Книжки': 'Книжєчькє', 'Книги': 'Книжєчькє', 'Вчитель Закону Божого': 'Книжник', 'Кнур': 'Кнороз', 'Кнурь': 'Кнороз', 'Наковальня': 'Ковадло', 'Кувала Зозуля': 'Ковала', 'Коваль': 'Ковач', 'Дощові Хмари': 'Ковбури', 'Глибока Вода': 'Ковбурь', 'Плесо': 'Ковбурь', 'Ковер': 'Ковериц', 'Узір На Ліжнику': 'Коверц', 'Надутися': 'Кокоїжитиси', 'Настовбурчитися': 'Кокоїжитиси', 'Стара Стайня': 'Колешня', 'Вузькоколійка': 'Колєя Вузкоторова', 'Колибка': 'Колибочька', 'Колядничок': 'Колідничок', 'Коноплі': 'Колопні', 'Кимак': 'Колтун', 'Колонізувати': 'Кольонізувати', 'Колонія': 'Кольонія', 'Одеколон': 'Кольонска Вода', 'Окуляри': 'Коляри', 'Конюшина Лучна': 'Команиця', 'Дебоширить': 'Комишує', 'Комісар': 'Комісарь', 'Закінчення': 'Конец', 'Кінські Екскременти': 'Конєчі', 'Екскременти': 'Коніки', 'Контрабанда': 'Конробанта', 'Комсомолка': 'Консомолка', 'Розбіжність': 'Контроверсія', 'Спірне Питання': 'Контроверсія', 'Контролер': 'Контролєр', 'Спрямований Проти Наступу': 'Контрофезивний', 'Склеп': 'Кооператива', 'Заклад Торгівлі': 'Кооператива', 'Повна Жінка': 'Копицьи', 'Військо Польське': 'Копці', 'Нагайка': 'Корбач', 'Ріг': 'Корениця', 'Коріння': 'Коріньичко', 'Зломана Гілка': 'Корнаґа', 'Розбуджувати': 'Корнєти', \"Коров'ячий Екскремент\": \"Коров'єк\", 'Урядовий': 'Коронний', 'Дуже Бажане': 'Кортєчє', 'Цікаве': 'Кортєчє', 'Беручкий До Чого-Небудь': 'Кортєчий', 'Хочеться': 'Кортит', 'Кожушинка': 'Корушинка', 'Судома': 'Корчі', 'Кущики': 'Корчікє', 'Кущі': 'Корчікє', 'Короткі Сани': 'Корчуга', 'Кущ': 'Корчь', 'Кнайпа': 'Коршьма', 'Народжують': 'Котєт', 'Кошенята': 'Котєта', 'Кісточки Внизу Ніг (Перед Стопами)': 'Котики', 'Старий Пес': 'Котюга', 'Котитися': 'Кочєтиси', 'Качатися': 'Кочєтиси', 'Кошарування': 'Кошєруванє', 'Краєчок': 'Країчок', 'Дуже Вродлива': 'Красуля', 'Дуже Красива': 'Красуля', 'Красень': 'Красунь', 'Замордувати': 'Крепір', 'Вмерти': 'Крепнути', 'Загинути': 'Крепнути', 'Капелюх-Бриль': 'Кресаня', 'Кривда': 'Криўда', 'Криворівнянський': 'Криворівський', 'Засуджений': 'Кримінар', 'Окружний Уряд': 'Крисент', 'Підвищувати Голос': 'Кричєти', 'Кролик': 'Крілик', 'Самка Кроля': 'Крілиці', 'Кролятко': 'Крільитко', 'Кролятник': 'Крільитник', 'Трішечки': 'Крішку', 'Кролятина': 'Кролєтина', 'Краплі': 'Кроплі', 'Вид Танцю': 'Круглєк', 'Крутяться': 'Крутєтци', 'Польський Священик': 'Ксйондз', 'Ковбаса': 'Кубаса', 'Квоче': 'Кувочі', 'Волокно': 'Кужель', 'Прєдиво': 'Кужель', 'Кукурікати': 'Кукуріґати', 'Піяти': 'Кукуріґати', 'Кочіло': 'Кулко', 'Круг': 'Кулко', 'Кульбаба': 'Кульбавка', 'Курячий Послід': 'Курік', 'Куриво': 'Курінє', 'Куріння': 'Курінє', 'Кожух-Безрукавка': 'Курушина', 'Добре Доглядати': 'Кутати', 'Кухарка': 'Кухарька', 'Кучеряве': 'Кучєрєве', 'В Кучерях': 'Кучєрєве', 'Кучерявий': 'Кучірєвий', 'Кучері': 'Кучірикє', 'Смакувати': 'Кушєти', 'Дегустувати': 'Кушєти', 'Довгоносий': 'Кушкатий', 'Займатися Кушнірством': 'Кушньирити', 'Костур': 'Куштур', 'Милиця': 'Куштур', 'Вигук, Який Уживають Для Відганяння Овець': 'Кушь-Кушь-Кушь!', 'Його Вживають Для Кликання Кіз': 'Кцьо-Кць-Кцьо!', 'Нога Людини': 'Лаба', 'Примирювати': 'Лагоїти', 'Вантаж': 'Ладунок', 'Левада': 'Лаз', 'Нероба': 'Лайдак', 'Є Звичка': 'Лакім', 'Має Звичку': 'Лакім', 'Ухильний': 'Лакім', 'Мандрувати': 'Ландрувати', 'Ходити В Походи': 'Ландрувати', 'Ланцюги': 'Ланци', 'Відходи З Лісопилки': 'Лапатачє', 'Обрізки': 'Лапатачє', 'Шаламачє': 'Лапатачє', 'Ревізор': 'Левізор', 'Легковий Автомобіль': 'Легковушка', 'Вайлуватий': 'Леґейдоватий', 'Заторможений': 'Леґейдоватий', 'Чоловічий Піджак': 'Лейбан', 'Легко': 'Лекше', 'Легше': 'Лекше', 'Легкий': 'Лекший', 'Легший': 'Лекший', 'Лілія': 'Лелія', 'Льон': 'Лен', 'Дружина Леся, Олекси': 'Лесиха', 'Легені': 'Лехкі', 'Потрух Білий': 'Лехкі', 'Альпійський Стрілець': 'Лещатар', 'Легіон': 'Лєґіон', 'Легіонер': 'Лєґіоніст', 'Ляжуть': 'Лєжут', 'Упадуть': 'Лєжут', 'Страховисько': 'Лєковишшє', 'Пан': 'Лєнка', 'Електрик': 'Лєтрик', 'Електрична Енергія': 'Лєтрика', 'Електроосвітлення': 'Лєтрика', 'Електростанція': 'Лєтростанція', 'Погана': 'Лєцта', 'Бути В Пошуках': 'Лєшувати', 'Шукати Щось': 'Лєшувати', 'Лижа': 'Лижва', 'Лижник': 'Лижвяр', 'Ложечка': 'Лижечька', 'Ковзан': 'Лизва', 'Сукняна Куртка': 'Лийбан', 'Недоспіле Яблуко': 'Лисниця', 'Зеленець': 'Лисниця', 'Плінтус': 'Листва', 'Лихословлять': \"Лихослов'їт\", 'Револьвер': 'Ліворвер', 'Лягати': 'Лігати', 'Овечий Жир': 'Лій', 'Медик': 'Лікарик', 'Лінолеум': 'Ліноль', 'Горіх Ліщини': 'Лісковий', 'Фундук': 'Лісковий', 'Прибивати Планки До Стін': 'Ліскувати', 'Лісна': 'Лісна', 'Тепленька Вода': 'Літепла', 'Літня Температура': 'Літепло', 'Тепле Повітря': 'Літепло', 'Відпочивальники': 'Літниски', 'Туристи': 'Літниски', 'Ліхтар': 'Ліхтарня', 'Лікарські Рослини': 'Лічничі', 'Лікування': 'Лїченє', 'Лив': 'Лльив', 'Наливав': 'Лльив', 'Поливав': 'Лльив', 'Лити': 'Лльити', 'Сухі Гілляки': 'Ломаджі', 'Литва': 'Лотва', 'Литовець': 'Лотиш', 'Лошатко': 'Лоші', 'Рідина Для Прання Білизни': 'Луг', 'Одежа': 'Лудина', 'Одіж': 'Лудина', 'Уберя': 'Лудина', 'Дружина Лукєна': 'Лукєнова', 'Дружина Лукина': 'Лукіниха', 'Реєстраційний Номер': 'Лумірь', 'Любові': 'Любови', 'Прихильності': 'Любови', 'Людина': 'Людьина', 'Особа': 'Людьина', 'Особистість': 'Людьина', 'Люксовий': 'Люксусовий', 'Змістовний': 'Люксусовий', 'Літник': 'Люфтивник', 'Освіжувати Приміщення': 'Люфтувати', 'Провітрювати Приміщення': 'Люфтувати', 'Людська': 'Люцка', 'Житель С': 'Лючін', 'Мешканка С': 'Лючінка', 'Лампа': 'Лямпа', 'Ліхтарик': 'Лямпічка', 'Лампочка': 'Лямпочка', 'Маґніт': 'Маґнет', 'Маґнес': 'Маґнет', 'Угорські': 'Мадьярскі', 'Угорський': 'Мадярский', 'Дальше': 'Майдалі', 'Чимдальш': 'Май Душше', 'Чимдуш': 'Май Душше', 'Сильніше': 'Май Душше', 'Труси': 'Майтки', 'Чоловіча Сперма': 'Малафія', 'Малювати': 'Малюватьи', 'Мамуня': 'Мамунцуня', 'Мамця': 'Мамунцуня', 'Жирність Молока': 'Манна', 'Манера': 'Манорія', 'Характер': 'Манорія', 'Повидло': 'Мармоляда', 'Лихословити': 'Матеркувати', 'Матюкатися': 'Матеркувати', 'Мати Божа': 'Матинька Божя', 'Мав': 'Мау', 'Кулак': 'Махмуц', 'Шлунок Людини': 'Мацьок', 'Малесенька': 'Мацюпіненька', 'Грибна Страва': 'Мачинка', 'Бути Обережним': 'Маштерєтиси', 'Матися В Гадці': 'Маштерєтиси', 'Склад': 'Медарня', 'Медоносні Рослини': 'Медодаї', 'Медоноси': 'Медодаї', 'Власник Млина': 'Мелник', 'Млинар': 'Мелник', 'Доповідати': 'Мельдувати', 'Мельник': 'Менник', 'Працівник Млина': 'Менник', 'Момент': 'Мент', 'Пора': 'Мент', 'Прохолодно': 'Мерзко', 'Холоднувато': 'Мерзко', 'Медаль': 'Металь', 'Добре Поступати': 'Мештерьитиси', 'Мудро Вчиняти': 'Мештерьитиси', 'Шануватись': 'Мештерьитиси', \"М'якушка\": \"М'єкіш\", \"М'яко\": \"М'єко\", \"М'якший\": \"М'єкший\", 'Між': 'Мижи', 'Поміж': 'Мижи', 'Серед': 'Мижи', 'Мій': 'Мий', 'Дружина Микити': 'Микитиха', 'Мисочка': 'Мисочька', \"Дерев'яна Хата\": 'Мита Хата', 'Метрика': 'Митрика', 'Свідоцтво Про Народження': 'Митрика', 'Дружина Михайла': 'Михайлиха', 'Велика Миска': 'Мищеґа', 'Мильниці': 'Мищеґа', 'Мильниця': 'Мищеґа', 'Мідний': 'Мідьиний', 'Біднота': 'Мізерота', 'Маленькі Діти': 'Мізерота', 'Мільйони': 'Мілійони', 'Мільйонна': 'Міліонова', 'Землемір': 'Мірінник', 'Небесне Світило': 'Місєць', 'Супутник Землі': 'Місєць', 'Місячні': 'Місічька', 'Грузько': 'Міскаво', 'Малесенький': 'Міціцький', 'Вовна З Ягняти': 'Міцка', 'Вовняний': 'Міцковий', 'Власник Овець': 'Мішєнник', 'Міський Житель': 'Мішюр', \"М'ясниці\": \"М'їсниці\", 'Несмачне': 'Млавке', 'Нудити': 'Млоїти', \"М'яка\": 'Мнєка', \"М'ята Перцева\": 'Мнєтка Кропльова', 'Розминати': 'Мнєцкати', \"М'якенька\": 'Мніконька', \"М'яке\": 'Мнітоньке', \"М'яконьке\": 'Мнітоньке', 'Електричний Розряд': 'Мовня', 'Велика Сила': 'Могуть', 'Моляться': 'Молєтси', 'Хрестяться': 'Молєтси', 'Молитися': 'Молитьиси', 'Молода Заміжня Жінка': 'Молодица', 'Молоді Заміжні Жінки': 'Молодичькє', 'Молодь': 'Молодіж', 'Молода Жінка': 'Молодінка', 'Чєлідина': 'Молодінка', 'Мосяжник': 'Мосєжник', 'Мосяжництво': 'Мосєжництво', 'Вояк': 'Москаль', 'Москвин': 'Москаль', 'Бензопила': 'Моторова Пила', 'Мотоцикл': 'Мотоцикіль', 'Мряки': 'Мрьичьі', 'Тумани': 'Мрьичьі', 'Біль': 'Мука', 'Духовне Переживання': 'Мука', 'Страждання': 'Мука', 'Болить Шлунок': 'Мулит', 'Мурашка': 'Мурашька', 'Копитна Гниль': 'Мускинка', 'Покликаний': 'Мусю', 'Мучиться': 'Мучєєси', 'Страждає': 'Мучєєси', 'Чоловіки': 'Мушшіне', 'Чоловічий': 'Мушшіне', 'Натякати': 'Набилювати', 'Набита': 'Набитіська', 'Повна': 'Набитіська', 'Нанизати': 'Наборсати', 'Насилити': 'Наборсати', 'Гоститися': 'Набуватиси', 'Частуватися': 'Набуватиси', 'Набуваються': 'Набуваютци', 'Веселий': 'Набудливий', 'Забавний': 'Набудливий', 'Взути': 'Набути', 'Взувати': 'Набути', 'Гостина': 'Набуток', 'Від Себе': 'На Видлю', 'Лівою Рукою Від Себе': 'Навіґлі', 'Жити В Цивільному Шлюбі': 'На Віру', 'Докір': 'Навкірки', 'Щоб Докорити': 'Навкірки', 'Зурочити': 'Наврочіти', 'Навчився': 'Навчивьимся', 'Навчили': 'Навчіли', 'Нарік': 'Нагід', 'На Голову': 'На Голу', 'Не Культурний': 'Нагульковатий', 'Не Стриманий': 'Нагульковатий', 'Не Тактовний': 'Нагульковатий', 'Нести Когось На Плечах': 'На Ґорґошях Нести', 'Приманка': 'Нада', 'Надбавляти': 'Надбавйити', 'Підвищити': 'Надбавйити', 'Здаля': 'Надалеки', 'Бути Осторонь': 'Надалеки', 'Надвірна': 'Надвирна', 'Вдолину': 'Надолину', 'Надірватися': 'Надсадитиси', 'Шліфувальний Папір': 'Наждачька', 'Назавжди': 'Назавсігди', 'Назавше': 'Назавсігди', 'Збиткування': 'Назбиткі', 'Навмисне Щось Робити': 'Назбиткі', 'Назва Чогось': 'Назвиско', 'Вслід': 'Назирцем', 'Слідом За Кимось': 'Назирцем', 'Найбільший': 'Найбирший', 'Найбільше': 'Найбілше', 'Найважливіша': 'Найважнішшя', 'Найгірші': 'Найгирші', 'Відстань': 'Най-Ко', 'Залиш': 'Най-Ко', 'Найкращі': 'Найкрашші', 'Найнялася': 'Наймиласі', 'Пішла В Найми': 'Наймиласі', 'Наймиліша': 'Наймилішшя', 'Найнебепечніший': 'Найнибезпешніший', 'Аби Вже Не Було Гіршого': 'Най На Тому Си Тєкне', 'Більш Практичні': 'Найпрехтичьнішші', 'Найпрактичніші': 'Найпрехтичьнішші', 'Найслабший': 'Найпушший', 'Найгірше': 'Найпуще', 'Вдосвіта': 'Найранше', 'Ранесенько': 'Найранше', 'Віддатися': 'Накрити Голову', 'Лишень': 'Наколи', 'Як Тільки': 'Наколи', 'Наповнити': 'Наладувати', \"Нам'яко\": \"Нам'єко\", 'Навісна Полиця Для Мисок': 'Намисник', 'Кивнути Головою': 'На Мігі', 'Моргнути': 'На Мігі', 'Замість': 'Наміж', 'Гуртом': 'Намішма', 'Оптом': 'Намішма', 'На Неї': 'На Ню', 'Навколо': 'Наоколо', 'Довкола': 'Наоколо', 'Довкруги': 'Наоколо', 'Довкруж': 'Наоколо', 'Навкіл': 'Наоколо', 'Навкруги': 'Наоколо', \"Напам'ять\": 'Напамніть', 'Вовняні Онучі': 'Наперсниці', 'Вояк З Фронту (Передової)': 'Напередовець', 'Пробувати На Смак Їжу': 'Напинати', 'Наугад': 'Напомацки', 'Навпростець': 'Напопереки', 'Відібрана': 'Напрєтана', 'Надбана': 'Напрєтана', 'На Вихід': 'Напролюдень', 'Злякатися': 'Напудитиси', 'Настрашитися': 'Напудитиси', 'Велика Біда': 'Напуст', 'Згадували': \"Нап'ятнували\", 'Обнародували': \"Нап'ятнували\", 'Раптом': 'Нараз', 'Манжет': 'Нараквиця', 'Нарукавниця': 'Нараквиця', 'Наготувати': 'Нарєхтувати', 'На Наступний Рік': 'Нарик', 'Народність': 'Нарід', 'Нація': 'Нарід', 'На Другий Рік': 'Нарік', 'Наріччя': 'Нарічє', 'Фестини': 'Народи Народенні', 'Народження': 'Народжіня', 'Народне': 'Народнє', 'Народна': 'Народня', 'Народна Медицина': 'Народня Медицина', 'Злякала': 'Настрашіла', 'Злякалася': 'Настрашіла', 'Лобода': 'Натина', 'Навчити': 'Научіти', 'Напився': 'Нахлеставбесси', 'Гас': 'Нахта', 'Ліфчик': 'Нацицник', 'Предмети': 'Начинє До Миття', 'Речі Особистої Гігієни': 'Начинє До Миття', 'Начиння': \"Начін'е\", 'Нити': 'Начіниці', 'Складова Ткацького Верстату': 'Начіниці', 'Наші': 'Нашинскі', 'Знайомі': 'Нашинскі', 'Односельчани': 'Нашинскі', 'Надерти': 'Нашпорпати', 'Нарити': 'Нашпорпати', 'Навіщо': 'Нашьо', 'Для Чого': 'Нашьо', 'Намовити': 'Наюдити', 'Не Зрубали, Відрізали': 'Ньи Втєли', 'Нещасна Дитина': 'Небожє', 'Неборак': 'Неборе', 'Неволі': 'Неволи', 'В Тюрмі': 'Неволи', 'Нехтування': 'Неґація', 'Ігнорувати': 'Неґувати', 'Нехтувати': 'Неґувати', 'Не Личить': 'Не Єлоси', 'Не Пасує': 'Не Єлоси', 'Не Файно': 'Не Єлоси', 'Ненависть': 'Ненавіць', 'Мама': 'Неня', 'Мати': 'Неня', 'Не При Вас Кажучи': 'Непричком', 'Подібно До Когось': 'Непричком', 'Проговоритися': 'Непричком', 'Ненароком': 'Непричком', 'Не До Вподоби': 'Не Рихт', 'Не Так': 'Не Рихт', 'Неторканий': 'Нетиканий', 'Освічений': 'Неўкий', 'Відпорний': 'Не Урічливий', 'Капарна': 'Нехарна', 'Нечиста': 'Нехарна', 'Недоречі': 'Нецурки', 'Недоречні': 'Нецурки', 'Небезпека': 'Нибезпечєньство', 'Пересторога': 'Нибезпечєньство', 'Покійник': 'Нибішшік', 'Мертвець': 'Нибішшік', 'Мрець': 'Нибішшік', 'Втрачає Вагу': 'Ниґіє', 'Марніє': 'Ниґіє', 'Худне': 'Ниґіє', 'Ні В Якому Місці': 'Нидде', 'Незнайомі': 'Низнакомі', 'Дружина Миколи': 'Николаїха', 'Неназдогадь': 'Нинасаму', 'Не Одна': 'Ниодненька', 'Не Єдина': 'Ниодненька', 'Неправда': 'Ниправда', 'Примусово': 'Нипроше', 'Силоміць': 'Нипроше', 'Не Надійна': 'Ниретенна', 'Не Слівна': 'Ниретенна', 'Не Точна': 'Ниретенна', 'Не Смачна Страва': 'Нисмашна', 'Неспокійний': 'Нисупокійний', 'Так Собі': 'Нич', 'Ніщо': 'Ничьо', 'Небувале': 'Ничюване', 'Нищили': 'Нишьшіли', 'Псували': 'Нишьшіли', 'Руйнувати': 'Нишьшіти', 'Дєдя': 'Ньиньо', 'Ніяке': 'Нієке', 'Нічого Не Варте': 'Нієке', 'Погане': 'Нієке', 'Нікуди': 'Нікуда', 'Безглуздя': 'Нікчемство', 'Безкультурність': 'Нікчемство', 'Безчинства': 'Нікчемство', 'Антихриство': 'Нікчемство', 'Німеччина': 'Німеччіна', 'Нігті': 'Ніхті', 'Нічо': 'Нічьо', 'Жанр Літератури': 'Новелі', 'Новела': 'Новелі', 'Новий': 'Новенькєй', 'Новенький': 'Новенькєй', 'Новосілля': 'Новосілє', 'Холошні': 'Ногавиці', 'Гуцули-Кочовики': 'Номади', 'Носять': 'Носют', 'Нотаріус': 'Нотаруш', 'Номер': 'Нумер', 'Дуже Швидко Втекти': 'Ньоґа', 'Побігти': 'Ньоґа', 'Дуже Коротенька Чоловіча Стрижка': 'Нулька', 'Не Врізали, Спилили': 'Ньи Втєли', 'Скаржитися': 'Нюні Розпускати', 'Заклепка': 'Нют', 'Ходити': 'Нягати', 'Калачик': 'Обарєнок', 'Роґальок': 'Обарєнок', 'Зганяти': 'Обвертати', 'Перекидати Щось': 'Обвертати', 'Впоратися З Весняними Роботами': 'Обвеснувати', 'Завеснувати': 'Обвеснувати', 'Милувати': 'Обедувати', 'Пестити Когось': 'Обедувати', 'Знак На Худобі': 'Оберка', 'Мітка': 'Оберка', 'Верхній Теплий Одяг': 'Оберок', 'Оглядатися': 'Обзиратисі', 'Обтерти': 'Обитерти', 'Оглянутися': 'Обіздритися', 'Оглянути': 'Обіздріти', 'Передивитися': 'Обіздріти', 'Узбіччя': 'Обіч', 'Обабіч': 'Обіч', 'Привітний': 'Облесний', 'Розважливий': 'Облесний', 'Очеревина': 'Оболонка', \"Обгороджене Подвір'я\": 'Обора', 'Обробляти': \"Оброб'єти\", 'Обстригати': 'Обстричи', 'Стригти': 'Обстричи', 'Почистити': 'Обхаїти', 'Обмити': 'Обхарити', 'Помити': 'Обхарити', 'Бережливість': 'Обшєдок', 'Ощадність': 'Обшєдок', 'Тепло, Що Зігріває': 'Огень', 'Старий Парубок': 'Оґєр', 'Самець Кобили': 'Оґир', 'Огорожа Гуцульської Ґражди': 'Оґражда', 'Земельна Ділянка': 'Оґрод', 'Присадиба': 'Оґрод', 'Оголошення': 'Оглашка', 'Оповідь': 'Оглашка', 'Озеро': 'Одзеро', 'Моментально': 'Один Мент', 'Тут Же': 'Один Мент', 'Вдова': 'Одовиця', 'Однорічні Пагони Фруктових Дерев': 'Одноліток', 'Однорічник': 'Одноліток', 'Відпущення Гріхів': 'Одпушшінє Гріхів', 'Візьме': 'Озме', 'Бери': 'Озьми', 'Візьми': 'Озьми', 'Острішок': 'Окап', 'Стріха': 'Окап', 'Викуп': 'Окуп', 'Викупне': 'Окуп', 'Дружина Олексія': 'Олексиха', 'Олениця': 'Оленичька', 'Оленятко': 'Оленьи', 'Овечі Відходи': 'Олітки', 'Олово': 'Оливо', 'Олівчики': 'Олуфчікє', 'Незручно': 'Омпно', 'Ніяково': 'Омпно', 'Образливо': 'Омпно', 'Соромливо': 'Омпно', \"Сором'язно\": 'Омпно', 'Ображає': 'Омражєє', 'Принижує': 'Омражєє', 'Ображати': 'Омражєти', 'Паскуда': 'Омраза', 'Одна': 'Онна', 'Цими Днями': 'Оногди', 'Дружина Онуфрія': 'Онуфріїха', 'Упириця': 'Опириці', 'Вість': 'Оповість', 'Повний': 'Оповний', 'Вдалечині': 'Оподаль', 'Далі': 'Оподаль', 'На Певній Відстані': 'Оподаль', 'Осторонь': 'Оподаль', 'Отелиться': 'Оположитци', 'Розтелитися': 'Оположитци', 'Опороситься': 'Опороситци', 'Винищувач': 'Опришок', 'Нищівник': 'Опришок', 'Комашня': 'Опровід', 'Похорон': 'Опровід', 'Куріпка': 'Оріпка', 'Горіх': 'Оріх', 'Куток': 'Оседок', 'Поселення': 'Оседок', 'Присілок': 'Оседок', 'Визволити': 'Ослободити', 'Залишив': 'Оставив', 'Розволочений': 'Остатний', 'Гостріше': 'Острійше', 'Рішучіше': 'Острійше', 'Багнет': 'Остряк', 'Штик': 'Остряк', 'У Цьому Місці': 'Осьдечки', 'Відкривається': 'Отворєєтци', 'Відчиняється': 'Отворєєтци', 'Отож': 'Отєж', 'Правдоподібно': 'Отєк', 'Ось Ці': 'Отсі', 'У Цій Окрузі': 'Отутечкі', 'Осюди': 'Отуткі', 'Таки Тепер': 'Отуткі', 'Тугодум': 'Оферма', 'Офіцер': 'Офіцир', 'Заціквавлений': 'Охітний', 'Оцінити': 'Ошєцувати', 'Пошанувати': 'Ошєцувати', 'Віддати Належне': 'Ошєцувати', \"Пір'я Пави\": \"Пав'їнки\", 'Бакенбарди': 'Паворєта', 'На Око': 'Пазблін', 'Кіготь': 'Пазорь', 'Ганьба': 'Пакала', 'Палити Люльку': 'Пакати', 'Паламар': 'Палямарь', \"Пам'ятаю\": 'Памнітаю', \"Пам'ятник\": 'Памнітник', 'Монумент': 'Памнітник', 'Обеліск': 'Памнітник', 'Служити': 'Панити', 'Дружина Пантела': 'Пантелиха', 'Контролювати': 'Пантрати', 'Панські': 'Панцкі', 'За Часів Панщини': 'Паньствовий', 'Папір Для Самокруток': 'Папіркє', 'Декілька': 'Пара', 'Гафніоз': 'Паратиф', 'Когось Бити': 'Парити', 'Швидко Йти': 'Парити', 'Парламент': 'Парлямент', 'Парламентар': 'Парляментар', 'Парламентська': 'Парляментська', 'Пара': 'Парочька', 'Молода Пара': 'Парочька', 'Парубкувати': 'Парубочіти', 'Пасажир': 'Пасічєр', 'Пасічницька': 'Пасічнича', 'Пастушка': 'Пастирька', 'Пасовисько': 'Пастівник', 'Випасати Худобу': 'Пастушити', 'Пасти Худобу': 'Пастушити', 'Паскудна': 'Паськудна', 'Морально Нечиста Людина': 'Паськудна', 'Негарна': 'Паськудна', 'Неприваблива': 'Паськудна', 'Огидна': 'Паськудна', 'Відгонистий': 'Паськунний', 'Недобрий': 'Паськунний', 'Патріарх': 'Патріярх', 'Пахва': 'Паха', 'Пахощі': 'Пахілля', 'Моцний': 'Пацелий', 'Молоде Порося': 'Паццє', 'Мати Пригоду': 'Пацити', 'Перетерпіти': 'Пацити', 'Щось Пережити': 'Пацити', 'Паспорт': 'Пашпорт', 'Довге Волосся': 'Пелешє', 'Пенсія': 'Пенція', 'Споконвік': 'Первовік', 'Одвічний': 'Первовік', 'Квітковий Пилок': \"П'ерга\", 'Перевернути': 'Переверечі', 'Перекинути': 'Переверечі', 'Перевіряти': 'Перевірєти', 'Перед Обідом': 'Передполудень', 'Передобіддя': 'Передполудень', 'Позаминулого Року': 'Передтогід', 'Два Роки Тому': 'Передтогід', 'Позаторічний': 'Передтогідний', 'Два Дні Тому': 'Передучєри', 'Перед Цим': 'Передше', 'Попередньо': 'Передше', 'Пересилити': 'Перемоцувати', 'Робити Перепочинок': 'Перепочювати', 'Перелякати': 'Перепудити', 'Перелякана': 'Перепужена', 'Зверхньо': 'Переразливо', 'Принизливо': 'Переразливо', 'Перерити': 'Перериндиґати', 'Переробляти': 'Переробйити', 'Парастас': 'Перестас', 'Звіринна Стежка': 'Перестічька', 'Водійські Права': 'Перміс', 'Права Водія': 'Перміс', 'Дружина Петра': 'Петриха', 'Пече': 'Печет', 'Печатка': 'Печєтка', 'Печуть': 'Печют', \"П'явка-Кровопивця\": \"П'євка\", \"М'ячик\": 'Пивка', 'Погріб': 'Пивниця', 'Підвал': 'Пивниця', 'Невміло, Погано Грати': 'Пигичіти', 'Велосипедна Педаль': 'Пидело', 'Підремонтувати': 'Пидлагодити', 'Пізнати': 'Пизнати', 'Бачити': 'Пизнати', 'Впізнати': 'Пизнати', 'Невчасно': 'Пизно', 'Пізно': 'Пизно', 'Напильник': 'Пилник', 'Приспішувати': 'Пилувати', 'Пришвидшувати': 'Пилувати', 'Писанкар': 'Писанчєрь', 'Писаночка': 'Писанчина', 'Письменник': 'Писатель', 'Анотувати': 'Писатьи', 'Курча': 'Писківка', 'Молода Курочка': 'Писківка', 'Освіченість': 'Писмо', 'Наука': 'Письмо', 'Піти': 'Пити', 'Сходити': 'Пити', 'Половина Року': 'Піврик', 'Півріччя': 'Піврик', 'Стрих': 'Під', 'Ошийок': 'Підґарлі', 'Набити Підошви Цвяхами': 'Підзолювати', 'Прикарпаття': 'Підкарпатє', 'Підрости': 'Підникнути', 'Підсунувся': 'Підсунувсі', 'Захмелілити': 'Підчмелитиси', 'Похмелитися': 'Підчмелитиси', 'Намовлювачі': 'Підшепти', 'Підбурювачі': 'Підшепти', 'Зловживання Алкоголем': 'Пієнцтво', 'Ворожнеча': 'Пізьма', 'Біля': 'Пілє', 'Рядом': 'Пілє', 'Опісля': 'Післядь', 'Поза Роботою': 'Післядь', 'Пістоль': 'Пістолєтко', 'Бородавка': 'Пістрьик', 'Дрібонькі': 'Піціцькі', 'Малесенькі': 'Піціцькі', 'Пічник': 'Пічкарь', 'Наволочка': 'Пишва', \"П'янюга\": \"П'їниця\", \"П'ється\": 'Пйеси', 'Напідпитку': 'Пйиний', 'Нетверезий': 'Пйиний', 'Гілля Смереки': 'Пластє', 'Снігопад': 'Пластовец', 'Лапатий Сніг': 'Пластовец', 'Фустка': 'Плат', 'Біла Платинка': 'Платина', 'Підгодовується': 'Плекаєси', 'Підкормлюється': 'Плекаєси', 'Наживається': 'Плекаєси', 'Пліва': 'Плива', 'Плавець': 'Пливак', 'Плавання': 'Пливані', 'Плавати': 'Пливати', 'Парафія': 'Плібанія', 'Хворий На Псоріаз': 'Плішьивий', 'Сильний Дощ З Бурею': 'Плова', 'Мокра Холодна Погода': 'Плюта', 'Повноводдя': 'Плюта', 'Донос': 'Плявза', 'Пасквіль': 'Плявза', 'План': 'Плян', 'Корж': 'Пляцок', 'Налисник': 'Пляцок', 'Млинець': 'Пляцок', 'Зневажити': 'Побардзувати', 'Знехтувати': 'Побардзувати', 'Принизити': 'Побардзувати', 'Жінка Побережника': 'Побережничка', 'Буде Тільною': 'Побігаласи', 'Дах Будови': 'Побій', 'Покрівля': 'Побій', 'Напасть': 'Побліка', 'Неприємність': 'Побліка', 'Зламалося': 'Поброїлоси', 'Зупинилося': 'Поброїлоси', 'Зіпсувалося': 'Поброїлоси', 'Після Великодня': 'Повелицідни', 'Після Великодних Свят': 'Повелиціни', 'Повернення': 'Повертин', 'Післявесільна Гостина': \"Від'їдини\", \"Від'їдини\": 'Повесівне', 'Повесільне': 'Повесівне', \"У Верхів'ї\": 'Повизше', 'Оповідки': 'Повісти', 'Повісторки': 'Повісти', 'Оповідала': 'Повістувала', 'Оповідач': 'Повістун', 'Повістяр': 'Повістун', 'Оповідати': 'Повістувати', 'Витягне': 'Повітігає', 'Висохнуть': 'Повсихают', 'Всохнуть': 'Повсихают', 'Засохнуть': 'Повсихают', 'Шклянка': 'Погарец', 'Світогляд': 'Поглід', 'Погодімся': \"Поґлайхаймос'є\", 'Примирімся': \"Поґлайхаймос'є\", 'Погуляти': 'Поданцувати', 'Вид Мережання': 'Подвійні Прутики', \"Подвір'ячко\": 'Подвірьичко', 'Дехто': 'Подеякі', 'Декотрі': 'Подеякі', 'Окремі': 'Подеякі', 'Глянь': 'Подиви-Ко Си', 'Подивися': 'Подиви-Ко Си', 'Подушечки': 'Подушечькє', 'Пасок': 'Поєс', 'Опинка': 'Поєс', 'Черес': 'Поєс', 'Позначила': 'Позначіла', 'Поклала Позначку': 'Позначіла', 'Виявити Співчуття': 'Пожєлувати', 'Поспівчувати': 'Пожєлувати', 'Удар Ззаду В Голову': 'Позавуш', 'Ляпас Поза Вуха': 'Позавушник', 'Потиличник': 'Позавушник', 'Оскільки': 'Позаєк', 'Позаяк': 'Позаєк', 'Дозвіл На Звільнення': 'Позволінє', 'Згинуть': 'Поздихают', 'Подохнуть': 'Поздихают', 'Позичила': 'Позичєла', 'Заборгувала': 'Позичєла', 'Порічки': 'Позички', 'Позіхати': 'Позівати', 'Позначити': 'Позначіти', 'Ветовано': 'Покасовано', 'Заборонено': 'Покасовано', 'Зліквідовано': 'Покасовано', 'Скасовано': 'Покасовано', 'Спокій': 'Покі', 'Зіпсуте Куряче Чи Перепелине Яйце': 'Покладок', 'Догадатися': 'Покмітити', 'Відчути': 'Покмітити', 'Зауважити': 'Покмітити', 'Закінчення Поминків': 'Покомашнини', 'Кінець Орного Поля': 'Поконечє', 'Край Сіножатей': 'Поконечє', 'Кривити': 'Покривульити', 'Покривуляти': 'Покривульити', 'Покуття': 'Покутє', 'Спокутувати': 'Покутувати', 'Попробувати На Смак': 'Покушіти', 'Ремонт': 'Полагода', 'Ожеледа': 'Поледиця', 'Ожеледь': 'Поледиця', 'Поляки': \"Пол'еки\", 'Удар У Лице Чи В Шию': 'Поличман', \"Полум'я\": 'Половінь', 'Полонинське': 'Полонинцке', 'Полонинський': 'Полонинцкий', 'Обід': 'Полуденок', 'Полудень': 'Полуднє', 'В Другій Половині Дня': 'Пополудни', 'Обідати': 'Полуднувати', 'Обіднє': 'Полудньичне', 'Полеглий': 'Поляглий', 'Бріфтачка': 'Полярец', 'Поволі': 'Помале', 'Поступово': 'Помали', 'Побаламутити': 'Поминтрожити', 'Допомагає': 'Помогаї', 'Підмога': 'Помогаї', 'Поневолювачі': 'Пониволитилі', 'Нижще': 'Пониж', 'Низ': 'Пониж', 'Внизу': 'Понизше', 'Грати На Якомусь Музінструменті': 'Попийграти', 'Піп Іван': 'Попіван', 'Чекати': 'Попіждати', 'Зола': 'Попіль', 'Кінська Упряж': 'Попруга', 'Зіпсую': 'Попсувати', 'Пошкоджу': 'Попсувати', 'Зламалось': 'Попсуло', 'Порадьмося': 'Порадімсьи', 'Захистити': 'Поратувати', 'Гідна': 'Порєдна', 'Достойна': 'Порєдна', 'Порядна': 'Порєдна', 'Грудинка': \"Поріб'я\", 'Чим Займатися?': 'Поробляти', 'Що Робити?': 'Поробляти', 'Що Робиш?': 'Поробляти', 'Поросята': 'Поросєта', 'Пацьита': 'Поросєта', 'Паця': 'Поросі', 'Вирубки': 'Поруби', 'Зруби': 'Поруби', 'Старший Лейтенант': 'Поручник', 'Справжній Гуцул': 'Порьидний Гуцул', 'Корінний Гуцул': 'Порьидний Гуцул', 'Сваряться': 'Посварєтци', 'Затіють Сварку': 'Посварєтци', 'Вітцівщина': 'Посидок', 'Володіння': 'Посіданє', 'Підвідомство': 'Посіданє', 'Останні': 'Послідні', 'Домоглися': 'Постарали Ся', 'Надбали': 'Постарали Ся', 'Придбали': 'Постарали Ся', 'По-Старовинному': 'По-Старовіцки', 'По-Давньому': 'По-Старовіцки', 'Ліжко': 'Постіль', 'Посвідка': 'Посьвідка', 'Подрібнити': 'Потеребити', 'Перетерти': 'Потеребити', 'Пташеня': 'Потє', 'Пташечка': 'Потє', 'Розбійний Напад': 'Потичка', 'Сутичка': 'Потичка', 'Потойбіч': 'Потойбік', 'Втопленик': 'Потоплєник', 'Потрясла': 'Потрєслаєс', 'Витрясла': 'Потрєслаєс', 'Похвалити': 'Пофалити', 'Повторяти': 'Пофторєти', 'Повчання': 'Поучення', 'Напучення': 'Поучення', 'Поради': 'Поучення', 'Віко Труни': 'Похва', 'Погано Вплинуло': 'Похибувало', 'Пошкодило': 'Похибувало', 'Забракувало': 'Похибувало', 'Похмілля': 'Похмилка', 'По-Християнськи': 'По-Христєнцки', 'Допитлива': 'Поцтива', 'Живіт': 'Почеревина', 'Черево': 'Почеревина', 'Піти Тягнучи Ноги': 'Почьовгати', 'Напружитися': 'Пошпануватиси', 'Натужитися': 'Пошпануватиси', 'Піднатужитися': 'Пошпануватиси', 'Уживається Для Зупинення Коней': 'Пр-Пр-Пр; Пр-Р-Р; Пр-Р-Р-Ру!', 'Статут': 'Правильник', 'Пряник': 'Праник', 'Практика': 'Прахтика', 'Праця': 'Праца', 'Робота': 'Праца', 'Працювати': 'Працувати', 'Трудитися': 'Працувати', 'Праправнуки': 'Пращіта', 'Дуже Давня': 'Предвіцька', 'Прадід': 'Предід', 'Бо Ж': 'Прецінь', 'Проте': 'Прецінь', 'Однак': 'Прецінь', 'Повісмо': 'Прєдиво', 'Пряжа': 'Прєжя', 'Накопичувати Щось': 'Прєтати', 'Привиджається': 'Привижєєси', 'Привиджується': 'Привижєєси', 'Привозять': 'Привозє', 'Надбане': 'Пригаздоване', 'Повне Несподіванок': 'Пригінчливе', 'Небезпечне': 'Пригінчьливе', 'Жменя': 'Пригорьші', 'Пригорщі': 'Пригорьші', 'Фіґлі': 'Придибашки', 'Приживеться': 'Прижиєси', 'Приїздить': 'Приїхує', 'Ховати': \"Прй'итати\", 'Стати На Коліна': 'Приклєкнути', 'Ставати На Коліна': 'Приклікати', 'Поляна Посеред Гірського Лісу': 'Прилука', 'Посадовець Прокуратури': 'Прикурор', 'Доставити Додому': 'Прикучювати', 'Привезти Додому': 'Прикучювати', 'Темнішає': 'Примерькаї', 'Баяти': 'Примівка', 'Примірювання': 'Примірка', 'Примовляють': \"Примов'єют\", 'Припекти': 'Припечи', 'Пришмалити': 'Припечи', 'Сказати Правду': 'Приповістиси', 'Прилагодити': 'Приподрювати', 'Зробити Перерву': 'Припочювати', 'Зробити Перепочинок': 'Припочювати', 'Заготовляти': 'Припрєтувати', 'Припасати': 'Припрєтувати', 'Створювати Запас': 'Припрєтувати', 'Попадали': 'Прирацичіли', 'Скотилися': 'Прирацичіли', 'Пригнітити': 'Прискорбити', 'Приязний': 'Присній', 'Прихисток': 'Притин', 'Тимчасовий Прихисток': 'Притин', 'Давати Знання': 'Приучувати', 'Навприсядки': 'Причєкати', 'Причина': 'Причіна', 'Мотив': 'Причіна', 'Прийшла': 'Прійшла', 'Мер': 'Прімар', 'Лава': 'Пріча', 'Нари': 'Пріча', 'Проект': 'Проєкт', 'Прокурор': 'Прокуратор', 'Прокуратура': 'Прокураторія', 'Проміняти': 'Промінєти', 'Випиваха': 'Пропийдушница', 'Пропійця': 'Пропийдушница', 'Милостиня': 'Простибі', 'Постільна Білизна': 'Простило', 'Просвіта': 'Просьвіта', 'Адже Ж': 'Прото', 'Висихає': 'Протрєхає', 'Підсихає': 'Протрєхає', 'Прибулий': 'Проходан', 'Прохожий': 'Проходан', 'Процвітає': 'Процвитає', 'Розцвітає': 'Процвитає', 'Цвіте': 'Процвитає', 'Позивач У Суді': 'Процесник', 'Судитися': 'Процесуватиси', 'Прочитати': 'Прочєтати', 'Попрошайко': 'Прошєк', 'Суха': 'Прошушена', 'Проща': 'Прошші', 'Прощення': 'Прошші', 'Прошак': 'Прошьик', 'Старець': 'Прошьик', 'Прощати': 'Прощьити', 'Вербові Гілки': 'Пруті', 'Білоус': 'Псєнка', 'Собаче Лайно': 'Псьичка', 'Послід': 'Псьичка', 'Птах': 'Пташок', 'Публічна': 'Публична', 'Пугач': 'Пуга', 'Пуголовок': 'Пуголовиця', 'Гарапник': 'Пужівка', 'Пуга': 'Пужівка', 'Вигук Для Кликання Індиків': 'Пуль–Пуль–Пуль', 'Повітряний Міхур Риби': 'Пундало', \"Пуп'янок\": 'Пупинок', 'Потилиця': 'Путулица', 'Карк': 'Путулица', 'Карок': 'Путулица', 'Опухоль': 'Пухленица', 'Доводити До Блиску': 'Пуцувати', 'Ґмінний': 'Пушкарь', 'Остання Неділя Перед Великим Постом': 'Пущіні', 'Пхатися': 'Пхатиси', 'Проникати В Середину': 'Пхатиси', 'Тиснутися': 'Пхатиси', 'Штовхатися': 'Пхатиси', 'Бджолиний': 'Пчольичий', 'Перо': \"П'юро\", 'Пташине Перо': 'Пюрце', 'Грабунок': 'Рабунок', 'Вкрадене': 'Рабунок', 'Награбоване': 'Рабунок', 'Радіомовлення': 'Радийо', 'Радіола': 'Радийола', 'Радійте': 'Радуйтиси', 'Тіштеся': 'Радуйтиси', 'З Більшим Бажанням': 'Радьше', 'Охочіше': 'Радьше', 'Частіше': 'Радьше', 'Рождається': 'Раждається', 'Живо': 'Раздва', 'Футко': 'Раздва', 'Районна Преса': 'Районова', 'Тонка Бавовняна Тканина': 'Рантух', 'Горбкуватий': 'Рапавий', 'Нерівний': 'Рапавий', 'Прищавий': 'Рапавий', 'Ропуха': \"Р'апавка\", 'Рафінад': 'Рафінат', 'Територія': 'Ревір', 'Рейка': 'Рейса', 'Шина': 'Рейса', 'Вилучати': 'Реквірувати', 'Забирати': 'Реквірувати', 'Конфіскувати': 'Реквірувати', 'Привласнювати': 'Реквірувати', 'Реклама': 'Рекляма', 'Рекламація': 'Реклямація', 'Заява': 'Реклямація', 'Претензія': 'Реклямація', 'Операція': 'Реперація', 'Оперувати': 'Реперувати', 'Республіка': 'Республика', 'Рецепт': 'Реціпка', 'Строк': 'Речинец', 'Термін': 'Речинец', 'Рівна': 'Ривна', 'Рівний': 'Риўніў', 'Рідна': 'Ридна', 'Рисова Крупа': 'Риж', 'Рижик Смачний': 'Рижок', 'Різдво': 'Риздво', 'Риковище': 'Риковишє', 'Давня Австрійська Монета': 'Ринський', 'Рипатися': 'Рипатиси', 'Писачок': 'Рисік', 'Ручка Для Писання': 'Рисік', 'Штикова Лопата': 'Рискаль', 'Городник': 'Рискаль', 'Його Вживав Гонільник При Загоні Овець У Струнку Для Доїння': 'Рист! Рист! Рист!', 'Бігме': 'Рихтіґ', 'Таки Так': 'Рихтіґ', 'Заправляти Страву': 'Рідити', 'Заправлена': 'Ріжена', 'Всяка': 'Ріжна', 'Різна': 'Ріжна', 'Різниця': 'Ріжниці', 'Відмінність У Чомусь': 'Ріжниці', 'Всілякі': 'Ріжні', 'Не Однакові': 'Ріжні', 'Різні': 'Ріжні', 'Усякі': 'Ріжні', 'Різноманітні': 'Рижноманітні', 'Різьблені': 'Різблені', 'Прикрашені Різьбленням': 'Різблені', \"Різдв'яні\": 'Різдвлєні', 'Різьбяр': 'Різьбар', 'Робітник Нафтового Промислу': 'Ріпник', 'Ріг Тварини': 'Ріх', 'Правильно': 'Ріхтіґ', 'Роблю': \"Роб'ю\", 'Вчиняю': \"Роб'ю\", 'Здійснюю': \"Роб'ю\", 'Творюю': \"Роб'ю\", 'Творять': 'Роблят', 'Витворяють': 'Роблят', 'Велосипедист': 'Роверист', 'Один З Видів Чоловічої Шапки': 'Рогатєнка', 'Родився': 'Родєўси', 'Народився': 'Родєўси', 'Різдво Христове': 'Рождество', 'Вийти З Постування': 'Розговітиси', 'Припинити Піст': 'Розговітиси', 'Розвилка': 'Роздорожище', 'Розпуття': 'Роздорожище', 'Перехрестя': 'Роздорожище', 'Роздіти': 'Розибрати', 'Розвестися': 'Розийтиси', 'Розірвати Шлюб У Законному Порядку': 'Розийтиси', 'Розійтися Мирно': 'Розийтиси', 'Ознайомився': 'Роззнакомитиси', 'Повернення З Полонин': 'Розлучіні', 'Марнотратниця': 'Розмайниця', 'Резиденція': 'Розоденція', 'Колядницьке Свято': 'Розплісний Вечір', 'Розлучитися': 'Розпрощьитисі', 'Перехресток': 'Розпуки', 'Розходяться': 'Розходьиси', 'Румун': 'Ромун', 'Румунський': 'Ромунцкий', 'Джерело Або Копанка Із Сировицею': \"Роп'єнка\", 'Робітник, Зайнятий На Видобуванні Ропи': 'Ропник', 'Російські': 'Росийскі', 'Пісна Страва На Святвечір': 'Росівниця', 'Шматє': 'Руб', 'Заколюють': 'Рубают', 'Ріжуть Свині': 'Рубают', 'Різний': 'Ружній', \"Рум'яна\": \"Рум'єна\", 'Румунські': 'Румунцкі', 'Залізобетонна Труба Великого Діаметру': 'Рура', 'Бетонне Кільце Для Криниці': 'Рура', 'Трубочка': 'Рурка', 'Російська': 'Руска', 'Російський Народ': 'Руский Нарід', 'Виїжджає': 'Рушєє', 'Рушає': 'Рушєє', 'Держак Сака': 'Саківно', 'Самогон': 'Самогонка', 'Держак Сапи': 'Сапивно', 'Біднячка': 'Сарака', 'Бідака': 'Сарачє', 'Сарака': 'Сарачє', 'Саракий': 'Сарачє', 'Сарачі': 'Сарачє', 'Своєї': 'Свеї', 'Власної': 'Свеї', 'Чєшутси': \"Сверб'є\", 'Чешуться': \"Сверб'є\", 'Свербець': \"Сверб'єчька\", 'Свята Вечеря': 'Свєта Вечєря', 'Святвечір': 'Свєтвечір', 'Світять': 'Світє', 'Свого': 'Своєго', 'Безпечніше': 'Свойскішше', 'Надійніше': 'Свойскішше', 'Спокійніше': 'Свойскішше', 'Цієї Ночі': 'Сегіночі', 'Сьогоднішньої Ночі': 'Сегіночі', 'Теперішньої Ночі': 'Сегіночі', 'Цього': 'Сего', 'Цього Року': 'Сегороку', 'Цьогоріч': 'Сегороку', 'Секретар': 'Секретарька', 'Секретаріат': 'Секретарят', 'Плата Натурою': 'Сембрила', 'Дружина Семена': 'Семениха', 'Сердечні': 'Сердешні', 'Сестра Чоловіка': 'Сестрінка', 'Святити': \"С'єтити\", 'Святкують': \"С'єткуют\", 'Високе Рівне Дерево': 'Сигла', 'Непрохідний Ліс': 'Сиглєчій', 'Гущава': 'Сигли', 'Сидять': 'Сидє', 'Сидіння': 'Сидіні', 'Мешкати': 'Сидіти', 'Проживати': 'Сидіти', 'Надулось': 'Си Здуло', 'Сеча': 'Сиклина', 'Нашийна Жіноча Прикраса': 'Силінка', 'Нанизувати': 'Сильити', 'Пастка': 'Силька', 'Капкан Для Ловлі Звірів': 'Силька', 'Мрич': 'Синівка', 'Осколки': 'Сіканці', 'Страхівка': 'Сікірація', 'Асикурація': 'Сікірація', 'Сільська Рада': 'Сілірада', 'Силос': 'Сілос', 'Силянка': 'Сільинка', 'Насіння': 'Сімнє', 'Мак': 'Сіннячко', 'Набір, Призов На Військову Службу': 'Сітерунок', 'Привіт': 'С.І.Х.', 'Святце': 'Сіцце', 'Січові Стрільці': 'Січовики', 'Ниґіти': 'Скапати', 'Втрачати Вагу Й Сили': 'Скапати', 'Схожий': 'Скапенний', 'Скарбниця': 'Скарбона', 'Стягнути': 'Скєгнути', 'Роздітися': 'Скєгнути', 'Зняти': 'Скєгнути', 'Шкіряні': 'Скіряні', 'Продавчиня': 'Склепарька', 'Продавщиця': 'Склепарька', 'Скликання': 'Скликані', \"Зім'яти\": 'Склимацувати', 'Скрутити': 'Склимацувати', 'Забудькувата Людина': 'Скліротичька', 'Лоскоче': 'Скобичє', 'Маслянка': 'Сколотини', 'Перервати Сон': 'Скорнєти', 'Розбудити': 'Скорнєти', 'Трамплін': 'Скочня', 'Скрипить': 'Скрипит', 'Скрипалі': 'Скрипники', \"Слов'яни\": 'Славяни', 'Слива': 'Сливка', 'Домашнє Сливове Вино': 'Сливовіца', 'Очі': 'Сліпаки', 'Словничок': 'Словарець', \"Слов'янська\": 'Словянська', 'Слон': 'Слонь', 'Дощити': 'Слотити', 'Недолугий': 'Слутий', 'Скутий': 'Слутий', 'Законний Шлюб': 'Сьльуб', 'Обряд Вінчання': 'Слюб', 'Весільне': 'Слюбне', 'Нагла Хвороба': 'Смага', 'Нестатки': 'Смага', 'Психологічний Удар': 'Смага', 'Смалець': 'Смалец', 'Найпростіша Й Улюбленіша Страва Гуцулів': 'Смашка', 'Смачна': 'Смашна', 'Приємна На Смак': 'Смашна', 'Велика Смерека': 'Смеречишє', 'Смерічки': 'Смеречі', 'Сметана': 'Смитана', 'Сміявся': 'Смієвси', 'Сміється': 'Смієси', 'Смійся': 'Смій Сі', 'Насміхаються': 'Сміютси', 'Сміються': 'Сміютси', 'Вісь У Возі': 'Снасть', 'Сниться': 'Снитци', 'Бачити В Сні': 'Снити', 'Сновидіння': 'Снити', 'Частина Воза, До Котрої Прикріплюють Дишель': 'Сниці', 'Так Само': 'Сніськ', 'Зовсім Так': 'Сніськ', 'Чисто Гей': 'Сніськ', 'Вчорашня': 'Снішна', 'Вчора Вверечі': 'Сночи', 'Собою': 'Собов', 'Представник Колишнього Срср': 'Совєт', 'Радянський': 'Совєтський', 'Радянська': 'Совєцька', 'Представники Радянської Влади': 'Совіти', 'Епоха Колишнього Срср': 'Совітська Доба', 'Радянська Влада': 'Совіцька Влада', 'Радянський Союз': 'Совіцький Союз', 'Останні Подихи': 'Содухи', 'Душа': 'Содухи', 'Сокільське': 'Сокилске', 'Підстраховуватися': 'Сокотитиси', 'Бути Пильним': 'Сокотитисі', 'Соловейко': 'Соловієчко', 'Солоденькі': 'Солодьитко', 'Солодятко': 'Солодьитко', 'Керівник Села': 'Солтис', 'Польський Староста': 'Солтис', 'Заспаний': 'Сомний', 'Сонний': 'Сомний', 'Сонечко': 'Сонінько', 'Сопілочка': 'Сопівочка', 'Вонь': 'Сопух', 'Сопуха': 'Сопух', \"Сором'язливий\": 'Сороміцкий', 'Вульгарні Слова': 'Сороміцькі', 'Вульгаризми': 'Сороміцькі', 'Бережливо': 'Сохранно', 'Дуже Уважно': 'Сохранно', 'Вигідна': 'Сохтівна', 'Зручна': 'Сохтівна', 'Соціаліст': 'Соціяліст', 'Вдавати З Себе Панка': 'Спанчітиси', 'Шпекулянт': 'Спекулянт', 'Виступити Проти': 'Сперечіти', 'Спеціально': 'Спеціяльно', 'Засмутити': 'Спечалити', 'Навіяти Сум': 'Спечалити', 'Напекти': 'Спечє', 'Поношений, Просмальцований Кожух': 'Спінзарь', 'Астма': 'Спір', 'Дихавиця': 'Спір', 'Задуха': 'Спір', 'Засоромлювати': 'Споблічити', 'Присоромити': 'Споблічити', 'Публічно Зганьбити': 'Споблічити', 'Висповідається': 'Сповістси', 'Піде До Сповіді': 'Сповістси', 'Виполоскати': 'Сполокати', 'Начисто Забрати': 'Сполокати', 'Спогад': 'Спомка', 'Спонсор': 'Спонзор', 'Спортивний': 'Спортовий', 'Перепочинок': 'Спочивало', 'Померти': \"Споч'іти\", 'Умерти': \"Споч'іти\", 'Показати Напрямок': \"Справ'єти\", 'Направити': 'Справити', 'Налаштувати': 'Справити', 'Приховати': 'Спрєтати', 'Надоїсти': 'Сприкритиси', 'Спротивитися': 'Сприкритиси', 'Складати До Купи': 'Спрітовувати', 'Сплю': \"Сп'ю\", 'Срібний': 'Срімний', 'Коняр': 'Стадар', 'Пастух Коней': 'Стадар', 'Невеличка Стайня': 'Стаєнька', 'Хлівець': 'Стаєнька', 'Вид Прикладного Мистецтва': 'Станковий Живопис', 'Тато Й Мама': 'Стариня', 'Люди Похилого Віку': 'Стариня', 'Стародавня': 'Старовіцька', 'Старовинна': 'Старовіцька', 'Стародавній': 'Старовіцький', 'Старовина': 'Старовіччина', 'Старожитність': 'Старовіччина', 'Старша За Віком': 'Старшіша', 'Вокзал': 'Стація', 'Дбайливий': 'Стєгливий', 'Щойно Випалий Сніг': 'Стіб', 'Скатерка Для Накривання Стола': 'Стільник', 'Стовбур': 'Стойбурь', 'Столярка': 'Столєрка', 'Алое Деревовидне': 'Столітник', 'Столяр': 'Стольирь', 'Стопчатівський': 'Стопчьитский', 'Принижувати': 'Сторцувати', 'Буде Необхідність': 'Страбитси', 'Бути Потрібним': 'Стребитисі', 'Пригодиться': 'Стребитисі', 'Стрясати': 'Стрєсти', 'Стрясти': 'Стрєсти', 'Жінка-Стригаль': 'Стригалька', 'Брат Тата': 'Стрий', 'Брат Батька': 'Стрийко', 'Повід Для Коней': 'Стринзелька', 'Повідка': 'Стринзелька', 'Вистріл': 'Стріл', 'Стріляти': 'Стрілєти', 'Мисливці': 'Стрілці', 'Стрітенська Свічка': 'Стрітелна', 'Зустрічати Когось': 'Стрітити', 'Зустріч': 'Стріча', 'Зустрічати': 'Стрічєти', 'Зустрічатися': 'Стрічєтиси', 'Стрітення Господа Ісуса Христа': 'Стрічінє', 'Крутизна': 'Стромина', 'Жіноча Недуга': 'Строминьи', 'Прилад': 'Струмент', 'Струна': 'Струнва', 'Засохла Рана': 'Струп', 'Подовгувата Плетена Булка': 'Струцень', 'Плетеник': 'Струцень', 'Пиріг, Начинений Повидлом': 'Струцль', 'Відштовхувати': 'Стручувати', 'Зсувати': 'Стручувати', 'Морозно': 'Студено', 'Холодно': 'Студено', 'Ретельно Вивчати': 'Студйовати', 'Вчити Що-Небудь': 'Студйовати', 'Їздити': 'Стурєтиси', 'Мотатися': 'Стурєтиси', 'Перебиватися': 'Стурєтиси', 'Грубе Шило': 'Сугак', 'Боднарський Виріб': 'Судник', 'Кровотеча': 'Сукровиця', 'Спілка Української Молоді': 'Сум', 'Посланя': 'Супліка', 'Перелякано': 'Сураво', 'Перестрашено': 'Сураво', 'Вузька Вуличка': 'Сутки', 'Вузенькі Дороги В Горах, Відгороджені Воринням': 'Суточки', 'Смуга Землі': 'Сутуга', 'Пасмо': 'Сутуга', 'Хворост': 'Сучє', 'Ідемо Назустріч': 'Сходимосми', 'Збираємоси Разом': 'Сходимосми', 'Сходимося': 'Сходимосми', 'Проводьмо Час Разом': 'Сходімсьи', 'Щезати': 'Счєзнути', 'Стати Невидимим': 'Счєзнути', 'Свідок': 'Сьвідок', 'Світ': 'Сьвіт', 'Світова': 'Сьвітова', 'Мале Свято': 'Сьвітце', 'Святкує': 'Сьвйиткує', 'Святе Письмо': 'Сьвяте Письмо', 'Сміливий': 'Сьмілий', 'Хоробрий': 'Сьмілий', 'Співають': 'Сьпівають', 'Садовина': 'Сюбина', 'Фрукти І Ягоди': 'Сюбина', \"В'ється\": 'Ся Вивує', 'Колядницька Партія': 'Табора', 'Іменне': 'Талан', 'Онде Там': 'Тамечкі', 'Той': 'Тамтой', 'Дешевий': 'Таний', 'Дешевші': 'Танші', 'Менші': 'Танші', 'Кольоровий': 'Таркатий', 'Бокова Частина Сідла': 'Тарниця', 'Лісопильна Рама': 'Тартак', 'Пилорама': 'Тартак', 'Міхур': \"Тарш'ук\", 'Нести Щось Важке': 'Таскати', 'Уживається Для Кликання Качок': 'Тась-Тась-Тась', 'Кобура': 'Ташка', 'Театр': 'Театер', 'Текучанець': 'Текучьинец', 'Телефонні': 'Телефонічні', 'Телефонограма': 'Телєфоноґрама', 'Пастка Для Сарни': 'Теліз', 'Темно': 'Темрйич', 'Темнота': 'Темрйич', 'Великий': 'Теньґий', 'Громіздкий': 'Теньґий', 'Сильно': 'Теньґо', 'Теслювати': 'Тесличєти', 'Виконувати Теслярські Роботи': 'Тесличєти', 'Свати': 'Тесті', 'Сестра Тата': 'Тета', 'Сестра Мами': 'Тета', 'Кіта': 'Тета', 'Сутужно': 'Тєжко', 'Складніше': 'Тєжши', 'Впало На Гадку': 'Тєкло', 'Прийшла Думка': 'Тєкло', 'Гикнеться': 'Тєкнеси', 'Не Забувати': 'Тємити', \"Зберігати В Пам'яті\": 'Тємувати', 'Тяжче': 'Тєшшє', 'Тибель': 'Тибіль', 'Теличка': 'Тиличка', 'Телеграма': 'Тиліграма', 'Тому Що': 'Тимунь', 'Зараз Же': 'Типер', 'Уже Таки': 'Типер', 'Теперішні': 'Типерішні', 'Ворушити': 'Тівати', 'Розбивати': 'Тівати', 'Парування Худоби': 'Тівнінє', 'Запліднення Худоби': 'Тівнінє', 'Коса Дівчини Або Жінки': 'Тіска', 'Кістки': 'Тісточькє', 'Кості': 'Тісточькє', 'Парування Вовків': 'Тічітси', 'Передня Чи Задня Частина Воза': 'Тічка', 'Того Року': 'Тогідь', 'Ручна Токарня': 'Токарнецца', 'Токарний Верстат По Дереву': 'Токарнє', 'Руберойд': 'Толі', 'Держак Сокири': 'Топориші', 'Обвислі Жіночі Груди': 'Торби', 'Перестарілі Жінки': 'Торби', 'Ті': 'Тоти', 'Те': 'Тото', 'Конче': 'Траба', 'Необхідно': 'Траба', 'Те, Що Тре': 'Траба', 'Варто Би': 'Траба', \"Трав'яний\": 'Травовий', \"Риб'ячий Жир\": 'Тран', 'Стежка, Втоптана Вівцями': \"Трап'аш\", 'Тирса': 'Трат', 'Збиткувати': 'Тратити', 'Відбувається': \"Траф'єїтси\", 'Діється': \"Траф'єїтси\", 'Проходить': \"Траф'єїтси\", 'Треба Ще': \"Тра'ші\", 'Молодий Осиковий Ліс': 'Трепетина', 'Підберезовик': 'Трепітник', 'Дриґати': 'Трепіцкатиси', 'Смикатися': 'Трепіцкатиси', 'Юрґатися': 'Трепіцкатиси', 'Бути Здоровим': 'Тривати', 'Довго Жити': 'Тривати', 'Дитяча Хвороба': 'Тридуші', 'Три': 'Тріє', 'Трутина': 'Тріло', 'Дбайливість': 'Трімність', 'Працьовитість': 'Трімність', 'Трястися': 'Трістиси', 'Сухий Хмиз': 'Трішньик', 'Тріскають': 'Трішшют', 'Тріщать': 'Трішшют', 'Земне': 'Туземне', 'На Землі': 'Туземне', 'Тут На Землі': 'Туземне', 'Ведмежа': 'Тулук', 'Ведмежатко': 'Тулук', 'Тюлька': 'Тулька', 'Доторкатися': 'Тулятися', 'Торкатись Чогось': 'Тулятися', 'Чіплятися За Щось': 'Тулятися', 'Розумово Відсталий Чоловік': 'Тупак', 'Турист': 'Туріст', 'Затяжна Злива': 'Турлаш', 'Затор На Річці': 'Турлаш', 'Смоктати': 'Турлиґати', 'Звільнити З Роботи': 'Турнути', 'Переобрати': 'Турнути', 'Недоумкувата Людина': 'Турок', 'Бездара': 'Турок', 'Тутеньки': 'Тутечкі', 'Тутка': 'Тутечкі', 'Ти': 'Тьи', 'Тягар': 'Тьижир', 'Велика Западь': 'Тьижир', 'Тому Так': 'Тьимой', 'Вигук, Що Вживається, Щоб Уникнути Прокляття Або Нещастя': 'Тьфу', 'Кушка Для Бруса': 'Тюшка', 'Вживається При Кликанні Курей': 'Тю-Тю-Тю', 'Рубати': 'Тяти', 'Вбираються': 'Убераютци', 'Одягаються': 'Убераютци', 'Карпатська Вівця': 'Убери-Хата', 'Уважати': 'Уважєти', 'Бути Уважним': 'Уважєти', 'Млявий': \"Ув'єлий\", 'Вправно Виконувати Роботу': 'Увихатиси', 'Поратися': 'Увихатиси', 'Робити Роботу Поквапно, Швидко': 'Увихатьиси', 'Повсякчас': 'Уводно', 'Українська Галицька Армія': 'Уга', 'Угорці': 'Угри', 'Вподобатися': 'Удаватиси', 'Сподобатися': 'Удаватиси', 'Кинутися В Очі': 'Удаватиси', 'Подобається': 'Удаєтци', 'Вдалося Б': 'Удалоби Си', 'Сподобалося': 'Удалоби Си', 'У Два Рази': 'Удубелт', 'Озброєні': 'Узброєні', 'Піджак Із Домотканого Сукна': 'Уйош', 'Учений': 'Укий', 'Скельні Сходи': 'Улоги', 'Абажур': 'Умбра', 'Умови': 'Умовини', 'Ні На Що': 'Універть', 'Днями': 'Уногди–Ка', 'Зовсім Недавно': 'Уногди–Ка', 'Якось То': 'Уногди–Ка', 'Онуча': 'Унуча', 'Українська Повстанська Армія': 'Упа', 'Завтрашній День': 'Уперідь', 'Наперед': 'Уперідь', 'Вояки Упа': 'Упівці', 'Кісники З Волічки Для Дівчаток': 'Уплітки', 'В Обід': 'Уполудне', 'Обідня Перерва': 'Уполудне', 'Упряж Для Коней': 'Упрєж', 'Запряжений Кінь До Фіри': 'Упрєжений', 'Спотіти': 'Упріти', 'Пітніти': 'Упріти', 'Організовуються': 'Урєджуєтци', 'Створюються': 'Урєджуєтци', 'Урядовець': 'Урєдник', 'Держслужбовець': 'Урєдник', 'Влада': 'Урід', 'Управа': 'Урід', 'Оплачувана Відпустка': 'Урлйоп', 'Врожай': 'Урожя', 'Урожай': 'Урожя', 'Політок': 'Урожя', 'Навчальні Години': 'Урокі', 'Обладнання': 'Урядженя', 'Устаткування': 'Урядженя', 'Гусари': 'Усари', 'Умова': 'Услівє', 'Везіння': 'Успосібнення', 'Скажений': 'Устеклий', 'Хворий Сказом': 'Устеклий', \"З'єднання Двох Річок\": 'Устє', 'Встид': 'Устид', 'Стид': 'Устид', 'Початок Річки': 'Устя', 'Пліснява': 'Усуга', 'Закохатися': 'Утріскатиси', 'Сильно Влюбитися': 'Утріскатиси', 'Осліпнути': 'Утьимнітьи', 'Втратити Зір': 'Утьимнітьи', 'Впадати З Сили': 'Ухлєвати', 'Змучуватиси': 'Ухлєвати', 'Учені': 'Учєні', 'Науковці': 'Учєні', 'Вчили': 'Учіли', 'Учили': 'Учіли', 'Вчитель': 'Учітель', 'Учитель': 'Учітель', 'Освітянин': 'Учітель', 'Здобувати Знання': 'Учіти', 'Навчатися': 'Учітиси', 'Вчинити': 'Учьинити', 'Вчинила': 'Учьинила', 'Фауна': 'Фавна', 'Люлька Для Куріння Тютюну': 'Файка', 'Вродлива': 'Файна', 'Красива': 'Файна', 'Симпатична': 'Файна', 'Мала Цапіна': 'Файфіра', 'Факел': 'Факля', 'Винаймати Полонини': 'Фактувати', 'Неточний': 'Фалшивий', 'Підроблений': 'Фалшивий', 'Спотворений': 'Фалшивий', 'Филя': 'Фаля', 'Близька Рідня': 'Фаміліянти', 'Родичі': 'Фаміліянти', 'Інфантерія': 'Фантерія', 'Лахи': 'Фантє', 'Інтриґан': 'Фаріон', 'Ошуканець': 'Фаріон', 'Викрасти': 'Фарнути', 'Украсти': 'Фарнути', 'Фасад': 'Фасіят', 'Квасолева Страва': 'Фасольова', 'Суп З Квасолі': 'Фасольова', 'Розділяти За Нормою': 'Фасувати', 'Схоплювати': \"Фат'ати\", 'Хапати': \"Фат'ати\", 'Ухопити': 'Фатнути', 'Заношувати Одяг': 'Фашкати', 'Неохайно Носити Верхній Одяг': 'Фашкати', 'Уживається Для Присоромлення': 'Фе!', 'Старий Верхній Одяг': 'Фелеґа', 'Кінець Усьому': 'Фертіґ', 'Керувати Кіньми': 'Фирманка', 'Довга': 'Фиса', 'Змія': 'Фиса', 'Шиплять': 'Фисять', 'Або Звук': 'Фів', 'Дво-Тридверна Шафа': 'Фіґлева', 'Витівки': 'Фіґлі', 'Хрещеник': 'Фіїн', 'Хрещениця': 'Фіїн', 'Фіолетова': 'Філітова', 'Філадельфія': 'Філядельфія', 'Хура': 'Фіра', 'Свисток': 'Фіркотало', 'Бугикати': 'Флєджіти', 'Кашляти': 'Флєджіти', 'Пляшечка': 'Флєшечка', 'Пляшчина': 'Флєшечка', 'Ридати': 'Флинькати', 'Бутіти': 'Флинькати', 'Хлипати': 'Флинькати', 'Плящина': 'Фліщина', 'Слякоть': 'Фльицкавка', 'Вовк': 'Флуд', 'Хижий Звір': 'Флуд', 'Важлива Складова Кляузи': 'Флудер', 'Грати На Флоярі': 'Флуєрати', 'Флора': 'Фльора', 'Фотографую': 'Фодоґрафую', 'Знимкую': 'Фодоґрафую', 'Хвойні Гущаки': 'Фоєник', 'Навіси Під Хвоєю': 'Фоєник', 'Сукновальня': 'Фолюш', 'Виброджувати': 'Формітувати', 'Адаптуються': \"Фороб'є\", 'Привикають': \"Фороб'є\", 'Призвичаюються': \"Фороб'є\", 'Ріщє': 'Форост', 'Ріщі': 'Форост', 'Фортепіано': 'Фортепяно', 'Великий Довгий Віз': 'Форшпан', 'Рівчак': 'Фоса', 'Висловлює Невдоволення': 'Фоскає', 'Висловлює Обурення': 'Фоскає', 'Хвостик': 'Фостик', 'Готель': 'Фотель', 'Фотоапарат': 'Фотоґрафічний Апарат', 'Бути Вільним': 'Фрай', 'Мати Вихідний': 'Фрай', 'Гальмівний Механізм': 'Фрайшлявф', 'Гальмівна Трубка': 'Фрайшлявф', 'Дорікання': 'Фук', 'Бродить': 'Фулькотит', 'Булькає': 'Фулькотит', 'Головний Жіночий Убір': 'Фустка', 'Плат': 'Фустка', 'Хутро': 'Футро', 'Підкладка Довбері': 'Футро', 'Хутряна': 'Футряна', 'Снігова Буря': 'Фуфела', 'Хуртовина': 'Фуфела', 'Дути': 'Фушкати', 'Піддувати': 'Фушкати', 'Довга Сопівка Без Денця': 'Фуярка', 'Фіакр': 'Фякер', 'Рот Людини': 'Хавка', 'Ґьимба': 'Хавка', 'Брехати': 'Хавкати', 'Позівати': 'Хавкати', 'Кукуц': 'Хавтур', 'Подачка': 'Хавтур', 'Наводити Порядок': 'Хаїти', 'Чагарник': 'Хамник', 'Непрохідні Хащі': 'Хамник', 'Простерилізувати Свиней': 'Харашіти', 'Продукт Харчування': 'Харчюнок', 'Хрипіти': 'Харьчіти', 'Житлове Приміщення': 'Хата', 'Хатні': 'Хатєні', 'Домашні': 'Хатєні', 'Мала Убога Хатка': 'Хатчєна', 'Маленька Хатка': 'Хатчінка', 'Велика Хата': 'Хатище', 'Вілія': 'Хатище', 'Помешкання': 'Хатнище', 'Убога Халупка': 'Хатнище', 'Хатка': 'Хатьиночька', 'Убогий Будиночок': 'Хатьиночька', 'Бракує Чогось': 'Хьєбує', 'Не Вистачає': 'Хьєбує', 'Зійти З Правильної Дороги': 'Хибити', 'Помилитися В Діях': 'Хибити', 'Будинок': 'Хижа', 'Господа': 'Хижа', 'Вилежуватися': 'Хиріти', 'Довго Спати': 'Хиріти', 'Перевал': 'Хитар', 'Хитрощі': 'Хитрошші', 'Обман': 'Хитрошші', 'Далека Дорога': 'Хід', 'Хлебтати': 'Хлестати', 'Сьорбати': 'Хлестати', 'Хлебче': 'Хлещє', 'Хлиськає': 'Хлещє', 'Хілітається': 'Хлєпаєтси', 'Попустилося': 'Хлєпаєтси', 'Пісна Зупа': 'Хлиставица', 'Хлопчина': 'Хлопчіші', 'Надзвичайна Ситуація': 'Хмаролім', 'Сильна Злива': 'Хмаролом', 'Бузина Чорна З Родини Жимолостевих': 'Хобза', 'Слизько На Дорозі, Під Ногами': 'Хобзко', 'Ховатися': 'Ховатиси', 'Ковзанка': 'Ховзанка', 'Чіповганка': 'Ховзанка', 'Ходулі': 'Ходільниці', 'Ходи': 'Ходьи', 'Холера': 'Холєра', 'Хочуть': 'Хотє', 'Відпуст': 'Храм', 'Отпуст': 'Храм', 'Хрестися': 'Хрестисси', 'Хрещення': 'Хрешшєнє', 'Християнські': 'Христєнцкі', 'Хрящ': 'Хрищєк', 'Хрящова Тканина': 'Хрищєк', 'Полуниця': 'Хруставка', 'Трускавки': \"Хр'усталі\", 'Тріскає': 'Хруцкає', 'Тріскотить': 'Хруцкає', 'Пукає': 'Хруцкає', 'Ломиться': 'Хруцкає', 'Художник': 'Художньик', 'Хто': 'Хьто', 'Чужина': 'Цара', '2': 'Цара', 'Клейонка Для Накривання Стола': 'Царата', 'Невелика Хата Взруб, Крита Дошками': 'Царьок', 'Цвях': 'Цвик', 'Сосок Жіночої Груді': 'Цвирок', 'Цицька': 'Цвирок', 'Цвірінькають Цвіркуни': 'Цвіконє', 'Квіти': 'Цвіти', 'Суцвіття': 'Цвіти', 'Говорити Пусте': \"Цеб'енькати\", 'Говорити Небилиці': \"Цеб'енькати\", 'Центр': 'Центро', 'Божий Храм': 'Церьква', 'Храм Божий': 'Церькова', 'Чи': 'Ци', 'Добрий Смак': 'Цимус', 'Найкраще': 'Цимус', 'Найсмачніше': 'Цимус', 'Чи Будуть?': 'Ци Мут', 'Музичний Інструмент': 'Цинькало', 'Цю': 'Цисю', 'Жіночі Груди': 'Цицні', 'Цицьки': 'Цицні', 'Цибуля': 'Цібуля', 'Цемент': 'Цімент', 'Уживають Для Кликання Курей, Курчат': 'Ціп', 'Шкіриться': 'Ціритси', 'Кліщі': 'Цонґлі', 'Опценьки': 'Цонґлі', 'Потягнути Назад': 'Цофнути', 'На Протязі': 'Цуґ', 'Протяги': 'Цуґ', 'Тягнути Кіньми Ліс У Бутині': 'Цуґувати', 'Кондитерська': 'Цукерня', 'Цукерки': 'Цукєркі', 'Медова Цукерка': 'Цукорка', 'Цілування': 'Цуловані', 'Скандал': 'Цурис', 'Команда Коням': 'Цурік', 'Давати Задній Хід': 'Цурік', 'Ті, Що Відступають Назад': 'Цуріки', 'Ті, Що Йдуть Назад': 'Цуріки', 'Короткий Кожушок Без Рукавів': 'Цурканка', 'Поцілунок': 'Цьом', 'Поцілуночок': 'Цьомка', 'Цьонь': 'Цьонь', 'Березовий Гриб': 'Чага', 'Валіза': 'Чамайдан', 'Валізка': 'Чамайдан', 'Втоптана Стежка Тваринами': 'Чапаш', 'Прикраса Одягу': 'Чапрага', 'Дерти Луб': 'Чарити', 'Дерти Кору': 'Чарити', 'Іти Поквапно': 'Чвалати', 'Спішити': 'Чвалати', 'Вправний': 'Чвалий', 'Челядь': 'Челяґь', 'Заміжні Жінки': 'Челяґь', 'Молодиці': 'Челяґь', 'Юначки': 'Челяґь', 'Чемерґес': 'Чемериця', 'Бджолорозплід': 'Черва', 'Хробак': 'Червак', \"Черв'ячок\": 'Червачок', 'Хробачок': 'Червачок', 'Дизентерія': 'Червінка', 'Чарівниця': 'Череґінниця', 'Чарівники': 'Чередїнники', 'Черепиця': 'Череп', 'Обкладинки До Ножа': \"Черінк'и\", \"Череп'я\": \"Черіп'є\", 'Черепки': \"Черіп'є\", 'Фурункула': 'Черяк', 'Щебетати': 'Чєбірскотіти', 'Чебрець': 'Чєбрик', 'Смерекове Гілля': 'Чєгора', 'Суглоб Пальця': 'Чєколонок', 'Жіночий': 'Єлідинцкий', 'Матір': 'Чєлідьина', 'Малий Ножик': 'Чєпелик', 'Чемний': 'Чємний', 'Ченці': 'Чєнці', 'Черва': 'Чєрва', \"Черв'яки\": 'Чєрва', 'Знімати Кору З Дерева': 'Чєрти', 'Лупити Дерево': 'Чєрти', 'Гостити': 'Чєстувати', 'Читанка': 'Чєтанка', 'Чхати': 'Чєхати', 'Чхнути': 'Чєхнути', 'Молоді Жінки': 'Чилідь', 'Юнки': 'Чилідь', 'Сидіти На Одному Місці': 'Чипіти', 'Стояти На Одному Місці': 'Чипіти', 'Санітарна Рубка В Лісі': 'Чишінка', 'Обрізка Плодоносних Дерев': 'Чишінка', 'Ждуть': 'Чікают', 'Чекають': 'Чікают', 'Суглоби Пальців': 'Чіколонкє', 'Чіплятися': 'Чіпатиси', 'Приставати': 'Чіпатиси', 'Підбивати Клинці': 'Чіпатиси', 'Ножик': 'Чіпелик', 'Чіпляли': \"Чіп'єли\", 'Довго Чекати': 'Чіпіти', 'Червоні': 'Чірвоні', 'Через': 'Чіріз', 'Почерез': 'Чіріз', 'Каламутна Вода': \"Ч'ірьина\", 'Повниця': 'Чістованє', 'Прочісувати': 'Чістрити', 'Чесати': 'Чістрити', 'Великий Пласт Хвої': 'Чітина', 'Квіточки': \"Ч'ічі\", 'Чому Мене': 'Чогось Ня', 'Чого Мене': 'Чогось Ня', 'Дзюбак': 'Чокан', 'Сорт Найкращої Кукурудзи': 'Чокантина', 'Шоколад': 'Чоколяда', 'Чому Ні?': 'Чомунь', 'Чорнява': 'Чорнєва', 'Дійниця': 'Чуберка', 'Цеберка': 'Чуберка', 'Іншомовне Слово': 'Чужослів', 'Вартові': 'Чуйки', 'Розвідники': 'Чуйки', 'Головний Убір Молодої': 'Чулок', 'Джура': 'Чура', 'Жура': 'Чура', 'Дзюрчить': 'Чурит', 'Тече': 'Чурит', 'Чуття': 'Чутє', 'Передчуття': 'Чутє', 'Народжувала': 'Чьинила', 'Родила': 'Чьинила', 'Випасання Худоби': 'Чьиредовання', 'Пастушення За Чергою': 'Чьиредовання', 'Ворожбицтво': 'Чьиредованя', 'Чарування': 'Чьиредованя', 'Ткати': \"Чь'ити\", 'Чоботи': 'Чьоботи', 'Чобітки': 'Чьоботи', 'Чорногора': 'Чьорногора', 'Чому': 'Чьо-Сте', 'Чужий': 'Чюжий', 'Витікати': 'Чюріти', 'Чути': 'Чюти', 'Міцно Затиснути В Руках': 'Чяпнути', 'Живіт Людини': 'Чярево', 'Шабаш': 'Шабас', 'Гуляща': 'Шалава', 'Легкої Поведінки Жінка': 'Шалава', 'Легковажна Людина': 'Шалапут', 'Непутяща Людина': 'Шалапут', 'Страва З Овочів': 'Шалата', 'Салат': 'Шалата', 'Стіни, Оббиті Цалівками Та Пофарбовані': 'Шалюнок', 'Придорожня Канава': 'Шанец', 'Кювет': 'Шанец', 'Яр': 'Шанець', 'Глиняний Глечик': 'Шанчік', 'Збанок': 'Шанчік', 'Приблуди З Міста': 'Шарапатки', 'Мокрий Сніг З Дощем': 'Шарґа', 'Сорт Груш Файного Смаку': 'Шарівка', 'Пулярес': 'Шартофля', 'Полярец': 'Шартофля', 'Віхола': 'Шаруга', 'Хурделиця': 'Шаруга', 'Мале Складське Приміщення': 'Шафарня', 'Кухонний Черпак': 'Шахелька', 'Кофля': 'Шахелька', 'Шахрайство': 'Шахєрка', 'Рахункова Комісія': 'Шацункова Комісия', 'Німець': 'Шваб', 'Швед': 'Шваб', 'Швейцар': 'Швайцар', 'Житель Швейцарії': 'Швайцар', 'Швейцарія': 'Швайцарія', 'Ескадрон': 'Швандрон', 'Передова': 'Шварма', 'Швелер': 'Швелєр', 'Купальники': 'Швіньки', 'Баня': 'Швіц', 'Лазня': 'Швіц', 'Металевий Стержень': 'Шворінь', 'Дзвіночки На Кінській Упряжі': 'Шеремері', 'Зайшлий Міщанин': 'Шерепітка', 'Сукно З Кізьої Вовни': \"Шерстьин'ик\", 'Собаченя': 'Шєні', 'Шанування': 'Шєнованє', 'Пошанівок': 'Шєнованє', 'Добре Доглянутий': 'Шєнований', 'Збережений': 'Шєнований', 'Шанований': 'Шєнований', 'Шапки': 'Шєпочькє', 'Шапочки': 'Шєпочькє', 'Головні Убори': 'Шєпочькє', 'Шахта': 'Шиб', 'Згадуй-Згадуй': 'Шимбале–Шимбале', 'Залізнична Рейка': 'Шина', 'Шинеля': 'Шинелі', 'Пороги В Річці': 'Шипіт', \"Природні Кам'янисті Перепади\": 'Шипіт', 'Ширінка': 'Ширінка', 'Передній Розріз У Штанах На Ґудзиках Або Замочку': 'Ширінка', 'Шорсткий, З Шкарубкою Поверхнею': 'Ширсткий', 'Дбати Про Себе': 'Шінуватиси', 'Шепелявити': 'Шіпільити', 'Гачок': 'Шіргак', 'Шарпнути': 'Шірпнути', 'Щось Тягнути Ривками': 'Шірпнути', 'Щасливий': 'Шісливий', 'Фортуна': 'Шістє', 'Морське Судно': 'Шіфа', 'Квиток На Поїздку В Канаду': 'Шіф-Карта', 'Таксатор': 'Шіцівник', 'Відломок': 'Шкаберка', 'Скалка': 'Шкаберка', 'Торбинка': \"Шкал'иточка\", 'Іти, Тягнучи Чи Налягаючи На Одну Ногу': 'Шкандибати', 'Старий Кінь': 'Шкапа', 'Коник': 'Шкапйи', 'Смажена Солонина': 'Шкварки', 'Шматочок Смаженої Солонини': 'Шкварок', 'Малесенький Шматок Солонини': 'Шкварчік', 'Гуцульські Саморобні Лижі': 'Шкілейта', 'Шкіряна': 'Шкіріна', 'Учитися': 'Школитися', 'Шкурух': 'Шкорух', 'Металеві Відходи Від Мосяжних Виробів': 'Шкремітки', \"Кам'янисте Урвище\": 'Шкрепітє', 'Стрімка Гора': 'Шкрепітє', 'Робити Аборт': 'Шкрептатиси', 'Скребтати': 'Шкробати', 'Неприємний Запах Горілого': 'Шкрум', 'Чадіти': 'Шкруміти', 'Не Сталося Поганого': 'Шляґ Кі Ни Трафив', 'Прокльони Не Подіяли': 'Шляґ Кі Ни Трафив', 'Аби Не Сталося Такого, За Що Можуть Проклинати': 'Шляґ Би Не Трафив', 'Аби Тебе Вхопило': 'Шляґ Би Ті Трафив', 'Аби Тобі Настав Кінець': 'Шляґ Би Ті Трафив', 'Аби Ти Ноги Протягнув': 'Шляґ Би Ті Трафив', 'Велике Переживання': \"Шляґи Траф'єли\", 'Най Би Це Пропало': 'Шляк Трафив', 'Що Б Там Не Було, А Це Мус Зробити': 'Шляк Трафит', 'Шланг': 'Шляуф', 'Ледача Дівка Або Жінка': 'Шмата', 'Вонюче': 'Шмердєче', 'Неприємне На Запах': 'Шмердєче', 'Смердюче': 'Шмердєче', 'Нежить': 'Шмирдавка', 'Катар': \"Шм'ирдавка\", 'Чкурнути': 'Шмиркнути', 'Терлиця': \"Шм'оргавка\", 'Снідати': 'Шнідати', 'Тонка Мотузочка': 'Шнурок', 'Шнурівка': 'Шнурок', 'Круглий Жіночий Пояс': 'Шнурок', 'Щораз': 'Шораз', 'Кожен Раз': 'Шораз', 'Щороку': 'Шорік', 'Кожного Року': 'Шорік', 'Штахети': 'Шпани', 'Штихети': 'Шпани', 'Пародія': 'Шпас', 'Шарж': 'Шпас', 'Повільна Хода': 'Шпацир', 'Прогулюватися': 'Шпацирувати', 'Спекулянт': 'Шпекулянт', 'Коле': 'Шпилєє', 'Поколює': 'Шпилєє', 'Шпигати': 'Шпилєти', 'Штукар': 'Шпікулянт', 'Торговельник': 'Шпікулянт', 'Шпилька': 'Шпінка', 'Спирт': 'Шпір', 'Зерносховище': 'Шпіхлер', 'Загострений Мешт Чи Черевик': 'Шпіц', 'Вузенька Ручна Пилка': 'Шпіцдзиґа', 'Кухонна Плита': 'Шпор', 'Шпаргат': 'Шпор', 'Довга Жердина': 'Шпражина', 'Спирт Промислового Виробництва': 'Шпрітус', 'Торець': 'Шпронц', 'Шпурляти': 'Шпурити', 'Гаєчка': 'Шрубка', 'Загвинчувати Гайки': 'Шрубувати', 'Закручувати Гайки': 'Шрубувати', 'Господарська Споруда': 'Шталова', 'Порційка': 'Штампик', 'Маленький Келішок': 'Штампик', 'Охайний': 'Штепний', 'Підтягнутий': 'Штепний', 'Зірка': 'Штерн', 'Дружина Степана': 'Штефаниха', 'Прямий': 'Штивний', 'Тримач Цапіни': 'Штиль', 'Стенд': 'Штонд', 'Страус': 'Штравс', 'Стригалі Овець': 'Штриґалі', 'Залізничне Полотно': 'Штрика', 'Панчохи': 'Штрімфлі', 'Хитрий': 'Штудерний', 'Кмітливий': 'Штудерний', 'Вивчати': 'Штудувати', 'Удар Під Бік': 'Штуханец', 'Обріз': 'Штуц', 'Холодна Зброя': 'Штуц', 'Штучне Дихання': 'Штучьний Віддих', 'Шісливий': 'Штясливий', 'Качан Кукурудзи': 'Шульок', 'Стрючок Бобових': 'Шульок', 'Стрючок Перцю': 'Шульок', 'Кукурудзиння': 'Шумилина', 'Швець': 'Шустер', 'Безрогий': 'Шутий', 'Гравій': 'Шутр', 'Шуфлета': 'Шуфляда', 'Сухофрукти': 'Шушениці', 'Щирі': 'Шшірі', 'Безкорисливі': 'Шшірі', 'Привітні': 'Шшірі', 'Чистосердечні': 'Шшірі', 'Квасковата Вода': \"Шьив'а\", 'Що': 'Шо', 'Нечиста Сила': 'Щезник', 'Прищепляти': 'Щепленє', 'Окулірувати': 'Щепленє', 'Тріщина': 'Щерба', 'Щербина': 'Щерба', 'Нерівні': 'Щербі', 'Щавель Кислий': 'Щєва', 'Гикати': 'Щикати', 'Розхитувати': 'Югати', 'Дружина Йосипа': 'Юзиха', 'Юхтовий': 'Ютовий', 'Шкіряний': 'Ютовий', 'Яблучне Вино': 'Яблешник', 'Яблунька': 'Яблінка', 'Яблуневий Сад': 'Яблінковий', 'Самогон З Яблук': 'Яблучьинка', 'Пастух Ягнят': 'Ягничєрь', 'Якщо Так': \"Якис'мо\", 'Коли Ж': \"Якис'мо\", 'Жереп': 'Яловец', 'Вдалося': 'Ялося', 'Довелося': 'Ялося', 'Прийшлося': 'Ялося', 'Здалося Б': 'Ялося', 'Варто Мати': 'Ялося', 'Яремчанець': 'Яремчьинський', 'Клянуся Богом': 'Я Фелую', '100 Кг': 'Кила', '12 Година': 'Полудне', '30 М': 'Ланц', 'Є Бажання': 'Кортит', 'Євдокія': 'Одокія', 'Єврей': 'Жид', 'Євстахій': 'Стах', 'Іван': 'Иван', 'Іванна': 'Іванка', 'Івано-Франківськ': 'Станіслав', 'Іграшка': 'Играшка', 'Іди': 'Иди', 'Ілля': 'Ілько', 'Ільці': 'Ильця', \"Ім'я\": 'Мнє', 'Імнє': 'Ймено', 'Інше': 'Инче', 'Інший': 'Инчий', 'Інші': 'Инчі', 'Їде': 'Рушєє', 'Їжа': 'Варя', 'Їздовий': 'Фирман', 'Її': 'Ї', 'Аби': 'Би', 'Абияк': 'Абиєк', 'Адже': 'Прецінь', 'Акушерка': 'Моша', 'Анна': 'Анниця', 'Багатий': 'Богатий', 'Багато': 'Велико', 'Багато Людей': 'Арава', 'Бажання': 'Хіть', 'Байстрюк': 'Копил', 'Баня-Березів': 'Баньки', 'Барабан': 'Бубон', 'Батіг': 'Корбач', 'Бачиться': 'Здаєтси', 'Бджола': 'Бжола', \"Бджолосім'я\": 'Пень', 'Безладдя': 'Тертус', 'Безпечно': 'Бізивно', 'Берегти': 'Сокотити', 'Березень': 'Март', 'Бесіда': 'Бай', 'Благовіщення': 'Благовішшєнє', 'Близько': 'Блиско', 'Блискавка': 'Мовня', 'Блошиця': 'Клоп', 'Богоявлення': 'Видорші', 'Болото': 'Грузь', 'Болять': 'Болєт', 'Болячка': 'Бола', 'Бондар': 'Боднар', 'Борошно': 'Мука', 'Борівка': 'Афини', 'Боязко': 'Бійно', 'Боятися': 'Боєтиси', 'Брати': 'Братя', 'Брехня': 'Бріхня', 'Бридко': 'Гид', 'Бриль': 'Крисаня', 'Бринза': 'Бриндза', 'Бруд': 'Леп', 'Брудний': 'Лепкий', 'Бузок': 'Без', \"Бур'ян\": 'Бурєн', 'Бурелом': 'Злом', 'Бігти': 'Бічі', 'Біда': 'Смага', 'Бідолаха': 'Сарака', 'Білизна': 'Шматє', 'Більша': 'Бірша', 'Більше': 'Бірше', \"В'язниця\": 'Катуш', 'Вагітна': 'Груба', 'Вада': 'Ганч', 'Важко': 'Тєжко', 'Вбрання': 'Убера', 'Вважати': 'Пазити', 'Ввічливий': 'Чємний', 'Вгору': 'Горі', 'Вдвоє': 'Дубелт', 'Велика Черга': 'Глітно', 'Великодний Кошик': 'Дорєнник', 'Велосипед': 'Ровер', 'Верба': 'Бечка', 'Верхній Одяг': 'Фантє', 'Верхній Святошний Одяг': 'Убера', 'Веселитися': 'Набуватиси', 'Весілля': 'Весілє', 'Вечір': 'Вечєр', 'Взяти': 'Взєти', 'Вивести З Ладу': 'Покабзувати', 'Виг': 'Фів', 'Вигадка': 'Байка', 'Вигорілий Ліс': 'Згар', 'Видається, Що': 'Здаєтси', 'Видно': 'Видко', 'Видіти': 'Пизнати', 'Вийти': 'Війти', 'Вийшов': 'Війшов', 'Викидень': 'Збігленє', 'Викидок': 'Збігленє', 'Викинути': 'Виверечі', 'Виконати Танець': 'Поданцувати', \"Вим'я\": 'Вимнє', 'Виманити': 'Вигулити', 'Вище': 'Вишшє', 'Вмить': 'На Млі Ока', 'Вниз': 'Долів', 'Вовняна Верета На Прядівній Основі': 'Джерга', 'Вовняні Дві Торби Злучені': 'Бисаги', 'Вогнище': 'Ватра', 'Вогонь': 'Ватра', 'Вода': 'Ара', 'Воли': 'Тєгло', 'Володимир': 'Владик', 'Вона': 'Уна', 'Вони': 'Уни', 'Ворожка': 'Баба', 'Восьма': 'Осма', 'Впіймати': 'Ймити', 'Врятувати': 'Поратувати', 'Все': 'Всьо', 'Вугор': 'Слиж', 'Вугілля': 'Вугол', 'Вуйко': 'Стрик', 'Вулик': 'Улий', 'Вчитися': 'Вчітиси', 'Вівторок': 'Вивторок', 'Вівця': 'Вивця', 'Вівчар': 'Вівчєр', 'Відвернути': 'Сперти', 'Відпочивати': 'Припочювати', 'Відпочити': 'Припочіти', 'Відтак': 'Витак', 'Віз': 'Виз', 'Візник': 'Фирман', 'Візникування': 'Фирманка', 'Війна': 'Война', 'Вільно': 'Слобідно', 'Віншуваня': 'Вінчьованє', 'Вірогідно': 'Відав', 'Вісімдесят': 'Вісімдесєть', 'Вісімнадцять': 'Вісімнаціть', 'Віщувати': 'Вішшювати', 'Гадина': 'Довга', 'Гадюка': 'Гадина', 'Галас': 'Ґвавт', 'Ганчірка': 'Руб', 'Гарна': 'Файна', 'Гарний': 'Файний', 'Гарно': 'Айно', 'Гвинтівка': 'Кріс', 'Гезде': 'Туй', 'Геть': 'Гет', 'Гидка': 'Нехар', 'Глибокий Яр': 'Звір', 'Глядіти': 'Пантрувати', 'Говорити': 'Приказувати', 'Годувати': 'Гудувати', 'Годі': 'Гляба', 'Голка': 'Ігла', 'Голова': 'Гола', \"Голова Сім'ї\": 'Ґазда', 'Голуб': 'Голубец', 'Гонор': 'Гонір', 'Горе': 'Біда', 'Горище': 'Під', 'Горло': 'Бурлак', 'Горнець': 'Чєрсак', 'Горобина': 'Шкорух', 'Город': 'Городиц', 'Горщик': 'Варінник', 'Горівка': 'Брага', 'Горілка': 'Горівка', 'Господар': 'Ґазда', 'Господарство': 'Ґаздівство', 'Господиня': 'Газда', 'Господь Бог': 'Біх', 'Грабувати': 'Рабувати', 'Грамота': 'Письмо', 'Гратися': 'Бавитиси', 'Григорій': 'Гриць', 'Гризота': 'Гриза', 'Грошова Одиниця': 'Лев', 'Гроші': 'Ґрейцер', 'Гурт': 'Гурма', 'Густий Ліс': 'Сигли', 'Густий Туман': 'Неґура', 'Гірська Стежка': 'Плай', 'Дамба': 'Тама', 'Дарма': 'Гляба', 'Дбати': 'Пантрувати', 'Двадцять': 'Двайціть', 'Дванадцять': 'Дванаціть', 'День': 'Днина', \"Дерев'яна Посудина\": 'Путина', 'Державний Ліс': 'Камар', 'Держак, Тримач Коси': 'Кісє', 'Десять': 'Десіть', 'Джерело': 'Головиця', 'Джміль': 'Биндєк', 'Диви': 'Ади', 'Дивитися': 'Обзерати', 'Дикий Кабан': 'Вепр', 'Димохід': 'Горн', 'Дитина Чоловічої Статі': 'Хлопец', 'Диявол': 'Юда', 'Дмитро': 'Митро', 'До': 'Ід', 'Добре': 'Єлоси', 'Доглядати': 'Сокотити', 'Доглянути': 'Діздріти', 'Догоджати': 'Годити', 'Доки': 'Доків', 'Докінчити': 'Докінчєти', 'Доля': 'Фант', 'Долішній Шепіт': 'Шепіт', 'Домовина': 'Деревишшє', 'Досить': 'Доста', 'Достатньо': 'Доста', 'Дошка': 'Лодва', 'Дощ': 'Дошь', 'Доїти': 'Цєпати', 'Дрова': 'Дрива', 'Дружина Священика': 'Їмость', 'Дуга': 'Каблук', 'Дуже': 'Моц', 'Дужий': 'Годен', 'Дурниця': 'Байка', 'Дядина': 'Вуйко', 'Дядько': 'Вуйко', 'Дякувати': 'Дєкувати', 'Дятел': 'Жонва', 'Дівчина': 'Чєрса', 'Дідизна': 'Посидок', 'Дійсно': 'Варе', 'Дітвора': 'Дітва', 'Енергійний': 'Єдерний', 'Жаба': 'Жєба', 'Жаль': 'Жєль', 'Жалітися': 'Нарікати', 'Жандарм': 'Панич', 'Жарт': 'Жерт', 'Жарти': 'Збитки', 'Жартівник': 'Фіґляр', 'Жбурнути': 'Гевкнути', 'Жеребець': 'Вір', 'Жеребок': 'Фант', 'Живуть': 'Жиют', 'Життя': 'Житє', 'Життєва Дорога': 'Фант', 'Жмут': 'Климак', 'Журба': 'Гриза', 'Жінка': 'Чілідина', 'Жінки': 'Чєлідь', 'Жіноцтво': 'Чєлідь', 'Забава': 'Бай', 'Забавити': 'Забашити', 'Забавлятися': 'Бавитиси', 'Завершити': 'Докінчєти', 'Завжди': 'Водно', 'Завчасу': 'Завгоді', 'Заздалегідь': 'Завгоді', 'Закінчити': 'Докінчєти', 'Зала': 'Сала', 'Замовляння': 'Бай', 'Заможний': 'Богатий', 'Захотілося': 'Закортіло', 'Збіжжя': 'Збож', 'Звідки': 'Иків', 'Звідкіль': 'Відків', 'Звідси': 'Вици', 'Звідти': 'Відтів', 'Звістка': 'Віда', 'Звість': 'Вістка', 'Згода': 'Токма', 'Згодом': 'Делінь', 'Здається': 'Отєк', 'Земна Куля': 'Сьвіт', 'Злива': 'Плова', 'Злий': 'Пустий', 'Злий Дух': 'Арідник', 'Зловити': 'Ймити', 'Злодій': 'Грабивник', 'Змогти': 'Бізувати', 'Знайомий': 'Знакомиця', 'Зненацька': 'Нагло', 'Знизу': 'Здолини', 'Знущатися': 'Тратити', 'Зовсім': 'Прем', 'Зрадник': 'Юда', 'Зранку': 'Досвіта', 'Зупинити': 'Сперти', 'Зять': 'Зєть', 'Зілля': 'Зілє', 'Зіпсувати': 'Збавити', 'Його': 'Го', 'Йому': 'Йиму', 'Йордан': 'Ардан', 'Йти': 'Ити', 'Кажуть': 'Говорєт', 'Канава': 'Окіп', 'Капелюх': 'Крисаня', 'Кара': 'Право', 'Картопля': 'Ріпа', 'Катівня': 'Катушя', 'Квітка': 'Чічка', 'Кедр': 'Кидр', 'Келих': 'Погар', 'Кидати': 'Метати', 'Кинув': 'Верх', 'Кипить': 'Боїт', 'Кладка': 'Бер', 'Кливец': 'Клевец', 'Клятьба': 'Бігме', 'Ковбок': 'Гуц', 'Кожний': 'Кождий', 'Кожному': 'Кождому', 'Кожух Без Рукавів': 'Киптар', 'Козеня': 'Кізлє', 'Козенятко': 'Кізлє', 'Колись': 'Колис', 'Коло': 'Круглєк', 'Колода': 'Гуц', 'Колотнеча': 'Колот', 'Колядники': 'Колєдники', 'Комора': 'Кліть', 'Кордон Села': 'Хітар', 'Костянтин': 'Костя', 'Косів': 'Косив', 'Коханка': 'Любас', 'Кошара': 'Кошєра', 'Кошик, Сплетений З Лозини': 'Кошіль', 'Красивий': 'Файний', 'Красти': 'Рабувати', 'Краще': 'Крашше', 'Кремезний': 'Файний', 'Крик': 'Ґвавт', 'Кричати': 'Кричєти', 'Кров': 'Тирба', 'Кроква': 'Козев', 'Ксенія': 'Сенька', 'Кілок': 'Ків', 'Кінець': 'Амінь', 'Кінь': 'Конє', 'Кісся': 'Кісє', 'Ласка': 'Кіточка', 'Латка': 'Руб', 'Ледар': 'Лайдак', 'Липень': 'Білень', 'Лист': 'Письмо', 'Лихо': 'Біда', 'Ложка': 'Лижка', \"Лук'ян\": 'Луць', 'Любовник': 'Любас', 'Люча': 'Лючі', 'Лякати': 'Пужіти', 'Лячно': 'Пудно', 'Лікар': 'Дохтор', \"М'ясо\": 'Мнєсо', 'Мабуть': 'Відав', 'Мавпа': 'Чіта', 'Майно': 'Талан', 'Маленький': 'Міціцький', 'Малий': 'Міціцький', 'Марія': 'Марічка', 'Маєток': 'Талан', 'Мед': 'Міт', 'Межа Села': 'Хітар', 'Мені': 'Мині', 'Мешканець Міста': 'Мішшянин', 'Минулого Року': 'Тогід', 'Минулоріч': 'Тогід', 'Миттєво': 'Начєс', 'Михайло': 'Міхайло', 'Мова': 'Бай', 'Може': 'Годен', 'Молода': 'Книгині', 'Молодий': 'Книзь', 'Молодий Смерековий Ліс': 'Смеречє', 'Молодиця': 'Чілідина', 'Молоко': 'Скором', 'Молоток': 'Клевец', 'Молочна Сироватка': 'Зер', 'Мотузка': 'Мотуз', 'Мряка': 'Слота', 'Мужчина': 'Чьоловік', 'Мучити': 'Карнувати', 'Між Іншим': 'Прецінь', 'Мільйон': 'Мілійон', 'Мілієве': 'Міліїв', 'Місяць': 'Місіц', 'Міщанин': 'Мішшянин', 'Міщанка': 'Лєнка', 'На Високому Рівні': 'Файно', 'Набуватися': 'Набуватиси', 'Навмисне': 'Назбитки', 'Навпроти': 'Зістріть', 'Навчений': 'Укий', 'Назад': 'Взад', 'Назустріч': 'Зістріт', 'Найгірший': 'Найпушший', 'Наказ': 'Розказ', 'Напевно': 'Відав', 'Наперекір': 'Навкірки', 'Наречена': 'Книгині', 'Наречений': 'Книзь', 'Нарікати': 'Банувати', 'Наступного Року': 'Нарік', 'Натовп': 'Глітно', 'Наче': 'Гей', 'Не Годен': 'Гарен', 'Не Може': 'Гарен', 'Не Можна': 'Гляба', 'Не По Собі': 'Омпно', 'Небезпечний': 'Бійний', 'Негода': 'Шарґа', 'Недолік': 'Гана', 'Недоношений Плід': 'Збігленє', 'Незугарний': 'Гарен', 'Неохайна': 'Нехар', 'Непотріб': 'Пометки', 'Неприємний Запах': 'Вонь', 'Неспішно': 'Помале', 'Нехай': 'Най', 'Нечистота': 'Гид', 'Нечисть': 'Гид', 'Нешлюбна Дитина': 'Копил', 'Нещастя': 'Біда', 'Нещодавно': 'Оногди', 'Неї': 'Ню', 'Нинька': 'Сегодне', 'Нищити': 'Тратити', 'Но\\xadВина': 'Вістка', 'Нюхати': 'Попах', 'Ніби': 'Отік', 'Ніде': 'Ніґде', 'Ніж': 'Брич', 'Нічого': 'Нич', 'Обережно': 'Сохранно', \"Обов'язково\": 'Конче', 'Овечка': 'Єгнє', 'Оглядати': 'Обзерати', 'Один': 'Оден', 'Одинадцять': 'Одинаціть', 'Однолітки': 'Верства', 'Одяг': 'Убера', 'Одіватися': 'Вбератиси', 'Ой': 'Ий', 'Олексій': 'Лесь', 'Олена': 'Єлена', 'Ольга': 'Оля', 'Онде': 'Генде', 'Оперативно': 'Борзо', 'Освіта': 'Осьвіта', 'Остання': 'Послідна', 'Останній': 'Остатний', 'Ось': 'Леда', 'Ось Там': 'Генде', 'Ось Тут': 'Гезде', 'Осьде': 'Гезде', 'Отара': 'Ботей', 'Отара Овець': 'Ботей', 'Отже': 'Отєж', 'Отрута': 'Трій', 'Отут': 'Гезде', 'Охороняти': 'Сокотити', 'Охота': 'Хіть', 'Очевидно': 'Видко', 'Палити': 'Курінє', \"Пам'ятати\": 'Памнєтати', 'Панщина': 'Панчіна', 'Папірос': 'Дзиґар', 'Параскева': 'Парасочка', 'Парубок': 'Молодєк', 'Пастух Овець': 'Вівчєр', 'Пекти': 'Печі', 'Пережити Якесь Нещастя': 'Попацити', 'Перелякатися': 'Перепудитиси', 'Перемагати': 'Витати', 'Петро': 'Петро', 'Печія': 'Зга', 'Пильнувати': 'Пазити', 'Пиха': 'Бута', 'Пищати': 'Пишшєти', 'Пліт': 'Дараба', 'Інакше': 'Инак', 'Побачити': 'Уздріти', 'Поважати': 'Шінувати', 'Повністю': 'Гет', 'Поворот': 'Скрут', 'Повідомлення': 'Віда', 'Повільно': 'Млаво', 'Повітка': 'Колешня', 'Повія': 'Гониця', 'Поганий': 'Остатний', 'Погань': 'Нехар', 'Подвійно': 'Дубелт', 'Подібний': 'Скапенний', 'Позавчора': 'Передчєра', 'Позаторік': 'Передтогід', 'Позашлюбна Дитина': 'Копил', 'Поквапом': 'Борше', 'Поки Що': 'Поків', 'Покривало': 'Капа', 'Половина Дня': 'Полудне', 'Помирати': 'Здихати', 'Помітити': 'Заздріти', 'Поміщик': 'Лєнка', 'Понеділок': 'Понедівнок', 'Понищити': 'Покабзувати', 'Попіл': 'Попів', 'Портфель': 'Ташка', 'Порядок': 'Рєд', 'Посаг': 'Віно', 'Постійно': 'Водно', 'Потерпіти': 'Попацити', 'Потрапити В Біду': 'Попацити', 'Потрібно': 'Тре', 'Потік': 'Поточіна', 'Потім': 'Витак', 'Похресник': 'Фін', 'Похресниця': 'Фіна', 'Почав': 'Єв', 'Пояс': 'Поєс', 'Прати': 'Золити', 'Пригощати': 'Чєстувати', 'Придивлятися': 'Обзерати', 'Примхливе': 'Пригінчьливе', 'Притулок': 'Асиль', 'Провалля': 'Бердо', 'Прокіп': 'Проць', 'Проститутка': 'Гониця', 'Просять': 'Просєт', 'Протікає': 'Чурит', 'Прохають': 'Просєт', 'Прощатися': 'Прошшєтиси', 'Прядиво': 'Повісмо', 'Псалтир': 'Савтир', 'Псувати': 'Кабзувати', 'Пустун': 'Лайдак', 'Півень': 'Когут', 'Підвода': 'Виз', 'Підряд': 'Гал', 'Пізніше': 'Витак', 'Після': 'Післідь', 'Піст': 'Говінє', 'Пічка': 'Груба', 'Равлик': 'Слимбуш', 'Райдуга': 'Весела', 'Раптово': 'Нагло', 'Ретельно': 'Ретенно', 'Риба': 'Клен', 'Робити Сир': 'Ґлєджіти', 'Родич': 'Вуйко', 'Розалія': 'Ру', 'Розбійник': 'Грабивник', 'Розповідати': 'Повістувати', 'Розповіді': 'Повісти', 'Розсіл': 'Росив', 'Розумний': 'Укий', 'Рослина': 'Ростина', 'Росіянин': 'Руский', 'Рот': 'Хавка', 'Рубець': 'Руб', 'Русло Потоку': 'Поточіна', 'Рушниця': 'Кріс', 'Рясні Бруньки': 'Брист', 'Рід Танцю': 'Гайдук', 'Різанина': 'Єтка', 'Рік': 'Рик', 'Садиба': 'Ґражда', 'Сажа': 'Сажя', 'Сажень': 'Сєжінь', 'Сакви': 'Бисаги', 'Самокрутка': 'Дзиґар', 'Сарай': 'Шопа', 'Сварити': 'Кричєти', 'Сваритися': 'Ганцикатиси', 'Свобода': 'Слобідно', 'Святий': 'Свєтий', 'Святий Вечір': 'Свєтий Вечєр', 'Святкувати': 'Сербувати', 'Святі': 'Свєтці', 'Свічка': 'Свічька', 'Семен': 'Семен', 'Сигарета': 'Дзиґар', 'Сильний': 'Годен', 'Складно': 'Тєжко', 'Скоро': 'Борзо', 'Скрипаль': 'Скрипичьник', 'Скільки': 'Кілько', 'Слабосилий': 'Гарен', 'Слимак': 'Слимбуш', 'Сльоза': 'Слиза', 'Слідкувати': 'Пазити', 'Смердіти': 'Вонити', 'Смереки': 'Смеречє', 'Смерть': 'Авс', 'Смолоскип': 'Лужниця', 'Сморід': 'Вонь', 'Сміття': 'Пометки', 'Сміхованець': 'Фіґляр', 'Сміятися': 'Смієтиси', 'Собака': 'Ґайда', 'Солдат': 'Пушкар', 'Сонячна Погода': 'Веремнє', 'Сором': 'Устид', 'Спадщина': 'Посидок', 'Спокійно': 'Миром', 'Справді': 'Варе', 'Стайня': 'Стайні', 'Стебні': 'Стебни', 'Стежка': 'Плай', 'Степан': 'Штефан', 'Стерегти': 'Сокотити', 'Стихія': 'Напуст', 'Страх': 'Пуд', 'Страшний': 'Бійний', 'Страшно': 'Пудно', 'Стрибнути': 'Штрикнути', 'Стрункий': 'Файний', 'Стрільба': 'Стріліня', 'Стіл': 'Стів', 'Сумка': 'Ташка', 'Суперечка': 'Джюрджя', 'Сьогодні': 'Сегодне', 'Сідло': 'Тарниця', 'Сільський Староста': 'Віт', 'Сімдесят': 'Сімдесєть', 'Сімнадцять': 'Сімнайціть', 'Так': 'Йо', 'Таки': 'Прем', 'Там': 'Генде', 'Танець': 'Плєс', 'Танок': 'Данец', 'Танцювати': 'Данцувати', 'Танці': 'Данці', 'Тато': 'Дєдя', 'Тебе': 'Тє', 'Текти': 'Чюріти', 'Теля': 'Телє', 'Тепер': 'Тіпер', 'Тихо': 'Ціхо', 'Тиша': 'Покі', 'Товстий': 'Грубий', 'Тоді': 'Тогди', 'Тома': 'Тома', 'Тому': 'Тимунь', 'Тому Й': 'Тимунь', 'Торба': 'Тайстра', 'Травень': 'Май', 'Треба': 'Тре', 'Трембіта': 'Тримбіта', 'Трембітар': 'Тримбіташ', 'Тринадцять': 'Тринаціть', 'Троянда': 'Ружя', 'Труна': 'Деревишшє', 'Туга': 'Туск', 'Тут': 'Гир', 'Туша Здохлої Тварини': 'Мерші', 'Тютюн': 'Тітін', 'Тютюновод': 'Тітінар', 'Тільки': 'Іно', 'Тітка': 'Тете', 'У Розумінні Незгоди Чи Обурення': 'Хій', 'Убога Хата': 'Бурдей', 'Убрання': 'Убера', 'Угору': 'Долів', 'Узбіччя Гори': 'Обіч', 'Упир': 'Опир', 'Уроки': 'Урокі', 'Уряд': 'Урєд', 'Устеріки': 'Устєріки', 'Учити': 'Учіти', 'Федір': 'Федько', 'Флояра': 'Флоєра', 'Фіра': 'Виз', 'Хащі': 'Джємори', 'Хвалитися': 'Фалитиси', 'Хвиля': 'Филя', 'Хвороба': 'Бола', 'Хвіртка': 'Ліса', 'Хирлявий': 'Гарен', 'Хлопець': 'Хлопец', 'Хмиз': 'Форост', 'Холодець': 'Студенец', 'Холодна': 'Студена', 'Храм': 'Набуток', 'Храмове Свято': 'Храм', 'Хресний Батько': 'Батько', 'Худоба': 'Маржина', 'Худібка': 'Маржинка', 'Хустина': 'Плат', 'Хустка': 'Плат', 'Цвяхотяг': 'Ключка', 'Це': 'Цисе', 'Цей': 'Цес', 'Центнер': 'Кила', 'Ця': 'Ся', 'Ці': 'Отсі', 'Цікаво': 'Вере', 'Цілком': 'Цалком', 'Цілувати': 'Цулувати', 'Чабан': 'Ботей', 'Чари': 'Чєрі', 'Чарівник': 'Мольфар', 'Час': 'Чєс', 'Чашка': 'Горші', \"Черв'як\": 'Чєрвак', 'Червона': 'Черлена', 'Червоний': 'Черлений', 'Черга': 'Джєрга', 'Чередник': 'Бовгар', 'Четвер': 'Чєтверь', 'Чоловік': 'Хлоп', 'Чоловік Дочки': 'Зєть', 'Чорна Сорочка': 'Мазенка', 'Чорниця': 'Афини', 'Чорниці': 'Афини', 'Чорт': 'Мольфар', 'Чотири': 'Штири', 'Чубчик': 'Чівка', 'Чужинець': 'Шерепітка', 'Чутка': 'Вістка', 'Чуть-Чуть': 'Крішку', 'Шанувати': 'Шінувати', 'Шапка': 'Шлик', 'Шапка Гриба': 'Лубка', 'Швиденько': 'Начєс', 'Швидко': 'Борзо', 'Швидше': 'Борше', 'Шершавий': 'Рапавий', 'Шинок': 'Шиньк', 'Шкода': 'Жєль', 'Шкіряна Торбинка': 'Таршук', 'Шлунок': 'Калюх', 'Шматок': 'Кавалок', 'Шорсткий': 'Рапавий', 'Штани': 'Гачі', 'Шум': 'Аляр', 'Шісдесят': 'Шістьдесєть', 'Шіснадцять': 'Шіснайціть', 'Шість': 'Шіст', 'Щастя': 'Шєстє', 'Ще': 'Шє', 'Щеня': 'Шєні', 'Щоб': 'Абесте', 'Щось': 'Шош', 'Щур': 'Шюр', 'Юлія': 'Юльці', 'Юнак': 'Хлопец', 'Юрба': 'Глітно', 'Юрій': 'Юрко', 'Яблуня': 'Єблінка', 'Яворів': 'Єворів', 'Ягня': 'Єгнє', 'Яйце': 'Єйце', 'Як': 'Єк', 'Яка': 'Ика', 'Якби': 'Коби', 'Якийсь': 'Йикийс', 'Якось': 'Йкос', 'Якщо': 'Наколи', 'Яків': 'Єків', 'Ялина': 'Смерека', 'Ярослава': 'Слава', 'Ясний': 'Єсний', 'Ячмінь': 'Єчьмінь', '1000 М': 'Кілйометр', '250 Г': 'Кватирька', 'Єврейка': 'Жидівочька', 'Інвентар': 'Урядженя', 'Індик': 'Пулькач', 'Індичка': 'Трюхля', 'Інженер': 'Інджінір', 'Інструмент': 'Струмент', 'Інша': 'Иньша', 'Ісус Христос': 'Сус Христос', 'Іти Геть': 'Машір', 'Їжак': 'Єжєк', 'Їсти Вранці': 'Снідані', 'Австрія': 'Австрия', 'Австрієць': 'Австрияк', 'Агрус': 'Виприни', 'Адвокат': 'Адукат', 'Азбука': 'Азбуковник', 'Акуратний': 'Штепний', 'Алича': 'Єлічя', 'Алкогольний Психоз': 'Біла Горєчька', 'Алкоголік': 'Пієк', 'Анастасія': 'Настуні', 'Андрій': 'Андрусик', 'Анекдот': 'Анігдот', 'Антисанітарія': 'Кірєня', 'Антон': 'Антось', 'Арніка Гірська': 'Арніка', 'Бабратися': 'Бабратиси', 'Бабій': 'Бабяр', 'Байка': 'Баєчка', 'Банда': 'Брашка', 'Бануш': 'Скомета', 'Баняк': 'Баньик', 'Барвінково': 'Барвінків', 'Батько': 'Дьидик', 'Без Поспіху': 'Поволе', 'Без Смаку': 'Зівка', 'Безпечна': 'Безпешна', 'Безпорядок': 'Кірєня', 'Бекати': 'Бегече', 'Бензин': 'Биндзина', 'Берегомет': 'Берегоміт', 'Берегтися': 'Сокотитиси', 'Березовий Гай': 'Березнєк', 'Березовий Ліс': 'Березнєк', 'Березовий Праліс': 'Березнєк', 'Бесідувати': 'Бесідати', 'Бечка': 'Котики Сріберні', 'Бешкетувати': 'Гаверлувати', 'Бик': 'Богай', 'Бистриця': 'Рафайлова', 'Бити': 'Піхати', 'Бичок': 'Бичьи', 'Благословення': 'Благословеніє', 'Блищить': 'Блишєт', 'Бліда Поганка': 'Гадєчка', 'Богдан': 'Богданчик', 'Боронувати': 'Шкородити', 'Боротися': 'Бурикатиси', 'Борщ': 'Борщь', 'Брат Чоловіка': 'Шваґір', 'Братик': 'Браччік', 'Брезент': 'Цирата', 'Бродити': 'Валантатися', 'Бруднуля': 'Некифурна', 'Брусниця': 'Гогодзи', 'Брустури': 'Брустурів', 'Бугай': 'Рингач', 'Булавка': 'Шпінка', 'Бункер': 'Бункір', 'Бурчати': 'Джвиндіти', 'Бути': 'Абиде', 'Бути Їздовим': 'Фірманьитьи', 'Бушувати': 'Лящувати', 'Бігом': 'Ґальопа', 'Бідкатися': 'Падькатиси', 'Бідняк': 'Бідар', 'Бідувати': 'Бідити', 'Білка': 'Вивірка', 'Бісер': 'Цятки', \"В'язати\": \"В'єжеш\", 'Важко Працювати': 'Крірвати', 'Важче': 'Тєжши', 'Варвара': 'Варвара', 'Варта': 'Смоляки', 'Василина': 'Василинка', 'Василь': 'Сют', 'Вбиральня': 'Виходок', 'Вбити': 'Крепір', 'Вдарити': 'Гупнути', 'Вдача': 'Манорія', 'Вдягнутися': 'Уболічєси', 'Вдівець': 'Одивец', 'Везучий': 'Шісливий', 'Вересень': 'Просинец', 'Верхній Ясенів': 'Горішній Ясенив', 'Верховина': \"Жєб'ї\", 'Весела': 'Жертівлива', 'Веселіться': 'Радуйтиси', 'Весіллячко': 'Весілічко', 'Вечеря': \"Вечєр'е\", 'Вжалитися': 'Вжілитисі', 'Взвод': 'Чота', 'Вибирати': 'Вібирати', 'Вибрати': 'Вібирати', 'Вивбирати': 'Приштрамувати', 'Вивчити': 'Зучити', 'Виговорити': 'Віговорити', 'Вигода': 'Хосен', 'Видавати': 'Замельдувати', 'Виженка': 'Виженька', 'Вижниця': 'Вижениця', 'Вийшло З Ладу': 'Попсуло', 'Викидати': 'Вісипувати', 'Викрикувати': 'Жвиндіти', 'Вила': 'Ґраблі', 'Вимазати': 'Віфашкати', 'Випадок': 'Трапунок', 'Випивати': 'Видудурювати', 'Випити': 'Віпити', 'Виправдані': 'Апрегендовані', 'Вир У Річці': \"Бульб'он\", 'Виростити': 'Вікохати', 'Виряджати': 'Виріжєти', 'Висвятити': 'Висвітити', 'Високий': 'Штивний', 'Виспатися': \"Висип'єти Си\", 'Висповідатися Перед Смертю': 'Законитиси', 'Витягати': 'Витігати', 'Вишивка': 'Вішитьи', 'Вишкіл': 'Зицирка', 'Виїжджати': 'Виїхати', 'Виїздити': 'Виїхувати', 'Водиця': 'Водица', 'Водоспад': 'Гоц', 'Волочитися': 'Валансатиси', 'Волошка Синя': 'Васильки', 'Впасти': 'Флецнутисі', 'Вректи': 'Наврочіти', 'Втекти': 'Злигнути', 'Вуздечка': 'Зубели', 'Вчора': 'Учєра', \"Вівця Із М'якою Вовною\": 'Цигайка', \"Відв'язувати\": 'Відсилювати', 'Відвар': 'Дзьима', 'Відвідати': 'Прийти Знати', 'Відлига': 'Кіпно', 'Відпиляна Колода': 'Ковбук', 'Відпочивальник': 'Літник', 'Відпочинок': 'Припочивок', 'Відпускник': 'Урльопник', 'Відпустка': 'Урльоп', 'Відступити': 'Сцурікатися', 'Відтягнути': 'Відкигнути', 'Відчуття': 'Чутє', 'Вінчання': \"В'інчіньи\", 'Вітати': 'Віншувати', 'Вічнозелена Рослина': 'Ґришпан', 'Гавриїл': 'Гаврило', 'Газета': 'Ґазета', 'Гайка': 'Штрубка', 'Галасувати': 'Латрати', 'Галстук': 'Візерований Фостик', 'Галуззя Зі Смереки': 'Фоя', 'Гаманець': 'Полярец', 'Гать': 'Клявза', 'Гафія': 'Гашенька', 'Глечик': 'Джбан', 'Глибоке Місце': 'Бульбона', 'Глибоке Місце Річки': 'Бульбона', 'Гнатися': 'Гнатиси', 'Гнучкий': 'Бгачкий', 'Гніватися': 'Гніватиси', 'Говорить': 'Балакає', 'Годинник': 'Зигарок', 'Годинникар': 'Дзиґарніст', 'Годитися': 'Стокмити', 'Голитися': 'Бретитиси', 'Голосити': 'Падькатиси', 'Голосно Кричати': 'Ревкати', 'Голяр': 'Фризієр', 'Горобець': 'Воробець', 'Горянин': 'Горішнянин', 'Готувати': 'Нарихтувати', 'Гризти': 'Харчувати', 'Гринява': 'Гринева', 'Грузь': \"Б'алта\", 'Група Хуліганів': 'Шайка', 'Гультяй': 'Бабяр', 'Гумові Чоботи': 'Гумаки', 'Гуцульщина': 'Гуцульщина', 'Гучно Сміятися': 'Реготати', 'Гілля': 'Гілє', 'Далеко': 'Майдалі', 'Данило': 'Даньо', 'Дармувати': 'Лайдакувати', 'Дарія': 'Доця', 'Дашок': 'Набоїк', 'Дванадцята': 'Дванацєта', 'Двір': 'Гофа', 'Двісті': 'Двісто', \"Дев'яносто\": 'Девйитдесьит', \"Дев'ять\": \"Див'єтка\", 'День Народження': 'Нарожінє', 'Депутат': 'Завидця', \"Дерев'яний\": \"Дерев'єний\", \"Дерев'яний Брус\": 'Ковбіс', 'Державний': 'Камеральний', 'Держак Батога': 'Батожило', 'Деруни': 'Пляцки', 'Деякий': 'Ікіїс', 'До Нього': 'Д Нєму', 'До Хати': \"Д'Хаті\", 'Довго Не Виходила Заміж': 'Гівочьила', 'Довгополе': 'Довгополе', 'Довгопілля': 'Довгополе', 'Довідатися': 'Розізнати', 'Догляд': 'Ховання', 'Додому': \"Ід'хаті\", 'Долілиць': 'Долівлиць', 'Донести': 'Заминдувати', 'Доносити': 'Мендувати', 'Доповісти': 'Замельдувати', 'Допомагати': 'Бечувати', 'Дорікати': 'Цвікати', 'Досягнути': 'Завтєкати', 'Досі': 'Досегодне', 'Дощова Погода': 'Плюта', 'Дощовий': 'Слотєний', 'Дрантя': 'Клунтя', 'Дружина Івана': 'Іваниха', 'Дружина Іллі': 'Ілчиха', 'Дружина Дмитра': 'Дмитриха', 'Дружина Юрія': 'Юриха', 'Дрібна Річкова Риба': 'Наресниці', 'Дрібний Дощ': 'Мрич', 'Дрібно Сікти': 'Джюголити', 'Дуже Рано': 'Найранше', 'Дурень': 'Оферма', 'Дурнувата': 'Благувата', 'Дяк': \"Д'ек\", 'Дякую': 'Дєкую', 'Дякуємо': 'Діковать', 'Діалект': 'Диялект', 'Дівка': 'Ґіўка', 'Дівочила': 'Гівочіла', 'Дівчата': 'Челяґь', 'Дідусь': 'Ґідо', 'Діжка': 'Бочівка', 'Дізнатися': 'Розізнати', 'Діло': 'Інтерес', 'Ділове': 'Білий Потік', 'Діти': 'Ґіти', 'Едельвейс': 'Еделвайс', 'Епілепсія': 'Чорна Хвороба', 'Жебрак': 'Прошєк', 'Жердинка З Огорожі': 'Воринка', 'Життєрадісна': 'Забавна', 'Журитися': 'Журкувати', 'З Минулого Року': 'Відтогіть', 'З Учорашнього Вечора': 'Снічний', \"З'явилася\": \"Ся З'явила\", 'Забажати': 'Забагнеси', 'Забирайся': 'Машір', 'Завершити Будівництво': 'Віріхтувати', 'Завтра': 'Завтре', 'Завірюха': 'Фуфела', 'Загибель': 'Фертик', 'Загнуздати': 'Зазубелати', 'Заздрити': 'Завистувати', 'Залізниця': 'Ґута', 'Залізнична Станція': 'Стація', 'Замагора': 'Замагорів', 'Занапастити': 'Заситити', 'Запальний Танець': 'Гуцулка', \"Запам'ятати\": 'Покмітити', 'Запаска': 'Опинка', 'Запевняти': 'Допевнювати', 'Заперечення': 'Запоперечіти', 'Заперечити': 'Сперечити', 'Заперечувати': 'Неґувати', 'Заплакати': 'Зарути', 'Заплічний Речовий Мішок': 'Рунзак', 'Заправка Для Страв': 'Зарьида', 'Заробляти': \"Зароб'єти\", 'Засвітити': 'Жажечі', 'Заскреготати': 'Заскрегінцати', 'Засміятися': 'Уціритиси', 'Засоромлений': 'Омкний', 'Заставляти': 'Заставєти', 'Застібка Для Нашийної Прикраси': 'Чепрага', 'Затята': 'Затєта', 'Заховати': 'Запрєтати', 'Захопити': 'Завтякати', 'Захотіти Чогось': 'Забагти', 'Зачекати': 'Зачікати', 'Зачекатися': 'Вижідатиси', 'Зберегти': 'Зашшібати', 'Збиратися': 'Избератиси', 'Збирач Податків': 'Бандур', \"Зв'язок\": 'Звьєзок', 'Звільнити': 'Турнути', 'Згадка': 'Спомка', 'Згуцулитися': 'Згуцулшіти', 'Здешевіло': 'Потаніло', 'Здибати': 'Зашпинити', 'Здирство': 'Драчка', 'Здобич': 'Нажива', \"Здоров'я\": \"Здоров'єчько\", 'Здуріти': 'Виріти', 'Злидні': 'Нендза', 'Злочинець': 'Кримінар', 'Знадобиться': 'Придастси', 'Знайомитися': 'Знакомитисі', 'Значення': 'Значіннє', 'Зневажати': 'Спониважєти', 'Знервувати': \"В'їшси\", 'Знеславити': 'Омражьити', 'Зникнути': 'Издимиґіти', 'Зношений': 'Дрантивий', 'Зніяковілий': 'Омпний', 'Зраджувати': 'Замельдувати', 'Зручний': 'Спритішний', 'Зустріти': 'Зашпинити', 'Зустрітися': 'Вздріти Си', 'Зчепитися': 'Ізмотати', 'Зігнута': 'Звинкльована', 'Йод': 'Їдина', 'Йосип': 'Юзь', 'Кажу': \"Ка'у\", 'Казарма': 'Касарня', 'Кайло': 'Чокан', 'Калюжа': 'Калабан', 'Калюжниця Болотна': 'Юрієнка', 'Канікули': 'Вакації', 'Каструвати': 'Звалашити', 'Катерина': 'Катеринка', 'Кафе': \"Кав'ярня\", 'Кашне': 'Шальок', 'Квапити': \"Квап'ю\", 'Квасолиня': 'Фасольинка', 'Квасоля': 'Фасулі', 'Кволий': \"Ув'єлий\", 'Квіточка': 'Чічя', 'Кедрова Сосна': 'Кєдра', 'Керівник': 'Дерехтор', 'Килим': 'Верета', 'Кинути': 'Шпурити', 'Кирзові Чоботи': 'Кірзаки', 'Кирка': 'Кіяня', 'Киселиці': 'Тораки', 'Кисле Молоко': 'Самокиша', 'Клейонка': 'Церета', 'Клопіт': 'Клопоція', 'Кляуза': 'Гакь', 'Кобаки': 'Дзвішень', 'Ковзатися': 'Хобзатиси', 'Кожушина': 'Корушина', 'Козленя': 'Кізличька', 'Козлиця': 'Кізличька', 'Козля': 'Кізличька', 'Колодязь': 'Кєрниця', 'Колядка': 'Коляда', 'Колідничок': 'Чінчік', 'Комерсант': 'Спекулянт', 'Комір': 'Коўнір', 'Копирсатися': 'Бабратиси', 'Корабель': 'Шіфа', 'Користь': 'Хосен', 'Коробка': 'Карабушка', 'Корок': 'Корок', 'Корчма': 'Претінація', 'Коріандр': 'Кольиндра', 'Косовиця': 'Тішньи', 'Край': 'Країчок', 'Крамниця': 'Кооператива', 'Красноїлля': 'Дідушкова Річка', 'Кривополе': 'Кривопілля', 'Криниця': 'Студня', 'Критикувати': 'Гудити', 'Криївка': 'Бунькр', 'Крутіж': \"Бульб'он\", 'Кріт': 'Кертина', 'Кулемет': 'Кулімет', 'Кульгати': 'Храмати', 'Купець': 'Закупень', 'Курило': 'Курило', 'Курити': 'Пахтолити', 'Курити З Люльки': 'Файкувати', 'Курити Люльку': 'Фоскати', 'Куртка': 'Футерко', 'Кінський Послід': 'Коніки', 'Лаяти': 'Лоточити', 'Лелека': 'Бузько', 'Листоноша': 'Поштариха', 'Лом': 'Штангя', 'Ломака': 'Патик', 'Ломаччя': 'Патик', 'Ломик': 'Штангя', 'Лопух': 'Брустура', 'Лоскотати': 'Скобитати', 'Лоша': 'Лошьи', 'Лукавці': 'Лукавець', 'Лютий': 'Січник', 'Лякатися': 'Пужитися', 'Лікарня': 'Шпіталь', 'Лінивий': 'Гнильик', 'Лісник': 'Попережник', 'Лісничий': 'Злісний', 'Лісопильня': 'Фірас', \"М'яч\": 'Пивка', 'Магазин': 'Кооператива', 'Майбутнє': 'Будуччіна', 'Маленька Подушка': 'Ясик', 'Маленький Цвяшок': 'Цвичьок', 'Малеча': 'Дітвичьня', 'Матеріал': \"Матер'ял\", 'Мати Надію': 'Надіватиси', 'Махорка': 'Маркотка', 'Межа': 'Хитар', 'Меланія': 'Маланочка', 'Мелодія': 'Мельодія', 'Менструація': 'Місічка', 'Метнути': 'Фурнути', 'Механічний Будильник': 'Будзік', 'Мешканці Карпат': 'Карпатці', 'Микола': 'Микольцьо', 'Минулорічний': 'Тамторічний', 'Мирослав': 'Миросик', 'Мирослава': 'Мирося', 'Млинці': 'Пляцки', 'Мнути': 'Квацувати', 'Могила': 'Єма', 'Могти': 'Змагати', 'Могучий': 'Біровитий', 'Молода Смерічка': 'Гадючка', 'Молочарня': 'Молочярні', 'Муштра': 'Абрихтунок', 'Мушу': 'Мусю', 'Міць': 'Путеря', 'Мішок': 'Ворок', 'На Млі Ока': 'Умлівіч', 'Набирати': 'Зачирати', 'Набір Інструментів': 'Вирцак', 'Навантажити': 'Натерхати', 'Навмання': 'Пазблін', 'Наводити': 'Нарихтувати', 'Навчати': 'Приучувати', 'Наглядати': 'Надзирати', 'Нагромаджувати': 'Спрітовувати', 'Надо\\xadКучити': \"В'їшси\", 'Надокучити': 'Навкимити', 'Надійна': 'Безпечьна', 'Надіятися': 'Бізуватиси', 'Називається': 'Називаєси', 'Накопичувати': 'Спрітовувати', 'Налигач': 'Курмей', 'Налякатися': 'Напудитиси', 'Намистина': 'Пацірка', 'Намисто': 'Пацьорки', 'Нарив': 'Больфа', 'Народити Лоша': 'Вжеребити Си', 'Нарцис': 'Чисничок', 'Насварити': 'Згулюкати', 'Наступного Дня': 'Завтри-Ка', 'Наталія': 'Наталя', 'Невелика Бочка': 'Полібічок', 'Невістка': 'Нивісточка', 'Недопалок': 'Огарок', 'Недужий': 'Заслабий', 'Неділя': 'Неділєчька', 'Незграба': 'Клевцун', 'Неохайний': 'Киринний', 'Неподалік': 'Пілє', 'Непокоїти': 'Габучьити', 'Неприємний Випадок': 'Причка', 'Несмак': 'Зівка', 'Несподівано': 'Напрасно', 'Нечистий': 'Підплитник', 'Нечистоплотний': 'Киринник', 'Нидіти': 'Ґеньґати', 'Нижче': 'Понизше', 'Норовистий': \"Вар'ят\", 'Носовичок': 'Платина', 'Нутрощі': 'Келюхи', 'Обманщик': 'Мантор', 'Образити': 'Умразити', 'Обценьки': 'Цонґлі', 'Огуцулитися': 'Згуцулшіти', 'Одинадцята': 'Одинацєта', 'Одружитися': 'Вженити Си', 'Одуд': 'Вувод', 'Одягнутися': 'Вбратисі', 'Оженитися': 'Вженити Си', 'Ойкати': 'Йойкатиси', 'Окопи': 'Декунки', 'Окіп': 'Шанс', 'Олівці': 'Олуфкі', 'Омелян': 'Мільчик', 'Онуфрій': 'Унуфрій', 'Оповідання': 'Оповіданє', 'Оповісти': 'Доповістувати', 'Опудало': 'Опуда', 'Осилити': 'Завтякати', 'Остогиднути': 'Сприкритиси', 'Отче Наш': 'Отчєнаш', 'Охорона': 'Сторожа', 'Охоронець Лісу': 'Попережник', 'Охоронити': 'Уратувати', 'Охочий': 'Кортєчий', 'Оцінювач': 'Шіцівник', \"П'яний\": 'Пйиний', \"П'яниця\": 'Пьиниця', \"П'ятдесят\": 'Пєдисєть', \"П'ятниця\": \"П'єтничька\", \"П'ятсот\": \"П'єть Соток\", \"П'ять\": \"П'єть\", 'Павло': 'Павло', 'Палагея': 'Палагночка', 'Палиця': 'Патик', \"Пам'ятка\": 'Помана', \"Пам'ять\": 'Кимка', 'Паразитування': 'Галапасня', 'Пасовище': 'Пасовиско', 'Пасічник': 'Бжільник', 'Педагог': 'Вчєтилька', 'Переживати': 'Журкувати', 'Перукар': 'Фризієр', 'Перукарня': 'Фризієрня', 'Петрів Хрест': 'Юрики', 'Писати': 'Шрайбати', 'Пияк': \"П'їнюга\", 'Пияцтво': 'Широка Герланка', 'Пияцюга': 'Анкоголік', 'Плакати': 'Нюні Розпускати', 'Плащ': 'Манта', 'Плечі': 'Коркоші', 'Плова': 'Раптивка', 'Пляшка': 'Флєша', 'Побачитися': 'Вздріти Си', 'Побиватися': 'Падькатися', 'Поважний': 'Вгідний', 'Повідомити': 'Заоглашкувати', 'Повістка': 'Фірлядунок', 'Повітря': 'Люфт', 'Погляд': 'Взір', 'Погода': \"Верем'я\", 'Податися Назад': 'Цирікнутися', 'Податки': 'Драчка', 'Подвійний': 'Двоєкий', \"Подвір'я\": 'Подвірічко', 'Подив': 'Здивованє', 'Пожертва': 'Офірівщина', 'Пожива': 'Футраш', 'Позичати': 'Позичьити', 'Познайомитися': 'Роззнакомитиси', 'Полагодити': 'Законтентувати', 'Полуниці': 'Трускавки', 'Польща': 'Полша', 'Поліцай': 'Шандарь', 'Поліцейський': 'Постерунковий', 'Помер': 'Ґеґнув', 'Пообіцяти': 'Побезпечити', 'Попрощатися': 'Роздєкуватиси', 'Попісяти': 'Висєтиси', 'Порося': 'Пацюк', 'Порпатися': 'Бабратиси', 'Посвідчення': 'Посьвідченє', 'Поспішати': 'Пилуватисі', 'Постукати': 'Поковтати', 'Потяг': 'Льокайка', 'Походження': 'Порекло', 'Появилася': 'Забурикаласи', 'Праска': 'Желізко', 'Працюють': \"Роб'є\", 'Президент': 'Призидент', 'Приблуда': 'Зайшлий', 'Прибути': \"З'євитси\", 'Привітання': 'Слава Ісусу Христу', 'Пригода': 'Трафунок', 'Приготувати': 'Пидлагодити', 'Придбати': 'Постарати', 'Признатися': 'Приповідатиси', 'Прийдешнє': 'Уперідь', 'Прикордонник': 'Зеленюк', 'Присісти': 'Причєкати', 'Причащатися': 'Законитиси', 'Причепурити': 'Приштрямувати', 'Прищ': 'Пістряк', 'Прищі На Губах': 'Заїди', 'Пробійнівка': 'Пробійна', 'Проводжати': 'Віріжьити', 'Проводи': 'Вирід', 'Прогулянка': 'Променад', 'Продавець': 'Склепарька', 'Пройдисвіт': 'Джєвлюга', 'Проклинати': 'Клісти', 'Прокурава': 'Пекурьива', 'Промокальний Папір': 'Бібулка', 'Промокатка': 'Бібулка', 'Пропасти': 'Пропирнути', 'Прояснилося': 'Виєснилоси', 'Прізвище': 'Порекло', 'Пташенята': 'Потята', 'Пужак': 'Пужівно', 'Пулярец': 'Бріфташка', 'Пустувати': 'Гаверлувати', 'Путила': 'Сторонец-Путилив', 'Підвалина': 'Підкотина', 'Підліток': 'Бахур', 'Підсобний Робітник': 'Челядник', \"Пір'я\": 'Пірі', 'Після Обіду': 'Пополудни', 'Пістолет': 'Ліворвер', 'Пісяти': 'Висєтиси', 'Піхота': 'Інфантерія', 'Радуйтеся': 'Веселітси', 'Радіо': 'Радийо', 'Ранець': 'Рунзак', 'Раптовий Сильний Дощ': 'Раптивка', 'Рельса': 'Шина', 'Роблять': \"Роб'єт\", 'Ровесник': 'Одноліток', 'Родовід': 'Порекло', 'Рожнів': 'Рознів', 'Роздоріжжя': 'Розпуки', 'Розмова': 'Балаканка', 'Розмовляти': 'Бесідати', 'Розмовляє': 'Балакає', 'Розповісти': 'Виповістувати', 'Розпушувати Верхній Шар Землі': 'Шкородити', 'Розсміятися': 'Уціритиси', 'Розтоки': 'Ростоки', 'Розхристаний': 'Розшінканий', 'Розізлити': \"В'їмси\", 'Роман': 'Ромко', 'Ромашка Лікарська': 'Романец', 'Росіяни': 'Русаки', 'Роїтися': 'Роїні', 'Рубанок': 'Гиблик', 'Рухливий': 'Жєпавий', 'Рюкзак': 'Рунзак', 'Рюмсати': 'Флинькати', 'Ряденце': 'Верета', 'Ряднина': 'Верета', 'Рівно': 'Дознаку', 'Різдвяні Свята': \"С'єткє Різдв'єні\", 'Свинка': 'Паццє', 'Свиня': 'Цьоня', 'Свято': 'Сіцце', 'Свячена Вода': 'Сьвичена', 'Священик': 'Парох', 'Священник': 'Пробощ', 'Світлина': 'Фотоґрафія', 'Сердитися': 'Дусатиси', 'Сережки': 'Кульчики', 'Сила': 'Путеря', 'Сирість': 'Плюта', 'Сифіліс': 'Шанкер', 'Скакати': 'Штриґати', 'Сковорідка': 'Фандела', 'Скородити': 'Шкорожіні', 'Слава Ісусу Христу': 'С.І.Х.', 'Слизько': 'Ховсько', 'Служба': 'Симбриля', 'Службовець При Державному Лісі': 'Фервальтер', 'Слід': 'Пощік', 'Смодна': 'Смовне', 'Сніданок': 'Сніданє', 'Совкова Лопата': 'Шуфлі', 'Сокира': 'Сокєра', 'Соловей': 'Соловієчко', 'Сопілка': 'Сопівка', 'Софія': 'Зоська', \"Сп'янілий\": 'Горівчєний', 'Спад\\xadЩина': 'Відумершина', 'Спекти': 'Спечи', 'Сподіватися': 'Надіватиси', 'Спожити': 'Зажжити', 'Споряджати': 'Нарихтувати', 'Справжній': 'Справедливий', 'Спрагло Пити': 'Гльохканити', 'Спритний': 'Спритніший', 'Спроможний': 'Біровитий', 'Спіймати': 'Їмити', 'Стажувальник': 'Челядник', 'Сталося': 'Трафилося', 'Стане В Пригоді': 'Придастси', 'Станція': 'Штанція', 'Старий Одяг': 'Дранті', 'Стерегтися': 'Сокотитиси', 'Стефанія': 'Штефка', 'Стопчатів': 'Столпчатів', 'Страва': 'Фріча', 'Страхатися': 'Пужітиси', 'Страхування': 'Асикурація', 'Стрибати': 'Штриґати', 'Струнко': 'Гаптах', 'Стрітення': 'Стрітині', 'Студіювати': 'Штудувати', 'Стукати': 'Пукати', 'Стілець': 'Сідец', 'Суддя': 'Сендзій', 'Сукня': 'Сукенка', 'Суконька': 'Сукенка', 'Сутінь': 'Примерькаї', 'Сушені Фрукти': 'Сушениці', 'Схопити': 'Чяпнути', 'Сіно': 'Псєнка', 'Сінокіс': 'Тішняьи', 'Та Де, Ні': 'Ей-Де', 'Танасій': 'Танасьо', 'Тарас': 'Тарасько', 'Тарілка': 'Танджір', 'Текуча': 'Текучі', 'Телефон': 'Таліфон', 'Телятко': 'Тельитко', 'Темрява': 'Темрйич', 'Тирлич Жовтий': 'Джінджура', 'Тисяча': 'Штука', 'Тканина': 'Штоф', 'Тодосій': 'Тодосьо', 'Торговець': 'Шпекулянт', 'Торгуватися': 'Годитисі', 'Торгівля': 'Гандель', 'Точно': 'Адійо', 'Точнісінько': 'Снісько', 'Трапитися': 'Нагабити', 'Тривога': 'Алярм', 'Тридцять': 'Трийцікь', 'Трубка': 'Рурка', 'Трудяться': \"Роб'є\", 'Тріска': \"Шк'абря\", 'Туберкульоз': 'Беркульоз', 'Тутечки': 'Гездички', 'Тюдів': 'Тюдев', 'Тюрма': 'Фурдиґа', 'Тяжко': 'Тєжко', 'Тямущий': 'Спритніший', 'Угорець': 'Мадєр', 'Угорщина': 'Мадьярщина', 'Удар': 'Махмуц', 'Усе': 'Капєц', 'Усміхнутися': 'Зашкіритиси', 'Усть-Путила': 'Устя-Путилів', 'Утопленик': 'Топельник', 'Утрачати Свіжість': \"В'янеш\", 'Фанера': 'Дикта', 'Фльишка': 'Флєшка', 'Фліщина': 'Флєшка', 'Фольга': 'Позлітка', 'Фотограф': 'Світливець', 'Фотографувати': 'Путуґрафувати', 'Фотографія': 'Фудуґрафія', 'Фурманити': 'Фірманити', 'Фіалка': 'Фіялка', 'Філософ': 'Фільософ', 'Харч': 'Бутор', 'Хата': 'Осєдочьок', 'Хворіти': 'Хорувати', 'Хвоя': 'Смеречині', 'Хлистати': 'Жльопати', 'Хлопчик': 'Хлопчіші', 'Хмароломний': 'Слотєний', 'Холостяк': 'Флетєв', 'Хорувати': 'Ґеньґати', 'Хотіти': \"Бажь'ити\", 'Хребет': 'Хорбака', 'Хрестини': 'Ерстини', 'Хрещена Мати': 'Хресна Матка', 'Хрещений': 'Ірщєний', 'Християнин': 'Христінин', 'Хрін': 'Хрень', 'Хусточка': 'Ширинка', 'Хімчин': 'Хомчин', 'Цвяхи': 'Цьвєкі', 'Церква': 'Церьква', 'Циркуль': \"Шашкірн'я\", 'Цукерка': 'Цюця', 'Цьогорічна': 'Цегорішна', 'Цямриня': 'Цембринє', 'Ціпко Тримати': 'Чяпнути', 'Чай': 'Гарбата', 'Часник': 'Чеснок', 'Частина Плоту': 'Талба', 'Частувати': 'Тратувати', 'Чемодан': 'Чамайдан', 'Червень': 'Гнилень', 'Читати': 'Чітати', 'Чокан': 'Джьоґан', 'Чоловік Сестри': \"Шурь'ик\", 'Чорнильниця': 'Калямар', 'Чотириста': 'Штири Сотки', 'Чотирнадцять': 'Штирнаціть', 'Чуприна': 'Гиря', 'Чіпати': 'Кивати', 'Шарфик': 'Шальок', 'Швидкий': 'Варівкий', 'Шепіт': 'Шипіт', 'Шинель': 'Мантля', 'Шипшина Корична': 'Свербигузка', 'Шкаралупа': 'Шкарапушя', 'Шкарпетки': 'Шкарпитки', 'Шмаття': 'Катранє', 'Шпигун': 'Шпійон', 'Шпихлір': 'Калдова', 'Шпурити': 'Фурнути', 'Штовхати': 'Штуркати', 'Штовхнути': 'Гупнути', 'Шуміти': 'Шарудіти', 'Шухляда': 'Шуфлета', 'Шістсот': 'Шістсто', 'Щавель Кінський': 'Щавник', 'Щирий': 'Присний', 'Щось Нікчемне': 'Нензя', 'Юзефа': 'Юзефина', 'Юшка': 'Дзєма', 'Яблуко': 'Єблуко', 'Яблуниця': 'Єблониця', 'Яблунів': 'Яблонов', 'Ягнятко': 'Ягньи', 'Ягідка': 'Їгидка', 'Якомога Скоріше': 'Єкнайпрудче', 'Якраз': 'Якрас', 'Ялівець': 'Єливец', 'Яма': 'Дучка', 'Яніна': 'Янка', 'Яремча': 'Єремче', 'Ярослав': 'Славко', 'Ясіня': 'Ясиня', 'Ящірка': 'Єшюрка', 'Яєчня': 'Єшниця', 'Ґаздівство': 'Оседок'}\n"
          ]
        }
      ],
      "source": [
        "csv_file = 'hutsul-ukrainian-dictionary.csv'\n",
        "ukrainian_to_hutsul = csv_to_dictionary(csv_file)\n",
        "print(ukrainian_to_hutsul)"
      ]
    },
    {
      "cell_type": "code",
      "execution_count": 19,
      "metadata": {
        "id": "ah78arR3N0jt"
      },
      "outputs": [],
      "source": [
        "def translate_to_hutsul(sentence, dictionary=ukrainian_to_hutsul):\n",
        "    # Convert the dictionary keys to lowercase for case-insensitive matching\n",
        "    dictionary_lower = {key.lower(): value for key, value in dictionary.items()}\n",
        "\n",
        "    def replace_word(match):\n",
        "        word = match.group(0)\n",
        "        word_lower = word.lower()\n",
        "        if word_lower in dictionary_lower:\n",
        "            if word.islower():\n",
        "                return dictionary_lower[word_lower].lower()\n",
        "            elif word.isupper():\n",
        "                return dictionary_lower[word_lower].upper()\n",
        "            elif word.istitle():\n",
        "                return dictionary_lower[word_lower].capitalize()\n",
        "            else:\n",
        "                return dictionary_lower[word_lower]\n",
        "        return word\n",
        "\n",
        "    translated_sentence = re.sub(r'\\w+\\'?\\w*', replace_word, sentence)\n",
        "    return translated_sentence"
      ]
    },
    {
      "cell_type": "code",
      "execution_count": 21,
      "metadata": {},
      "outputs": [
        {
          "data": {
            "text/html": [
              "<div>\n",
              "<style scoped>\n",
              "    .dataframe tbody tr th:only-of-type {\n",
              "        vertical-align: middle;\n",
              "    }\n",
              "\n",
              "    .dataframe tbody tr th {\n",
              "        vertical-align: top;\n",
              "    }\n",
              "\n",
              "    .dataframe thead th {\n",
              "        text-align: right;\n",
              "    }\n",
              "</style>\n",
              "<table border=\"1\" class=\"dataframe\">\n",
              "  <thead>\n",
              "    <tr style=\"text-align: right;\">\n",
              "      <th></th>\n",
              "      <th>Sentence</th>\n",
              "      <th>Count</th>\n",
              "      <th>Found Phrases</th>\n",
              "      <th>NumWords</th>\n",
              "      <th>ChangedWords</th>\n",
              "      <th>ChangedWordsPercentage</th>\n",
              "    </tr>\n",
              "  </thead>\n",
              "  <tbody>\n",
              "    <tr>\n",
              "      <th>0</th>\n",
              "      <td>Ось ми його зараз…</td>\n",
              "      <td>4</td>\n",
              "      <td>ось|зараз|ми|його</td>\n",
              "      <td>4</td>\n",
              "      <td>4</td>\n",
              "      <td>100.0</td>\n",
              "    </tr>\n",
              "    <tr>\n",
              "      <th>1</th>\n",
              "      <td>Але це, звичайно, неможливо</td>\n",
              "      <td>4</td>\n",
              "      <td>це|звичайно|неможливо|але</td>\n",
              "      <td>4</td>\n",
              "      <td>4</td>\n",
              "      <td>100.0</td>\n",
              "    </tr>\n",
              "    <tr>\n",
              "      <th>2</th>\n",
              "      <td>Чи що він думав?</td>\n",
              "      <td>4</td>\n",
              "      <td>він|чи|що|думав</td>\n",
              "      <td>4</td>\n",
              "      <td>4</td>\n",
              "      <td>100.0</td>\n",
              "    </tr>\n",
              "    <tr>\n",
              "      <th>3</th>\n",
              "      <td>Чи людина щось може</td>\n",
              "      <td>4</td>\n",
              "      <td>щось|чи|може|людина</td>\n",
              "      <td>4</td>\n",
              "      <td>4</td>\n",
              "      <td>100.0</td>\n",
              "    </tr>\n",
              "    <tr>\n",
              "      <th>4</th>\n",
              "      <td>тут тільки трохи ще..</td>\n",
              "      <td>4</td>\n",
              "      <td>тут|трохи|тільки|ще</td>\n",
              "      <td>4</td>\n",
              "      <td>4</td>\n",
              "      <td>100.0</td>\n",
              "    </tr>\n",
              "    <tr>\n",
              "      <th>5</th>\n",
              "      <td>Але я відаю її</td>\n",
              "      <td>4</td>\n",
              "      <td>відаю|її|я|але</td>\n",
              "      <td>4</td>\n",
              "      <td>4</td>\n",
              "      <td>100.0</td>\n",
              "    </tr>\n",
              "    <tr>\n",
              "      <th>6</th>\n",
              "      <td>Людина нічого не може</td>\n",
              "      <td>4</td>\n",
              "      <td>не може|нічого|може|людина</td>\n",
              "      <td>4</td>\n",
              "      <td>4</td>\n",
              "      <td>100.0</td>\n",
              "    </tr>\n",
              "    <tr>\n",
              "      <th>7</th>\n",
              "      <td>Це зовсім добрий бінокль</td>\n",
              "      <td>4</td>\n",
              "      <td>добрий|бінокль|зовсім|це</td>\n",
              "      <td>4</td>\n",
              "      <td>4</td>\n",
              "      <td>100.0</td>\n",
              "    </tr>\n",
              "    <tr>\n",
              "      <th>8</th>\n",
              "      <td>Все це так ясно..</td>\n",
              "      <td>4</td>\n",
              "      <td>все|ясно|це|так</td>\n",
              "      <td>4</td>\n",
              "      <td>4</td>\n",
              "      <td>100.0</td>\n",
              "    </tr>\n",
              "    <tr>\n",
              "      <th>9</th>\n",
              "      <td>Цікаво, як це сталося</td>\n",
              "      <td>4</td>\n",
              "      <td>цікаво|як|це|сталося</td>\n",
              "      <td>4</td>\n",
              "      <td>4</td>\n",
              "      <td>100.0</td>\n",
              "    </tr>\n",
              "  </tbody>\n",
              "</table>\n",
              "</div>"
            ],
            "text/plain": [
              "                      Sentence  Count               Found Phrases  NumWords  \\\n",
              "0           Ось ми його зараз…      4           ось|зараз|ми|його         4   \n",
              "1  Але це, звичайно, неможливо      4   це|звичайно|неможливо|але         4   \n",
              "2             Чи що він думав?      4             він|чи|що|думав         4   \n",
              "3          Чи людина щось може      4         щось|чи|може|людина         4   \n",
              "4        тут тільки трохи ще..      4         тут|трохи|тільки|ще         4   \n",
              "5               Але я відаю її      4              відаю|її|я|але         4   \n",
              "6        Людина нічого не може      4  не може|нічого|може|людина         4   \n",
              "7     Це зовсім добрий бінокль      4    добрий|бінокль|зовсім|це         4   \n",
              "8            Все це так ясно..      4             все|ясно|це|так         4   \n",
              "9        Цікаво, як це сталося      4        цікаво|як|це|сталося         4   \n",
              "\n",
              "   ChangedWords  ChangedWordsPercentage  \n",
              "0             4                   100.0  \n",
              "1             4                   100.0  \n",
              "2             4                   100.0  \n",
              "3             4                   100.0  \n",
              "4             4                   100.0  \n",
              "5             4                   100.0  \n",
              "6             4                   100.0  \n",
              "7             4                   100.0  \n",
              "8             4                   100.0  \n",
              "9             4                   100.0  "
            ]
          },
          "execution_count": 21,
          "metadata": {},
          "output_type": "execute_result"
        }
      ],
      "source": [
        "sentences_df = pd.read_csv(\"./rag-data/finction-10k.csv\")\n",
        "sentences_df.head(10)"
      ]
    },
    {
      "cell_type": "code",
      "execution_count": 22,
      "metadata": {
        "colab": {
          "base_uri": "https://localhost:8080/",
          "height": 362
        },
        "id": "may49WINOQYn",
        "outputId": "a31e753a-70b3-4847-b884-f868b7f9c281"
      },
      "outputs": [
        {
          "data": {
            "text/html": [
              "<div>\n",
              "<style scoped>\n",
              "    .dataframe tbody tr th:only-of-type {\n",
              "        vertical-align: middle;\n",
              "    }\n",
              "\n",
              "    .dataframe tbody tr th {\n",
              "        vertical-align: top;\n",
              "    }\n",
              "\n",
              "    .dataframe thead th {\n",
              "        text-align: right;\n",
              "    }\n",
              "</style>\n",
              "<table border=\"1\" class=\"dataframe\">\n",
              "  <thead>\n",
              "    <tr style=\"text-align: right;\">\n",
              "      <th></th>\n",
              "      <th>Sentence</th>\n",
              "      <th>Count</th>\n",
              "      <th>Found Phrases</th>\n",
              "      <th>NumWords</th>\n",
              "      <th>ChangedWords</th>\n",
              "      <th>ChangedWordsPercentage</th>\n",
              "      <th>Processed_Sentence</th>\n",
              "    </tr>\n",
              "  </thead>\n",
              "  <tbody>\n",
              "    <tr>\n",
              "      <th>0</th>\n",
              "      <td>Ось ми його зараз…</td>\n",
              "      <td>4</td>\n",
              "      <td>ось|зараз|ми|його</td>\n",
              "      <td>4</td>\n",
              "      <td>4</td>\n",
              "      <td>100.0</td>\n",
              "      <td>Леда ми го зараз…</td>\n",
              "    </tr>\n",
              "    <tr>\n",
              "      <th>1</th>\n",
              "      <td>Але це, звичайно, неможливо</td>\n",
              "      <td>4</td>\n",
              "      <td>це|звичайно|неможливо|але</td>\n",
              "      <td>4</td>\n",
              "      <td>4</td>\n",
              "      <td>100.0</td>\n",
              "      <td>Айбо цисе, ашош, гляба</td>\n",
              "    </tr>\n",
              "    <tr>\n",
              "      <th>2</th>\n",
              "      <td>Чи що він думав?</td>\n",
              "      <td>4</td>\n",
              "      <td>він|чи|що|думав</td>\n",
              "      <td>4</td>\n",
              "      <td>4</td>\n",
              "      <td>100.0</td>\n",
              "      <td>Ци шо вин гадав сми?</td>\n",
              "    </tr>\n",
              "    <tr>\n",
              "      <th>3</th>\n",
              "      <td>Чи людина щось може</td>\n",
              "      <td>4</td>\n",
              "      <td>щось|чи|може|людина</td>\n",
              "      <td>4</td>\n",
              "      <td>4</td>\n",
              "      <td>100.0</td>\n",
              "      <td>Ци людьина шош годен</td>\n",
              "    </tr>\n",
              "    <tr>\n",
              "      <th>4</th>\n",
              "      <td>тут тільки трохи ще..</td>\n",
              "      <td>4</td>\n",
              "      <td>тут|трохи|тільки|ще</td>\n",
              "      <td>4</td>\n",
              "      <td>4</td>\n",
              "      <td>100.0</td>\n",
              "      <td>гир іно маленько шє..</td>\n",
              "    </tr>\n",
              "    <tr>\n",
              "      <th>5</th>\n",
              "      <td>Але я відаю її</td>\n",
              "      <td>4</td>\n",
              "      <td>відаю|її|я|але</td>\n",
              "      <td>4</td>\n",
              "      <td>4</td>\n",
              "      <td>100.0</td>\n",
              "      <td>Айбо йа свідім ї</td>\n",
              "    </tr>\n",
              "    <tr>\n",
              "      <th>6</th>\n",
              "      <td>Людина нічого не може</td>\n",
              "      <td>4</td>\n",
              "      <td>не може|нічого|може|людина</td>\n",
              "      <td>4</td>\n",
              "      <td>4</td>\n",
              "      <td>100.0</td>\n",
              "      <td>Людьина нич не годен</td>\n",
              "    </tr>\n",
              "    <tr>\n",
              "      <th>7</th>\n",
              "      <td>Це зовсім добрий бінокль</td>\n",
              "      <td>4</td>\n",
              "      <td>добрий|бінокль|зовсім|це</td>\n",
              "      <td>4</td>\n",
              "      <td>4</td>\n",
              "      <td>100.0</td>\n",
              "      <td>Цисе прем файний окян</td>\n",
              "    </tr>\n",
              "    <tr>\n",
              "      <th>8</th>\n",
              "      <td>Все це так ясно..</td>\n",
              "      <td>4</td>\n",
              "      <td>все|ясно|це|так</td>\n",
              "      <td>4</td>\n",
              "      <td>4</td>\n",
              "      <td>100.0</td>\n",
              "      <td>Всьо цисе йо ага..</td>\n",
              "    </tr>\n",
              "    <tr>\n",
              "      <th>9</th>\n",
              "      <td>Цікаво, як це сталося</td>\n",
              "      <td>4</td>\n",
              "      <td>цікаво|як|це|сталося</td>\n",
              "      <td>4</td>\n",
              "      <td>4</td>\n",
              "      <td>100.0</td>\n",
              "      <td>Вере, єк цисе трафилося</td>\n",
              "    </tr>\n",
              "  </tbody>\n",
              "</table>\n",
              "</div>"
            ],
            "text/plain": [
              "                      Sentence  Count               Found Phrases  NumWords  \\\n",
              "0           Ось ми його зараз…      4           ось|зараз|ми|його         4   \n",
              "1  Але це, звичайно, неможливо      4   це|звичайно|неможливо|але         4   \n",
              "2             Чи що він думав?      4             він|чи|що|думав         4   \n",
              "3          Чи людина щось може      4         щось|чи|може|людина         4   \n",
              "4        тут тільки трохи ще..      4         тут|трохи|тільки|ще         4   \n",
              "5               Але я відаю її      4              відаю|її|я|але         4   \n",
              "6        Людина нічого не може      4  не може|нічого|може|людина         4   \n",
              "7     Це зовсім добрий бінокль      4    добрий|бінокль|зовсім|це         4   \n",
              "8            Все це так ясно..      4             все|ясно|це|так         4   \n",
              "9        Цікаво, як це сталося      4        цікаво|як|це|сталося         4   \n",
              "\n",
              "   ChangedWords  ChangedWordsPercentage       Processed_Sentence  \n",
              "0             4                   100.0        Леда ми го зараз…  \n",
              "1             4                   100.0   Айбо цисе, ашош, гляба  \n",
              "2             4                   100.0     Ци шо вин гадав сми?  \n",
              "3             4                   100.0     Ци людьина шош годен  \n",
              "4             4                   100.0    гир іно маленько шє..  \n",
              "5             4                   100.0         Айбо йа свідім ї  \n",
              "6             4                   100.0     Людьина нич не годен  \n",
              "7             4                   100.0    Цисе прем файний окян  \n",
              "8             4                   100.0       Всьо цисе йо ага..  \n",
              "9             4                   100.0  Вере, єк цисе трафилося  "
            ]
          },
          "execution_count": 22,
          "metadata": {},
          "output_type": "execute_result"
        }
      ],
      "source": [
        "sentences_df[\"Processed_Sentence\"] = sentences_df[\"Sentence\"].apply(translate_to_hutsul)\n",
        "sentences_df.head(10)"
      ]
    },
    {
      "cell_type": "code",
      "execution_count": 23,
      "metadata": {
        "colab": {
          "base_uri": "https://localhost:8080/",
          "height": 206
        },
        "id": "afNovZXaSA5a",
        "outputId": "d042d99e-a39d-40ac-d25c-dc5fcf96bacb"
      },
      "outputs": [
        {
          "data": {
            "text/html": [
              "<div>\n",
              "<style scoped>\n",
              "    .dataframe tbody tr th:only-of-type {\n",
              "        vertical-align: middle;\n",
              "    }\n",
              "\n",
              "    .dataframe tbody tr th {\n",
              "        vertical-align: top;\n",
              "    }\n",
              "\n",
              "    .dataframe thead th {\n",
              "        text-align: right;\n",
              "    }\n",
              "</style>\n",
              "<table border=\"1\" class=\"dataframe\">\n",
              "  <thead>\n",
              "    <tr style=\"text-align: right;\">\n",
              "      <th></th>\n",
              "      <th>Sentence</th>\n",
              "      <th>Processed_Sentence</th>\n",
              "    </tr>\n",
              "  </thead>\n",
              "  <tbody>\n",
              "    <tr>\n",
              "      <th>0</th>\n",
              "      <td>Ось ми його зараз…</td>\n",
              "      <td>Леда ми го зараз…</td>\n",
              "    </tr>\n",
              "    <tr>\n",
              "      <th>1</th>\n",
              "      <td>Але це, звичайно, неможливо</td>\n",
              "      <td>Айбо цисе, ашош, гляба</td>\n",
              "    </tr>\n",
              "    <tr>\n",
              "      <th>2</th>\n",
              "      <td>Чи що він думав?</td>\n",
              "      <td>Ци шо вин гадав сми?</td>\n",
              "    </tr>\n",
              "    <tr>\n",
              "      <th>3</th>\n",
              "      <td>Чи людина щось може</td>\n",
              "      <td>Ци людьина шош годен</td>\n",
              "    </tr>\n",
              "    <tr>\n",
              "      <th>4</th>\n",
              "      <td>тут тільки трохи ще..</td>\n",
              "      <td>гир іно маленько шє..</td>\n",
              "    </tr>\n",
              "  </tbody>\n",
              "</table>\n",
              "</div>"
            ],
            "text/plain": [
              "                      Sentence      Processed_Sentence\n",
              "0           Ось ми його зараз…       Леда ми го зараз…\n",
              "1  Але це, звичайно, неможливо  Айбо цисе, ашош, гляба\n",
              "2             Чи що він думав?    Ци шо вин гадав сми?\n",
              "3          Чи людина щось може    Ци людьина шош годен\n",
              "4        тут тільки трохи ще..   гир іно маленько шє.."
            ]
          },
          "execution_count": 23,
          "metadata": {},
          "output_type": "execute_result"
        }
      ],
      "source": [
        "hutsul_synthetic_base = sentences_df[[\"Sentence\", \"Processed_Sentence\"]].copy()\n",
        "hutsul_synthetic_base.head()"
      ]
    },
    {
      "cell_type": "code",
      "execution_count": null,
      "metadata": {
        "id": "9Qj-2ti8S387"
      },
      "outputs": [],
      "source": [
        "def generate_prompt(processed_sentence, context_sentences):\n",
        "    context_str = \"\\n\".join(context_sentences)\n",
        "    prompt = f\"Write the following sentence:\\n{processed_sentence}\\n\\nin the same language style as the following sentences:\\n{context_str}\\n Return ONLY rewritten sentence, no other comments\"\n",
        "    return prompt"
      ]
    },
    {
      "cell_type": "code",
      "execution_count": 218,
      "metadata": {},
      "outputs": [],
      "source": [
        "def generate_ukrainian_prompt(sentence, processed_sentence, context_sentences):\n",
        "    context_str = \"\\n - \".join(context_sentences)\n",
        "    prompt = f\"\"\"Речення літературною українською: \"{sentence}\".\n",
        "Після зміни деяких слів на гуцульські відповідники за допомогою словника, оновлене речення: \n",
        "\"{processed_sentence}\".\n",
        "    \n",
        "Перепиши речення: \"{processed_sentence}\" на гуцульський діалект, використовуючи основні особливості і правила гуцульського діалекту. Приклад подібних речень у гуцульському діалекті:\n",
        " - {context_str}\n",
        "\n",
        "Не модифікуй слова, які були змінені за допомогою словника, працюй з іншими словами у реченні. У відповіді поверни ТІЛЬКИ переписане тобою речення у гуцульському діалекті, без жодних коментарів чи пояснень. Поверни ТІЛЬКИ переписане речення. \n",
        "\"\"\"\n",
        "\n",
        "    return prompt"
      ]
    },
    {
      "cell_type": "code",
      "execution_count": 214,
      "metadata": {},
      "outputs": [],
      "source": [
        "def generate_instructions():\n",
        "    prompt = f\"\"\"Ти експерт у гуцульському діалекті, і твоя задача: переписувати надані речення гуцульським діалектом.\n",
        "\n",
        "Ти застосовуєш такі основні особливості і правила гуцульського діалекту при переписуванні речень гуцульським діалектом:\n",
        "- Заміна \"є\" замість \"а\", \"я\" (коли наголошене). Приклад: гуцульський - \"єк\", українською - \"як\"; гуцульський - \"єгода\", українською - \"ягода\"; гуцульський - \"єйце\", українською - \"яйце\"; гуцульський - \"єрмарок\", українською - \"ярмарок\".\n",
        "- Заміна \"е\" або рідше \"і\" замість \"и\" (коли наголошене). Приклад: гуцульський - \"абес\", українською - \"абись\"; гуцульський - \"жето\", українською - \"жито\". \n",
        "- Заміна \"і\" на \"и\". Приклад: гуцульський - \"Иван\", українською - \"Іван\"; гуцульський - \"иду\", українською - \"іду\".\n",
        "- Заміна \"я\" на \"и\" або \"і\": Приклад: гуцульський - \"забаривсми-си\", українською - \"забарився-ся\"; гуцульський - \"най-си\", українською - \"най-ся\"\n",
        "- Заміна \"ю\" на \"у\". Приклад: гуцульський - \"суда\", українською - \"сюди\"; гуцульський - \"вівцу\", українською - \"вівцю\".\n",
        "- \"ві-\" замість \"ви-\" у префіксі. Приклад: гуцульський - \"вітратити\", українською - \"витратити\".\n",
        "- Заміна \"д\" на \"ґ\". Приклад: гуцульський - \"ґівка\", українською - \"дівка\"; гуцульський - \"ґедьо\", українською - \"дідо\".\n",
        "- Заміна \"к\" на \"ть\". Приклад: гуцульський - \"доньтя\", українською - \"донька\".\n",
        "- Пом'якшення шиплячих. Приклад: гуцульський - \"чьо\", українською - \"чого\"; гуцульський - \"чєлєдь\", українською - \"челядь\".\n",
        "- \"д\" замість \"ґ\". Приклад: гуцульський - \"ледінь\", українською - \"леґінь, легінь\".\n",
        "- \"к\" замість \"т\" перед \"є\", \"і\", іноді в кінці слова. Приклад: гуцульський - \"крескєни\", українською - \"християни\"; гуцульський - \"кокє\", українською - \"котя\"; гуцульський - \"кєшко\", українською - \"тяжко\".\n",
        "- \"ц\" замість \"ч\" і навпаки. Приклад: гуцульський - \"ци\", українською - \"чи\"; гуцульський - \"чибук\", українською - \"цибух\".\n",
        "- тверді \"с\", \"ц\", \"з\" замість пом'якшених. Приклад: гуцульський - \"шос\", українською - \"шось\"; гуцульський - \"дес\", українською - \"десь\"; гуцульський - \"хлопец\", українською - \"хлопець\".\n",
        "- Заміна \"и\" на \"і\", і навпаки в множині іменників. Приклад: гуцульський - \"ангелі\", українською - \"ангели\"; гуцульський - \"Жебівци\", українською - \"Жебівці\".\n",
        "- \"нн\", \"н\" замість \"дн\", \"тн\", \"лн\". Приклад: гуцульський - \"перенний\", українською - \"передний\"; гуцульський - \"мeнник\" або \"мeнник\", українською - \"мелник\".\n",
        "- Іменники основ \"-а\", \"-я\" в орудному відмінку мають закінчення \"-ов\", \"-ев\": руков «рукою», землев «землею»;\n",
        "\n",
        "Приклади твого перекладу з літературної української мови на гуцульський діалект:\n",
        "Літературна українська: За річкою, саме наперед вікон, під лісом тетеріла стрімка стряпава скеля.\n",
        "Гуцульський діалект: За річьков, наопередь самих викон, пид лісом тетеріла стримка, стряпава скала.\n",
        "\n",
        "У своїй відповіді ти повертаєш ТІЛЬКИ переписане тобою речення у гуцульському діалекті, без коментарів та різних згадувань. Лише речення написане гуцульським діалектом.\n",
        "\"\"\"\n",
        "\n",
        "    return prompt"
      ]
    },
    {
      "cell_type": "code",
      "execution_count": 210,
      "metadata": {},
      "outputs": [
        {
          "name": "stdout",
          "output_type": "stream",
          "text": [
            "Ти експерт у гуцульському діалекті, і твоя задача: переписувати надані речення гуцульським діалектом.\n",
            "\n",
            "Ти застосовуєш такі основні особливості і правила гуцульського діалекту при переписуванні речень гуцульським діалектом:\n",
            "- є замість а, я (коли наголошене): єк \"як\", єгода \"ягода\", єйце \"яйце\", єрмарок \"ярмарок\"\n",
            "- е або рідше і замість и (коли наголошене): абес \"абись\", жето \"жито\" \n",
            "- Заміна і на и: Иван \"Іван\", иду \"іду\"\n",
            "- Заміна я на и або і: забаривсми-си, най-си\n",
            "- Заміна ю на у: суда \"сюди\", вівцу \"вівцю\"\n",
            "- \"ві-\" замість \"ви-\" у префіксі: вітратити \"втратити\"\n",
            "- Заміна д на ґ: ґівка \"дівка\", ґедьо \"дідо\"\n",
            "- Заміна к на ть: доньтя \"донька\"\n",
            "- Пом'якшення шиплячих: чьо \"чого\", чєлєдь \"челядь\"\n",
            "- д замість ґ: ледінь \"леґінь, легінь\"\n",
            "- к замість т перед є, і, іноді в кінці слова: крескєни \"християни\", кокє \"котя\", кєшко \"тяжко\"\n",
            "- ц замість ч і навпаки: ци «чи», чибук «цибух»\n",
            "- тверді с, ц, з замість пом'якшених: шос «шось», дес «десь», хлопец «хлопець»\n",
            "- Заміна и на і і навпаки в множині іменників: ангелі, Жебівци\n",
            "- Іменники основ -а, -я в орудному відмінку мають закінчення -ов, -ев: руков «рукою», землев «землею»;\n",
            "\n",
            "Приклади твого перекладу з літературної української мови на гуцульський діалект:\n",
            "Літературна українська: За річкою, саме наперед вікон, під лісом тетеріла стрімка стряпава скеля.\n",
            "Гуцульський діалект: За річьков, наопередь самих викон, пид лісом тетеріла стримка, стряпава скала.\n",
            "\n",
            "У своїй відповіді ти повертаєш ТІЛЬКИ переписане тобою речення у гуцульському діалекті, без коментарів та різних згадувань. Лише речення написане гуцульським діалектом.\n",
            "\n"
          ]
        }
      ],
      "source": [
        "print(generate_instructions())"
      ]
    },
    {
      "cell_type": "code",
      "execution_count": 221,
      "metadata": {
        "id": "MCwgES6LJ1fQ"
      },
      "outputs": [],
      "source": [
        "def chatGPT_api(messages):\n",
        "    chat_completion = client.chat.completions.create(\n",
        "        messages=messages,\n",
        "        model=\"gpt-3.5-turbo\",\n",
        "        temperature=0.0\n",
        "    )\n",
        "\n",
        "    return chat_completion.choices[0].message\n",
        "\n",
        "def send_llm_request(sentence, processed_sentence, context_sentences, instructions):\n",
        "    content = generate_ukrainian_prompt(sentence, processed_sentence, context_sentences)\n",
        "    messages = [\n",
        "        {\"role\": \"system\", \"content\": instructions},\n",
        "        {\"role\": \"user\", \"content\": content}\n",
        "    ]\n",
        "    synthetic_sentence = chatGPT_api(messages).content\n",
        "\n",
        "    return synthetic_sentence"
      ]
    },
    {
      "cell_type": "code",
      "execution_count": 198,
      "metadata": {
        "id": "nTpuZjZdJ1Bo"
      },
      "outputs": [],
      "source": [
        "def search_hutsul_sentences(sentence, threshold=0.4, top_n_neighbours=4):\n",
        "  docs = index_search(sentence, k=top_n_neighbours, threshold=threshold)\n",
        "  return docs"
      ]
    },
    {
      "cell_type": "code",
      "execution_count": 179,
      "metadata": {
        "colab": {
          "base_uri": "https://localhost:8080/",
          "height": 35
        },
        "id": "I6aG7PoXZ67D",
        "outputId": "30442192-3c03-4114-b44f-0be6080e5bd0"
      },
      "outputs": [
        {
          "data": {
            "text/plain": [
              "'Вона відповіла, посміхаючись: — Яка несподівана зустріч'"
            ]
          },
          "execution_count": 179,
          "metadata": {},
          "output_type": "execute_result"
        }
      ],
      "source": [
        "sentence = sentences_df[\"Sentence\"][9999]\n",
        "sentence"
      ]
    },
    {
      "cell_type": "code",
      "execution_count": 180,
      "metadata": {
        "colab": {
          "base_uri": "https://localhost:8080/",
          "height": 35
        },
        "id": "IqHeAmlCSVvu",
        "outputId": "f8214f7d-43ce-402f-a136-8ae4a5709856"
      },
      "outputs": [
        {
          "data": {
            "text/plain": [
              "'Уна відповіла, посміхаючись: — Ика несподівана стріча'"
            ]
          },
          "execution_count": 180,
          "metadata": {},
          "output_type": "execute_result"
        }
      ],
      "source": [
        "query = sentences_df[\"Processed_Sentence\"][9999]\n",
        "query"
      ]
    },
    {
      "cell_type": "code",
      "execution_count": 143,
      "metadata": {
        "colab": {
          "base_uri": "https://localhost:8080/"
        },
        "id": "k9KA5NXOIVdb",
        "outputId": "fad9c2ce-c2a9-48db-dd31-5eb87eca5f73"
      },
      "outputs": [
        {
          "data": {
            "text/plain": [
              "(array([[0.5912436, 0.559446 , 0.5419863, 0.5353999]], dtype=float32), ['Прото він привиташка був, тай тимунь йиго всі любили.', 'Знав, єк си де обійти й зайти, тимунь йиго усі люде за березованє фалили й любили, та навиділи йиго у колєдниках.', 'Шо я був тому винен, шо уна вже була стара тай тимунь їй си ни хотіло так пидбрикувати, єк мині молодому?.', 'А єк приніс їй доброго бука, уна устала: «Я твоя люба».'])"
            ]
          },
          "execution_count": 143,
          "metadata": {},
          "output_type": "execute_result"
        }
      ],
      "source": [
        "index_search(query, k=4)"
      ]
    },
    {
      "cell_type": "code",
      "execution_count": 196,
      "metadata": {
        "colab": {
          "base_uri": "https://localhost:8080/"
        },
        "id": "mOs0RUS5S2mw",
        "outputId": "e6be52a3-f841-49c4-a846-91d510931864"
      },
      "outputs": [
        {
          "data": {
            "text/plain": [
              "(array([], shape=(1, 0), dtype=float64), [])"
            ]
          },
          "execution_count": 196,
          "metadata": {},
          "output_type": "execute_result"
        }
      ],
      "source": [
        "context_sentences = search_hutsul_sentences(query)\n",
        "context_sentences"
      ]
    },
    {
      "cell_type": "code",
      "execution_count": 197,
      "metadata": {
        "colab": {
          "base_uri": "https://localhost:8080/"
        },
        "id": "sQcE6xhHQIeb",
        "outputId": "bc9c851f-3c4b-4ed4-b273-c81ef6c5a614"
      },
      "outputs": [
        {
          "data": {
            "text/plain": [
              "0"
            ]
          },
          "execution_count": 197,
          "metadata": {},
          "output_type": "execute_result"
        }
      ],
      "source": [
        "len(context_sentences[0][0])"
      ]
    },
    {
      "cell_type": "code",
      "execution_count": 93,
      "metadata": {
        "colab": {
          "base_uri": "https://localhost:8080/",
          "height": 35
        },
        "id": "AhrwoxAeQ5Su",
        "outputId": "90d22574-ac40-4ef2-cec6-423d2fbe0bc9"
      },
      "outputs": [
        {
          "data": {
            "text/plain": [
              "'0.40938908,0.40802425,0.40578496,0.3948965'"
            ]
          },
          "execution_count": 93,
          "metadata": {},
          "output_type": "execute_result"
        }
      ],
      "source": [
        "scores_csv = ','.join(map(str, context_sentences[0].flatten()))\n",
        "scores_csv"
      ]
    },
    {
      "cell_type": "code",
      "execution_count": 182,
      "metadata": {
        "colab": {
          "base_uri": "https://localhost:8080/"
        },
        "id": "5EJkZQ2XWnjr",
        "outputId": "d2e7f928-1bff-4a9c-adfc-21a4016c480b"
      },
      "outputs": [
        {
          "name": "stdout",
          "output_type": "stream",
          "text": [
            "Речення літературною українською: \"Вона відповіла, посміхаючись: — Яка несподівана зустріч\".\n",
            "Після зміни деяких слів на гуцульські відповідники за допомогою словника, оновлене речення: \n",
            "\"Уна відповіла, посміхаючись: — Ика несподівана стріча\".\n",
            "    \n",
            "Перепиши речення: \"Уна відповіла, посміхаючись: — Ика несподівана стріча\".\n",
            "на гуцульський діалект, використовуючи основні особливості і правила гуцульського діалекту. Приклад подібний речень у гуцульському діалекті:\n",
            " - Довгий, фіґляво всміхаючіси, витавси: «Єк дновав, Ива’?».\n",
            " - «Та ні!» — здивовано відповів Иванчік.\n",
            " - «Ни бреши! Иків би ти ни знав?» — єк ґайда, злісно гаркнув дідо на мене.\n",
            " - Вна, квап’єчіси, борзо йиму сказала: «Иванчіку — чуєш?.\n",
            "\n",
            "У відповіді поверни ТІЛЬКИ переписане тобою речення у гуцульському діалекті, без жодних інших коментарів.\n",
            "\n"
          ]
        }
      ],
      "source": [
        "instruction = generate_instructions()\n",
        "synthetic_sentence = send_llm_request(sentence, query, context_sentences[1], instruction)"
      ]
    },
    {
      "cell_type": "code",
      "execution_count": 183,
      "metadata": {
        "colab": {
          "base_uri": "https://localhost:8080/",
          "height": 35
        },
        "id": "fRhddPP2YuD3",
        "outputId": "24848073-a063-4e0b-eac7-e54fc4361481"
      },
      "outputs": [
        {
          "data": {
            "text/plain": [
              "'Уна відповіла, посміхаючись: — Ика несподівана стріча.'"
            ]
          },
          "execution_count": 183,
          "metadata": {},
          "output_type": "execute_result"
        }
      ],
      "source": [
        "synthetic_sentence"
      ]
    },
    {
      "cell_type": "code",
      "execution_count": 189,
      "metadata": {
        "colab": {
          "base_uri": "https://localhost:8080/"
        },
        "id": "4iOlaSAWIyVw",
        "outputId": "6cd5b357-bf6b-435d-f4b3-71d13f8fbc04"
      },
      "outputs": [
        {
          "data": {
            "text/plain": [
              "10055"
            ]
          },
          "execution_count": 189,
          "metadata": {},
          "output_type": "execute_result"
        }
      ],
      "source": [
        "processed_sentences = sentences_df[\"Processed_Sentence\"].to_numpy()\n",
        "len(processed_sentences)"
      ]
    },
    {
      "cell_type": "code",
      "execution_count": 191,
      "metadata": {},
      "outputs": [
        {
          "name": "stderr",
          "output_type": "stream",
          "text": [
            "Embedding Progress: 100%|██████████| 10055/10055 [46:34<00:00,  3.60it/s] \n"
          ]
        }
      ],
      "source": [
        "from tqdm import tqdm\n",
        "\n",
        "embedded_processed_sentences = []\n",
        "for text in tqdm(processed_sentences, desc=\"Embedding Progress\"):\n",
        "    embedded_processed_sentences.append(embeddings.embed_query(text))"
      ]
    },
    {
      "cell_type": "code",
      "execution_count": 192,
      "metadata": {
        "id": "Z0-eUhFeJDHw"
      },
      "outputs": [],
      "source": [
        "embedded_numpy_processed = np.array(embedded_processed_sentences)\n",
        "np.save('./embeddings_processed_openai_fiction.npy', embedded_numpy_processed)"
      ]
    },
    {
      "cell_type": "code",
      "execution_count": 202,
      "metadata": {},
      "outputs": [
        {
          "data": {
            "text/html": [
              "<div>\n",
              "<style scoped>\n",
              "    .dataframe tbody tr th:only-of-type {\n",
              "        vertical-align: middle;\n",
              "    }\n",
              "\n",
              "    .dataframe tbody tr th {\n",
              "        vertical-align: top;\n",
              "    }\n",
              "\n",
              "    .dataframe thead th {\n",
              "        text-align: right;\n",
              "    }\n",
              "</style>\n",
              "<table border=\"1\" class=\"dataframe\">\n",
              "  <thead>\n",
              "    <tr style=\"text-align: right;\">\n",
              "      <th></th>\n",
              "      <th>Sentence</th>\n",
              "      <th>Count</th>\n",
              "      <th>Found Phrases</th>\n",
              "      <th>NumWords</th>\n",
              "      <th>ChangedWords</th>\n",
              "      <th>ChangedWordsPercentage</th>\n",
              "      <th>Processed_Sentence</th>\n",
              "    </tr>\n",
              "  </thead>\n",
              "  <tbody>\n",
              "    <tr>\n",
              "      <th>0</th>\n",
              "      <td>Ось ми його зараз…</td>\n",
              "      <td>4</td>\n",
              "      <td>ось|зараз|ми|його</td>\n",
              "      <td>4</td>\n",
              "      <td>4</td>\n",
              "      <td>100.0</td>\n",
              "      <td>Леда ми го зараз…</td>\n",
              "    </tr>\n",
              "    <tr>\n",
              "      <th>1</th>\n",
              "      <td>Але це, звичайно, неможливо</td>\n",
              "      <td>4</td>\n",
              "      <td>це|звичайно|неможливо|але</td>\n",
              "      <td>4</td>\n",
              "      <td>4</td>\n",
              "      <td>100.0</td>\n",
              "      <td>Айбо цисе, ашош, гляба</td>\n",
              "    </tr>\n",
              "    <tr>\n",
              "      <th>2</th>\n",
              "      <td>Чи що він думав?</td>\n",
              "      <td>4</td>\n",
              "      <td>він|чи|що|думав</td>\n",
              "      <td>4</td>\n",
              "      <td>4</td>\n",
              "      <td>100.0</td>\n",
              "      <td>Ци шо вин гадав сми?</td>\n",
              "    </tr>\n",
              "    <tr>\n",
              "      <th>3</th>\n",
              "      <td>Чи людина щось може</td>\n",
              "      <td>4</td>\n",
              "      <td>щось|чи|може|людина</td>\n",
              "      <td>4</td>\n",
              "      <td>4</td>\n",
              "      <td>100.0</td>\n",
              "      <td>Ци людьина шош годен</td>\n",
              "    </tr>\n",
              "    <tr>\n",
              "      <th>4</th>\n",
              "      <td>тут тільки трохи ще..</td>\n",
              "      <td>4</td>\n",
              "      <td>тут|трохи|тільки|ще</td>\n",
              "      <td>4</td>\n",
              "      <td>4</td>\n",
              "      <td>100.0</td>\n",
              "      <td>гир іно маленько шє..</td>\n",
              "    </tr>\n",
              "  </tbody>\n",
              "</table>\n",
              "</div>"
            ],
            "text/plain": [
              "                      Sentence  Count              Found Phrases  NumWords  \\\n",
              "0           Ось ми його зараз…      4          ось|зараз|ми|його         4   \n",
              "1  Але це, звичайно, неможливо      4  це|звичайно|неможливо|але         4   \n",
              "2             Чи що він думав?      4            він|чи|що|думав         4   \n",
              "3          Чи людина щось може      4        щось|чи|може|людина         4   \n",
              "4        тут тільки трохи ще..      4        тут|трохи|тільки|ще         4   \n",
              "\n",
              "   ChangedWords  ChangedWordsPercentage      Processed_Sentence  \n",
              "0             4                   100.0       Леда ми го зараз…  \n",
              "1             4                   100.0  Айбо цисе, ашош, гляба  \n",
              "2             4                   100.0    Ци шо вин гадав сми?  \n",
              "3             4                   100.0    Ци людьина шош годен  \n",
              "4             4                   100.0   гир іно маленько шє..  "
            ]
          },
          "execution_count": 202,
          "metadata": {},
          "output_type": "execute_result"
        }
      ],
      "source": [
        "sentences_df.head()"
      ]
    },
    {
      "cell_type": "code",
      "execution_count": null,
      "metadata": {
        "colab": {
          "base_uri": "https://localhost:8080/",
          "height": 223
        },
        "id": "lHb35tb2bdME",
        "outputId": "0ff71c34-c3a7-40a6-ec98-7657df6940f5"
      },
      "outputs": [],
      "source": [
        "instruction = generate_instructions()\n",
        "synthetic_sentences = []\n",
        "top_matches_scores = []\n",
        "\n",
        "for index, row in tqdm(sentences_df.iterrows(), total=len(sentences_df), desc=\"Processing\"):\n",
        "    sentence = row[\"Sentence\"]\n",
        "    processed = row[\"Processed_Sentence\"]\n",
        "    embedded_query = embedded_processed_sentences[index]\n",
        "\n",
        "    context_sentences = search_hutsul_sentences(embedded_query)\n",
        "    if (context_sentences[0] == 0).any():\n",
        "        continue\n",
        " \n",
        "    synthetic_sentence = send_llm_request(sentence, processed, context_sentences[1], instruction)\n",
        "    # synthetic_sentences.append(synthetic_sentence)\n",
        "    if set(synthetic_sentence.split()) == set(processed.split()):\n",
        "        synthetic_sentences.append(processed)\n",
        "    else:\n",
        "        synthetic_sentences.append(synthetic_sentence)\n",
        "\n",
        "    scores_csv = ','.join(map(str, context_sentences[0].flatten()))\n",
        "    top_matches_scores.append(scores_csv)\n",
        "\n",
        "hutsul_synthetic_base[\"Synthetic_Sentence\"] = synthetic_sentences\n",
        "hutsul_synthetic_base[\"Top_matches_scores\"] = top_matches_scores\n",
        "hutsul_synthetic_base.head()"
      ]
    },
    {
      "cell_type": "code",
      "execution_count": null,
      "metadata": {
        "id": "h27Lcbj-eQcf"
      },
      "outputs": [],
      "source": [
        "# Save the DataFrame to a CSV file\n",
        "hutsul_synthetic_base.to_csv(\"hutsul_synthetic_base.csv\", index=False)"
      ]
    }
  ],
  "metadata": {
    "colab": {
      "provenance": []
    },
    "kernelspec": {
      "display_name": "Python 3",
      "name": "python3"
    },
    "language_info": {
      "codemirror_mode": {
        "name": "ipython",
        "version": 3
      },
      "file_extension": ".py",
      "mimetype": "text/x-python",
      "name": "python",
      "nbconvert_exporter": "python",
      "pygments_lexer": "ipython3",
      "version": "3.9.6"
    }
  },
  "nbformat": 4,
  "nbformat_minor": 0
}
