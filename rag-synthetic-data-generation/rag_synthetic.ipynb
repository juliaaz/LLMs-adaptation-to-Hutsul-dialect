{
  "cells": [
    {
      "cell_type": "code",
      "execution_count": 1,
      "metadata": {
        "colab": {
          "base_uri": "https://localhost:8080/"
        },
        "id": "avrgc0yQkyMh",
        "outputId": "e4eaa56d-a5f4-4179-ff80-1759d8cc7c2f"
      },
      "outputs": [
        {
          "name": "stdout",
          "output_type": "stream",
          "text": [
            "Defaulting to user installation because normal site-packages is not writeable\n",
            "Collecting langchain\n",
            "  Downloading langchain-0.1.16-py3-none-any.whl.metadata (13 kB)\n",
            "Collecting langchain_community\n",
            "  Downloading langchain_community-0.0.33-py3-none-any.whl.metadata (8.5 kB)\n",
            "Requirement already satisfied: openai in /Users/yuliiamaksymyuk/Library/Python/3.9/lib/python/site-packages (1.18.0)\n",
            "Collecting sentence_transformers\n",
            "  Downloading sentence_transformers-2.7.0-py3-none-any.whl.metadata (11 kB)\n",
            "Collecting faiss-cpu\n",
            "  Downloading faiss_cpu-1.8.0-cp39-cp39-macosx_11_0_arm64.whl.metadata (3.6 kB)\n",
            "Collecting langchain_openai\n",
            "  Downloading langchain_openai-0.1.3-py3-none-any.whl.metadata (2.5 kB)\n",
            "Requirement already satisfied: PyYAML>=5.3 in /Users/yuliiamaksymyuk/Library/Python/3.9/lib/python/site-packages (from langchain) (6.0.1)\n",
            "Collecting SQLAlchemy<3,>=1.4 (from langchain)\n",
            "  Downloading SQLAlchemy-2.0.29-cp39-cp39-macosx_11_0_arm64.whl.metadata (9.6 kB)\n",
            "Collecting aiohttp<4.0.0,>=3.8.3 (from langchain)\n",
            "  Downloading aiohttp-3.9.5-cp39-cp39-macosx_11_0_arm64.whl.metadata (7.5 kB)\n",
            "Collecting async-timeout<5.0.0,>=4.0.0 (from langchain)\n",
            "  Downloading async_timeout-4.0.3-py3-none-any.whl.metadata (4.2 kB)\n",
            "Collecting dataclasses-json<0.7,>=0.5.7 (from langchain)\n",
            "  Downloading dataclasses_json-0.6.4-py3-none-any.whl.metadata (25 kB)\n",
            "Requirement already satisfied: jsonpatch<2.0,>=1.33 in /Users/yuliiamaksymyuk/Library/Python/3.9/lib/python/site-packages (from langchain) (1.33)\n",
            "Requirement already satisfied: langchain-core<0.2.0,>=0.1.42 in /Users/yuliiamaksymyuk/Library/Python/3.9/lib/python/site-packages (from langchain) (0.1.42)\n",
            "Collecting langchain-text-splitters<0.1,>=0.0.1 (from langchain)\n",
            "  Downloading langchain_text_splitters-0.0.1-py3-none-any.whl.metadata (2.0 kB)\n",
            "Requirement already satisfied: langsmith<0.2.0,>=0.1.17 in /Users/yuliiamaksymyuk/Library/Python/3.9/lib/python/site-packages (from langchain) (0.1.47)\n",
            "Requirement already satisfied: numpy<2,>=1 in /Users/yuliiamaksymyuk/Library/Python/3.9/lib/python/site-packages (from langchain) (1.26.2)\n",
            "Requirement already satisfied: pydantic<3,>=1 in /Users/yuliiamaksymyuk/Library/Python/3.9/lib/python/site-packages (from langchain) (2.7.0)\n",
            "Requirement already satisfied: requests<3,>=2 in /Users/yuliiamaksymyuk/Library/Python/3.9/lib/python/site-packages (from langchain) (2.31.0)\n",
            "Requirement already satisfied: tenacity<9.0.0,>=8.1.0 in /Users/yuliiamaksymyuk/Library/Python/3.9/lib/python/site-packages (from langchain) (8.2.3)\n",
            "Collecting langchain-core<0.2.0,>=0.1.42 (from langchain)\n",
            "  Downloading langchain_core-0.1.44-py3-none-any.whl.metadata (5.9 kB)\n",
            "Requirement already satisfied: anyio<5,>=3.5.0 in /Users/yuliiamaksymyuk/Library/Python/3.9/lib/python/site-packages (from openai) (4.3.0)\n",
            "Requirement already satisfied: distro<2,>=1.7.0 in /Users/yuliiamaksymyuk/Library/Python/3.9/lib/python/site-packages (from openai) (1.9.0)\n",
            "Requirement already satisfied: httpx<1,>=0.23.0 in /Users/yuliiamaksymyuk/Library/Python/3.9/lib/python/site-packages (from openai) (0.27.0)\n",
            "Requirement already satisfied: sniffio in /Users/yuliiamaksymyuk/Library/Python/3.9/lib/python/site-packages (from openai) (1.3.1)\n",
            "Requirement already satisfied: tqdm>4 in /Users/yuliiamaksymyuk/Library/Python/3.9/lib/python/site-packages (from openai) (4.66.2)\n",
            "Requirement already satisfied: typing-extensions<5,>=4.7 in /Users/yuliiamaksymyuk/Library/Python/3.9/lib/python/site-packages (from openai) (4.9.0)\n",
            "Collecting transformers<5.0.0,>=4.34.0 (from sentence_transformers)\n",
            "  Downloading transformers-4.39.3-py3-none-any.whl.metadata (134 kB)\n",
            "\u001b[2K     \u001b[90m━━━━━━━━━━━━━━━━━━━━━━━━━━━━━━━━━━━━━━━\u001b[0m \u001b[32m134.8/134.8 kB\u001b[0m \u001b[31m2.8 MB/s\u001b[0m eta \u001b[36m0:00:00\u001b[0ma \u001b[36m0:00:01\u001b[0m\n",
            "\u001b[?25hCollecting torch>=1.11.0 (from sentence_transformers)\n",
            "  Downloading torch-2.2.2-cp39-none-macosx_11_0_arm64.whl.metadata (25 kB)\n",
            "Requirement already satisfied: scikit-learn in /Users/yuliiamaksymyuk/Library/Python/3.9/lib/python/site-packages (from sentence_transformers) (1.4.1.post1)\n",
            "Requirement already satisfied: scipy in /Users/yuliiamaksymyuk/Library/Python/3.9/lib/python/site-packages (from sentence_transformers) (1.13.0)\n",
            "Requirement already satisfied: huggingface-hub>=0.15.1 in /Users/yuliiamaksymyuk/Library/Python/3.9/lib/python/site-packages (from sentence_transformers) (0.22.2)\n",
            "Requirement already satisfied: Pillow in /Users/yuliiamaksymyuk/Library/Python/3.9/lib/python/site-packages (from sentence_transformers) (10.1.0)\n",
            "Collecting tiktoken<1,>=0.5.2 (from langchain_openai)\n",
            "  Downloading tiktoken-0.6.0-cp39-cp39-macosx_11_0_arm64.whl.metadata (6.6 kB)\n",
            "Collecting aiosignal>=1.1.2 (from aiohttp<4.0.0,>=3.8.3->langchain)\n",
            "  Downloading aiosignal-1.3.1-py3-none-any.whl.metadata (4.0 kB)\n",
            "Collecting attrs>=17.3.0 (from aiohttp<4.0.0,>=3.8.3->langchain)\n",
            "  Downloading attrs-23.2.0-py3-none-any.whl.metadata (9.5 kB)\n",
            "Collecting frozenlist>=1.1.1 (from aiohttp<4.0.0,>=3.8.3->langchain)\n",
            "  Downloading frozenlist-1.4.1-cp39-cp39-macosx_11_0_arm64.whl.metadata (12 kB)\n",
            "Collecting multidict<7.0,>=4.5 (from aiohttp<4.0.0,>=3.8.3->langchain)\n",
            "  Downloading multidict-6.0.5-cp39-cp39-macosx_11_0_arm64.whl.metadata (4.2 kB)\n",
            "Collecting yarl<2.0,>=1.0 (from aiohttp<4.0.0,>=3.8.3->langchain)\n",
            "  Downloading yarl-1.9.4-cp39-cp39-macosx_11_0_arm64.whl.metadata (31 kB)\n",
            "Requirement already satisfied: idna>=2.8 in /Users/yuliiamaksymyuk/Library/Python/3.9/lib/python/site-packages (from anyio<5,>=3.5.0->openai) (3.7)\n",
            "Requirement already satisfied: exceptiongroup>=1.0.2 in /Users/yuliiamaksymyuk/Library/Python/3.9/lib/python/site-packages (from anyio<5,>=3.5.0->openai) (1.2.0)\n",
            "Collecting marshmallow<4.0.0,>=3.18.0 (from dataclasses-json<0.7,>=0.5.7->langchain)\n",
            "  Downloading marshmallow-3.21.1-py3-none-any.whl.metadata (7.2 kB)\n",
            "Collecting typing-inspect<1,>=0.4.0 (from dataclasses-json<0.7,>=0.5.7->langchain)\n",
            "  Downloading typing_inspect-0.9.0-py3-none-any.whl.metadata (1.5 kB)\n",
            "Requirement already satisfied: certifi in /Users/yuliiamaksymyuk/Library/Python/3.9/lib/python/site-packages (from httpx<1,>=0.23.0->openai) (2024.2.2)\n",
            "Requirement already satisfied: httpcore==1.* in /Users/yuliiamaksymyuk/Library/Python/3.9/lib/python/site-packages (from httpx<1,>=0.23.0->openai) (1.0.5)\n",
            "Requirement already satisfied: h11<0.15,>=0.13 in /Users/yuliiamaksymyuk/Library/Python/3.9/lib/python/site-packages (from httpcore==1.*->httpx<1,>=0.23.0->openai) (0.14.0)\n",
            "Requirement already satisfied: filelock in /Users/yuliiamaksymyuk/Library/Python/3.9/lib/python/site-packages (from huggingface-hub>=0.15.1->sentence_transformers) (3.13.4)\n",
            "Requirement already satisfied: fsspec>=2023.5.0 in /Users/yuliiamaksymyuk/Library/Python/3.9/lib/python/site-packages (from huggingface-hub>=0.15.1->sentence_transformers) (2024.3.1)\n",
            "Requirement already satisfied: packaging>=20.9 in /Users/yuliiamaksymyuk/Library/Python/3.9/lib/python/site-packages (from huggingface-hub>=0.15.1->sentence_transformers) (23.2)\n",
            "Requirement already satisfied: jsonpointer>=1.9 in /Users/yuliiamaksymyuk/Library/Python/3.9/lib/python/site-packages (from jsonpatch<2.0,>=1.33->langchain) (2.4)\n",
            "Requirement already satisfied: orjson<4.0.0,>=3.9.14 in /Users/yuliiamaksymyuk/Library/Python/3.9/lib/python/site-packages (from langsmith<0.2.0,>=0.1.17->langchain) (3.10.0)\n",
            "Requirement already satisfied: annotated-types>=0.4.0 in /Users/yuliiamaksymyuk/Library/Python/3.9/lib/python/site-packages (from pydantic<3,>=1->langchain) (0.6.0)\n",
            "Requirement already satisfied: pydantic-core==2.18.1 in /Users/yuliiamaksymyuk/Library/Python/3.9/lib/python/site-packages (from pydantic<3,>=1->langchain) (2.18.1)\n",
            "Requirement already satisfied: charset-normalizer<4,>=2 in /Users/yuliiamaksymyuk/Library/Python/3.9/lib/python/site-packages (from requests<3,>=2->langchain) (3.3.2)\n",
            "Requirement already satisfied: urllib3<3,>=1.21.1 in /Users/yuliiamaksymyuk/Library/Python/3.9/lib/python/site-packages (from requests<3,>=2->langchain) (2.2.1)\n",
            "Collecting regex>=2022.1.18 (from tiktoken<1,>=0.5.2->langchain_openai)\n",
            "  Downloading regex-2024.4.16-cp39-cp39-macosx_11_0_arm64.whl.metadata (40 kB)\n",
            "\u001b[2K     \u001b[90m━━━━━━━━━━━━━━━━━━━━━━━━━━━━━━━━━━━━━━━\u001b[0m \u001b[32m40.9/40.9 kB\u001b[0m \u001b[31m695.5 kB/s\u001b[0m eta \u001b[36m0:00:00\u001b[0ma \u001b[36m0:00:01\u001b[0m\n",
            "\u001b[?25hRequirement already satisfied: sympy in /Users/yuliiamaksymyuk/Library/Python/3.9/lib/python/site-packages (from torch>=1.11.0->sentence_transformers) (1.12)\n",
            "Requirement already satisfied: networkx in /Users/yuliiamaksymyuk/Library/Python/3.9/lib/python/site-packages (from torch>=1.11.0->sentence_transformers) (3.2.1)\n",
            "Collecting jinja2 (from torch>=1.11.0->sentence_transformers)\n",
            "  Downloading Jinja2-3.1.3-py3-none-any.whl.metadata (3.3 kB)\n",
            "Requirement already satisfied: tokenizers<0.19,>=0.14 in /Users/yuliiamaksymyuk/Library/Python/3.9/lib/python/site-packages (from transformers<5.0.0,>=4.34.0->sentence_transformers) (0.15.2)\n",
            "Collecting safetensors>=0.4.1 (from transformers<5.0.0,>=4.34.0->sentence_transformers)\n",
            "  Downloading safetensors-0.4.3-cp39-cp39-macosx_11_0_arm64.whl.metadata (3.8 kB)\n",
            "Requirement already satisfied: joblib>=1.2.0 in /Users/yuliiamaksymyuk/Library/Python/3.9/lib/python/site-packages (from scikit-learn->sentence_transformers) (1.3.2)\n",
            "Requirement already satisfied: threadpoolctl>=2.0.0 in /Users/yuliiamaksymyuk/Library/Python/3.9/lib/python/site-packages (from scikit-learn->sentence_transformers) (3.4.0)\n",
            "Collecting mypy-extensions>=0.3.0 (from typing-inspect<1,>=0.4.0->dataclasses-json<0.7,>=0.5.7->langchain)\n",
            "  Downloading mypy_extensions-1.0.0-py3-none-any.whl.metadata (1.1 kB)\n",
            "Collecting MarkupSafe>=2.0 (from jinja2->torch>=1.11.0->sentence_transformers)\n",
            "  Downloading MarkupSafe-2.1.5-cp39-cp39-macosx_10_9_universal2.whl.metadata (3.0 kB)\n",
            "Requirement already satisfied: mpmath>=0.19 in /Users/yuliiamaksymyuk/Library/Python/3.9/lib/python/site-packages (from sympy->torch>=1.11.0->sentence_transformers) (1.3.0)\n",
            "Downloading langchain-0.1.16-py3-none-any.whl (817 kB)\n",
            "\u001b[2K   \u001b[90m━━━━━━━━━━━━━━━━━━━━━━━━━━━━━━━━━━━━━━━━\u001b[0m \u001b[32m817.7/817.7 kB\u001b[0m \u001b[31m4.6 MB/s\u001b[0m eta \u001b[36m0:00:00\u001b[0ma \u001b[36m0:00:01\u001b[0m\n",
            "\u001b[?25hDownloading langchain_community-0.0.33-py3-none-any.whl (1.9 MB)\n",
            "\u001b[2K   \u001b[90m━━━━━━━━━━━━━━━━━━━━━━━━━━━━━━━━━━━━━━━━\u001b[0m \u001b[32m1.9/1.9 MB\u001b[0m \u001b[31m19.6 MB/s\u001b[0m eta \u001b[36m0:00:00\u001b[0ma \u001b[36m0:00:01\u001b[0m\n",
            "\u001b[?25hDownloading sentence_transformers-2.7.0-py3-none-any.whl (171 kB)\n",
            "\u001b[2K   \u001b[90m━━━━━━━━━━━━━━━━━━━━━━━━━━━━━━━━━━━━━━━━\u001b[0m \u001b[32m171.5/171.5 kB\u001b[0m \u001b[31m12.4 MB/s\u001b[0m eta \u001b[36m0:00:00\u001b[0m\n",
            "\u001b[?25hDownloading faiss_cpu-1.8.0-cp39-cp39-macosx_11_0_arm64.whl (3.1 MB)\n",
            "\u001b[2K   \u001b[90m━━━━━━━━━━━━━━━━━━━━━━━━━━━━━━━━━━━━━━━━\u001b[0m \u001b[32m3.1/3.1 MB\u001b[0m \u001b[31m28.0 MB/s\u001b[0m eta \u001b[36m0:00:00\u001b[0m00:01\u001b[0m00:01\u001b[0m\n",
            "\u001b[?25hDownloading langchain_openai-0.1.3-py3-none-any.whl (33 kB)\n",
            "Downloading aiohttp-3.9.5-cp39-cp39-macosx_11_0_arm64.whl (390 kB)\n",
            "\u001b[2K   \u001b[90m━━━━━━━━━━━━━━━━━━━━━━━━━━━━━━━━━━━━━━━━\u001b[0m \u001b[32m390.7/390.7 kB\u001b[0m \u001b[31m13.3 MB/s\u001b[0m eta \u001b[36m0:00:00\u001b[0m\n",
            "\u001b[?25hDownloading async_timeout-4.0.3-py3-none-any.whl (5.7 kB)\n",
            "Downloading dataclasses_json-0.6.4-py3-none-any.whl (28 kB)\n",
            "Downloading langchain_core-0.1.44-py3-none-any.whl (290 kB)\n",
            "\u001b[2K   \u001b[90m━━━━━━━━━━━━━━━━━━━━━━━━━━━━━━━━━━━━━━━━\u001b[0m \u001b[32m290.2/290.2 kB\u001b[0m \u001b[31m10.8 MB/s\u001b[0m eta \u001b[36m0:00:00\u001b[0m\n",
            "\u001b[?25hDownloading langchain_text_splitters-0.0.1-py3-none-any.whl (21 kB)\n",
            "Downloading SQLAlchemy-2.0.29-cp39-cp39-macosx_11_0_arm64.whl (2.1 MB)\n",
            "\u001b[2K   \u001b[90m━━━━━━━━━━━━━━━━━━━━━━━━━━━━━━━━━━━━━━━━\u001b[0m \u001b[32m2.1/2.1 MB\u001b[0m \u001b[31m28.5 MB/s\u001b[0m eta \u001b[36m0:00:00\u001b[0ma \u001b[36m0:00:01\u001b[0m\n",
            "\u001b[?25hDownloading tiktoken-0.6.0-cp39-cp39-macosx_11_0_arm64.whl (923 kB)\n",
            "\u001b[2K   \u001b[90m━━━━━━━━━━━━━━━━━━━━━━━━━━━━━━━━━━━━━━━━\u001b[0m \u001b[32m923.4/923.4 kB\u001b[0m \u001b[31m17.9 MB/s\u001b[0m eta \u001b[36m0:00:00\u001b[0ma \u001b[36m0:00:01\u001b[0m\n",
            "\u001b[?25hDownloading torch-2.2.2-cp39-none-macosx_11_0_arm64.whl (59.7 MB)\n",
            "\u001b[2K   \u001b[90m━━━━━━━━━━━━━━━━━━━━━━━━━━━━━━━━━━━━━━━━\u001b[0m \u001b[32m59.7/59.7 MB\u001b[0m \u001b[31m28.5 MB/s\u001b[0m eta \u001b[36m0:00:00\u001b[0m00:01\u001b[0m00:01\u001b[0m\n",
            "\u001b[?25hDownloading transformers-4.39.3-py3-none-any.whl (8.8 MB)\n",
            "\u001b[2K   \u001b[90m━━━━━━━━━━━━━━━━━━━━━━━━━━━━━━━━━━━━━━━━\u001b[0m \u001b[32m8.8/8.8 MB\u001b[0m \u001b[31m26.1 MB/s\u001b[0m eta \u001b[36m0:00:00\u001b[0ma \u001b[36m0:00:01\u001b[0m\n",
            "\u001b[?25hDownloading aiosignal-1.3.1-py3-none-any.whl (7.6 kB)\n",
            "Downloading attrs-23.2.0-py3-none-any.whl (60 kB)\n",
            "\u001b[2K   \u001b[90m━━━━━━━━━━━━━━━━━━━━━━━━━━━━━━━━━━━━━━━━\u001b[0m \u001b[32m60.8/60.8 kB\u001b[0m \u001b[31m5.4 MB/s\u001b[0m eta \u001b[36m0:00:00\u001b[0m\n",
            "\u001b[?25hDownloading frozenlist-1.4.1-cp39-cp39-macosx_11_0_arm64.whl (53 kB)\n",
            "\u001b[2K   \u001b[90m━━━━━━━━━━━━━━━━━━━━━━━━━━━━━━━━━━━━━━━━\u001b[0m \u001b[32m53.7/53.7 kB\u001b[0m \u001b[31m5.4 MB/s\u001b[0m eta \u001b[36m0:00:00\u001b[0m\n",
            "\u001b[?25hDownloading marshmallow-3.21.1-py3-none-any.whl (49 kB)\n",
            "\u001b[2K   \u001b[90m━━━━━━━━━━━━━━━━━━━━━━━━━━━━━━━━━━━━━━━━\u001b[0m \u001b[32m49.4/49.4 kB\u001b[0m \u001b[31m5.2 MB/s\u001b[0m eta \u001b[36m0:00:00\u001b[0m\n",
            "\u001b[?25hDownloading multidict-6.0.5-cp39-cp39-macosx_11_0_arm64.whl (30 kB)\n",
            "Downloading regex-2024.4.16-cp39-cp39-macosx_11_0_arm64.whl (291 kB)\n",
            "\u001b[2K   \u001b[90m━━━━━━━━━━━━━━━━━━━━━━━━━━━━━━━━━━━━━━━━\u001b[0m \u001b[32m291.3/291.3 kB\u001b[0m \u001b[31m13.1 MB/s\u001b[0m eta \u001b[36m0:00:00\u001b[0m\n",
            "\u001b[?25hDownloading safetensors-0.4.3-cp39-cp39-macosx_11_0_arm64.whl (411 kB)\n",
            "\u001b[2K   \u001b[90m━━━━━━━━━━━━━━━━━━━━━━━━━━━━━━━━━━━━━━━━\u001b[0m \u001b[32m411.3/411.3 kB\u001b[0m \u001b[31m12.8 MB/s\u001b[0m eta \u001b[36m0:00:00\u001b[0m\n",
            "\u001b[?25hDownloading typing_inspect-0.9.0-py3-none-any.whl (8.8 kB)\n",
            "Downloading yarl-1.9.4-cp39-cp39-macosx_11_0_arm64.whl (81 kB)\n",
            "\u001b[2K   \u001b[90m━━━━━━━━━━━━━━━━━━━━━━━━━━━━━━━━━━━━━━━━\u001b[0m \u001b[32m81.8/81.8 kB\u001b[0m \u001b[31m6.6 MB/s\u001b[0m eta \u001b[36m0:00:00\u001b[0m\n",
            "\u001b[?25hDownloading Jinja2-3.1.3-py3-none-any.whl (133 kB)\n",
            "\u001b[2K   \u001b[90m━━━━━━━━━━━━━━━━━━━━━━━━━━━━━━━━━━━━━━━━\u001b[0m \u001b[32m133.2/133.2 kB\u001b[0m \u001b[31m7.3 MB/s\u001b[0m eta \u001b[36m0:00:00\u001b[0m\n",
            "\u001b[?25hDownloading MarkupSafe-2.1.5-cp39-cp39-macosx_10_9_universal2.whl (18 kB)\n",
            "Downloading mypy_extensions-1.0.0-py3-none-any.whl (4.7 kB)\n",
            "Installing collected packages: SQLAlchemy, safetensors, regex, mypy-extensions, multidict, marshmallow, MarkupSafe, frozenlist, faiss-cpu, attrs, async-timeout, yarl, typing-inspect, tiktoken, jinja2, aiosignal, torch, dataclasses-json, aiohttp, transformers, langchain-core, sentence_transformers, langchain-text-splitters, langchain_openai, langchain_community, langchain\n",
            "  Attempting uninstall: langchain-core\n",
            "    Found existing installation: langchain-core 0.1.42\n",
            "    Uninstalling langchain-core-0.1.42:\n",
            "      Successfully uninstalled langchain-core-0.1.42\n",
            "Successfully installed MarkupSafe-2.1.5 SQLAlchemy-2.0.29 aiohttp-3.9.5 aiosignal-1.3.1 async-timeout-4.0.3 attrs-23.2.0 dataclasses-json-0.6.4 faiss-cpu-1.8.0 frozenlist-1.4.1 jinja2-3.1.3 langchain-0.1.16 langchain-core-0.1.44 langchain-text-splitters-0.0.1 langchain_community-0.0.33 langchain_openai-0.1.3 marshmallow-3.21.1 multidict-6.0.5 mypy-extensions-1.0.0 regex-2024.4.16 safetensors-0.4.3 sentence_transformers-2.7.0 tiktoken-0.6.0 torch-2.2.2 transformers-4.39.3 typing-inspect-0.9.0 yarl-1.9.4\n"
          ]
        }
      ],
      "source": [
        "!pip install langchain langchain_community openai sentence_transformers faiss-cpu langchain_openai"
      ]
    },
    {
      "cell_type": "code",
      "execution_count": 2,
      "metadata": {
        "id": "raP-Eivkk_HN"
      },
      "outputs": [
        {
          "name": "stderr",
          "output_type": "stream",
          "text": [
            "/Users/yuliiamaksymyuk/Library/Python/3.9/lib/python/site-packages/urllib3/__init__.py:35: NotOpenSSLWarning: urllib3 v2 only supports OpenSSL 1.1.1+, currently the 'ssl' module is compiled with 'LibreSSL 2.8.3'. See: https://github.com/urllib3/urllib3/issues/3020\n",
            "  warnings.warn(\n"
          ]
        }
      ],
      "source": [
        "# import\n",
        "from langchain_community.vectorstores import FAISS\n",
        "from langchain_community.document_loaders.csv_loader import CSVLoader\n",
        "from langchain_community.embeddings.sentence_transformer import (\n",
        "    SentenceTransformerEmbeddings,\n",
        ")\n",
        "from langchain_openai import OpenAIEmbeddings\n",
        "import openai\n",
        "import pandas as pd\n",
        "import csv\n",
        "import re\n",
        "import faiss\n",
        "import numpy as np"
      ]
    },
    {
      "cell_type": "code",
      "execution_count": 3,
      "metadata": {
        "id": "XxzFNhwt-gj9"
      },
      "outputs": [],
      "source": [
        "loader = CSVLoader(file_path=\"./rag-data/hutsul-base.csv\", source_column=\"hutsul_sentence\")\n",
        "\n",
        "data = loader.load()"
      ]
    },
    {
      "cell_type": "code",
      "execution_count": 4,
      "metadata": {
        "colab": {
          "base_uri": "https://localhost:8080/"
        },
        "id": "SIQlXrtS-qFK",
        "outputId": "7ad953ef-73ba-42f6-f692-61c44442957a"
      },
      "outputs": [
        {
          "data": {
            "text/plain": [
              "[Document(page_content='hutsul_sentence: У дєді з рєду дітий я двайціть и чєтвертий.', metadata={'source': 'У дєді з рєду дітий я двайціть и чєтвертий.', 'row': 0}),\n",
              " Document(page_content='hutsul_sentence: А мижи живими дітми одинайцітий и найменчий, але ни випорток, бо післідь мене було ишє шестеро діточьок, лиш уни маленькими вивмерали.', metadata={'source': 'А мижи живими дітми одинайцітий и найменчий, але ни випорток, бо післідь мене було ишє шестеро діточьок, лиш уни маленькими вивмерали.', 'row': 1}),\n",
              " Document(page_content='hutsul_sentence: Ріс я пестуном у хаті, прото найменчя дитина у старині.', metadata={'source': 'Ріс я пестуном у хаті, прото найменчя дитина у старині.', 'row': 2}),\n",
              " Document(page_content='hutsul_sentence: Розвезений, шо най Бог боронит.', metadata={'source': 'Розвезений, шо най Бог боронит.', 'row': 3}),\n",
              " Document(page_content='hutsul_sentence: Вара було шо ми ирчі.', metadata={'source': 'Вара було шо ми ирчі.', 'row': 4}),\n",
              " Document(page_content='hutsul_sentence: Бувало, скоро на мнє лиш шош трошки посиров’єт, то ого — я з хати порс тай просто до діда, маминого дєді.', metadata={'source': 'Бувало, скоро на мнє лиш шош трошки посиров’єт, то ого — я з хати порс тай просто до діда, маминого дєді.', 'row': 5}),\n",
              " Document(page_content='hutsul_sentence: Добре, шо дорогу знав до діда, то ж страху ми ни було.', metadata={'source': 'Добре, шо дорогу знав до діда, то ж страху ми ни було.', 'row': 6}),\n",
              " Document(page_content='hutsul_sentence: Нираз малим хлопцем тікав до діда й без портєниц, скоро лиш ми та бига прийдет.', metadata={'source': 'Нираз малим хлопцем тікав до діда й без портєниц, скоро лиш ми та бига прийдет.', 'row': 7}),\n",
              " Document(page_content='hutsul_sentence: Ніхто би був мнє ни спер.', metadata={'source': 'Ніхто би був мнє ни спер.', 'row': 8}),\n",
              " Document(page_content='hutsul_sentence: Дєдикові хати, статочьні збудованя, були побудовані у занодзі мижи ґрунями й лісами над бистро шумнючьов річьков.', metadata={'source': 'Дєдикові хати, статочьні збудованя, були побудовані у занодзі мижи ґрунями й лісами над бистро шумнючьов річьков.', 'row': 9})]"
            ]
          },
          "execution_count": 4,
          "metadata": {},
          "output_type": "execute_result"
        }
      ],
      "source": [
        "data[:10]"
      ]
    },
    {
      "cell_type": "code",
      "execution_count": 5,
      "metadata": {
        "colab": {
          "base_uri": "https://localhost:8080/"
        },
        "id": "K-YPknxW-jjV",
        "outputId": "f76b7324-a781-42c7-d0b9-b6b4ddd11a19"
      },
      "outputs": [
        {
          "data": {
            "text/plain": [
              "['У дєді з рєду дітий я двайціть и чєтвертий.',\n",
              " 'А мижи живими дітми одинайцітий и найменчий, але ни випорток, бо післідь мене було ишє шестеро діточьок, лиш уни маленькими вивмерали.',\n",
              " 'Ріс я пестуном у хаті, прото найменчя дитина у старині.',\n",
              " 'Розвезений, шо най Бог боронит.',\n",
              " 'Вара було шо ми ирчі.',\n",
              " 'Бувало, скоро на мнє лиш шош трошки посиров’єт, то ого — я з хати порс тай просто до діда, маминого дєді.',\n",
              " 'Добре, шо дорогу знав до діда, то ж страху ми ни було.',\n",
              " 'Нираз малим хлопцем тікав до діда й без портєниц, скоро лиш ми та бига прийдет.',\n",
              " 'Ніхто би був мнє ни спер.',\n",
              " 'Дєдикові хати, статочьні збудованя, були побудовані у занодзі мижи ґрунями й лісами над бистро шумнючьов річьков.',\n",
              " 'За річьков, наопередь самих викон, пид лісом тетеріла стримка, стряпава скала.',\n",
              " 'Вид тої скали, поплямленої сивавими лішірями та порослої паршивими краками, покритої місцями зеленковатим мохом, було мині вічьно лєчьно.',\n",
              " 'Найгірше було мині лєчьно вид печіри у тій скалі, бо та печіра хоть нивеличька, то була пудна.',\n",
              " 'Дєдик приказував, шо у тій печірі сидит Дониково сукровишє на заклєтих скарбах, бо колис він продав за ні чьортови свою жінку, а тепер за покуту мусит їх там сокотити до суду віка.',\n",
              " 'Бувало, нираз, єк звівалиси буйні вітри й смутно співали тужним шумом у лісі верх скали, то мині си причювало, шо у тій печері «він», изчєз би, пигичіт у скрипку до співанок галасливим вітрам.',\n",
              " 'Иноді навіть здавалоси мині, шо у тот раз, єк из ліса верх скали дражнилоси зо мнов первовічьне смеречє, намахуючі на мене, єк медвідь лабами, хєхлатими пластами фої, Дониково сукровишє висувало свою тонку, єк павутина, руку криз листє на корчіку опередь печіри й, потєвуючі палцем, гулило мене д’собі у печіру.',\n",
              " 'Вид того лєковишя мині пуду давало.',\n",
              " 'Я викручювавси й, ґвавтуючі на всий рот, втікав у хату без потємку.',\n",
              " 'Вид дєдикових хатий було видко лиш на тоту скалу тай на ліс верх неї.',\n",
              " 'У тій зашепетині виглєдало так, єк у полібичьку, шо з него нікуда инде ни видко, лиш у небо, тимунь коло дєдикових хатий було мині скучьно.']"
            ]
          },
          "execution_count": 5,
          "metadata": {},
          "output_type": "execute_result"
        }
      ],
      "source": [
        "data_list = []\n",
        "for i in range (len(data)):\n",
        "    data_list.append(data[i].page_content.replace('hutsul_sentence: ', ''))\n",
        "data_list[:20]"
      ]
    },
    {
      "cell_type": "code",
      "execution_count": 6,
      "metadata": {
        "id": "ZDEjfrrynK_e"
      },
      "outputs": [],
      "source": [
        "from openai import OpenAI\n",
        "\n",
        "client = OpenAI(\n",
        "    api_key=\"your_key\"\n",
        ")"
      ]
    },
    {
      "cell_type": "code",
      "execution_count": 7,
      "metadata": {
        "id": "zE04N-ZAnkkD"
      },
      "outputs": [],
      "source": [
        "import os\n",
        "os.environ[\"OPENAI_API_KEY\"] = \"your_key\""
      ]
    },
    {
      "cell_type": "code",
      "execution_count": 8,
      "metadata": {
        "id": "LCSTZCkrnDVj"
      },
      "outputs": [],
      "source": [
        "embeddings = OpenAIEmbeddings(model=\"text-embedding-3-small\")"
      ]
    },
    {
      "cell_type": "markdown",
      "metadata": {},
      "source": [
        "Comment cell below if you do not need to perform embedding"
      ]
    },
    {
      "cell_type": "code",
      "execution_count": null,
      "metadata": {
        "id": "N4Fuop3ho8RM"
      },
      "outputs": [],
      "source": [
        "embedded_data = [embeddings.embed_query(text) for text in data_list]"
      ]
    },
    {
      "cell_type": "code",
      "execution_count": null,
      "metadata": {
        "colab": {
          "base_uri": "https://localhost:8080/"
        },
        "id": "qUXFzwXpihpv",
        "outputId": "8fef052b-8e96-418f-bbfe-e13184a89ded"
      },
      "outputs": [
        {
          "data": {
            "text/plain": [
              "1536"
            ]
          },
          "execution_count": 105,
          "metadata": {},
          "output_type": "execute_result"
        }
      ],
      "source": [
        "len(embedded_data[0])"
      ]
    },
    {
      "cell_type": "markdown",
      "metadata": {},
      "source": [
        "Save created embeddings (comment if not needed)"
      ]
    },
    {
      "cell_type": "code",
      "execution_count": null,
      "metadata": {
        "id": "3Pe7F5riiM3y"
      },
      "outputs": [],
      "source": [
        "embedded_numpy = np.array(embedded_data)\n",
        "np.save('./embeddings/embeddings_openai.npy', embedded_numpy)"
      ]
    },
    {
      "cell_type": "code",
      "execution_count": 9,
      "metadata": {
        "id": "sZaTHQlYi8CM"
      },
      "outputs": [
        {
          "data": {
            "text/plain": [
              "array([[ 0.03971342,  0.03673318, -0.02885518, ..., -0.03104993,\n",
              "         0.00650917, -0.00817833],\n",
              "       [ 0.01915574,  0.01543101, -0.07549359, ...,  0.00508213,\n",
              "         0.02215289,  0.00896975],\n",
              "       [ 0.02821364,  0.01712233, -0.02930831, ..., -0.01984869,\n",
              "         0.02707766, -0.00199958],\n",
              "       ...,\n",
              "       [ 0.02536042,  0.07436955,  0.0213514 , ...,  0.00421172,\n",
              "         0.02197077, -0.00674551],\n",
              "       [ 0.03490249,  0.03160903, -0.00533376, ..., -0.00773137,\n",
              "        -0.00647301, -0.01607379],\n",
              "       [ 0.00596981,  0.02272311, -0.06663483, ..., -0.01765718,\n",
              "         0.01030528, -0.00517366]])"
            ]
          },
          "execution_count": 9,
          "metadata": {},
          "output_type": "execute_result"
        }
      ],
      "source": [
        "embedded_numpy = np.load('./embeddings/embeddings_openai.npy')\n",
        "embedded_numpy"
      ]
    },
    {
      "cell_type": "code",
      "execution_count": 10,
      "metadata": {},
      "outputs": [
        {
          "data": {
            "text/plain": [
              "1536"
            ]
          },
          "execution_count": 10,
          "metadata": {},
          "output_type": "execute_result"
        }
      ],
      "source": [
        "len(embedded_numpy[0])"
      ]
    },
    {
      "cell_type": "code",
      "execution_count": 11,
      "metadata": {
        "id": "aPoBVbXzprLW"
      },
      "outputs": [],
      "source": [
        "# load it into FAISS\n",
        "db_embeddings = embedded_numpy.copy().astype(np.float32)\n",
        "faiss_index = faiss.IndexIDMap(faiss.IndexFlatIP(len(embedded_numpy[0])))\n",
        "faiss.normalize_L2(db_embeddings)\n",
        "faiss_index.add_with_ids(db_embeddings, np.arange(len(data_list)))"
      ]
    },
    {
      "cell_type": "code",
      "execution_count": 12,
      "metadata": {
        "colab": {
          "base_uri": "https://localhost:8080/"
        },
        "id": "Wf3npLraAyQV",
        "outputId": "7d098449-0c3f-4e96-bd05-c4130b2052a7"
      },
      "outputs": [
        {
          "data": {
            "text/plain": [
              "numpy.ndarray"
            ]
          },
          "execution_count": 12,
          "metadata": {},
          "output_type": "execute_result"
        }
      ],
      "source": [
        "type(db_embeddings)"
      ]
    },
    {
      "cell_type": "code",
      "execution_count": 13,
      "metadata": {
        "colab": {
          "base_uri": "https://localhost:8080/"
        },
        "id": "9L0AjMFk8F8f",
        "outputId": "b3c8d278-832b-4544-8aa7-8e6352cd283c"
      },
      "outputs": [
        {
          "data": {
            "text/plain": [
              "1536"
            ]
          },
          "execution_count": 13,
          "metadata": {},
          "output_type": "execute_result"
        }
      ],
      "source": [
        "len(db_embeddings[0])"
      ]
    },
    {
      "cell_type": "code",
      "execution_count": 199,
      "metadata": {
        "id": "hXgRZdIkPW0S"
      },
      "outputs": [],
      "source": [
        "def index_search(query, k=4, threshold=0.45):\n",
        "    query_vector = [query]\n",
        "    search_query = np.array(query_vector).copy().astype(np.float32)\n",
        "    faiss.normalize_L2(search_query)\n",
        "    top_k = faiss_index.search(search_query, k)\n",
        "\n",
        "    # Filter out sentences with similarity score lower than threshold\n",
        "    filtered_results = [\n",
        "        (sim_score, data_list[_id]) for sim_score, _id in zip(top_k[0][0], top_k[1][0]) if sim_score >= threshold\n",
        "    ]\n",
        "\n",
        "    # Reconstruct top_k with filtered results\n",
        "    filtered_scores = [score for score, _ in filtered_results]\n",
        "    filtered_sentences = [sentence for _, sentence in filtered_results]\n",
        "\n",
        "    return (np.array([filtered_scores]), filtered_sentences[:min(len(filtered_sentences), k)])"
      ]
    },
    {
      "cell_type": "code",
      "execution_count": 15,
      "metadata": {
        "colab": {
          "base_uri": "https://localhost:8080/"
        },
        "id": "EOWKRndyIrvd",
        "outputId": "bc6af5de-55e4-4409-86c2-c7a13bef1c0b"
      },
      "outputs": [
        {
          "name": "stdout",
          "output_type": "stream",
          "text": [
            "11365\n"
          ]
        }
      ],
      "source": [
        "print(faiss_index.index.ntotal)"
      ]
    },
    {
      "cell_type": "code",
      "execution_count": 16,
      "metadata": {
        "colab": {
          "base_uri": "https://localhost:8080/"
        },
        "id": "1m-q-xfUADC7",
        "outputId": "4f48e858-95b8-4e76-dc70-c60ddd1c7f12"
      },
      "outputs": [
        {
          "data": {
            "text/plain": [
              "<faiss.swigfaiss.IndexIDMap; proxy of <Swig Object of type 'faiss::IndexIDMapTemplate< faiss::Index > *' at 0x137278f90> >"
            ]
          },
          "execution_count": 16,
          "metadata": {},
          "output_type": "execute_result"
        }
      ],
      "source": [
        "faiss_index"
      ]
    },
    {
      "cell_type": "code",
      "execution_count": 17,
      "metadata": {
        "id": "LSdE7OZtNnpY"
      },
      "outputs": [],
      "source": [
        "def csv_to_dictionary(csv_file):\n",
        "    ukrainian_to_hutsul = {}\n",
        "    with open(csv_file, 'r', encoding='utf-8') as file:\n",
        "        reader = csv.reader(file)\n",
        "        next(reader)  # Skip header\n",
        "        for row in reader:\n",
        "            ukrainian = row[1].strip()\n",
        "            hutsul = row[0].strip()\n",
        "            ukrainian_to_hutsul[ukrainian] = hutsul\n",
        "    return ukrainian_to_hutsul"
      ]
    },
    {
      "cell_type": "code",
      "execution_count": null,
      "metadata": {
        "colab": {
          "base_uri": "https://localhost:8080/"
        },
        "id": "A9Px6EF1NuCO",
        "outputId": "eddf3e06-de11-433d-9da7-0b4ba6ad7bef"
      },
      "outputs": [],
      "source": [
        "csv_file = 'hutsul-ukrainian-dictionary.csv'\n",
        "ukrainian_to_hutsul = csv_to_dictionary(csv_file)\n",
        "print(ukrainian_to_hutsul)"
      ]
    },
    {
      "cell_type": "code",
      "execution_count": 19,
      "metadata": {
        "id": "ah78arR3N0jt"
      },
      "outputs": [],
      "source": [
        "def translate_to_hutsul(sentence, dictionary=ukrainian_to_hutsul):\n",
        "    # Convert the dictionary keys to lowercase for case-insensitive matching\n",
        "    dictionary_lower = {key.lower(): value for key, value in dictionary.items()}\n",
        "\n",
        "    def replace_word(match):\n",
        "        word = match.group(0)\n",
        "        word_lower = word.lower()\n",
        "        if word_lower in dictionary_lower:\n",
        "            if word.islower():\n",
        "                return dictionary_lower[word_lower].lower()\n",
        "            elif word.isupper():\n",
        "                return dictionary_lower[word_lower].upper()\n",
        "            elif word.istitle():\n",
        "                return dictionary_lower[word_lower].capitalize()\n",
        "            else:\n",
        "                return dictionary_lower[word_lower]\n",
        "        return word\n",
        "\n",
        "    translated_sentence = re.sub(r'\\w+\\'?\\w*', replace_word, sentence)\n",
        "    return translated_sentence"
      ]
    },
    {
      "cell_type": "code",
      "execution_count": 21,
      "metadata": {},
      "outputs": [
        {
          "data": {
            "text/html": [
              "<div>\n",
              "<style scoped>\n",
              "    .dataframe tbody tr th:only-of-type {\n",
              "        vertical-align: middle;\n",
              "    }\n",
              "\n",
              "    .dataframe tbody tr th {\n",
              "        vertical-align: top;\n",
              "    }\n",
              "\n",
              "    .dataframe thead th {\n",
              "        text-align: right;\n",
              "    }\n",
              "</style>\n",
              "<table border=\"1\" class=\"dataframe\">\n",
              "  <thead>\n",
              "    <tr style=\"text-align: right;\">\n",
              "      <th></th>\n",
              "      <th>Sentence</th>\n",
              "      <th>Count</th>\n",
              "      <th>Found Phrases</th>\n",
              "      <th>NumWords</th>\n",
              "      <th>ChangedWords</th>\n",
              "      <th>ChangedWordsPercentage</th>\n",
              "    </tr>\n",
              "  </thead>\n",
              "  <tbody>\n",
              "    <tr>\n",
              "      <th>0</th>\n",
              "      <td>Ось ми його зараз…</td>\n",
              "      <td>4</td>\n",
              "      <td>ось|зараз|ми|його</td>\n",
              "      <td>4</td>\n",
              "      <td>4</td>\n",
              "      <td>100.0</td>\n",
              "    </tr>\n",
              "    <tr>\n",
              "      <th>1</th>\n",
              "      <td>Але це, звичайно, неможливо</td>\n",
              "      <td>4</td>\n",
              "      <td>це|звичайно|неможливо|але</td>\n",
              "      <td>4</td>\n",
              "      <td>4</td>\n",
              "      <td>100.0</td>\n",
              "    </tr>\n",
              "    <tr>\n",
              "      <th>2</th>\n",
              "      <td>Чи що він думав?</td>\n",
              "      <td>4</td>\n",
              "      <td>він|чи|що|думав</td>\n",
              "      <td>4</td>\n",
              "      <td>4</td>\n",
              "      <td>100.0</td>\n",
              "    </tr>\n",
              "    <tr>\n",
              "      <th>3</th>\n",
              "      <td>Чи людина щось може</td>\n",
              "      <td>4</td>\n",
              "      <td>щось|чи|може|людина</td>\n",
              "      <td>4</td>\n",
              "      <td>4</td>\n",
              "      <td>100.0</td>\n",
              "    </tr>\n",
              "    <tr>\n",
              "      <th>4</th>\n",
              "      <td>тут тільки трохи ще..</td>\n",
              "      <td>4</td>\n",
              "      <td>тут|трохи|тільки|ще</td>\n",
              "      <td>4</td>\n",
              "      <td>4</td>\n",
              "      <td>100.0</td>\n",
              "    </tr>\n",
              "    <tr>\n",
              "      <th>5</th>\n",
              "      <td>Але я відаю її</td>\n",
              "      <td>4</td>\n",
              "      <td>відаю|її|я|але</td>\n",
              "      <td>4</td>\n",
              "      <td>4</td>\n",
              "      <td>100.0</td>\n",
              "    </tr>\n",
              "    <tr>\n",
              "      <th>6</th>\n",
              "      <td>Людина нічого не може</td>\n",
              "      <td>4</td>\n",
              "      <td>не може|нічого|може|людина</td>\n",
              "      <td>4</td>\n",
              "      <td>4</td>\n",
              "      <td>100.0</td>\n",
              "    </tr>\n",
              "    <tr>\n",
              "      <th>7</th>\n",
              "      <td>Це зовсім добрий бінокль</td>\n",
              "      <td>4</td>\n",
              "      <td>добрий|бінокль|зовсім|це</td>\n",
              "      <td>4</td>\n",
              "      <td>4</td>\n",
              "      <td>100.0</td>\n",
              "    </tr>\n",
              "    <tr>\n",
              "      <th>8</th>\n",
              "      <td>Все це так ясно..</td>\n",
              "      <td>4</td>\n",
              "      <td>все|ясно|це|так</td>\n",
              "      <td>4</td>\n",
              "      <td>4</td>\n",
              "      <td>100.0</td>\n",
              "    </tr>\n",
              "    <tr>\n",
              "      <th>9</th>\n",
              "      <td>Цікаво, як це сталося</td>\n",
              "      <td>4</td>\n",
              "      <td>цікаво|як|це|сталося</td>\n",
              "      <td>4</td>\n",
              "      <td>4</td>\n",
              "      <td>100.0</td>\n",
              "    </tr>\n",
              "  </tbody>\n",
              "</table>\n",
              "</div>"
            ],
            "text/plain": [
              "                      Sentence  Count               Found Phrases  NumWords  \\\n",
              "0           Ось ми його зараз…      4           ось|зараз|ми|його         4   \n",
              "1  Але це, звичайно, неможливо      4   це|звичайно|неможливо|але         4   \n",
              "2             Чи що він думав?      4             він|чи|що|думав         4   \n",
              "3          Чи людина щось може      4         щось|чи|може|людина         4   \n",
              "4        тут тільки трохи ще..      4         тут|трохи|тільки|ще         4   \n",
              "5               Але я відаю її      4              відаю|її|я|але         4   \n",
              "6        Людина нічого не може      4  не може|нічого|може|людина         4   \n",
              "7     Це зовсім добрий бінокль      4    добрий|бінокль|зовсім|це         4   \n",
              "8            Все це так ясно..      4             все|ясно|це|так         4   \n",
              "9        Цікаво, як це сталося      4        цікаво|як|це|сталося         4   \n",
              "\n",
              "   ChangedWords  ChangedWordsPercentage  \n",
              "0             4                   100.0  \n",
              "1             4                   100.0  \n",
              "2             4                   100.0  \n",
              "3             4                   100.0  \n",
              "4             4                   100.0  \n",
              "5             4                   100.0  \n",
              "6             4                   100.0  \n",
              "7             4                   100.0  \n",
              "8             4                   100.0  \n",
              "9             4                   100.0  "
            ]
          },
          "execution_count": 21,
          "metadata": {},
          "output_type": "execute_result"
        }
      ],
      "source": [
        "sentences_df = pd.read_csv(\"./rag-data/finction-10k.csv\")\n",
        "sentences_df.head(10)"
      ]
    },
    {
      "cell_type": "code",
      "execution_count": 22,
      "metadata": {
        "colab": {
          "base_uri": "https://localhost:8080/",
          "height": 362
        },
        "id": "may49WINOQYn",
        "outputId": "a31e753a-70b3-4847-b884-f868b7f9c281"
      },
      "outputs": [
        {
          "data": {
            "text/html": [
              "<div>\n",
              "<style scoped>\n",
              "    .dataframe tbody tr th:only-of-type {\n",
              "        vertical-align: middle;\n",
              "    }\n",
              "\n",
              "    .dataframe tbody tr th {\n",
              "        vertical-align: top;\n",
              "    }\n",
              "\n",
              "    .dataframe thead th {\n",
              "        text-align: right;\n",
              "    }\n",
              "</style>\n",
              "<table border=\"1\" class=\"dataframe\">\n",
              "  <thead>\n",
              "    <tr style=\"text-align: right;\">\n",
              "      <th></th>\n",
              "      <th>Sentence</th>\n",
              "      <th>Count</th>\n",
              "      <th>Found Phrases</th>\n",
              "      <th>NumWords</th>\n",
              "      <th>ChangedWords</th>\n",
              "      <th>ChangedWordsPercentage</th>\n",
              "      <th>Processed_Sentence</th>\n",
              "    </tr>\n",
              "  </thead>\n",
              "  <tbody>\n",
              "    <tr>\n",
              "      <th>0</th>\n",
              "      <td>Ось ми його зараз…</td>\n",
              "      <td>4</td>\n",
              "      <td>ось|зараз|ми|його</td>\n",
              "      <td>4</td>\n",
              "      <td>4</td>\n",
              "      <td>100.0</td>\n",
              "      <td>Леда ми го зараз…</td>\n",
              "    </tr>\n",
              "    <tr>\n",
              "      <th>1</th>\n",
              "      <td>Але це, звичайно, неможливо</td>\n",
              "      <td>4</td>\n",
              "      <td>це|звичайно|неможливо|але</td>\n",
              "      <td>4</td>\n",
              "      <td>4</td>\n",
              "      <td>100.0</td>\n",
              "      <td>Айбо цисе, ашош, гляба</td>\n",
              "    </tr>\n",
              "    <tr>\n",
              "      <th>2</th>\n",
              "      <td>Чи що він думав?</td>\n",
              "      <td>4</td>\n",
              "      <td>він|чи|що|думав</td>\n",
              "      <td>4</td>\n",
              "      <td>4</td>\n",
              "      <td>100.0</td>\n",
              "      <td>Ци шо вин гадав сми?</td>\n",
              "    </tr>\n",
              "    <tr>\n",
              "      <th>3</th>\n",
              "      <td>Чи людина щось може</td>\n",
              "      <td>4</td>\n",
              "      <td>щось|чи|може|людина</td>\n",
              "      <td>4</td>\n",
              "      <td>4</td>\n",
              "      <td>100.0</td>\n",
              "      <td>Ци людьина шош годен</td>\n",
              "    </tr>\n",
              "    <tr>\n",
              "      <th>4</th>\n",
              "      <td>тут тільки трохи ще..</td>\n",
              "      <td>4</td>\n",
              "      <td>тут|трохи|тільки|ще</td>\n",
              "      <td>4</td>\n",
              "      <td>4</td>\n",
              "      <td>100.0</td>\n",
              "      <td>гир іно маленько шє..</td>\n",
              "    </tr>\n",
              "    <tr>\n",
              "      <th>5</th>\n",
              "      <td>Але я відаю її</td>\n",
              "      <td>4</td>\n",
              "      <td>відаю|її|я|але</td>\n",
              "      <td>4</td>\n",
              "      <td>4</td>\n",
              "      <td>100.0</td>\n",
              "      <td>Айбо йа свідім ї</td>\n",
              "    </tr>\n",
              "    <tr>\n",
              "      <th>6</th>\n",
              "      <td>Людина нічого не може</td>\n",
              "      <td>4</td>\n",
              "      <td>не може|нічого|може|людина</td>\n",
              "      <td>4</td>\n",
              "      <td>4</td>\n",
              "      <td>100.0</td>\n",
              "      <td>Людьина нич не годен</td>\n",
              "    </tr>\n",
              "    <tr>\n",
              "      <th>7</th>\n",
              "      <td>Це зовсім добрий бінокль</td>\n",
              "      <td>4</td>\n",
              "      <td>добрий|бінокль|зовсім|це</td>\n",
              "      <td>4</td>\n",
              "      <td>4</td>\n",
              "      <td>100.0</td>\n",
              "      <td>Цисе прем файний окян</td>\n",
              "    </tr>\n",
              "    <tr>\n",
              "      <th>8</th>\n",
              "      <td>Все це так ясно..</td>\n",
              "      <td>4</td>\n",
              "      <td>все|ясно|це|так</td>\n",
              "      <td>4</td>\n",
              "      <td>4</td>\n",
              "      <td>100.0</td>\n",
              "      <td>Всьо цисе йо ага..</td>\n",
              "    </tr>\n",
              "    <tr>\n",
              "      <th>9</th>\n",
              "      <td>Цікаво, як це сталося</td>\n",
              "      <td>4</td>\n",
              "      <td>цікаво|як|це|сталося</td>\n",
              "      <td>4</td>\n",
              "      <td>4</td>\n",
              "      <td>100.0</td>\n",
              "      <td>Вере, єк цисе трафилося</td>\n",
              "    </tr>\n",
              "  </tbody>\n",
              "</table>\n",
              "</div>"
            ],
            "text/plain": [
              "                      Sentence  Count               Found Phrases  NumWords  \\\n",
              "0           Ось ми його зараз…      4           ось|зараз|ми|його         4   \n",
              "1  Але це, звичайно, неможливо      4   це|звичайно|неможливо|але         4   \n",
              "2             Чи що він думав?      4             він|чи|що|думав         4   \n",
              "3          Чи людина щось може      4         щось|чи|може|людина         4   \n",
              "4        тут тільки трохи ще..      4         тут|трохи|тільки|ще         4   \n",
              "5               Але я відаю її      4              відаю|її|я|але         4   \n",
              "6        Людина нічого не може      4  не може|нічого|може|людина         4   \n",
              "7     Це зовсім добрий бінокль      4    добрий|бінокль|зовсім|це         4   \n",
              "8            Все це так ясно..      4             все|ясно|це|так         4   \n",
              "9        Цікаво, як це сталося      4        цікаво|як|це|сталося         4   \n",
              "\n",
              "   ChangedWords  ChangedWordsPercentage       Processed_Sentence  \n",
              "0             4                   100.0        Леда ми го зараз…  \n",
              "1             4                   100.0   Айбо цисе, ашош, гляба  \n",
              "2             4                   100.0     Ци шо вин гадав сми?  \n",
              "3             4                   100.0     Ци людьина шош годен  \n",
              "4             4                   100.0    гир іно маленько шє..  \n",
              "5             4                   100.0         Айбо йа свідім ї  \n",
              "6             4                   100.0     Людьина нич не годен  \n",
              "7             4                   100.0    Цисе прем файний окян  \n",
              "8             4                   100.0       Всьо цисе йо ага..  \n",
              "9             4                   100.0  Вере, єк цисе трафилося  "
            ]
          },
          "execution_count": 22,
          "metadata": {},
          "output_type": "execute_result"
        }
      ],
      "source": [
        "sentences_df[\"Processed_Sentence\"] = sentences_df[\"Sentence\"].apply(translate_to_hutsul)\n",
        "sentences_df.head(10)"
      ]
    },
    {
      "cell_type": "code",
      "execution_count": 23,
      "metadata": {
        "colab": {
          "base_uri": "https://localhost:8080/",
          "height": 206
        },
        "id": "afNovZXaSA5a",
        "outputId": "d042d99e-a39d-40ac-d25c-dc5fcf96bacb"
      },
      "outputs": [
        {
          "data": {
            "text/html": [
              "<div>\n",
              "<style scoped>\n",
              "    .dataframe tbody tr th:only-of-type {\n",
              "        vertical-align: middle;\n",
              "    }\n",
              "\n",
              "    .dataframe tbody tr th {\n",
              "        vertical-align: top;\n",
              "    }\n",
              "\n",
              "    .dataframe thead th {\n",
              "        text-align: right;\n",
              "    }\n",
              "</style>\n",
              "<table border=\"1\" class=\"dataframe\">\n",
              "  <thead>\n",
              "    <tr style=\"text-align: right;\">\n",
              "      <th></th>\n",
              "      <th>Sentence</th>\n",
              "      <th>Processed_Sentence</th>\n",
              "    </tr>\n",
              "  </thead>\n",
              "  <tbody>\n",
              "    <tr>\n",
              "      <th>0</th>\n",
              "      <td>Ось ми його зараз…</td>\n",
              "      <td>Леда ми го зараз…</td>\n",
              "    </tr>\n",
              "    <tr>\n",
              "      <th>1</th>\n",
              "      <td>Але це, звичайно, неможливо</td>\n",
              "      <td>Айбо цисе, ашош, гляба</td>\n",
              "    </tr>\n",
              "    <tr>\n",
              "      <th>2</th>\n",
              "      <td>Чи що він думав?</td>\n",
              "      <td>Ци шо вин гадав сми?</td>\n",
              "    </tr>\n",
              "    <tr>\n",
              "      <th>3</th>\n",
              "      <td>Чи людина щось може</td>\n",
              "      <td>Ци людьина шош годен</td>\n",
              "    </tr>\n",
              "    <tr>\n",
              "      <th>4</th>\n",
              "      <td>тут тільки трохи ще..</td>\n",
              "      <td>гир іно маленько шє..</td>\n",
              "    </tr>\n",
              "  </tbody>\n",
              "</table>\n",
              "</div>"
            ],
            "text/plain": [
              "                      Sentence      Processed_Sentence\n",
              "0           Ось ми його зараз…       Леда ми го зараз…\n",
              "1  Але це, звичайно, неможливо  Айбо цисе, ашош, гляба\n",
              "2             Чи що він думав?    Ци шо вин гадав сми?\n",
              "3          Чи людина щось може    Ци людьина шош годен\n",
              "4        тут тільки трохи ще..   гир іно маленько шє.."
            ]
          },
          "execution_count": 23,
          "metadata": {},
          "output_type": "execute_result"
        }
      ],
      "source": [
        "hutsul_synthetic_base = sentences_df[[\"Sentence\", \"Processed_Sentence\"]].copy()\n",
        "hutsul_synthetic_base.head()"
      ]
    },
    {
      "cell_type": "code",
      "execution_count": null,
      "metadata": {
        "id": "9Qj-2ti8S387"
      },
      "outputs": [],
      "source": [
        "def generate_prompt(processed_sentence, context_sentences):\n",
        "    context_str = \"\\n\".join(context_sentences)\n",
        "    prompt = f\"Write the following sentence:\\n{processed_sentence}\\n\\nin the same language style as the following sentences:\\n{context_str}\\n Return ONLY rewritten sentence, no other comments\"\n",
        "    return prompt"
      ]
    },
    {
      "cell_type": "code",
      "execution_count": 218,
      "metadata": {},
      "outputs": [],
      "source": [
        "def generate_ukrainian_prompt(sentence, processed_sentence, context_sentences):\n",
        "    context_str = \"\\n - \".join(context_sentences)\n",
        "    prompt = f\"\"\"Речення літературною українською: \"{sentence}\".\n",
        "Після зміни деяких слів на гуцульські відповідники за допомогою словника, оновлене речення: \n",
        "\"{processed_sentence}\".\n",
        "    \n",
        "Перепиши речення: \"{processed_sentence}\" на гуцульський діалект, використовуючи основні особливості і правила гуцульського діалекту. Приклад подібних речень у гуцульському діалекті:\n",
        " - {context_str}\n",
        "\n",
        "Не модифікуй слова, які були змінені за допомогою словника, працюй з іншими словами у реченні. У відповіді поверни ТІЛЬКИ переписане тобою речення у гуцульському діалекті, без жодних коментарів чи пояснень. Поверни ТІЛЬКИ переписане речення. \n",
        "\"\"\"\n",
        "\n",
        "    return prompt"
      ]
    },
    {
      "cell_type": "code",
      "execution_count": 214,
      "metadata": {},
      "outputs": [],
      "source": [
        "def generate_instructions():\n",
        "    prompt = f\"\"\"Ти експерт у гуцульському діалекті, і твоя задача: переписувати надані речення гуцульським діалектом.\n",
        "\n",
        "Ти застосовуєш такі основні особливості і правила гуцульського діалекту при переписуванні речень гуцульським діалектом:\n",
        "- Заміна \"є\" замість \"а\", \"я\" (коли наголошене). Приклад: гуцульський - \"єк\", українською - \"як\"; гуцульський - \"єгода\", українською - \"ягода\"; гуцульський - \"єйце\", українською - \"яйце\"; гуцульський - \"єрмарок\", українською - \"ярмарок\".\n",
        "- Заміна \"е\" або рідше \"і\" замість \"и\" (коли наголошене). Приклад: гуцульський - \"абес\", українською - \"абись\"; гуцульський - \"жето\", українською - \"жито\". \n",
        "- Заміна \"і\" на \"и\". Приклад: гуцульський - \"Иван\", українською - \"Іван\"; гуцульський - \"иду\", українською - \"іду\".\n",
        "- Заміна \"я\" на \"и\" або \"і\": Приклад: гуцульський - \"забаривсми-си\", українською - \"забарився-ся\"; гуцульський - \"най-си\", українською - \"най-ся\"\n",
        "- Заміна \"ю\" на \"у\". Приклад: гуцульський - \"суда\", українською - \"сюди\"; гуцульський - \"вівцу\", українською - \"вівцю\".\n",
        "- \"ві-\" замість \"ви-\" у префіксі. Приклад: гуцульський - \"вітратити\", українською - \"витратити\".\n",
        "- Заміна \"д\" на \"ґ\". Приклад: гуцульський - \"ґівка\", українською - \"дівка\"; гуцульський - \"ґедьо\", українською - \"дідо\".\n",
        "- Заміна \"к\" на \"ть\". Приклад: гуцульський - \"доньтя\", українською - \"донька\".\n",
        "- Пом'якшення шиплячих. Приклад: гуцульський - \"чьо\", українською - \"чого\"; гуцульський - \"чєлєдь\", українською - \"челядь\".\n",
        "- \"д\" замість \"ґ\". Приклад: гуцульський - \"ледінь\", українською - \"леґінь, легінь\".\n",
        "- \"к\" замість \"т\" перед \"є\", \"і\", іноді в кінці слова. Приклад: гуцульський - \"крескєни\", українською - \"християни\"; гуцульський - \"кокє\", українською - \"котя\"; гуцульський - \"кєшко\", українською - \"тяжко\".\n",
        "- \"ц\" замість \"ч\" і навпаки. Приклад: гуцульський - \"ци\", українською - \"чи\"; гуцульський - \"чибук\", українською - \"цибух\".\n",
        "- тверді \"с\", \"ц\", \"з\" замість пом'якшених. Приклад: гуцульський - \"шос\", українською - \"шось\"; гуцульський - \"дес\", українською - \"десь\"; гуцульський - \"хлопец\", українською - \"хлопець\".\n",
        "- Заміна \"и\" на \"і\", і навпаки в множині іменників. Приклад: гуцульський - \"ангелі\", українською - \"ангели\"; гуцульський - \"Жебівци\", українською - \"Жебівці\".\n",
        "- \"нн\", \"н\" замість \"дн\", \"тн\", \"лн\". Приклад: гуцульський - \"перенний\", українською - \"передний\"; гуцульський - \"мeнник\" або \"мeнник\", українською - \"мелник\".\n",
        "- Іменники основ \"-а\", \"-я\" в орудному відмінку мають закінчення \"-ов\", \"-ев\": руков «рукою», землев «землею»;\n",
        "\n",
        "Приклади твого перекладу з літературної української мови на гуцульський діалект:\n",
        "Літературна українська: За річкою, саме наперед вікон, під лісом тетеріла стрімка стряпава скеля.\n",
        "Гуцульський діалект: За річьков, наопередь самих викон, пид лісом тетеріла стримка, стряпава скала.\n",
        "\n",
        "У своїй відповіді ти повертаєш ТІЛЬКИ переписане тобою речення у гуцульському діалекті, без коментарів та різних згадувань. Лише речення написане гуцульським діалектом.\n",
        "\"\"\"\n",
        "\n",
        "    return prompt"
      ]
    },
    {
      "cell_type": "code",
      "execution_count": 210,
      "metadata": {},
      "outputs": [
        {
          "name": "stdout",
          "output_type": "stream",
          "text": [
            "Ти експерт у гуцульському діалекті, і твоя задача: переписувати надані речення гуцульським діалектом.\n",
            "\n",
            "Ти застосовуєш такі основні особливості і правила гуцульського діалекту при переписуванні речень гуцульським діалектом:\n",
            "- є замість а, я (коли наголошене): єк \"як\", єгода \"ягода\", єйце \"яйце\", єрмарок \"ярмарок\"\n",
            "- е або рідше і замість и (коли наголошене): абес \"абись\", жето \"жито\" \n",
            "- Заміна і на и: Иван \"Іван\", иду \"іду\"\n",
            "- Заміна я на и або і: забаривсми-си, най-си\n",
            "- Заміна ю на у: суда \"сюди\", вівцу \"вівцю\"\n",
            "- \"ві-\" замість \"ви-\" у префіксі: вітратити \"втратити\"\n",
            "- Заміна д на ґ: ґівка \"дівка\", ґедьо \"дідо\"\n",
            "- Заміна к на ть: доньтя \"донька\"\n",
            "- Пом'якшення шиплячих: чьо \"чого\", чєлєдь \"челядь\"\n",
            "- д замість ґ: ледінь \"леґінь, легінь\"\n",
            "- к замість т перед є, і, іноді в кінці слова: крескєни \"християни\", кокє \"котя\", кєшко \"тяжко\"\n",
            "- ц замість ч і навпаки: ци «чи», чибук «цибух»\n",
            "- тверді с, ц, з замість пом'якшених: шос «шось», дес «десь», хлопец «хлопець»\n",
            "- Заміна и на і і навпаки в множині іменників: ангелі, Жебівци\n",
            "- Іменники основ -а, -я в орудному відмінку мають закінчення -ов, -ев: руков «рукою», землев «землею»;\n",
            "\n",
            "Приклади твого перекладу з літературної української мови на гуцульський діалект:\n",
            "Літературна українська: За річкою, саме наперед вікон, під лісом тетеріла стрімка стряпава скеля.\n",
            "Гуцульський діалект: За річьков, наопередь самих викон, пид лісом тетеріла стримка, стряпава скала.\n",
            "\n",
            "У своїй відповіді ти повертаєш ТІЛЬКИ переписане тобою речення у гуцульському діалекті, без коментарів та різних згадувань. Лише речення написане гуцульським діалектом.\n",
            "\n"
          ]
        }
      ],
      "source": [
        "print(generate_instructions())"
      ]
    },
    {
      "cell_type": "code",
      "execution_count": 221,
      "metadata": {
        "id": "MCwgES6LJ1fQ"
      },
      "outputs": [],
      "source": [
        "def chatGPT_api(messages):\n",
        "    chat_completion = client.chat.completions.create(\n",
        "        messages=messages,\n",
        "        model=\"gpt-3.5-turbo\",\n",
        "        temperature=0.0\n",
        "    )\n",
        "\n",
        "    return chat_completion.choices[0].message\n",
        "\n",
        "def send_llm_request(sentence, processed_sentence, context_sentences, instructions):\n",
        "    content = generate_ukrainian_prompt(sentence, processed_sentence, context_sentences)\n",
        "    messages = [\n",
        "        {\"role\": \"system\", \"content\": instructions},\n",
        "        {\"role\": \"user\", \"content\": content}\n",
        "    ]\n",
        "    synthetic_sentence = chatGPT_api(messages).content\n",
        "\n",
        "    return synthetic_sentence"
      ]
    },
    {
      "cell_type": "code",
      "execution_count": 198,
      "metadata": {
        "id": "nTpuZjZdJ1Bo"
      },
      "outputs": [],
      "source": [
        "def search_hutsul_sentences(sentence, threshold=0.4, top_n_neighbours=4):\n",
        "  docs = index_search(sentence, k=top_n_neighbours, threshold=threshold)\n",
        "  return docs"
      ]
    },
    {
      "cell_type": "code",
      "execution_count": 179,
      "metadata": {
        "colab": {
          "base_uri": "https://localhost:8080/",
          "height": 35
        },
        "id": "I6aG7PoXZ67D",
        "outputId": "30442192-3c03-4114-b44f-0be6080e5bd0"
      },
      "outputs": [
        {
          "data": {
            "text/plain": [
              "'Вона відповіла, посміхаючись: — Яка несподівана зустріч'"
            ]
          },
          "execution_count": 179,
          "metadata": {},
          "output_type": "execute_result"
        }
      ],
      "source": [
        "sentence = sentences_df[\"Sentence\"][9999]\n",
        "sentence"
      ]
    },
    {
      "cell_type": "code",
      "execution_count": 180,
      "metadata": {
        "colab": {
          "base_uri": "https://localhost:8080/",
          "height": 35
        },
        "id": "IqHeAmlCSVvu",
        "outputId": "f8214f7d-43ce-402f-a136-8ae4a5709856"
      },
      "outputs": [
        {
          "data": {
            "text/plain": [
              "'Уна відповіла, посміхаючись: — Ика несподівана стріча'"
            ]
          },
          "execution_count": 180,
          "metadata": {},
          "output_type": "execute_result"
        }
      ],
      "source": [
        "query = sentences_df[\"Processed_Sentence\"][9999]\n",
        "query"
      ]
    },
    {
      "cell_type": "code",
      "execution_count": 143,
      "metadata": {
        "colab": {
          "base_uri": "https://localhost:8080/"
        },
        "id": "k9KA5NXOIVdb",
        "outputId": "fad9c2ce-c2a9-48db-dd31-5eb87eca5f73"
      },
      "outputs": [
        {
          "data": {
            "text/plain": [
              "(array([[0.5912436, 0.559446 , 0.5419863, 0.5353999]], dtype=float32), ['Прото він привиташка був, тай тимунь йиго всі любили.', 'Знав, єк си де обійти й зайти, тимунь йиго усі люде за березованє фалили й любили, та навиділи йиго у колєдниках.', 'Шо я був тому винен, шо уна вже була стара тай тимунь їй си ни хотіло так пидбрикувати, єк мині молодому?.', 'А єк приніс їй доброго бука, уна устала: «Я твоя люба».'])"
            ]
          },
          "execution_count": 143,
          "metadata": {},
          "output_type": "execute_result"
        }
      ],
      "source": [
        "index_search(query, k=4)"
      ]
    },
    {
      "cell_type": "code",
      "execution_count": 196,
      "metadata": {
        "colab": {
          "base_uri": "https://localhost:8080/"
        },
        "id": "mOs0RUS5S2mw",
        "outputId": "e6be52a3-f841-49c4-a846-91d510931864"
      },
      "outputs": [
        {
          "data": {
            "text/plain": [
              "(array([], shape=(1, 0), dtype=float64), [])"
            ]
          },
          "execution_count": 196,
          "metadata": {},
          "output_type": "execute_result"
        }
      ],
      "source": [
        "context_sentences = search_hutsul_sentences(query)\n",
        "context_sentences"
      ]
    },
    {
      "cell_type": "code",
      "execution_count": 197,
      "metadata": {
        "colab": {
          "base_uri": "https://localhost:8080/"
        },
        "id": "sQcE6xhHQIeb",
        "outputId": "bc9c851f-3c4b-4ed4-b273-c81ef6c5a614"
      },
      "outputs": [
        {
          "data": {
            "text/plain": [
              "0"
            ]
          },
          "execution_count": 197,
          "metadata": {},
          "output_type": "execute_result"
        }
      ],
      "source": [
        "len(context_sentences[0][0])"
      ]
    },
    {
      "cell_type": "code",
      "execution_count": 93,
      "metadata": {
        "colab": {
          "base_uri": "https://localhost:8080/",
          "height": 35
        },
        "id": "AhrwoxAeQ5Su",
        "outputId": "90d22574-ac40-4ef2-cec6-423d2fbe0bc9"
      },
      "outputs": [
        {
          "data": {
            "text/plain": [
              "'0.40938908,0.40802425,0.40578496,0.3948965'"
            ]
          },
          "execution_count": 93,
          "metadata": {},
          "output_type": "execute_result"
        }
      ],
      "source": [
        "scores_csv = ','.join(map(str, context_sentences[0].flatten()))\n",
        "scores_csv"
      ]
    },
    {
      "cell_type": "code",
      "execution_count": 182,
      "metadata": {
        "colab": {
          "base_uri": "https://localhost:8080/"
        },
        "id": "5EJkZQ2XWnjr",
        "outputId": "d2e7f928-1bff-4a9c-adfc-21a4016c480b"
      },
      "outputs": [
        {
          "name": "stdout",
          "output_type": "stream",
          "text": [
            "Речення літературною українською: \"Вона відповіла, посміхаючись: — Яка несподівана зустріч\".\n",
            "Після зміни деяких слів на гуцульські відповідники за допомогою словника, оновлене речення: \n",
            "\"Уна відповіла, посміхаючись: — Ика несподівана стріча\".\n",
            "    \n",
            "Перепиши речення: \"Уна відповіла, посміхаючись: — Ика несподівана стріча\".\n",
            "на гуцульський діалект, використовуючи основні особливості і правила гуцульського діалекту. Приклад подібний речень у гуцульському діалекті:\n",
            " - Довгий, фіґляво всміхаючіси, витавси: «Єк дновав, Ива’?».\n",
            " - «Та ні!» — здивовано відповів Иванчік.\n",
            " - «Ни бреши! Иків би ти ни знав?» — єк ґайда, злісно гаркнув дідо на мене.\n",
            " - Вна, квап’єчіси, борзо йиму сказала: «Иванчіку — чуєш?.\n",
            "\n",
            "У відповіді поверни ТІЛЬКИ переписане тобою речення у гуцульському діалекті, без жодних інших коментарів.\n",
            "\n"
          ]
        }
      ],
      "source": [
        "instruction = generate_instructions()\n",
        "synthetic_sentence = send_llm_request(sentence, query, context_sentences[1], instruction)"
      ]
    },
    {
      "cell_type": "code",
      "execution_count": 183,
      "metadata": {
        "colab": {
          "base_uri": "https://localhost:8080/",
          "height": 35
        },
        "id": "fRhddPP2YuD3",
        "outputId": "24848073-a063-4e0b-eac7-e54fc4361481"
      },
      "outputs": [
        {
          "data": {
            "text/plain": [
              "'Уна відповіла, посміхаючись: — Ика несподівана стріча.'"
            ]
          },
          "execution_count": 183,
          "metadata": {},
          "output_type": "execute_result"
        }
      ],
      "source": [
        "synthetic_sentence"
      ]
    },
    {
      "cell_type": "code",
      "execution_count": 189,
      "metadata": {
        "colab": {
          "base_uri": "https://localhost:8080/"
        },
        "id": "4iOlaSAWIyVw",
        "outputId": "6cd5b357-bf6b-435d-f4b3-71d13f8fbc04"
      },
      "outputs": [
        {
          "data": {
            "text/plain": [
              "10055"
            ]
          },
          "execution_count": 189,
          "metadata": {},
          "output_type": "execute_result"
        }
      ],
      "source": [
        "processed_sentences = sentences_df[\"Processed_Sentence\"].to_numpy()\n",
        "len(processed_sentences)"
      ]
    },
    {
      "cell_type": "code",
      "execution_count": 191,
      "metadata": {},
      "outputs": [
        {
          "name": "stderr",
          "output_type": "stream",
          "text": [
            "Embedding Progress: 100%|██████████| 10055/10055 [46:34<00:00,  3.60it/s] \n"
          ]
        }
      ],
      "source": [
        "from tqdm import tqdm\n",
        "\n",
        "embedded_processed_sentences = []\n",
        "for text in tqdm(processed_sentences, desc=\"Embedding Progress\"):\n",
        "    embedded_processed_sentences.append(embeddings.embed_query(text))"
      ]
    },
    {
      "cell_type": "code",
      "execution_count": 192,
      "metadata": {
        "id": "Z0-eUhFeJDHw"
      },
      "outputs": [],
      "source": [
        "embedded_numpy_processed = np.array(embedded_processed_sentences)\n",
        "np.save('./embeddings_processed_openai_fiction.npy', embedded_numpy_processed)"
      ]
    },
    {
      "cell_type": "code",
      "execution_count": 202,
      "metadata": {},
      "outputs": [
        {
          "data": {
            "text/html": [
              "<div>\n",
              "<style scoped>\n",
              "    .dataframe tbody tr th:only-of-type {\n",
              "        vertical-align: middle;\n",
              "    }\n",
              "\n",
              "    .dataframe tbody tr th {\n",
              "        vertical-align: top;\n",
              "    }\n",
              "\n",
              "    .dataframe thead th {\n",
              "        text-align: right;\n",
              "    }\n",
              "</style>\n",
              "<table border=\"1\" class=\"dataframe\">\n",
              "  <thead>\n",
              "    <tr style=\"text-align: right;\">\n",
              "      <th></th>\n",
              "      <th>Sentence</th>\n",
              "      <th>Count</th>\n",
              "      <th>Found Phrases</th>\n",
              "      <th>NumWords</th>\n",
              "      <th>ChangedWords</th>\n",
              "      <th>ChangedWordsPercentage</th>\n",
              "      <th>Processed_Sentence</th>\n",
              "    </tr>\n",
              "  </thead>\n",
              "  <tbody>\n",
              "    <tr>\n",
              "      <th>0</th>\n",
              "      <td>Ось ми його зараз…</td>\n",
              "      <td>4</td>\n",
              "      <td>ось|зараз|ми|його</td>\n",
              "      <td>4</td>\n",
              "      <td>4</td>\n",
              "      <td>100.0</td>\n",
              "      <td>Леда ми го зараз…</td>\n",
              "    </tr>\n",
              "    <tr>\n",
              "      <th>1</th>\n",
              "      <td>Але це, звичайно, неможливо</td>\n",
              "      <td>4</td>\n",
              "      <td>це|звичайно|неможливо|але</td>\n",
              "      <td>4</td>\n",
              "      <td>4</td>\n",
              "      <td>100.0</td>\n",
              "      <td>Айбо цисе, ашош, гляба</td>\n",
              "    </tr>\n",
              "    <tr>\n",
              "      <th>2</th>\n",
              "      <td>Чи що він думав?</td>\n",
              "      <td>4</td>\n",
              "      <td>він|чи|що|думав</td>\n",
              "      <td>4</td>\n",
              "      <td>4</td>\n",
              "      <td>100.0</td>\n",
              "      <td>Ци шо вин гадав сми?</td>\n",
              "    </tr>\n",
              "    <tr>\n",
              "      <th>3</th>\n",
              "      <td>Чи людина щось може</td>\n",
              "      <td>4</td>\n",
              "      <td>щось|чи|може|людина</td>\n",
              "      <td>4</td>\n",
              "      <td>4</td>\n",
              "      <td>100.0</td>\n",
              "      <td>Ци людьина шош годен</td>\n",
              "    </tr>\n",
              "    <tr>\n",
              "      <th>4</th>\n",
              "      <td>тут тільки трохи ще..</td>\n",
              "      <td>4</td>\n",
              "      <td>тут|трохи|тільки|ще</td>\n",
              "      <td>4</td>\n",
              "      <td>4</td>\n",
              "      <td>100.0</td>\n",
              "      <td>гир іно маленько шє..</td>\n",
              "    </tr>\n",
              "  </tbody>\n",
              "</table>\n",
              "</div>"
            ],
            "text/plain": [
              "                      Sentence  Count              Found Phrases  NumWords  \\\n",
              "0           Ось ми його зараз…      4          ось|зараз|ми|його         4   \n",
              "1  Але це, звичайно, неможливо      4  це|звичайно|неможливо|але         4   \n",
              "2             Чи що він думав?      4            він|чи|що|думав         4   \n",
              "3          Чи людина щось може      4        щось|чи|може|людина         4   \n",
              "4        тут тільки трохи ще..      4        тут|трохи|тільки|ще         4   \n",
              "\n",
              "   ChangedWords  ChangedWordsPercentage      Processed_Sentence  \n",
              "0             4                   100.0       Леда ми го зараз…  \n",
              "1             4                   100.0  Айбо цисе, ашош, гляба  \n",
              "2             4                   100.0    Ци шо вин гадав сми?  \n",
              "3             4                   100.0    Ци людьина шош годен  \n",
              "4             4                   100.0   гир іно маленько шє..  "
            ]
          },
          "execution_count": 202,
          "metadata": {},
          "output_type": "execute_result"
        }
      ],
      "source": [
        "sentences_df.head()"
      ]
    },
    {
      "cell_type": "code",
      "execution_count": null,
      "metadata": {
        "colab": {
          "base_uri": "https://localhost:8080/",
          "height": 223
        },
        "id": "lHb35tb2bdME",
        "outputId": "0ff71c34-c3a7-40a6-ec98-7657df6940f5"
      },
      "outputs": [],
      "source": [
        "instruction = generate_instructions()\n",
        "synthetic_sentences = []\n",
        "top_matches_scores = []\n",
        "\n",
        "for index, row in tqdm(sentences_df.iterrows(), total=len(sentences_df), desc=\"Processing\"):\n",
        "    sentence = row[\"Sentence\"]\n",
        "    processed = row[\"Processed_Sentence\"]\n",
        "    embedded_query = embedded_processed_sentences[index]\n",
        "\n",
        "    context_sentences = search_hutsul_sentences(embedded_query)\n",
        "    if (context_sentences[0] == 0).any():\n",
        "        continue\n",
        " \n",
        "    synthetic_sentence = send_llm_request(sentence, processed, context_sentences[1], instruction)\n",
        "    # synthetic_sentences.append(synthetic_sentence)\n",
        "    if set(synthetic_sentence.split()) == set(processed.split()):\n",
        "        synthetic_sentences.append(processed)\n",
        "    else:\n",
        "        synthetic_sentences.append(synthetic_sentence)\n",
        "\n",
        "    scores_csv = ','.join(map(str, context_sentences[0].flatten()))\n",
        "    top_matches_scores.append(scores_csv)\n",
        "\n",
        "hutsul_synthetic_base[\"Synthetic_Sentence\"] = synthetic_sentences\n",
        "hutsul_synthetic_base[\"Top_matches_scores\"] = top_matches_scores\n",
        "hutsul_synthetic_base.head()"
      ]
    },
    {
      "cell_type": "code",
      "execution_count": null,
      "metadata": {
        "id": "h27Lcbj-eQcf"
      },
      "outputs": [],
      "source": [
        "# Save the DataFrame to a CSV file\n",
        "hutsul_synthetic_base.to_csv(\"hutsul_synthetic_base.csv\", index=False)"
      ]
    }
  ],
  "metadata": {
    "colab": {
      "provenance": []
    },
    "kernelspec": {
      "display_name": "Python 3",
      "name": "python3"
    },
    "language_info": {
      "codemirror_mode": {
        "name": "ipython",
        "version": 3
      },
      "file_extension": ".py",
      "mimetype": "text/x-python",
      "name": "python",
      "nbconvert_exporter": "python",
      "pygments_lexer": "ipython3",
      "version": "3.9.6"
    }
  },
  "nbformat": 4,
  "nbformat_minor": 0
}
